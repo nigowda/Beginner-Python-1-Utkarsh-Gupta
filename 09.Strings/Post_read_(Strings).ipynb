{
  "cells": [
    {
      "cell_type": "markdown",
      "metadata": {
        "id": "jvY4IoyXJh1d"
      },
      "source": [
        "#**Question-1**\n",
        "* Take a string input from user and print that string character by character, with each character in new line.\n",
        "```\n",
        "Input:\n",
        "\"INDIA\"\n",
        "```\n",
        "```\n",
        "Output:\n",
        "I\n",
        "N\n",
        "D\n",
        "I\n",
        "A\n",
        "```"
      ]
    },
    {
      "cell_type": "code",
      "execution_count": null,
      "metadata": {
        "colab": {
          "base_uri": "https://localhost:8080/"
        },
        "id": "VhTmh5QyKcEo",
        "outputId": "ff2f6528-c0ea-4ced-85d0-0ed85ea570df"
      },
      "outputs": [
        {
          "name": "stdout",
          "output_type": "stream",
          "text": [
            "INDIA\n",
            "I\n",
            "N\n",
            "D\n",
            "I\n",
            "A\n"
          ]
        }
      ],
      "source": [
        "a = input()\n",
        "for i in a:\n",
        "    print(i)"
      ]
    },
    {
      "cell_type": "markdown",
      "metadata": {
        "id": "C9PWSqFPV7Ys"
      },
      "source": [
        "---"
      ]
    },
    {
      "cell_type": "markdown",
      "metadata": {
        "id": "_vxLcLnNKy5Q"
      },
      "source": [
        "#**Question-2**\n",
        "* Take a string input from user.\n",
        "* Print the following.\n",
        "\n",
        "**Print format:**\n",
        "\n",
        "```\"First Character - <first_character>, Last Character - <last_character>```"
      ]
    },
    {
      "cell_type": "code",
      "execution_count": null,
      "metadata": {
        "colab": {
          "base_uri": "https://localhost:8080/"
        },
        "id": "J6NEVR2NKye4",
        "outputId": "7aaadfd3-303e-46f9-a2bb-b15fd7c98743"
      },
      "outputs": [
        {
          "name": "stdout",
          "output_type": "stream",
          "text": [
            "INDIA\n",
            "First Character - I, Last Character - A\n"
          ]
        }
      ],
      "source": [
        "a = input()\n",
        "print(f\"First Character - {a[0]}, Last Character - {a[-1]}\")"
      ]
    },
    {
      "cell_type": "code",
      "execution_count": null,
      "metadata": {
        "colab": {
          "base_uri": "https://localhost:8080/",
          "height": 180
        },
        "id": "mN9b0YYmLm6s",
        "outputId": "c0419a3c-7752-4e2c-a704-e93ab1a8e46e"
      },
      "outputs": [
        {
          "ename": "TypeError",
          "evalue": "'str' object does not support item assignment",
          "output_type": "error",
          "traceback": [
            "\u001b[0;31m---------------------------------------------------------------------------\u001b[0m",
            "\u001b[0;31mTypeError\u001b[0m                                 Traceback (most recent call last)",
            "\u001b[0;32m<ipython-input-3-6d995ee5d746>\u001b[0m in \u001b[0;36m<cell line: 3>\u001b[0;34m()\u001b[0m\n\u001b[1;32m      1\u001b[0m \u001b[0ms\u001b[0m \u001b[0;34m=\u001b[0m \u001b[0;34m\"INDIA_IS_MY_COUNTRY\"\u001b[0m\u001b[0;34m\u001b[0m\u001b[0;34m\u001b[0m\u001b[0m\n\u001b[1;32m      2\u001b[0m \u001b[0;31m# Strings are immutable, so we cannot reassign a value to a specific character.\u001b[0m\u001b[0;34m\u001b[0m\u001b[0;34m\u001b[0m\u001b[0m\n\u001b[0;32m----> 3\u001b[0;31m \u001b[0ms\u001b[0m\u001b[0;34m[\u001b[0m\u001b[0;36m0\u001b[0m\u001b[0;34m]\u001b[0m \u001b[0;34m=\u001b[0m \u001b[0;34m\"R\"\u001b[0m\u001b[0;34m\u001b[0m\u001b[0;34m\u001b[0m\u001b[0m\n\u001b[0m",
            "\u001b[0;31mTypeError\u001b[0m: 'str' object does not support item assignment"
          ]
        }
      ],
      "source": [
        "s = \"INDIA_IS_MY_COUNTRY\"\n",
        "# Strings are immutable, so we cannot reassign a value to a specific character.\n",
        "s[0] = \"R\""
      ]
    },
    {
      "cell_type": "markdown",
      "metadata": {
        "id": "CPEySJNKV8m9"
      },
      "source": [
        "---"
      ]
    },
    {
      "cell_type": "markdown",
      "metadata": {
        "id": "OJsrT5rgN_il"
      },
      "source": [
        "# **Question-3**\n",
        "* Take a string input from user.\n",
        "* Print the number of upper case characters in that string.\n",
        "\n",
        "```\n",
        "Input:\n",
        "\"This is a RANDOM strinG 67890, ^$#@\"\n",
        "```\n",
        "```\n",
        "Output:\n",
        "8\n",
        "```"
      ]
    },
    {
      "cell_type": "code",
      "execution_count": null,
      "metadata": {
        "id": "-BdpOI83OueG"
      },
      "outputs": [],
      "source": [
        "a = \"This is a RANDOM strinG 67890, ^$#@\""
      ]
    },
    {
      "cell_type": "code",
      "execution_count": null,
      "metadata": {
        "id": "WVWizkMjOX0t"
      },
      "outputs": [],
      "source": [
        "# 1\n",
        "def count_upper_case(a):\n",
        "    count = 0\n",
        "    for i in a:\n",
        "        if ord(i) >= 65 and ord(i) <= 90:\n",
        "            count = count + 1\n",
        "    return count"
      ]
    },
    {
      "cell_type": "code",
      "execution_count": null,
      "metadata": {
        "colab": {
          "base_uri": "https://localhost:8080/"
        },
        "id": "bTr25fklOtEM",
        "outputId": "ab645c16-1a47-412c-cdd9-eae8ea8b2a15"
      },
      "outputs": [
        {
          "data": {
            "text/plain": [
              "8"
            ]
          },
          "execution_count": 6,
          "metadata": {},
          "output_type": "execute_result"
        }
      ],
      "source": [
        "count_upper_case(a)"
      ]
    },
    {
      "cell_type": "code",
      "execution_count": null,
      "metadata": {
        "id": "JqdxEDxhO3KH"
      },
      "outputs": [],
      "source": [
        "# 2\n",
        "def count_upper_case_2(a):\n",
        "    count = 0\n",
        "    for i in a:\n",
        "        if i.isupper():\n",
        "            count = count + 1\n",
        "    return count"
      ]
    },
    {
      "cell_type": "code",
      "execution_count": null,
      "metadata": {
        "colab": {
          "base_uri": "https://localhost:8080/"
        },
        "id": "KEIxIdnYPBdn",
        "outputId": "5e0ade22-5864-421e-d7d7-11406759ab94"
      },
      "outputs": [
        {
          "data": {
            "text/plain": [
              "8"
            ]
          },
          "execution_count": 8,
          "metadata": {},
          "output_type": "execute_result"
        }
      ],
      "source": [
        "count_upper_case(a)"
      ]
    },
    {
      "cell_type": "markdown",
      "metadata": {
        "id": "7F2m9dnPV91T"
      },
      "source": [
        "---"
      ]
    },
    {
      "cell_type": "markdown",
      "metadata": {
        "id": "WPgTxYvfPPFo"
      },
      "source": [
        "# **Question-4**\n",
        "* You are given a list of numbers between 1 and 256.\n",
        "* Generate a string from the char values of these numbers.\n",
        "```\n",
        "Input:\n",
        "[65, 97, 68]\n",
        "```\n",
        "```\n",
        "Output:\n",
        "Aad\n",
        "```\n",
        "```\n",
        "Explanation:\n",
        "chr(65) - A\n",
        "chr(97) - a\n",
        "chr(68) - d\n",
        "```"
      ]
    },
    {
      "cell_type": "code",
      "execution_count": null,
      "metadata": {
        "id": "cwO0JhWdPO3s"
      },
      "outputs": [],
      "source": [
        "a = [56, 8, 103, 157, 22, 22, 24, 10, 100]"
      ]
    },
    {
      "cell_type": "code",
      "execution_count": null,
      "metadata": {
        "id": "TVKDAk9xQBdm"
      },
      "outputs": [],
      "source": [
        "# 1\n",
        "def generate_string(a):\n",
        "    s = \"\"\n",
        "    for i in a:\n",
        "        s = s + chr(i)\n",
        "    return s"
      ]
    },
    {
      "cell_type": "code",
      "execution_count": null,
      "metadata": {
        "colab": {
          "base_uri": "https://localhost:8080/",
          "height": 35
        },
        "id": "KgUaZGcoQNFS",
        "outputId": "ae2c5942-f453-4cc2-b504-e062c8ee1558"
      },
      "outputs": [
        {
          "data": {
            "application/vnd.google.colaboratory.intrinsic+json": {
              "type": "string"
            },
            "text/plain": [
              "'8\\x08g\\x9d\\x16\\x16\\x18\\nd'"
            ]
          },
          "execution_count": 11,
          "metadata": {},
          "output_type": "execute_result"
        }
      ],
      "source": [
        "generate_string(a)"
      ]
    },
    {
      "cell_type": "code",
      "execution_count": null,
      "metadata": {
        "id": "AqU75H_WQQTk"
      },
      "outputs": [],
      "source": [
        " # 2\n",
        "def generate_string_cool(a):\n",
        "    result = []\n",
        "    for i in a:\n",
        "        result.append(chr(i))\n",
        "    return \"\".join(result)"
      ]
    },
    {
      "cell_type": "code",
      "execution_count": null,
      "metadata": {
        "colab": {
          "base_uri": "https://localhost:8080/",
          "height": 35
        },
        "id": "LqEqdgWRQkrM",
        "outputId": "34fd5937-e13b-4b53-df76-6ace87e6ed65"
      },
      "outputs": [
        {
          "data": {
            "application/vnd.google.colaboratory.intrinsic+json": {
              "type": "string"
            },
            "text/plain": [
              "'8\\x08g\\x9d\\x16\\x16\\x18\\nd'"
            ]
          },
          "execution_count": 13,
          "metadata": {},
          "output_type": "execute_result"
        }
      ],
      "source": [
        "generate_string_cool(a)"
      ]
    },
    {
      "cell_type": "markdown",
      "metadata": {
        "id": "vMxOzBWZV_B1"
      },
      "source": [
        "---"
      ]
    },
    {
      "cell_type": "markdown",
      "metadata": {
        "id": "HSGDBYllQtMK"
      },
      "source": [
        "# **Question-5**\n",
        "* Given a string of comma separated values.\n",
        "* Convert it into a string of individual values.\n",
        "\n",
        "```\n",
        "Input:\n",
        "\"56,78,99,101\"\n",
        "```\n",
        "```\n",
        "Output:\n",
        "[56, 78, 99, 101]\n",
        "```"
      ]
    },
    {
      "cell_type": "code",
      "execution_count": null,
      "metadata": {
        "id": "QJVSeGdwRLW3"
      },
      "outputs": [],
      "source": [
        "a = \"56,78,99,101\""
      ]
    },
    {
      "cell_type": "code",
      "execution_count": null,
      "metadata": {
        "id": "J6sSIzHPRRVS"
      },
      "outputs": [],
      "source": [
        "def easy_way(a):\n",
        "    list_a = a.split(\",\")\n",
        "    result = []\n",
        "    for i in list_a:\n",
        "        result.append(int(i))\n",
        "    return result"
      ]
    },
    {
      "cell_type": "code",
      "execution_count": null,
      "metadata": {
        "colab": {
          "base_uri": "https://localhost:8080/"
        },
        "id": "n0nDnO4tRwxX",
        "outputId": "48167a67-204e-4df4-cf16-3cbec7a0d904"
      },
      "outputs": [
        {
          "data": {
            "text/plain": [
              "[56, 78, 99, 101]"
            ]
          },
          "execution_count": 16,
          "metadata": {},
          "output_type": "execute_result"
        }
      ],
      "source": [
        "easy_way(a)"
      ]
    },
    {
      "cell_type": "markdown",
      "metadata": {
        "id": "vu6W9KrIR7QU"
      },
      "source": [
        "* ```\"\".join()``` **-->** Input would be a list of string **-->** Output would be a string.\n",
        "* ```\"Random_String\".split(\"_\")``` **-->** Argument is the splitting characer **-->** Result would be a list."
      ]
    },
    {
      "cell_type": "markdown",
      "metadata": {
        "id": "B3u1X52UWAUE"
      },
      "source": [
        "---"
      ]
    },
    {
      "cell_type": "markdown",
      "metadata": {
        "id": "OrIdnxaVsRux"
      },
      "source": [
        "# **Question-6**\n",
        "* Take a string as input.\n",
        "* Convert the string to lowercase without using any inbuilt function."
      ]
    },
    {
      "cell_type": "code",
      "execution_count": null,
      "metadata": {
        "id": "Q2Qg6JxlseqU"
      },
      "outputs": [],
      "source": [
        "def custom_lower(s):\n",
        "    result = \"\"\n",
        "    for i in s:\n",
        "        if ord(i) >= 65 and ord(i) <= 90:\n",
        "            order = ord(i)\n",
        "            order = order + 32\n",
        "            result = result + chr(order)\n",
        "        else:\n",
        "            result = result + i\n",
        "    return result"
      ]
    },
    {
      "cell_type": "code",
      "execution_count": null,
      "metadata": {
        "colab": {
          "base_uri": "https://localhost:8080/",
          "height": 35
        },
        "id": "xQ5EarHltwTV",
        "outputId": "2e97aedb-9204-4a4a-f7d2-88039e398c34"
      },
      "outputs": [
        {
          "data": {
            "application/vnd.google.colaboratory.intrinsic+json": {
              "type": "string"
            },
            "text/plain": [
              "'this is a string'"
            ]
          },
          "execution_count": 18,
          "metadata": {},
          "output_type": "execute_result"
        }
      ],
      "source": [
        "custom_lower(\"This is A stRIng\")"
      ]
    },
    {
      "cell_type": "markdown",
      "metadata": {
        "id": "VOiz-0E9WBYv"
      },
      "source": [
        "---"
      ]
    },
    {
      "cell_type": "markdown",
      "metadata": {
        "id": "CnsmA_shwegr"
      },
      "source": [
        "# **Question-7**\n",
        "* Take a string as input.\n",
        "* Replace all the space with underscore."
      ]
    },
    {
      "cell_type": "code",
      "execution_count": null,
      "metadata": {
        "id": "5uSZ0lMkwc9B"
      },
      "outputs": [],
      "source": [
        "string = \"this is a random string\""
      ]
    },
    {
      "cell_type": "code",
      "execution_count": null,
      "metadata": {
        "id": "iCwOiMDBwp9z"
      },
      "outputs": [],
      "source": [
        "# 1\n",
        "def change_to_underscore(s):\n",
        "    result = \"\"\n",
        "    for i in s:\n",
        "        if i.isspace():\n",
        "            result = result + \"_\"\n",
        "        else:\n",
        "            result = result + i\n",
        "    return result"
      ]
    },
    {
      "cell_type": "code",
      "execution_count": null,
      "metadata": {
        "colab": {
          "base_uri": "https://localhost:8080/",
          "height": 35
        },
        "id": "4vzog6p5w2-e",
        "outputId": "bf171db7-8da5-4486-c758-0a68b4c947dc"
      },
      "outputs": [
        {
          "data": {
            "application/vnd.google.colaboratory.intrinsic+json": {
              "type": "string"
            },
            "text/plain": [
              "'this_is_a_random_string'"
            ]
          },
          "execution_count": 21,
          "metadata": {},
          "output_type": "execute_result"
        }
      ],
      "source": [
        "change_to_underscore(string)"
      ]
    },
    {
      "cell_type": "code",
      "execution_count": null,
      "metadata": {
        "colab": {
          "base_uri": "https://localhost:8080/",
          "height": 35
        },
        "id": "75-tptpvw7rH",
        "outputId": "d64e235b-4f44-4511-d9fd-54bf270b802c"
      },
      "outputs": [
        {
          "data": {
            "application/vnd.google.colaboratory.intrinsic+json": {
              "type": "string"
            },
            "text/plain": [
              "'this_is_a_random_string'"
            ]
          },
          "execution_count": 22,
          "metadata": {},
          "output_type": "execute_result"
        }
      ],
      "source": [
        "# 2\n",
        "string.replace(\" \", \"_\")"
      ]
    }
  ],
  "metadata": {
    "colab": {
      "provenance": []
    },
    "kernelspec": {
      "display_name": "Python 3",
      "name": "python3"
    },
    "language_info": {
      "name": "python"
    }
  },
  "nbformat": 4,
  "nbformat_minor": 0
}

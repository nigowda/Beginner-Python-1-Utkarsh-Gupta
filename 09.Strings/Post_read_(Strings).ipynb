{
  "nbformat": 4,
  "nbformat_minor": 0,
  "metadata": {
    "colab": {
      "provenance": []
    },
    "kernelspec": {
      "name": "python3",
      "display_name": "Python 3"
    },
    "language_info": {
      "name": "python"
    }
  },
  "cells": [
    {
      "cell_type": "markdown",
      "source": [
        "#**Question-1**\n",
        "* Take a string input from user and print that string character by character, with each character in new line.\n",
        "```\n",
        "Input:\n",
        "\"INDIA\"\n",
        "```\n",
        "```\n",
        "Output:\n",
        "I\n",
        "N\n",
        "D\n",
        "I\n",
        "A\n",
        "```"
      ],
      "metadata": {
        "id": "jvY4IoyXJh1d"
      }
    },
    {
      "cell_type": "code",
      "source": [
        "a = input()\n",
        "for i in a:\n",
        "    print(i)"
      ],
      "metadata": {
        "colab": {
          "base_uri": "https://localhost:8080/"
        },
        "id": "VhTmh5QyKcEo",
        "outputId": "ff2f6528-c0ea-4ced-85d0-0ed85ea570df"
      },
      "execution_count": null,
      "outputs": [
        {
          "output_type": "stream",
          "name": "stdout",
          "text": [
            "INDIA\n",
            "I\n",
            "N\n",
            "D\n",
            "I\n",
            "A\n"
          ]
        }
      ]
    },
    {
      "cell_type": "markdown",
      "source": [
        "---"
      ],
      "metadata": {
        "id": "C9PWSqFPV7Ys"
      }
    },
    {
      "cell_type": "markdown",
      "source": [
        "#**Question-2**\n",
        "* Take a string input from user.\n",
        "* Print the following.\n",
        "\n",
        "**Print format:**\n",
        "\n",
        "```\"First Character - <first_character>, Last Character - <last_character>```"
      ],
      "metadata": {
        "id": "_vxLcLnNKy5Q"
      }
    },
    {
      "cell_type": "code",
      "source": [
        "a = input()\n",
        "print(f\"First Character - {a[0]}, Last Character - {a[-1]}\")"
      ],
      "metadata": {
        "colab": {
          "base_uri": "https://localhost:8080/"
        },
        "id": "J6NEVR2NKye4",
        "outputId": "7aaadfd3-303e-46f9-a2bb-b15fd7c98743"
      },
      "execution_count": null,
      "outputs": [
        {
          "output_type": "stream",
          "name": "stdout",
          "text": [
            "INDIA\n",
            "First Character - I, Last Character - A\n"
          ]
        }
      ]
    },
    {
      "cell_type": "code",
      "source": [
        "s = \"INDIA_IS_MY_COUNTRY\"\n",
        "# Strings are immutable, so we cannot reassign a value to a specific character.\n",
        "s[0] = \"R\""
      ],
      "metadata": {
        "colab": {
          "base_uri": "https://localhost:8080/",
          "height": 180
        },
        "id": "mN9b0YYmLm6s",
        "outputId": "c0419a3c-7752-4e2c-a704-e93ab1a8e46e"
      },
      "execution_count": null,
      "outputs": [
        {
          "output_type": "error",
          "ename": "TypeError",
          "evalue": "'str' object does not support item assignment",
          "traceback": [
            "\u001b[0;31m---------------------------------------------------------------------------\u001b[0m",
            "\u001b[0;31mTypeError\u001b[0m                                 Traceback (most recent call last)",
            "\u001b[0;32m<ipython-input-3-6d995ee5d746>\u001b[0m in \u001b[0;36m<cell line: 3>\u001b[0;34m()\u001b[0m\n\u001b[1;32m      1\u001b[0m \u001b[0ms\u001b[0m \u001b[0;34m=\u001b[0m \u001b[0;34m\"INDIA_IS_MY_COUNTRY\"\u001b[0m\u001b[0;34m\u001b[0m\u001b[0;34m\u001b[0m\u001b[0m\n\u001b[1;32m      2\u001b[0m \u001b[0;31m# Strings are immutable, so we cannot reassign a value to a specific character.\u001b[0m\u001b[0;34m\u001b[0m\u001b[0;34m\u001b[0m\u001b[0m\n\u001b[0;32m----> 3\u001b[0;31m \u001b[0ms\u001b[0m\u001b[0;34m[\u001b[0m\u001b[0;36m0\u001b[0m\u001b[0;34m]\u001b[0m \u001b[0;34m=\u001b[0m \u001b[0;34m\"R\"\u001b[0m\u001b[0;34m\u001b[0m\u001b[0;34m\u001b[0m\u001b[0m\n\u001b[0m",
            "\u001b[0;31mTypeError\u001b[0m: 'str' object does not support item assignment"
          ]
        }
      ]
    },
    {
      "cell_type": "markdown",
      "source": [
        "---"
      ],
      "metadata": {
        "id": "CPEySJNKV8m9"
      }
    },
    {
      "cell_type": "markdown",
      "source": [
        "# **Question-3**\n",
        "* Take a string input from user.\n",
        "* Print the number of upper case characters in that string.\n",
        "\n",
        "```\n",
        "Input:\n",
        "\"This is a RANDOM strinG 67890, ^$#@\"\n",
        "```\n",
        "```\n",
        "Output:\n",
        "8\n",
        "```"
      ],
      "metadata": {
        "id": "OJsrT5rgN_il"
      }
    },
    {
      "cell_type": "code",
      "source": [
        "a = \"This is a RANDOM strinG 67890, ^$#@\""
      ],
      "metadata": {
        "id": "-BdpOI83OueG"
      },
      "execution_count": null,
      "outputs": []
    },
    {
      "cell_type": "code",
      "source": [
        "# 1\n",
        "def count_upper_case(a):\n",
        "    count = 0\n",
        "    for i in a:\n",
        "        if ord(i) >= 65 and ord(i) <= 90:\n",
        "            count = count + 1\n",
        "    return count"
      ],
      "metadata": {
        "id": "WVWizkMjOX0t"
      },
      "execution_count": null,
      "outputs": []
    },
    {
      "cell_type": "code",
      "source": [
        "count_upper_case(a)"
      ],
      "metadata": {
        "colab": {
          "base_uri": "https://localhost:8080/"
        },
        "id": "bTr25fklOtEM",
        "outputId": "ab645c16-1a47-412c-cdd9-eae8ea8b2a15"
      },
      "execution_count": null,
      "outputs": [
        {
          "output_type": "execute_result",
          "data": {
            "text/plain": [
              "8"
            ]
          },
          "metadata": {},
          "execution_count": 6
        }
      ]
    },
    {
      "cell_type": "code",
      "source": [
        "# 2\n",
        "def count_upper_case_2(a):\n",
        "    count = 0\n",
        "    for i in a:\n",
        "        if i.isupper():\n",
        "            count = count + 1\n",
        "    return count"
      ],
      "metadata": {
        "id": "JqdxEDxhO3KH"
      },
      "execution_count": null,
      "outputs": []
    },
    {
      "cell_type": "code",
      "source": [
        "count_upper_case(a)"
      ],
      "metadata": {
        "colab": {
          "base_uri": "https://localhost:8080/"
        },
        "id": "KEIxIdnYPBdn",
        "outputId": "5e0ade22-5864-421e-d7d7-11406759ab94"
      },
      "execution_count": null,
      "outputs": [
        {
          "output_type": "execute_result",
          "data": {
            "text/plain": [
              "8"
            ]
          },
          "metadata": {},
          "execution_count": 8
        }
      ]
    },
    {
      "cell_type": "markdown",
      "source": [
        "---"
      ],
      "metadata": {
        "id": "7F2m9dnPV91T"
      }
    },
    {
      "cell_type": "markdown",
      "source": [
        "# **Question-4**\n",
        "* You are given a list of numbers between 1 and 256.\n",
        "* Generate a string from the char values of these numbers.\n",
        "```\n",
        "Input:\n",
        "[65, 97, 68]\n",
        "```\n",
        "```\n",
        "Output:\n",
        "Aad\n",
        "```\n",
        "```\n",
        "Explanation:\n",
        "chr(65) - A\n",
        "chr(97) - a\n",
        "chr(68) - d\n",
        "```"
      ],
      "metadata": {
        "id": "WPgTxYvfPPFo"
      }
    },
    {
      "cell_type": "code",
      "source": [
        "a = [56, 8, 103, 157, 22, 22, 24, 10, 100]"
      ],
      "metadata": {
        "id": "cwO0JhWdPO3s"
      },
      "execution_count": null,
      "outputs": []
    },
    {
      "cell_type": "code",
      "source": [
        "# 1\n",
        "def generate_string(a):\n",
        "    s = \"\"\n",
        "    for i in a:\n",
        "        s = s + chr(i)\n",
        "    return s"
      ],
      "metadata": {
        "id": "TVKDAk9xQBdm"
      },
      "execution_count": null,
      "outputs": []
    },
    {
      "cell_type": "code",
      "source": [
        "generate_string(a)"
      ],
      "metadata": {
        "colab": {
          "base_uri": "https://localhost:8080/",
          "height": 35
        },
        "id": "KgUaZGcoQNFS",
        "outputId": "ae2c5942-f453-4cc2-b504-e062c8ee1558"
      },
      "execution_count": null,
      "outputs": [
        {
          "output_type": "execute_result",
          "data": {
            "text/plain": [
              "'8\\x08g\\x9d\\x16\\x16\\x18\\nd'"
            ],
            "application/vnd.google.colaboratory.intrinsic+json": {
              "type": "string"
            }
          },
          "metadata": {},
          "execution_count": 11
        }
      ]
    },
    {
      "cell_type": "code",
      "source": [
        " # 2\n",
        " def generate_string_cool(a):\n",
        "    result = []\n",
        "    for i in a:\n",
        "        result.append(chr(i))\n",
        "    return \"\".join(result)"
      ],
      "metadata": {
        "id": "AqU75H_WQQTk"
      },
      "execution_count": null,
      "outputs": []
    },
    {
      "cell_type": "code",
      "source": [
        "generate_string_cool(a)"
      ],
      "metadata": {
        "colab": {
          "base_uri": "https://localhost:8080/",
          "height": 35
        },
        "id": "LqEqdgWRQkrM",
        "outputId": "34fd5937-e13b-4b53-df76-6ace87e6ed65"
      },
      "execution_count": null,
      "outputs": [
        {
          "output_type": "execute_result",
          "data": {
            "text/plain": [
              "'8\\x08g\\x9d\\x16\\x16\\x18\\nd'"
            ],
            "application/vnd.google.colaboratory.intrinsic+json": {
              "type": "string"
            }
          },
          "metadata": {},
          "execution_count": 13
        }
      ]
    },
    {
      "cell_type": "markdown",
      "source": [
        "---"
      ],
      "metadata": {
        "id": "vMxOzBWZV_B1"
      }
    },
    {
      "cell_type": "markdown",
      "source": [
        "# **Question-5**\n",
        "* Given a string of comma separated values.\n",
        "* Convert it into a string of individual values.\n",
        "\n",
        "```\n",
        "Input:\n",
        "\"56,78,99,101\"\n",
        "```\n",
        "```\n",
        "Output:\n",
        "[56, 78, 99, 101]\n",
        "```"
      ],
      "metadata": {
        "id": "HSGDBYllQtMK"
      }
    },
    {
      "cell_type": "code",
      "source": [
        "a = \"56,78,99,101\""
      ],
      "metadata": {
        "id": "QJVSeGdwRLW3"
      },
      "execution_count": null,
      "outputs": []
    },
    {
      "cell_type": "code",
      "source": [
        "def easy_way(a):\n",
        "    list_a = a.split(\",\")\n",
        "    result = []\n",
        "    for i in list_a:\n",
        "        result.append(int(i))\n",
        "    return result"
      ],
      "metadata": {
        "id": "J6sSIzHPRRVS"
      },
      "execution_count": null,
      "outputs": []
    },
    {
      "cell_type": "code",
      "source": [
        "easy_way(a)"
      ],
      "metadata": {
        "colab": {
          "base_uri": "https://localhost:8080/"
        },
        "id": "n0nDnO4tRwxX",
        "outputId": "48167a67-204e-4df4-cf16-3cbec7a0d904"
      },
      "execution_count": null,
      "outputs": [
        {
          "output_type": "execute_result",
          "data": {
            "text/plain": [
              "[56, 78, 99, 101]"
            ]
          },
          "metadata": {},
          "execution_count": 16
        }
      ]
    },
    {
      "cell_type": "markdown",
      "source": [
        "* ```\"\".join()``` **-->** Input would be a list of string **-->** Output would be a string.\n",
        "* ```\"Random_String\".split(\"_\")``` **-->** Argument is the splitting characer **-->** Result would be a list."
      ],
      "metadata": {
        "id": "vu6W9KrIR7QU"
      }
    },
    {
      "cell_type": "markdown",
      "source": [
        "---"
      ],
      "metadata": {
        "id": "B3u1X52UWAUE"
      }
    },
    {
      "cell_type": "markdown",
      "source": [
        "# **Question-6**\n",
        "* Take a string as input.\n",
        "* Convert the string to lowercase without using any inbuilt function."
      ],
      "metadata": {
        "id": "OrIdnxaVsRux"
      }
    },
    {
      "cell_type": "code",
      "source": [
        "def custom_lower(s):\n",
        "    result = \"\"\n",
        "    for i in s:\n",
        "        if ord(i) >= 65 and ord(i) <= 90:\n",
        "            order = ord(i)\n",
        "            order = order + 32\n",
        "            result = result + chr(order)\n",
        "        else:\n",
        "            result = result + i\n",
        "    return result"
      ],
      "metadata": {
        "id": "Q2Qg6JxlseqU"
      },
      "execution_count": null,
      "outputs": []
    },
    {
      "cell_type": "code",
      "source": [
        "custom_lower(\"This is A stRIng\")"
      ],
      "metadata": {
        "colab": {
          "base_uri": "https://localhost:8080/",
          "height": 35
        },
        "id": "xQ5EarHltwTV",
        "outputId": "2e97aedb-9204-4a4a-f7d2-88039e398c34"
      },
      "execution_count": null,
      "outputs": [
        {
          "output_type": "execute_result",
          "data": {
            "text/plain": [
              "'this is a string'"
            ],
            "application/vnd.google.colaboratory.intrinsic+json": {
              "type": "string"
            }
          },
          "metadata": {},
          "execution_count": 18
        }
      ]
    },
    {
      "cell_type": "markdown",
      "source": [
        "---"
      ],
      "metadata": {
        "id": "VOiz-0E9WBYv"
      }
    },
    {
      "cell_type": "markdown",
      "source": [
        "# **Question-7**\n",
        "* Take a string as input.\n",
        "* Replace all the space with underscore."
      ],
      "metadata": {
        "id": "CnsmA_shwegr"
      }
    },
    {
      "cell_type": "code",
      "source": [
        "string = \"this is a random string\""
      ],
      "metadata": {
        "id": "5uSZ0lMkwc9B"
      },
      "execution_count": null,
      "outputs": []
    },
    {
      "cell_type": "code",
      "source": [
        "# 1\n",
        "def change_to_underscore(s):\n",
        "    result = \"\"\n",
        "    for i in s:\n",
        "        if i.isspace():\n",
        "            result = result + \"_\"\n",
        "        else:\n",
        "            result = result + i\n",
        "    return result"
      ],
      "metadata": {
        "id": "iCwOiMDBwp9z"
      },
      "execution_count": null,
      "outputs": []
    },
    {
      "cell_type": "code",
      "source": [
        "change_to_underscore(string)"
      ],
      "metadata": {
        "colab": {
          "base_uri": "https://localhost:8080/",
          "height": 35
        },
        "id": "4vzog6p5w2-e",
        "outputId": "bf171db7-8da5-4486-c758-0a68b4c947dc"
      },
      "execution_count": null,
      "outputs": [
        {
          "output_type": "execute_result",
          "data": {
            "text/plain": [
              "'this_is_a_random_string'"
            ],
            "application/vnd.google.colaboratory.intrinsic+json": {
              "type": "string"
            }
          },
          "metadata": {},
          "execution_count": 21
        }
      ]
    },
    {
      "cell_type": "code",
      "source": [
        "# 2\n",
        "string.replace(\" \", \"_\")"
      ],
      "metadata": {
        "colab": {
          "base_uri": "https://localhost:8080/",
          "height": 35
        },
        "id": "75-tptpvw7rH",
        "outputId": "d64e235b-4f44-4511-d9fd-54bf270b802c"
      },
      "execution_count": null,
      "outputs": [
        {
          "output_type": "execute_result",
          "data": {
            "text/plain": [
              "'this_is_a_random_string'"
            ],
            "application/vnd.google.colaboratory.intrinsic+json": {
              "type": "string"
            }
          },
          "metadata": {},
          "execution_count": 22
        }
      ]
    }
  ]
}
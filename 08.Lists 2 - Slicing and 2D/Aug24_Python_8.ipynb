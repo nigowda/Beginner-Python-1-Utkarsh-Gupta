{
  "nbformat": 4,
  "nbformat_minor": 0,
  "metadata": {
    "colab": {
      "provenance": []
    },
    "kernelspec": {
      "name": "python3",
      "display_name": "Python 3"
    },
    "language_info": {
      "name": "python"
    }
  },
  "cells": [
    {
      "cell_type": "code",
      "execution_count": null,
      "metadata": {
        "colab": {
          "base_uri": "https://localhost:8080/"
        },
        "id": "HKUkHRPGq_gL",
        "outputId": "03ec3822-768c-43f1-9a47-ef2e3177e786"
      },
      "outputs": [
        {
          "output_type": "execute_result",
          "data": {
            "text/plain": [
              "4"
            ]
          },
          "metadata": {},
          "execution_count": 1
        }
      ],
      "source": [
        "2+2"
      ]
    },
    {
      "cell_type": "code",
      "source": [
        "# Given a list of all runs by Virat Kohli, create a new list of runs made in last 5 matches.\n",
        "runs = [62, 85, 74, 10, 12, 101, 122, 99, 81, 55]\n",
        "\n",
        "ans = []\n",
        "for i in range(1, 6):\n",
        "  ans.append(runs[-i])\n",
        "\n",
        "print(ans)"
      ],
      "metadata": {
        "colab": {
          "base_uri": "https://localhost:8080/"
        },
        "id": "DQm9FOsHrC6m",
        "outputId": "6aa6069c-1bde-40b6-c4b4-b0ea3114f306"
      },
      "execution_count": null,
      "outputs": [
        {
          "output_type": "stream",
          "name": "stdout",
          "text": [
            "[55, 81, 99, 122, 101]\n"
          ]
        }
      ]
    },
    {
      "cell_type": "code",
      "source": [
        "# Given a list of all runs by Virat Kohli, create a new list of runs made in odd matches (even indices).\n",
        "runs = [62, 85, 74, 10, 12, 101, 122, 99, 81, 55]\n",
        "\n",
        "ans = []\n",
        "for i in range(0, len(runs), 2):\n",
        "  ans.append(runs[i])\n",
        "\n",
        "print(ans)"
      ],
      "metadata": {
        "colab": {
          "base_uri": "https://localhost:8080/"
        },
        "id": "g4KqKtrqtQDu",
        "outputId": "2e196544-bffb-459d-d923-202064818506"
      },
      "execution_count": null,
      "outputs": [
        {
          "output_type": "stream",
          "name": "stdout",
          "text": [
            "[62, 74, 12, 122, 81]\n"
          ]
        }
      ]
    },
    {
      "cell_type": "code",
      "source": [
        "runs = [62, 85, 74, 10, 12, 101, 122, 99, 81, 55]\n",
        "\n",
        "print(runs[2])"
      ],
      "metadata": {
        "colab": {
          "base_uri": "https://localhost:8080/"
        },
        "id": "Gca_VwZht-Br",
        "outputId": "eeaedba5-2697-470e-86a3-e5ffdee16d15"
      },
      "execution_count": null,
      "outputs": [
        {
          "output_type": "stream",
          "name": "stdout",
          "text": [
            "74\n"
          ]
        }
      ]
    },
    {
      "cell_type": "code",
      "source": [
        "# Accessing a range of elements\n",
        "\n",
        "runs[1 : 3]"
      ],
      "metadata": {
        "colab": {
          "base_uri": "https://localhost:8080/"
        },
        "id": "KsSCs41BuQ4W",
        "outputId": "6a37c990-00c6-49fa-cae1-94c8622fe670"
      },
      "execution_count": null,
      "outputs": [
        {
          "output_type": "execute_result",
          "data": {
            "text/plain": [
              "[85, 74]"
            ]
          },
          "metadata": {},
          "execution_count": 5
        }
      ]
    },
    {
      "cell_type": "code",
      "source": [
        "runs[2 : 8]"
      ],
      "metadata": {
        "colab": {
          "base_uri": "https://localhost:8080/"
        },
        "id": "pOXRty7Uubrt",
        "outputId": "2be68b65-43da-4b45-d39d-7944d8e88a10"
      },
      "execution_count": null,
      "outputs": [
        {
          "output_type": "execute_result",
          "data": {
            "text/plain": [
              "[74, 10, 12, 101, 122, 99]"
            ]
          },
          "metadata": {},
          "execution_count": 6
        }
      ]
    },
    {
      "cell_type": "code",
      "source": [
        "runs[2 : ]"
      ],
      "metadata": {
        "colab": {
          "base_uri": "https://localhost:8080/"
        },
        "id": "R2pGpBonuvq0",
        "outputId": "438d78ea-895e-4c89-f2c6-72f2b7162075"
      },
      "execution_count": null,
      "outputs": [
        {
          "output_type": "execute_result",
          "data": {
            "text/plain": [
              "[74, 10, 12, 101, 122, 99, 81, 55]"
            ]
          },
          "metadata": {},
          "execution_count": 7
        }
      ]
    },
    {
      "cell_type": "code",
      "source": [
        "# Given a list of all runs by Virat Kohli, create a new list of runs made in last 5 matches.\n",
        "runs = [62, 85, 74, 10, 12, 101, 122, 99, 81, 55]\n",
        "\n",
        "print(runs[-5 : ])"
      ],
      "metadata": {
        "colab": {
          "base_uri": "https://localhost:8080/"
        },
        "id": "By2SdGKou6AQ",
        "outputId": "1d73bc06-53dd-4ba9-9aa4-9276c9c395c3"
      },
      "execution_count": null,
      "outputs": [
        {
          "output_type": "stream",
          "name": "stdout",
          "text": [
            "[101, 122, 99, 81, 55]\n"
          ]
        }
      ]
    },
    {
      "cell_type": "code",
      "source": [
        "# Given a list of all runs by Virat Kohli, create a new list of runs made in first 5 matches.\n",
        "\n",
        "print(runs[ : 5])"
      ],
      "metadata": {
        "colab": {
          "base_uri": "https://localhost:8080/"
        },
        "id": "cd4r8xG2vKYC",
        "outputId": "72a43c30-3abd-4a57-b401-dea2da4f2834"
      },
      "execution_count": null,
      "outputs": [
        {
          "output_type": "stream",
          "name": "stdout",
          "text": [
            "[62, 85, 74, 10, 12]\n"
          ]
        }
      ]
    },
    {
      "cell_type": "code",
      "source": [
        "print(runs[ : ])"
      ],
      "metadata": {
        "colab": {
          "base_uri": "https://localhost:8080/"
        },
        "id": "o_tKntOVvWsd",
        "outputId": "ee29ee96-7141-4713-ea7c-46d4790a350a"
      },
      "execution_count": null,
      "outputs": [
        {
          "output_type": "stream",
          "name": "stdout",
          "text": [
            "[62, 85, 74, 10, 12, 101, 122, 99, 81, 55]\n"
          ]
        }
      ]
    },
    {
      "cell_type": "code",
      "source": [
        "runs = [62, 85, 74, 10, 12, 101, 122, 99, 81, 55]\n",
        "\n",
        "print(runs[0 : 5 : 2])"
      ],
      "metadata": {
        "colab": {
          "base_uri": "https://localhost:8080/"
        },
        "id": "W7Sc3zJ5vj8p",
        "outputId": "43411d4d-1727-41f4-f7ac-973716a943c0"
      },
      "execution_count": null,
      "outputs": [
        {
          "output_type": "stream",
          "name": "stdout",
          "text": [
            "[62, 74, 12]\n"
          ]
        }
      ]
    },
    {
      "cell_type": "code",
      "source": [
        "# Given a list of all runs by Virat Kohli, create a new list of runs made in odd matches (even indices).\n",
        "runs = [62, 85, 74, 10, 12, 101, 122, 99, 81, 55]\n",
        "\n",
        "print(runs[ : : 2])"
      ],
      "metadata": {
        "colab": {
          "base_uri": "https://localhost:8080/"
        },
        "id": "Jo67eaKqwF2V",
        "outputId": "a3091244-5cb1-4189-d07a-6cf11b53f653"
      },
      "execution_count": null,
      "outputs": [
        {
          "output_type": "stream",
          "name": "stdout",
          "text": [
            "[62, 74, 12, 122, 81]\n"
          ]
        }
      ]
    },
    {
      "cell_type": "code",
      "source": [
        "for i in range(9, 0, -2):\n",
        "  print(i)"
      ],
      "metadata": {
        "colab": {
          "base_uri": "https://localhost:8080/"
        },
        "id": "Sx8we4DjwWfr",
        "outputId": "11f16d2f-05f6-4100-cfc2-f4f005c7a4ee"
      },
      "execution_count": null,
      "outputs": [
        {
          "output_type": "stream",
          "name": "stdout",
          "text": [
            "9\n",
            "7\n",
            "5\n",
            "3\n",
            "1\n"
          ]
        }
      ]
    },
    {
      "cell_type": "code",
      "source": [
        "# Last 5 matches in reverse order\n",
        "runs = [62, 85, 74, 10, 12, 101, 122, 99, 81, 55]\n",
        "\n",
        "start = len(runs) - 1 # 9\n",
        "end = len(runs) - 6   # 4\n",
        "jump = 1\n",
        "\n",
        "print(runs[start : end : jump])"
      ],
      "metadata": {
        "colab": {
          "base_uri": "https://localhost:8080/"
        },
        "id": "nIQ9k9PewpGt",
        "outputId": "9137880f-33e6-42a8-cbd9-b8112c2f88dc"
      },
      "execution_count": null,
      "outputs": [
        {
          "output_type": "stream",
          "name": "stdout",
          "text": [
            "[]\n"
          ]
        }
      ]
    },
    {
      "cell_type": "code",
      "source": [
        "print(len(runs))"
      ],
      "metadata": {
        "colab": {
          "base_uri": "https://localhost:8080/"
        },
        "id": "PPORxMWrykeJ",
        "outputId": "beb30ea7-0068-4005-dfd1-13bca2a96d19"
      },
      "execution_count": null,
      "outputs": [
        {
          "output_type": "stream",
          "name": "stdout",
          "text": [
            "10\n"
          ]
        }
      ]
    },
    {
      "cell_type": "code",
      "source": [
        "for i in range(-1, -6, 1):\n",
        "  print(i)"
      ],
      "metadata": {
        "id": "4EXFN2GaxJYq"
      },
      "execution_count": null,
      "outputs": []
    },
    {
      "cell_type": "code",
      "source": [
        "for i in range(1, 6, -1):\n",
        "  print(i)"
      ],
      "metadata": {
        "id": "R9ygn7r4xa0P"
      },
      "execution_count": null,
      "outputs": []
    },
    {
      "cell_type": "code",
      "source": [
        "runs = [62, 85, 74, 10, 12, 101, 122, 99, 81, 55]\n",
        "\n",
        "print(runs[ : : -1])"
      ],
      "metadata": {
        "colab": {
          "base_uri": "https://localhost:8080/"
        },
        "id": "1oAT_Pcuxkoq",
        "outputId": "0bca0a2c-66f8-4325-aa0b-0bf45c039ff2"
      },
      "execution_count": null,
      "outputs": [
        {
          "output_type": "stream",
          "name": "stdout",
          "text": [
            "[55, 81, 99, 122, 101, 12, 10, 74, 85, 62]\n"
          ]
        }
      ]
    },
    {
      "cell_type": "code",
      "source": [
        "print(runs[4: : -1])"
      ],
      "metadata": {
        "colab": {
          "base_uri": "https://localhost:8080/"
        },
        "id": "lYbB_9q71V-z",
        "outputId": "6d1dec86-7558-4a5a-fb01-6fa323097cb4"
      },
      "execution_count": null,
      "outputs": [
        {
          "output_type": "stream",
          "name": "stdout",
          "text": [
            "[12, 10, 74, 85, 62]\n"
          ]
        }
      ]
    },
    {
      "cell_type": "code",
      "source": [
        "runs = [62, 85, 74, 10, 12, 101, 122, 99, 81, 55]\n",
        " #       0   1   2   3   4   5     6   7   8   9\n",
        " #     -10  -9  -8  -7  -6  -5    -4   -3  -2  -1"
      ],
      "metadata": {
        "id": "yr7rS7NJ1gGD"
      },
      "execution_count": null,
      "outputs": []
    },
    {
      "cell_type": "code",
      "source": [
        "print(runs[ : 5 : 2])"
      ],
      "metadata": {
        "colab": {
          "base_uri": "https://localhost:8080/"
        },
        "id": "Yi8KLknw2xHj",
        "outputId": "3c33874c-1e51-4e0f-f6fc-4b3f3a2aa555"
      },
      "execution_count": null,
      "outputs": [
        {
          "output_type": "stream",
          "name": "stdout",
          "text": [
            "[62, 74, 12]\n"
          ]
        }
      ]
    },
    {
      "cell_type": "code",
      "source": [
        "print(runs[5 : : 2])"
      ],
      "metadata": {
        "colab": {
          "base_uri": "https://localhost:8080/"
        },
        "id": "y90DF7LE24Xn",
        "outputId": "2e09c1f2-0187-4696-8bf0-47600a1219ca"
      },
      "execution_count": null,
      "outputs": [
        {
          "output_type": "stream",
          "name": "stdout",
          "text": [
            "[101, 99, 55]\n"
          ]
        }
      ]
    },
    {
      "cell_type": "code",
      "source": [
        "print(runs[ : -5 : -2])"
      ],
      "metadata": {
        "colab": {
          "base_uri": "https://localhost:8080/"
        },
        "id": "o3fBivxk3Byr",
        "outputId": "8a210f72-561b-4375-d731-4ce32d73b1e7"
      },
      "execution_count": null,
      "outputs": [
        {
          "output_type": "stream",
          "name": "stdout",
          "text": [
            "[55, 99]\n"
          ]
        }
      ]
    },
    {
      "cell_type": "code",
      "source": [
        "print(runs[-4:-11: -2])"
      ],
      "metadata": {
        "colab": {
          "base_uri": "https://localhost:8080/"
        },
        "id": "lIdjNDCS3g40",
        "outputId": "01501744-bc7c-4f8f-9e7d-8e34e9f82f22"
      },
      "execution_count": null,
      "outputs": [
        {
          "output_type": "stream",
          "name": "stdout",
          "text": [
            "[122, 12, 74, 62]\n"
          ]
        }
      ]
    },
    {
      "cell_type": "code",
      "source": [
        "print(runs[-1 : -10])\n",
        "\n",
        "# Default value of jump = 1"
      ],
      "metadata": {
        "colab": {
          "base_uri": "https://localhost:8080/"
        },
        "id": "a_OeSmXB36I2",
        "outputId": "78d542be-c7dc-41c5-b9f9-c8dee0ebaba7"
      },
      "execution_count": null,
      "outputs": [
        {
          "output_type": "stream",
          "name": "stdout",
          "text": [
            "[]\n"
          ]
        }
      ]
    },
    {
      "cell_type": "code",
      "source": [
        "runs = [62, 85, 74, 10, 12, 101, 122, 99, 81, 55]"
      ],
      "metadata": {
        "id": "_85tw7cb5ORO"
      },
      "execution_count": null,
      "outputs": []
    },
    {
      "cell_type": "code",
      "source": [
        "# Write a program to reverse a list.\n",
        "print(runs[::-1])"
      ],
      "metadata": {
        "colab": {
          "base_uri": "https://localhost:8080/"
        },
        "id": "rs2rPYKQ5lWI",
        "outputId": "00ce4710-8a69-441a-ea9e-c4d582417a7b"
      },
      "execution_count": null,
      "outputs": [
        {
          "output_type": "stream",
          "name": "stdout",
          "text": [
            "[55, 81, 99, 122, 101, 12, 10, 74, 85, 62]\n"
          ]
        }
      ]
    },
    {
      "cell_type": "code",
      "source": [
        "runs.reverse()"
      ],
      "metadata": {
        "id": "aJExzpmq7N5U"
      },
      "execution_count": null,
      "outputs": []
    },
    {
      "cell_type": "code",
      "source": [
        "print(runs)"
      ],
      "metadata": {
        "colab": {
          "base_uri": "https://localhost:8080/"
        },
        "id": "CH7ILEo37SEC",
        "outputId": "976ec8a5-626a-4e75-b5c6-c9f6de42fbfc"
      },
      "execution_count": null,
      "outputs": [
        {
          "output_type": "stream",
          "name": "stdout",
          "text": [
            "[55, 81, 99, 122, 101, 12, 10, 74, 85, 62]\n"
          ]
        }
      ]
    },
    {
      "cell_type": "code",
      "source": [
        "A = [1, 2, 3, 4, 5]\n",
        "\n",
        "print(A[ : : -1])\n",
        "\n",
        "print(A)"
      ],
      "metadata": {
        "colab": {
          "base_uri": "https://localhost:8080/"
        },
        "id": "hv5u5dPB7TvV",
        "outputId": "7a33a9cf-4dd9-43b6-e3cb-747bd6488ebb"
      },
      "execution_count": null,
      "outputs": [
        {
          "output_type": "stream",
          "name": "stdout",
          "text": [
            "[5, 4, 3, 2, 1]\n",
            "[1, 2, 3, 4, 5]\n"
          ]
        }
      ]
    },
    {
      "cell_type": "code",
      "source": [
        "A = [1, 2, 3, 4, 5]\n",
        "\n",
        "A.reverse()\n",
        "print(A)\n",
        "\n",
        "print(A)"
      ],
      "metadata": {
        "colab": {
          "base_uri": "https://localhost:8080/"
        },
        "id": "5DWqq2dc7gus",
        "outputId": "43cca1d7-252b-472b-e06f-1427f1efe9a7"
      },
      "execution_count": null,
      "outputs": [
        {
          "output_type": "stream",
          "name": "stdout",
          "text": [
            "[5, 4, 3, 2, 1]\n",
            "[5, 4, 3, 2, 1]\n"
          ]
        }
      ]
    },
    {
      "cell_type": "code",
      "source": [
        "A = [1, 2, 3, 4, 5]\n",
        "\n",
        "B = A[::-1]\n",
        "\n",
        "print(B)\n",
        "print(A)"
      ],
      "metadata": {
        "colab": {
          "base_uri": "https://localhost:8080/"
        },
        "id": "bim9f6m37lNW",
        "outputId": "4882a443-0622-4545-ee97-c49db6ebaedc"
      },
      "execution_count": null,
      "outputs": [
        {
          "output_type": "stream",
          "name": "stdout",
          "text": [
            "[5, 4, 3, 2, 1]\n",
            "[1, 2, 3, 4, 5]\n"
          ]
        }
      ]
    },
    {
      "cell_type": "code",
      "source": [
        "A = [1, 2, 3, 4, 5]\n",
        "\n",
        "B = list(reversed(A))\n",
        "\n",
        "print(B)\n",
        "\n",
        "print(A)"
      ],
      "metadata": {
        "colab": {
          "base_uri": "https://localhost:8080/"
        },
        "id": "AvQXoIia72vg",
        "outputId": "63162e02-131a-4f51-c8a7-88b54a78f286"
      },
      "execution_count": null,
      "outputs": [
        {
          "output_type": "stream",
          "name": "stdout",
          "text": [
            "[5, 4, 3, 2, 1]\n",
            "[1, 2, 3, 4, 5]\n"
          ]
        }
      ]
    },
    {
      "cell_type": "code",
      "source": [
        "A = [1, 2, 3, 4, 5]\n",
        "B = reversed(A)\n",
        "C = list(B)\n",
        "\n",
        "print(C)"
      ],
      "metadata": {
        "colab": {
          "base_uri": "https://localhost:8080/"
        },
        "id": "PCz6rUFZ8H-0",
        "outputId": "1c841177-3067-46f1-a63e-78676a9fa560"
      },
      "execution_count": null,
      "outputs": [
        {
          "output_type": "stream",
          "name": "stdout",
          "text": [
            "[5, 4, 3, 2, 1]\n"
          ]
        }
      ]
    },
    {
      "cell_type": "code",
      "source": [
        "A = [1, 2, 3.45, 4, \"Hello\", [10, 20, 30]]\n",
        "\n",
        "for i in range(len(A)):\n",
        "  print(i, A[i])"
      ],
      "metadata": {
        "colab": {
          "base_uri": "https://localhost:8080/"
        },
        "id": "10ZEA13s8igq",
        "outputId": "23261cc2-bb7f-4a1d-f6af-d74799b57e2e"
      },
      "execution_count": null,
      "outputs": [
        {
          "output_type": "stream",
          "name": "stdout",
          "text": [
            "0 1\n",
            "1 2\n",
            "2 3.45\n",
            "3 4\n",
            "4 Hello\n",
            "5 [10, 20, 30]\n"
          ]
        }
      ]
    },
    {
      "cell_type": "code",
      "source": [
        "# 3 x 3 Matrix\n",
        "\n",
        "a = [ [1, 2, 3], [4, 5, 6], [7, 8, 9] ]\n",
        "\n",
        "print(a[0])"
      ],
      "metadata": {
        "colab": {
          "base_uri": "https://localhost:8080/"
        },
        "id": "EdPgm7n79EIB",
        "outputId": "1e10266b-e32a-45c2-dd5a-b31432ec8748"
      },
      "execution_count": null,
      "outputs": [
        {
          "output_type": "stream",
          "name": "stdout",
          "text": [
            "[1, 2, 3]\n"
          ]
        }
      ]
    },
    {
      "cell_type": "code",
      "source": [
        "print(a[0][1])"
      ],
      "metadata": {
        "colab": {
          "base_uri": "https://localhost:8080/"
        },
        "id": "LXiFcKy-9zTA",
        "outputId": "461c2b48-d33e-4175-e540-9514042a8ed3"
      },
      "execution_count": null,
      "outputs": [
        {
          "output_type": "stream",
          "name": "stdout",
          "text": [
            "2\n"
          ]
        }
      ]
    },
    {
      "cell_type": "code",
      "source": [
        "print(a[-1][-3])"
      ],
      "metadata": {
        "colab": {
          "base_uri": "https://localhost:8080/"
        },
        "id": "_BPzCM7x91mR",
        "outputId": "1686f220-ba3b-4998-c96f-d06acc4792b4"
      },
      "execution_count": null,
      "outputs": [
        {
          "output_type": "stream",
          "name": "stdout",
          "text": [
            "7\n"
          ]
        }
      ]
    },
    {
      "cell_type": "code",
      "source": [
        "for row in a:\n",
        "  print(row)"
      ],
      "metadata": {
        "colab": {
          "base_uri": "https://localhost:8080/"
        },
        "id": "C9T7SIYG-irr",
        "outputId": "ab0ef26d-bb65-4444-e77f-ef8e37b85d87"
      },
      "execution_count": null,
      "outputs": [
        {
          "output_type": "stream",
          "name": "stdout",
          "text": [
            "[1, 2, 3]\n",
            "[4, 5, 6]\n",
            "[7, 8, 9]\n"
          ]
        }
      ]
    },
    {
      "cell_type": "code",
      "source": [
        "for row in a:\n",
        "  for element in row:\n",
        "    print(element, end = \" \")\n",
        "  print()"
      ],
      "metadata": {
        "colab": {
          "base_uri": "https://localhost:8080/"
        },
        "id": "MuG5LEve-CdA",
        "outputId": "91ce951f-aeec-4243-f5a3-f8a89abbf84a"
      },
      "execution_count": null,
      "outputs": [
        {
          "output_type": "stream",
          "name": "stdout",
          "text": [
            "1 2 3 \n",
            "4 5 6 \n",
            "7 8 9 \n"
          ]
        }
      ]
    },
    {
      "cell_type": "code",
      "source": [
        "rows = len(a)\n",
        "for i in range(rows):\n",
        "  print(a[i])"
      ],
      "metadata": {
        "colab": {
          "base_uri": "https://localhost:8080/"
        },
        "id": "sLie6AY--vAe",
        "outputId": "3438c03d-8436-4c05-e388-c8bc8e85f9d2"
      },
      "execution_count": null,
      "outputs": [
        {
          "output_type": "stream",
          "name": "stdout",
          "text": [
            "[1, 2, 3]\n",
            "[4, 5, 6]\n",
            "[7, 8, 9]\n"
          ]
        }
      ]
    },
    {
      "cell_type": "code",
      "source": [
        "a = [ [1, 2, 3], [\"Hello\", \"Bye\"], [1.0, 2.3, 4.56, 6.323]]\n",
        "\n",
        "rows = len(a)\n",
        "for i in range(rows):\n",
        "  columns = len(a[i])\n",
        "  for j in range(columns):\n",
        "    print(a[i][j], end = \" \")\n",
        "  print()"
      ],
      "metadata": {
        "colab": {
          "base_uri": "https://localhost:8080/"
        },
        "id": "biRlW8cB_D6c",
        "outputId": "93128dde-47e1-400d-83d6-2e54e333fd3a"
      },
      "execution_count": null,
      "outputs": [
        {
          "output_type": "stream",
          "name": "stdout",
          "text": [
            "1 2 3 \n",
            "Hello Bye \n",
            "1.0 2.3 4.56 6.323 \n"
          ]
        }
      ]
    },
    {
      "cell_type": "code",
      "source": [
        "a = [ [1, 2, 3], [4, 5, 6], [7, 8, 9] ]\n",
        "rows = len(a)\n",
        "columns = len(a[0])\n",
        "\n",
        "for i in range(rows):\n",
        "  for j in range(columns):\n",
        "    print(a[i][j], end = \" \")\n",
        "  print()\n"
      ],
      "metadata": {
        "colab": {
          "base_uri": "https://localhost:8080/"
        },
        "id": "aaAxGI7r_Rxu",
        "outputId": "8da9c28a-7424-4dbb-ca15-24678d380f53"
      },
      "execution_count": null,
      "outputs": [
        {
          "output_type": "stream",
          "name": "stdout",
          "text": [
            "1 2 3 \n",
            "4 5 6 \n",
            "7 8 9 \n"
          ]
        }
      ]
    },
    {
      "cell_type": "code",
      "source": [
        "x = \"Paly\"\n",
        "print(len(x))"
      ],
      "metadata": {
        "colab": {
          "base_uri": "https://localhost:8080/"
        },
        "id": "a_vBuD9t_wI9",
        "outputId": "950d9999-2b8f-469f-f622-d6a589e205ef"
      },
      "execution_count": null,
      "outputs": [
        {
          "output_type": "stream",
          "name": "stdout",
          "text": [
            "4\n"
          ]
        }
      ]
    },
    {
      "cell_type": "code",
      "source": [
        "# Take a 3X3 matrix as an input from the user.\n",
        "\n",
        "ans = []\n",
        "for i in range(3):\n",
        "  row = []\n",
        "  for j in range(3):\n",
        "    x = int(input())\n",
        "    row.append(x)\n",
        "  ans.append(row)\n",
        "\n",
        "print(ans)"
      ],
      "metadata": {
        "colab": {
          "base_uri": "https://localhost:8080/"
        },
        "id": "tppbbjs7APLO",
        "outputId": "1099604f-b6d5-4cc8-b817-8f246a5a09c5"
      },
      "execution_count": null,
      "outputs": [
        {
          "output_type": "stream",
          "name": "stdout",
          "text": [
            "2\n",
            "4\n",
            "6\n",
            "1\n",
            "3\n",
            "5\n",
            "10\n",
            "20\n",
            "30\n",
            "[[2, 4, 6], [1, 3, 5], [10, 20, 30]]\n"
          ]
        }
      ]
    },
    {
      "cell_type": "code",
      "source": [
        "# Print sum of elements for every row\n",
        "\n",
        "a = [ [1, 2, 3], [4, 5, 6], [7, 8, 9] ]\n",
        "\n",
        "for row in a:\n",
        "  s = 0\n",
        "\n",
        "  for e in row:\n",
        "    s += e\n",
        "\n",
        "  print(s)"
      ],
      "metadata": {
        "colab": {
          "base_uri": "https://localhost:8080/"
        },
        "id": "HMXIzJ3VBeMU",
        "outputId": "9dffb22a-39db-4c34-ec1f-b6d027e5ece8"
      },
      "execution_count": null,
      "outputs": [
        {
          "output_type": "stream",
          "name": "stdout",
          "text": [
            "6\n",
            "15\n",
            "24\n"
          ]
        }
      ]
    },
    {
      "cell_type": "code",
      "source": [
        "a = [ [1, 2, 3], [4, 5, 6], [7, 8, 9] ]\n",
        "\n",
        "for row in a:\n",
        "  s = sum(row)\n",
        "  print(s)"
      ],
      "metadata": {
        "colab": {
          "base_uri": "https://localhost:8080/"
        },
        "id": "zRvIOUNgDHL-",
        "outputId": "1c0b04d3-3403-40fd-c732-4ff8ab296ca1"
      },
      "execution_count": null,
      "outputs": [
        {
          "output_type": "stream",
          "name": "stdout",
          "text": [
            "6\n",
            "15\n",
            "24\n"
          ]
        }
      ]
    },
    {
      "cell_type": "code",
      "source": [
        "# Given a list, rotate it by 1 element.\n",
        "\n",
        "A = [1, 2, 3, 4, 5]\n",
        "# ANS = [5, 1, 2, 3, 4]\n",
        "\n",
        "last_element = A[-1]\n",
        "B = A[0 : 4]\n",
        "\n",
        "print(last_element)\n",
        "print(B)"
      ],
      "metadata": {
        "colab": {
          "base_uri": "https://localhost:8080/"
        },
        "id": "gloYSpyBDvV_",
        "outputId": "ff24b605-8bd3-4d57-98bb-4af6c6f379bb"
      },
      "execution_count": null,
      "outputs": [
        {
          "output_type": "stream",
          "name": "stdout",
          "text": [
            "5\n",
            "[1, 2, 3, 4]\n"
          ]
        }
      ]
    },
    {
      "cell_type": "code",
      "source": [
        "B.insert(0, last_element)\n",
        "\n",
        "print(B)"
      ],
      "metadata": {
        "colab": {
          "base_uri": "https://localhost:8080/"
        },
        "id": "Ezh3roSNGlue",
        "outputId": "1ccd9590-8fd1-4c29-eb1b-15e6c835a0f1"
      },
      "execution_count": null,
      "outputs": [
        {
          "output_type": "stream",
          "name": "stdout",
          "text": [
            "[5, 1, 2, 3, 4]\n"
          ]
        }
      ]
    },
    {
      "cell_type": "code",
      "source": [
        "ans = []\n",
        "ans.append(A[-1])\n",
        "for i in range(0, len(A)-1):\n",
        "  ans.append(A[i])\n",
        "\n",
        "print(ans)"
      ],
      "metadata": {
        "colab": {
          "base_uri": "https://localhost:8080/"
        },
        "id": "0UsxL4-PG-xP",
        "outputId": "4edae769-f13b-4279-bde1-2b57e52e57f1"
      },
      "execution_count": null,
      "outputs": [
        {
          "output_type": "stream",
          "name": "stdout",
          "text": [
            "[5, 1, 2, 3, 4]\n"
          ]
        }
      ]
    },
    {
      "cell_type": "code",
      "source": [
        "A = [1, 2, 3, 4, 5]\n",
        "\n",
        "A.insert(0, A.pop())\n",
        "\n",
        "print(A)"
      ],
      "metadata": {
        "colab": {
          "base_uri": "https://localhost:8080/"
        },
        "id": "dD5XXe8LHbx9",
        "outputId": "7a46f40c-da0b-49fb-9be8-4e90fa8d2fce"
      },
      "execution_count": null,
      "outputs": [
        {
          "output_type": "stream",
          "name": "stdout",
          "text": [
            "[5, 1, 2, 3, 4]\n"
          ]
        }
      ]
    },
    {
      "cell_type": "code",
      "source": [],
      "metadata": {
        "id": "3oBEbL7iH28s"
      },
      "execution_count": null,
      "outputs": []
    }
  ]
}
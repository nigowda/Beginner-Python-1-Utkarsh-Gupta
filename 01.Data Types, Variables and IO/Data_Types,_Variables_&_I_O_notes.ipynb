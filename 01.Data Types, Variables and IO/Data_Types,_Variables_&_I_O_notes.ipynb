{
  "cells": [
    {
      "cell_type": "markdown",
      "metadata": {
        "colab_type": "text",
        "id": "view-in-github"
      },
      "source": [
        "<a href=\"https://colab.research.google.com/github/nigowda/Beginner-Python-1-Utkarsh-Gupta/blob/main/01.Data%20Types%2C%20Variables%20and%20IO/Data_Types%2C_Variables_%26_I_O_notes.ipynb\" target=\"_parent\"><img src=\"https://colab.research.google.com/assets/colab-badge.svg\" alt=\"Open In Colab\"/></a>"
      ]
    },
    {
      "cell_type": "markdown",
      "metadata": {
        "id": "YV0TfrcJAaCN"
      },
      "source": [
        "# Date Types, Variables and I/O\n",
        "\n",
        "\n",
        "\n"
      ]
    },
    {
      "cell_type": "markdown",
      "metadata": {
        "id": "KEaMeRw1MQ8-"
      },
      "source": [
        "---"
      ]
    },
    {
      "cell_type": "markdown",
      "metadata": {
        "id": "Gwucum-gAlVq"
      },
      "source": [
        "## **Content**\n",
        "\n",
        "1. Motivation behind programming languages\n",
        "1. Getting Started with Python\n",
        "1. Print Statement\n",
        "1. Data Types\n",
        "  1. Integer\n",
        "  1. Float\n",
        "  1. String\n",
        "  1. Bool\n",
        "  1. NoneType\n",
        "1. `type()`\n",
        "1. Variables\n",
        "1. I/O - `input()`\n",
        "  1. `int()`\n",
        "  1. `str()`"
      ]
    },
    {
      "cell_type": "markdown",
      "metadata": {
        "id": "XB6ltZevMiRU"
      },
      "source": [
        "---"
      ]
    },
    {
      "cell_type": "markdown",
      "metadata": {
        "id": "6iWu2rMvszYp"
      },
      "source": [
        "## **Motivation behind programming languages -**"
      ]
    },
    {
      "cell_type": "markdown",
      "metadata": {
        "id": "fB5owtmXsiVi"
      },
      "source": [
        "#### Can you talk to a computer in English?\n",
        "- Computer only understands electric signal - '**High**' and '**Low**'.\n",
        "- The language understood by computer is called binary language with **0/1** where '1' is high and '0' is low.\n",
        "\n",
        "1. **Translator** - A computer program, is needed to convert human -understandable language to binary language.\n",
        "2. **Human** - Understandable language is called 'High level language'.\n",
        "  e.g. Python, Java, Javascript, Ruby, etc.\n",
        "3. **Syntax** - Set of rules or grammar for writing a computer program."
      ]
    },
    {
      "cell_type": "markdown",
      "metadata": {
        "id": "XYw3qlePMjw1"
      },
      "source": [
        "---"
      ]
    },
    {
      "cell_type": "markdown",
      "metadata": {
        "id": "GdrFsKT6r2JK"
      },
      "source": [
        "## **Getting Started with Python**"
      ]
    },
    {
      "cell_type": "markdown",
      "metadata": {
        "id": "S-P6x2WWsAzM"
      },
      "source": [
        "1.   Python Insallation (https://www.python.org/downloads/)\n",
        "2.   Editor (.py)\n",
        "3.   CMD (execute)\n",
        "\n",
        "Instead, let's use an **IDE**.\n",
        "\n",
        "IDE - Integrated Development Environment\n",
        "\n",
        "e.g.\n",
        "- VS Code\n",
        "- Pycharm\n",
        "- Online IDE\n",
        "\n",
        "Introducing online IDEs\n",
        "- ide.view\n",
        "- ide.codingminutes\n",
        "- `Google Colab`"
      ]
    },
    {
      "cell_type": "markdown",
      "metadata": {
        "id": "dF9qZR27Ml8D"
      },
      "source": [
        "---"
      ]
    },
    {
      "cell_type": "markdown",
      "metadata": {
        "id": "Oc6vqzeDgYe5"
      },
      "source": [
        "## **Print Statement**"
      ]
    },
    {
      "cell_type": "code",
      "execution_count": null,
      "metadata": {
        "colab": {
          "base_uri": "https://localhost:8080/"
        },
        "id": "ytmFXHFwgWvJ",
        "outputId": "714d2fdd-e6b4-4276-bb83-576c4f1c2a44"
      },
      "outputs": [
        {
          "name": "stdout",
          "output_type": "stream",
          "text": [
            "3000\n"
          ]
        }
      ],
      "source": [
        "print(3000)"
      ]
    },
    {
      "cell_type": "code",
      "execution_count": null,
      "metadata": {
        "colab": {
          "base_uri": "https://localhost:8080/"
        },
        "id": "6o2qwEYvgpmz",
        "outputId": "3f1bd6f0-541d-403d-9514-27559ade1eae"
      },
      "outputs": [
        {
          "name": "stdout",
          "output_type": "stream",
          "text": [
            "50\n"
          ]
        }
      ],
      "source": [
        "print(20+30) # python does basic arithmetic operations"
      ]
    },
    {
      "cell_type": "markdown",
      "metadata": {
        "id": "Gaq1KpKSg5nM"
      },
      "source": [
        "**Note:**\n",
        "```python\n",
        "print(4 + 9) # spaces in the middle don't matter\n",
        "```"
      ]
    },
    {
      "cell_type": "code",
      "execution_count": null,
      "metadata": {
        "colab": {
          "base_uri": "https://localhost:8080/"
        },
        "id": "NyNC1TWYhXIL",
        "outputId": "46884a62-cbc0-493a-df5d-d041bc9e9fec"
      },
      "outputs": [
        {
          "name": "stdout",
          "output_type": "stream",
          "text": [
            "I love you all 3000!\n"
          ]
        }
      ],
      "source": [
        "# everything inside \" \" is printed as it is\n",
        "print(\"I love you all 3000!\")"
      ]
    },
    {
      "cell_type": "code",
      "execution_count": null,
      "metadata": {
        "colab": {
          "base_uri": "https://localhost:8080/",
          "height": 143
        },
        "id": "W90cLFiChYfx",
        "outputId": "b477615c-0145-479b-8104-d47f7953cffd"
      },
      "outputs": [
        {
          "ename": "SyntaxError",
          "evalue": "ignored",
          "output_type": "error",
          "traceback": [
            "\u001b[0;36m  File \u001b[0;32m\"<ipython-input-4-7b7d759d00ee>\"\u001b[0;36m, line \u001b[0;32m2\u001b[0m\n\u001b[0;31m    print(I love you all 3000!)\u001b[0m\n\u001b[0m          ^\u001b[0m\n\u001b[0;31mSyntaxError\u001b[0m\u001b[0;31m:\u001b[0m invalid syntax. Perhaps you forgot a comma?\n"
          ]
        }
      ],
      "source": [
        "# will give an error without the quotes\n",
        "print(I love you all 3000!)"
      ]
    },
    {
      "cell_type": "markdown",
      "metadata": {
        "id": "0p6IKxrhiI0D"
      },
      "source": [
        "**Note:** Python is case sensitive.\n",
        "* `Print` is invalid\n",
        "* `print` is valid"
      ]
    },
    {
      "cell_type": "markdown",
      "metadata": {
        "id": "pHnWtfY3Mndi"
      },
      "source": [
        "---"
      ]
    },
    {
      "cell_type": "markdown",
      "metadata": {
        "id": "j-96ms3Dg_Pp"
      },
      "source": [
        "### **Quiz-1**\n",
        "**Question:  Predict the output of the following.**\n",
        "```python\n",
        "print(8-5)\n",
        "```\n",
        "    A. 8-5\n",
        "\n",
        "    B. 3\n",
        "\n",
        "    C. Error\n",
        "**Ans**: 'B'"
      ]
    },
    {
      "cell_type": "markdown",
      "metadata": {
        "id": "_buU8SvcMpXE"
      },
      "source": [
        "---"
      ]
    },
    {
      "cell_type": "markdown",
      "metadata": {
        "id": "v8GZzZDnBVrB"
      },
      "source": [
        "## **Data Types**\n"
      ]
    },
    {
      "cell_type": "markdown",
      "metadata": {
        "id": "Mx-EFPgPN6hB"
      },
      "source": [
        "- The type of data that we are dealing with.\n",
        "- e.g. **Text**, **Numbers**, **Decimals**, etc."
      ]
    },
    {
      "cell_type": "markdown",
      "metadata": {
        "id": "5lSEncdrBJcq"
      },
      "source": [
        "### **Int (Integers)**\n",
        "\n"
      ]
    },
    {
      "cell_type": "markdown",
      "metadata": {
        "id": "uN6JcKMXONPd"
      },
      "source": [
        "- A data type that deals with **positive** or **negative** whole numbers.\n",
        "- e.g. 1, -4, 8, 0, 323434242...\n",
        "- Python has no upper limit on size."
      ]
    },
    {
      "cell_type": "markdown",
      "metadata": {
        "id": "9xXatLL2CMzH"
      },
      "source": [
        "### **Float (Decimals)**\n"
      ]
    },
    {
      "cell_type": "markdown",
      "metadata": {
        "id": "aKubmGa4OO5B"
      },
      "source": [
        "- All real numbers that are not Integers.\n",
        "- e.g. .3, 0.123, -2.4\n",
        "\n",
        "#### **Question**: Is 9 and 9.0 same?\n",
        "- In real sense they are same, but in python they are **different**.\n",
        "- 9.0 is a float and 9 is an integer.\n",
        "\n",
        "**Note:** '`.`' is not a decimal but '`0.`' is"
      ]
    },
    {
      "cell_type": "markdown",
      "metadata": {
        "id": "HGxO7wVXMqAo"
      },
      "source": [
        "---"
      ]
    },
    {
      "cell_type": "markdown",
      "metadata": {
        "id": "sS1yeOI3CyRA"
      },
      "source": [
        "### **Quiz-2**\n",
        "\n",
        "\n"
      ]
    },
    {
      "cell_type": "markdown",
      "metadata": {
        "id": "UZHZU7rsOedO"
      },
      "source": [
        "**Question:** Which of the following values are of type float in Python?\n",
        "\n",
        "a. ```0.3```\n",
        "\n",
        "b. ```.2```\n",
        "\n",
        "c. ```\"2.3\"```\n",
        "\n",
        "d. ```1.0```\n",
        "\n",
        "e. ```\"3.14\"```\n",
        "\n",
        "f. ```-3```\n",
        "\n",
        "g. ```5.```"
      ]
    },
    {
      "cell_type": "markdown",
      "metadata": {
        "id": "lVxCqhlVOsPE"
      },
      "source": [
        "**Options:**\n",
        "\n",
        "A. a, b, c, d, e, f, g\n",
        "\n",
        "B. a, b, g\n",
        "\n",
        "C. a, b, d, g\n",
        "\n",
        "D. a, b, c, d, e, g\n",
        "\n",
        "**Ans**: C"
      ]
    },
    {
      "cell_type": "markdown",
      "metadata": {
        "id": "zKy6HQjUMqnV"
      },
      "source": [
        "---"
      ]
    },
    {
      "cell_type": "markdown",
      "metadata": {
        "id": "-pvi7He-Dsi8"
      },
      "source": [
        "### **Strings**\n",
        "\n"
      ]
    },
    {
      "cell_type": "markdown",
      "metadata": {
        "id": "74m8gTwfO0fo"
      },
      "source": [
        "- Anything inside quotes is considered string.\n",
        "- We can use either Double quotes (`\" \"`) or Single quotes (`' '`).\n",
        "- We have to start and end with the same type of quote.\n",
        "\n",
        "**Example**:\n",
        "- `\"Hello everyone\"` - **valid**\n",
        "- `'hello'` - **valid**\n",
        "- `\"hey everyone'` - **invalid**"
      ]
    },
    {
      "cell_type": "markdown",
      "metadata": {
        "id": "BtyrNDs6EjvG"
      },
      "source": [
        "### **Bool (boolean)**\n",
        "\n"
      ]
    },
    {
      "cell_type": "markdown",
      "metadata": {
        "id": "QwUwkXEwO-Hv"
      },
      "source": [
        "- It has a `True` or `False` value.\n",
        "- `True` is usualy 'high' and `False` is 'low'.\n",
        "- We use boolean values when comparing."
      ]
    },
    {
      "cell_type": "code",
      "execution_count": null,
      "metadata": {
        "colab": {
          "base_uri": "https://localhost:8080/"
        },
        "id": "kvSOt0XHHmlb",
        "outputId": "d6bb4f8a-2649-44eb-9c4a-d320dced8684"
      },
      "outputs": [
        {
          "name": "stdout",
          "output_type": "stream",
          "text": [
            "False\n"
          ]
        }
      ],
      "source": [
        "print(2 > 3)"
      ]
    },
    {
      "cell_type": "markdown",
      "metadata": {
        "id": "ohpAr_Y-FI5h"
      },
      "source": [
        "### **None** Type\n",
        "\n",
        "\n"
      ]
    },
    {
      "cell_type": "markdown",
      "metadata": {
        "id": "rF_slraRPAtO"
      },
      "source": [
        "- Has only one value, `None`.\n",
        "- Used to represent nothing or an empty value."
      ]
    },
    {
      "cell_type": "markdown",
      "metadata": {
        "id": "2CT8W7wtMt1x"
      },
      "source": [
        "---"
      ]
    },
    {
      "cell_type": "markdown",
      "metadata": {
        "id": "7PJBHM1bGFNm"
      },
      "source": [
        "### **How do you check data type of a given object?**\n",
        "Every value inside python is called an object.\n",
        "\n",
        "**Ans:** Using the `type()` function\n"
      ]
    },
    {
      "cell_type": "markdown",
      "metadata": {
        "id": "5-pUT17SPMwD"
      },
      "source": [
        "### ```type()```\n",
        " - It takes in an object and returns the data type of the object."
      ]
    },
    {
      "cell_type": "code",
      "execution_count": null,
      "metadata": {
        "colab": {
          "base_uri": "https://localhost:8080/"
        },
        "id": "msHt4LJKPQzZ",
        "outputId": "248bdca8-9367-4ff2-ddd2-971e470fe093"
      },
      "outputs": [
        {
          "data": {
            "text/plain": [
              "str"
            ]
          },
          "execution_count": 2,
          "metadata": {},
          "output_type": "execute_result"
        }
      ],
      "source": [
        "type(\"Hello\")"
      ]
    },
    {
      "cell_type": "code",
      "execution_count": null,
      "metadata": {
        "colab": {
          "base_uri": "https://localhost:8080/"
        },
        "id": "ID3ol487PRyW",
        "outputId": "b023d35a-c6d1-481b-fbae-fd5e27e0e1f2"
      },
      "outputs": [
        {
          "data": {
            "text/plain": [
              "int"
            ]
          },
          "execution_count": 3,
          "metadata": {},
          "output_type": "execute_result"
        }
      ],
      "source": [
        "type(45)"
      ]
    },
    {
      "cell_type": "code",
      "execution_count": null,
      "metadata": {
        "colab": {
          "base_uri": "https://localhost:8080/"
        },
        "id": "Hvtijt_9PTCm",
        "outputId": "2815488d-8246-4a78-a357-755c8ac3563c"
      },
      "outputs": [
        {
          "data": {
            "text/plain": [
              "float"
            ]
          },
          "execution_count": 4,
          "metadata": {},
          "output_type": "execute_result"
        }
      ],
      "source": [
        "type(67.8)"
      ]
    },
    {
      "cell_type": "code",
      "execution_count": null,
      "metadata": {
        "colab": {
          "base_uri": "https://localhost:8080/"
        },
        "id": "GYL2rEEtPTzq",
        "outputId": "2ab4a189-9d18-49dc-d336-54514eddf322"
      },
      "outputs": [
        {
          "data": {
            "text/plain": [
              "bool"
            ]
          },
          "execution_count": 5,
          "metadata": {},
          "output_type": "execute_result"
        }
      ],
      "source": [
        "type(True)"
      ]
    },
    {
      "cell_type": "code",
      "execution_count": null,
      "metadata": {
        "colab": {
          "base_uri": "https://localhost:8080/"
        },
        "id": "Ifpk_YU3TM55",
        "outputId": "abc86b28-6403-43dc-be7a-28b91e21a378"
      },
      "outputs": [
        {
          "data": {
            "text/plain": [
              "NoneType"
            ]
          },
          "execution_count": 1,
          "metadata": {},
          "output_type": "execute_result"
        }
      ],
      "source": [
        "type(None)"
      ]
    },
    {
      "cell_type": "markdown",
      "metadata": {
        "id": "peEF48hQGL9Z"
      },
      "source": [
        "* IDE or a Python Shell might not print the result from `type()`.\n",
        "\n",
        "* But **Jupyter** or **Colab** notebook prints the result of `type()` by default."
      ]
    },
    {
      "cell_type": "code",
      "execution_count": null,
      "metadata": {
        "id": "rgAmRPSqhiGN"
      },
      "outputs": [],
      "source": [
        "print(type(\"hello\"))"
      ]
    },
    {
      "cell_type": "markdown",
      "metadata": {
        "id": "5kiLmsv6Pqm5"
      },
      "source": [
        "The result of `type()` function is passed to the `print()` function and the output is printed on the screen, in both IDE and Jupyter/Colab notebook."
      ]
    },
    {
      "cell_type": "markdown",
      "metadata": {
        "id": "5uu8jYfCHtEK"
      },
      "source": [
        "\n",
        "<img src=\"https://d2beiqkhq929f0.cloudfront.net/public_assets/assets/000/059/778/original/download_%283%29.png?1703074010\">"
      ]
    },
    {
      "cell_type": "markdown",
      "metadata": {
        "id": "yzhb9PYzMuho"
      },
      "source": [
        "---"
      ]
    },
    {
      "cell_type": "markdown",
      "metadata": {
        "id": "aZnR3BifP_gO"
      },
      "source": [
        "## **Variables**"
      ]
    },
    {
      "cell_type": "markdown",
      "metadata": {
        "id": "tsJGybAoP-Kj"
      },
      "source": [
        "- Variables are nothing but containers to keep objects.\n",
        "- A variable is an identifier / name given to an object.\n",
        "- A variable in python refers to a reserved memory location."
      ]
    },
    {
      "cell_type": "code",
      "execution_count": null,
      "metadata": {
        "id": "pwhyLM1pQAlb"
      },
      "outputs": [],
      "source": [
        "a = 3\n",
        "print(a)"
      ]
    },
    {
      "cell_type": "code",
      "execution_count": null,
      "metadata": {
        "colab": {
          "base_uri": "https://localhost:8080/"
        },
        "id": "wBWMEXOKQBoA",
        "outputId": "de3af213-9c83-46fd-859a-73c01361a8a0"
      },
      "outputs": [
        {
          "data": {
            "text/plain": [
              "7"
            ]
          },
          "execution_count": 8,
          "metadata": {},
          "output_type": "execute_result"
        }
      ],
      "source": [
        "b = 4\n",
        "print(a + b)"
      ]
    },
    {
      "cell_type": "markdown",
      "metadata": {
        "id": "k4UbGXlVQI85"
      },
      "source": [
        "- Python does not need specification about what data it stores.\n",
        "- It automatically knows the type based on what it stores."
      ]
    },
    {
      "cell_type": "code",
      "execution_count": null,
      "metadata": {
        "colab": {
          "base_uri": "https://localhost:8080/"
        },
        "id": "ZEp1bEDGQE6s",
        "outputId": "c51369cc-1bf3-4bce-ab9b-b05ec9e654df"
      },
      "outputs": [
        {
          "data": {
            "text/plain": [
              "int"
            ]
          },
          "execution_count": 10,
          "metadata": {},
          "output_type": "execute_result"
        }
      ],
      "source": [
        "type(a)"
      ]
    },
    {
      "cell_type": "markdown",
      "metadata": {
        "id": "PBAQB6zFQUJ3"
      },
      "source": [
        "- In Python, the code is read from top to bottom.\n",
        "- The value of a variables can be changed."
      ]
    },
    {
      "cell_type": "code",
      "execution_count": null,
      "metadata": {
        "colab": {
          "base_uri": "https://localhost:8080/"
        },
        "id": "XPDOU7FdQRZ2",
        "outputId": "fcd34967-b0e7-4933-815e-32592690945c"
      },
      "outputs": [
        {
          "name": "stdout",
          "output_type": "stream",
          "text": [
            "5\n"
          ]
        }
      ],
      "source": [
        "x = 3\n",
        "x = 5\n",
        "print(x)"
      ]
    },
    {
      "cell_type": "code",
      "execution_count": null,
      "metadata": {
        "colab": {
          "base_uri": "https://localhost:8080/"
        },
        "id": "9Q670B_FQVuo",
        "outputId": "394385a2-4819-43cf-8696-2de47826cd76"
      },
      "outputs": [
        {
          "name": "stdout",
          "output_type": "stream",
          "text": [
            "i am\n",
            "legend !\n"
          ]
        }
      ],
      "source": [
        "x = \"i am\"\n",
        "y = \"legend !\"\n",
        "print(x)\n",
        "print(y) # prints in seperate lines"
      ]
    },
    {
      "cell_type": "code",
      "execution_count": null,
      "metadata": {
        "colab": {
          "base_uri": "https://localhost:8080/"
        },
        "id": "N_KxOjicQXW0",
        "outputId": "9670543c-4f00-44e5-b588-942e6cd3443e"
      },
      "outputs": [
        {
          "name": "stdout",
          "output_type": "stream",
          "text": [
            "i am legend !\n"
          ]
        }
      ],
      "source": [
        "print(x, y) # prints space seperated"
      ]
    },
    {
      "cell_type": "markdown",
      "metadata": {
        "id": "iEsMJXZ8MvFV"
      },
      "source": [
        "---"
      ]
    },
    {
      "cell_type": "markdown",
      "metadata": {
        "id": "wEt0HaSZN4yH"
      },
      "source": [
        "## **Variable naming rules -**\n"
      ]
    },
    {
      "cell_type": "markdown",
      "metadata": {
        "id": "z6K9-D17Qp8L"
      },
      "source": [
        "A Python identifier can be a combination of lowercase/ uppercase letters, digits, or an underscore.\n",
        "\n",
        "The following characters are valid:\n",
        "  * Lowercase letters (a to z)\n",
        "  * Uppercase letters (A to Z)\n",
        "  * Digits (0 to 9)\n",
        "  * Underscore (_)\n",
        "\n"
      ]
    },
    {
      "cell_type": "markdown",
      "metadata": {
        "id": "xfhBDQ9xQvz3"
      },
      "source": [
        "**Example:**\n",
        "* video_1\n",
        "* myVar"
      ]
    },
    {
      "cell_type": "markdown",
      "metadata": {
        "id": "CnMopyrvQynS"
      },
      "source": [
        "**Note:**\n",
        "- An identifier cannot begin with a digit.\n",
        "- Example: `1video` is **invalid**.\n"
      ]
    },
    {
      "cell_type": "code",
      "execution_count": null,
      "metadata": {
        "colab": {
          "base_uri": "https://localhost:8080/"
        },
        "id": "XJTgWiGjRGVQ",
        "outputId": "2f3066c9-0604-4d25-e115-5210c0b1556d"
      },
      "outputs": [
        {
          "name": "stdout",
          "output_type": "stream",
          "text": [
            "10\n"
          ]
        }
      ],
      "source": [
        "x=10\n",
        "y = x\n",
        "print(y)"
      ]
    },
    {
      "cell_type": "markdown",
      "metadata": {
        "id": "V5OcDyiyPGab"
      },
      "source": [
        "<img src=\"https://d2beiqkhq929f0.cloudfront.net/public_assets/assets/000/059/779/original/download_%284%29.png?1703074200\">"
      ]
    },
    {
      "cell_type": "markdown",
      "metadata": {
        "id": "wZV5x58APU9_"
      },
      "source": [
        "<img src=\"https://d2beiqkhq929f0.cloudfront.net/public_assets/assets/000/059/780/original/download_%285%29.png?1703074271\">"
      ]
    },
    {
      "cell_type": "markdown",
      "metadata": {
        "id": "XMl_8lwTMvxn"
      },
      "source": [
        "---"
      ]
    },
    {
      "cell_type": "markdown",
      "metadata": {
        "id": "MKmm4Kh7o9CP"
      },
      "source": [
        "### **Quiz-3**\n",
        "**Question**: Which of the following is a valid variable name?\n",
        "\n",
        "A. ```hELLO```\n",
        "\n",
        "B. ```1_name_Input```\n",
        "\n",
        "C. ```a*b*c```\n",
        "\n",
        "D. ```Cod3$#```\n",
        "\n",
        "**Ans**: 'A'\n",
        "\n",
        "Why?\n",
        "- 'B' invalid as it starts with number.\n",
        "- 'C' invalid as it has '*'\n",
        "- 'D' invalid as it has '$'"
      ]
    },
    {
      "cell_type": "markdown",
      "metadata": {
        "id": "JKDNYYW6MwO4"
      },
      "source": [
        "---"
      ]
    },
    {
      "cell_type": "markdown",
      "metadata": {
        "id": "c1PvN_BoP2Gx"
      },
      "source": [
        "## **Taking Input**\n"
      ]
    },
    {
      "cell_type": "markdown",
      "metadata": {
        "id": "kkfn0PL9Ra8d"
      },
      "source": [
        "The `input()` function takes in an input provided by the user."
      ]
    },
    {
      "cell_type": "code",
      "execution_count": null,
      "metadata": {
        "colab": {
          "base_uri": "https://localhost:8080/",
          "height": 53
        },
        "id": "153T_FzjRgR0",
        "outputId": "69ff3f87-2202-4b32-f7d6-0be8bae3c8bd"
      },
      "outputs": [
        {
          "name": "stdout",
          "output_type": "stream",
          "text": [
            "Bipin\n"
          ]
        },
        {
          "data": {
            "application/vnd.google.colaboratory.intrinsic+json": {
              "type": "string"
            },
            "text/plain": [
              "'Bipin'"
            ]
          },
          "execution_count": 17,
          "metadata": {},
          "output_type": "execute_result"
        }
      ],
      "source": [
        "name = input()\n",
        "name"
      ]
    },
    {
      "cell_type": "code",
      "execution_count": null,
      "metadata": {
        "colab": {
          "base_uri": "https://localhost:8080/"
        },
        "id": "sRzPNBhpRjbn",
        "outputId": "1035e0dc-638e-468e-9e89-3f0b9ec18a3a"
      },
      "outputs": [
        {
          "name": "stdout",
          "output_type": "stream",
          "text": [
            "Bipin\n",
            "hello name\n"
          ]
        }
      ],
      "source": [
        "name = input()\n",
        "print(\"hello name\") # name is string"
      ]
    },
    {
      "cell_type": "code",
      "execution_count": null,
      "metadata": {
        "colab": {
          "base_uri": "https://localhost:8080/"
        },
        "id": "KUJzqbEoRrYa",
        "outputId": "3b243d08-b3c3-4f85-e0f3-ad4976b53063"
      },
      "outputs": [
        {
          "name": "stdout",
          "output_type": "stream",
          "text": [
            "Bipin\n",
            "hello Bipin\n"
          ]
        }
      ],
      "source": [
        "name = input()\n",
        "print(\"hello\", name) # name is variable"
      ]
    },
    {
      "cell_type": "markdown",
      "metadata": {
        "id": "GMrI3UHvMwtN"
      },
      "source": [
        "---"
      ]
    },
    {
      "cell_type": "markdown",
      "metadata": {
        "id": "cAiudeKEKgcZ"
      },
      "source": [
        "### **Quiz-4**\n",
        "**Question**: Predict the output of the following.\n",
        "```python\n",
        "x = 3\n",
        "y = 'hello'\n",
        "num = y\n",
        "y = 5\n",
        "print(num, y)\n",
        "```\n",
        "A. 5 5\n",
        "\n",
        "B. hello hello\n",
        "\n",
        "C. hello 5\n",
        "\n",
        "**Ans**: 'C'"
      ]
    },
    {
      "cell_type": "markdown",
      "metadata": {
        "id": "Qs6boRAtMxmv"
      },
      "source": [
        "---"
      ]
    },
    {
      "cell_type": "markdown",
      "metadata": {
        "id": "BaNtzPC5iid6"
      },
      "source": [
        "## **Taking input as integer / string -**"
      ]
    },
    {
      "cell_type": "markdown",
      "metadata": {
        "id": "VWDQ7rVBQqZY"
      },
      "source": [
        "### **Question**: **Write a program to take two numbers as input and add them.**\n"
      ]
    },
    {
      "cell_type": "code",
      "execution_count": null,
      "metadata": {
        "colab": {
          "base_uri": "https://localhost:8080/"
        },
        "id": "GNaPgbEUR9Df",
        "outputId": "8303290a-fcd4-47ac-f1c0-766a9feef273"
      },
      "outputs": [
        {
          "name": "stdout",
          "output_type": "stream",
          "text": [
            "45\n",
            "54\n",
            "4554\n"
          ]
        }
      ],
      "source": [
        "x = input()\n",
        "y = input()\n",
        "print(x+y) # input taken as string"
      ]
    },
    {
      "cell_type": "markdown",
      "metadata": {
        "id": "clBIPWeoi9Ib"
      },
      "source": [
        "- The `input()` functions takes input as a string.\n",
        "- The `int()` function converts the input into an integer."
      ]
    },
    {
      "cell_type": "code",
      "execution_count": null,
      "metadata": {
        "colab": {
          "base_uri": "https://localhost:8080/"
        },
        "id": "ZMjdMnRaSDvm",
        "outputId": "10ab69a5-d2b8-4602-cb2a-695e3ff157e9"
      },
      "outputs": [
        {
          "name": "stdout",
          "output_type": "stream",
          "text": [
            "45\n",
            "54\n",
            "<class 'int'>\n",
            "<class 'int'>\n"
          ]
        }
      ],
      "source": [
        "x = input()\n",
        "y = input()\n",
        "int_x = int(x)\n",
        "int_y = int(y)\n",
        "print(type(int_x))\n",
        "print(type(int_y))"
      ]
    },
    {
      "cell_type": "code",
      "execution_count": null,
      "metadata": {
        "colab": {
          "base_uri": "https://localhost:8080/",
          "height": 183
        },
        "id": "rZ0jmJkfSUaA",
        "outputId": "3aefe7e8-af9d-45d0-b929-19a26f4dd71c"
      },
      "outputs": [
        {
          "ename": "ValueError",
          "evalue": "ignored",
          "output_type": "error",
          "traceback": [
            "\u001b[0;31m---------------------------------------------------------------------------\u001b[0m",
            "\u001b[0;31mValueError\u001b[0m                                Traceback (most recent call last)",
            "\u001b[0;32m<ipython-input-25-6884c7679f60>\u001b[0m in \u001b[0;36m<module>\u001b[0;34m\u001b[0m\n\u001b[1;32m      1\u001b[0m \u001b[0mx\u001b[0m \u001b[0;34m=\u001b[0m \u001b[0;34m\"I am a string\"\u001b[0m\u001b[0;34m\u001b[0m\u001b[0;34m\u001b[0m\u001b[0m\n\u001b[0;32m----> 2\u001b[0;31m \u001b[0mint\u001b[0m\u001b[0;34m(\u001b[0m\u001b[0mx\u001b[0m\u001b[0;34m)\u001b[0m \u001b[0;31m#error, this string cannot be converted to integer\u001b[0m\u001b[0;34m\u001b[0m\u001b[0;34m\u001b[0m\u001b[0m\n\u001b[0m",
            "\u001b[0;31mValueError\u001b[0m: invalid literal for int() with base 10: 'I am a string'"
          ]
        }
      ],
      "source": [
        "x = \"I am a string\"\n",
        "int(x) # error, this string cannot be converted to integer"
      ]
    },
    {
      "cell_type": "markdown",
      "metadata": {
        "id": "ZldcSy1CSaQ_"
      },
      "source": [
        "-   The `str()` function converts an input into a string."
      ]
    },
    {
      "cell_type": "code",
      "execution_count": null,
      "metadata": {
        "colab": {
          "base_uri": "https://localhost:8080/",
          "height": 35
        },
        "id": "qm3bviD7SV5o",
        "outputId": "2791bc31-73a4-4cdf-8522-10b120180e15"
      },
      "outputs": [
        {
          "data": {
            "application/vnd.google.colaboratory.intrinsic+json": {
              "type": "string"
            },
            "text/plain": [
              "'345'"
            ]
          },
          "execution_count": 26,
          "metadata": {},
          "output_type": "execute_result"
        }
      ],
      "source": [
        "x = 345\n",
        "str(x)"
      ]
    },
    {
      "cell_type": "markdown",
      "metadata": {
        "id": "VGvkvNX1zDce"
      },
      "source": [
        "---"
      ]
    }
  ],
  "metadata": {
    "colab": {
      "include_colab_link": true,
      "provenance": []
    },
    "kernelspec": {
      "display_name": "Python 3",
      "name": "python3"
    },
    "language_info": {
      "name": "python"
    }
  },
  "nbformat": 4,
  "nbformat_minor": 0
}

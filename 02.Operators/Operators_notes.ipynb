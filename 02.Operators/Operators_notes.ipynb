{
 "cells": [
  {
   "cell_type": "markdown",
   "metadata": {
    "colab_type": "text",
    "id": "view-in-github"
   },
   "source": [
    "<a href=\"https://colab.research.google.com/github/nigowda/Beginner-Python-1-Utkarsh-Gupta/blob/main/02.Operators/Operators_notes.ipynb\" target=\"_parent\"><img src=\"https://colab.research.google.com/assets/colab-badge.svg\" alt=\"Open In Colab\"/></a>"
   ]
  },
  {
   "cell_type": "markdown",
   "metadata": {
    "id": "O-44bVDG5XtI"
   },
   "source": [
    "# Operators\n",
    "\n",
    "\n",
    "\n"
   ]
  },
  {
   "cell_type": "markdown",
   "metadata": {
    "id": "-Wg25K0mMT_h"
   },
   "source": [
    "---"
   ]
  },
  {
   "cell_type": "markdown",
   "metadata": {
    "id": "ngrNCaeIKPgm"
   },
   "source": [
    "## **Content**\n",
    "\n",
    "\n",
    "1. Operators\n",
    "2. Arithmetic operators\n",
    "3. Precedence of operators\n",
    "4. Boolean operators\n",
    "5. Comparison operators\n",
    "6. Assignment operators\n",
    "7. Logical operators\n",
    "\n",
    "\n",
    "\n"
   ]
  },
  {
   "cell_type": "markdown",
   "metadata": {
    "id": "pHnWtfY3Mndi"
   },
   "source": [
    "---"
   ]
  },
  {
   "cell_type": "markdown",
   "metadata": {
    "id": "cl_b6yI6pE4M"
   },
   "source": [
    "## **Operators**"
   ]
  },
  {
   "cell_type": "markdown",
   "metadata": {
    "id": "XrcGNyhtpKrF"
   },
   "source": [
    "- **Operators** are symbols of operation.\n",
    "- **Operands** are values on which operation is happening\n",
    "- Operation/Expression are combination of operands and operators\n",
    "- Operation/Expression gives a result after execution."
   ]
  },
  {
   "cell_type": "markdown",
   "metadata": {
    "id": "oLPXo-Dr6OIC"
   },
   "source": [
    "<img src=\"https://d2beiqkhq929f0.cloudfront.net/public_assets/assets/000/040/405/original/operators.png?1689918923\" width=600 height=200>"
   ]
  },
  {
   "cell_type": "markdown",
   "metadata": {
    "id": "klkYm0ZAM7kO"
   },
   "source": [
    "---"
   ]
  },
  {
   "cell_type": "markdown",
   "metadata": {
    "id": "tD0pLrEHpbVs"
   },
   "source": [
    "## **Arithmetic operators**"
   ]
  },
  {
   "cell_type": "markdown",
   "metadata": {
    "id": "CsC6jrP0pdxB"
   },
   "source": [
    "- operators such as ```+```, ```-```, ```*```, ```/```, ```//```, ```**```, ```%```"
   ]
  },
  {
   "cell_type": "markdown",
   "metadata": {
    "id": "xiXP7hPb6tU1"
   },
   "source": [
    "<img src=\"https://d2beiqkhq929f0.cloudfront.net/public_assets/assets/000/040/407/original/arithmetic_op.png?1689919111\" width=600 height=100>"
   ]
  },
  {
   "cell_type": "code",
   "execution_count": null,
   "metadata": {
    "colab": {
     "base_uri": "https://localhost:8080/"
    },
    "id": "AcRCBtmjpuY-",
    "outputId": "b061a17b-dfdc-4adb-f04a-98316c6d6672"
   },
   "outputs": [
    {
     "data": {
      "text/plain": [
       "13"
      ]
     },
     "execution_count": 1,
     "metadata": {},
     "output_type": "execute_result"
    }
   ],
   "source": [
    "# Addition\n",
    "10 + 3"
   ]
  },
  {
   "cell_type": "code",
   "execution_count": null,
   "metadata": {
    "colab": {
     "base_uri": "https://localhost:8080/"
    },
    "id": "yXhTS12dpww1",
    "outputId": "74cb255f-cf6e-4f2d-d8c6-93a11a77b8d9"
   },
   "outputs": [
    {
     "data": {
      "text/plain": [
       "7"
      ]
     },
     "execution_count": 2,
     "metadata": {},
     "output_type": "execute_result"
    }
   ],
   "source": [
    "# Subtraction\n",
    "10 - 3"
   ]
  },
  {
   "cell_type": "code",
   "execution_count": null,
   "metadata": {
    "colab": {
     "base_uri": "https://localhost:8080/"
    },
    "id": "AoxkiY4npyYH",
    "outputId": "27f7bbc8-7ba9-4c3e-d467-6080faddf3ff"
   },
   "outputs": [
    {
     "data": {
      "text/plain": [
       "30"
      ]
     },
     "execution_count": 3,
     "metadata": {},
     "output_type": "execute_result"
    }
   ],
   "source": [
    "# Multiplication\n",
    "10 * 3"
   ]
  },
  {
   "cell_type": "markdown",
   "metadata": {
    "id": "IicTDCRMp1hF"
   },
   "source": [
    "* The return type of the division operator ```/``` is always a floating point object."
   ]
  },
  {
   "cell_type": "code",
   "execution_count": null,
   "metadata": {
    "colab": {
     "base_uri": "https://localhost:8080/"
    },
    "id": "zrwoWbeTp_fm",
    "outputId": "45381ce6-9249-47d1-e82b-c3237d6ae0e4"
   },
   "outputs": [
    {
     "data": {
      "text/plain": [
       "3.3333333333333335"
      ]
     },
     "execution_count": 4,
     "metadata": {},
     "output_type": "execute_result"
    }
   ],
   "source": [
    "# Division\n",
    "10 / 3"
   ]
  },
  {
   "cell_type": "code",
   "execution_count": null,
   "metadata": {
    "colab": {
     "base_uri": "https://localhost:8080/"
    },
    "id": "mceTTdjTqIy9",
    "outputId": "cc5d6a1a-ffc7-4075-c98a-92f32a70a182"
   },
   "outputs": [
    {
     "data": {
      "text/plain": [
       "10.0"
      ]
     },
     "execution_count": 5,
     "metadata": {},
     "output_type": "execute_result"
    }
   ],
   "source": [
    "# float + float -> float\n",
    "5.0 +5.0  #10.0"
   ]
  },
  {
   "cell_type": "markdown",
   "metadata": {
    "id": "CjGjn3MtqRE6"
   },
   "source": [
    "### **Subset diagram of number system -**\n",
    "\n"
   ]
  },
  {
   "cell_type": "markdown",
   "metadata": {
    "id": "1PXWRQlGqh2V"
   },
   "source": [
    "integers $\\subset$ floats $\\subset$ real numbers"
   ]
  },
  {
   "cell_type": "markdown",
   "metadata": {
    "id": "9i8x8qdS700O"
   },
   "source": [
    "<img src=\"https://d2beiqkhq929f0.cloudfront.net/public_assets/assets/000/040/411/original/number_system.png?1689919391\" width=500 height=400>"
   ]
  },
  {
   "cell_type": "markdown",
   "metadata": {
    "id": "JTrbDRBr807S"
   },
   "source": [
    "- Python retains as much information as it can.\n",
    "  - for +, -, * if one of the operand is float, then result is float.\n",
    "  - for / operator, the result is always float."
   ]
  },
  {
   "cell_type": "markdown",
   "metadata": {
    "id": "LKLNR4IxM8Zk"
   },
   "source": [
    "---"
   ]
  },
  {
   "cell_type": "markdown",
   "metadata": {
    "id": "Anq2Qh6Xqom3"
   },
   "source": [
    "## **Quiz-1**\n"
   ]
  },
  {
   "cell_type": "markdown",
   "metadata": {
    "id": "yNB2rQI3qyF9"
   },
   "source": [
    "**Question:** What would be the output of the following?\n",
    "\n",
    "```python\n",
    "x = 10\n",
    "y = 2.5\n",
    "print(x / y)\n",
    "```\n",
    "\n",
    "A. ```4```\n",
    "\n",
    "B. ```4.0```\n",
    "\n",
    "C. ```4.5```\n",
    "\n",
    "**Ans:** B. `4.0`"
   ]
  },
  {
   "cell_type": "markdown",
   "metadata": {
    "id": "17z92C3yM81c"
   },
   "source": [
    "---"
   ]
  },
  {
   "cell_type": "markdown",
   "metadata": {
    "id": "a5faFS4mrcTN"
   },
   "source": [
    "## **Quiz-2**"
   ]
  },
  {
   "cell_type": "markdown",
   "metadata": {
    "id": "18nUv_JQ9Mck"
   },
   "source": [
    "**Question:** What would be the output of the following?\n",
    "\n",
    "```\n",
    "1.0+2\n",
    "```\n",
    "A. ```3.0```\n",
    "\n",
    "B. ```\"3.0\"```\n",
    "\n",
    "c. ```3```\n",
    "\n",
    "**Ans:** A. `3.0`\n",
    "\n",
    "\n"
   ]
  },
  {
   "cell_type": "markdown",
   "metadata": {
    "id": "O3GlSulzM9TZ"
   },
   "source": [
    "---"
   ]
  },
  {
   "cell_type": "markdown",
   "metadata": {
    "id": "Bvf_4_DBrqTe"
   },
   "source": [
    "### **Some more operators -**"
   ]
  },
  {
   "cell_type": "markdown",
   "metadata": {
    "id": "8Z5MMf-7rwIq"
   },
   "source": [
    "#### **Exponentiation operator**\n",
    "\n",
    "```x**y``` = x $^ y$"
   ]
  },
  {
   "cell_type": "code",
   "execution_count": null,
   "metadata": {
    "colab": {
     "base_uri": "https://localhost:8080/"
    },
    "id": "_EtjzuFHr6SO",
    "outputId": "f197112f-7ffb-4a37-d802-10a793c24055"
   },
   "outputs": [
    {
     "data": {
      "text/plain": [
       "25"
      ]
     },
     "execution_count": 6,
     "metadata": {},
     "output_type": "execute_result"
    }
   ],
   "source": [
    "5 ** 2"
   ]
  },
  {
   "cell_type": "code",
   "execution_count": null,
   "metadata": {
    "colab": {
     "base_uri": "https://localhost:8080/"
    },
    "id": "SoFnrYi9r7nC",
    "outputId": "c8539626-1a9d-4ba5-c29f-9fba12e60d55"
   },
   "outputs": [
    {
     "data": {
      "text/plain": [
       "0.2"
      ]
     },
     "execution_count": 7,
     "metadata": {},
     "output_type": "execute_result"
    }
   ],
   "source": [
    "5 ** -1"
   ]
  },
  {
   "cell_type": "code",
   "execution_count": null,
   "metadata": {
    "colab": {
     "base_uri": "https://localhost:8080/"
    },
    "id": "66zOFC8isCNR",
    "outputId": "b3e97774-48fa-442d-fe52-b56d18fef70e"
   },
   "outputs": [
    {
     "data": {
      "text/plain": [
       "2.23606797749979"
      ]
     },
     "execution_count": 9,
     "metadata": {},
     "output_type": "execute_result"
    }
   ],
   "source": [
    "5 ** 0.5 # square root"
   ]
  },
  {
   "cell_type": "code",
   "execution_count": null,
   "metadata": {
    "colab": {
     "base_uri": "https://localhost:8080/"
    },
    "id": "biBMqCFLsGp8",
    "outputId": "1075f1ea-510d-4963-f447-d774895e2591"
   },
   "outputs": [
    {
     "data": {
      "text/plain": [
       "25.0"
      ]
     },
     "execution_count": 10,
     "metadata": {},
     "output_type": "execute_result"
    }
   ],
   "source": [
    "5.0 ** 2"
   ]
  },
  {
   "cell_type": "markdown",
   "metadata": {
    "id": "fqQoJ_G8sK0y"
   },
   "source": [
    "#### **Floor Division operator** (```//```)"
   ]
  },
  {
   "cell_type": "markdown",
   "metadata": {
    "id": "ZfnpzUdCsXza"
   },
   "source": [
    "```x//y``` = floor(x/y)"
   ]
  },
  {
   "cell_type": "markdown",
   "metadata": {
    "id": "8lnMYSrEsiLp"
   },
   "source": [
    "**Floor function -**"
   ]
  },
  {
   "cell_type": "markdown",
   "metadata": {
    "id": "pp3Cwqsysn84"
   },
   "source": [
    "- The floor() function gives the biggest integer less than the value.\n",
    "\n",
    "- On a number line, it gives the closest integer to the left of the value.\n",
    "\n",
    "- Example:\n",
    "  - floor(-0.67) gives -1\n",
    "  - floor(2.3) gives 2"
   ]
  },
  {
   "cell_type": "markdown",
   "metadata": {
    "id": "5dIeD_ufQyEa"
   },
   "source": [
    "<img src = https://d2beiqkhq929f0.cloudfront.net/public_assets/assets/000/059/788/original/floorfunc1.png?1703076295 height = 200 width = 700>"
   ]
  },
  {
   "cell_type": "code",
   "execution_count": null,
   "metadata": {
    "colab": {
     "base_uri": "https://localhost:8080/"
    },
    "id": "2MB9AMZmGeb0",
    "outputId": "e895ae8c-816f-413c-e73d-abc532f785a6"
   },
   "outputs": [
    {
     "data": {
      "text/plain": [
       "3"
      ]
     },
     "execution_count": 1,
     "metadata": {},
     "output_type": "execute_result"
    }
   ],
   "source": [
    "10//3"
   ]
  },
  {
   "cell_type": "code",
   "execution_count": null,
   "metadata": {
    "colab": {
     "base_uri": "https://localhost:8080/"
    },
    "id": "928nRT_8G0tH",
    "outputId": "0b29e427-2813-4809-eace-98ad0f5b2ed9"
   },
   "outputs": [
    {
     "data": {
      "text/plain": [
       "-4"
      ]
     },
     "execution_count": 2,
     "metadata": {},
     "output_type": "execute_result"
    }
   ],
   "source": [
    "-10//3"
   ]
  },
  {
   "cell_type": "markdown",
   "metadata": {
    "id": "BKdmWrtqt6iJ"
   },
   "source": [
    "#### **Modulus operator** (```%```)\n",
    "\n",
    "\n"
   ]
  },
  {
   "cell_type": "markdown",
   "metadata": {
    "id": "PLqyJ28wuD0r"
   },
   "source": [
    "```x % y``` -> remainder of `x / y`\n",
    "- If `x` is **'+ve'** -> remainder of `x / y`\n",
    "- If `x` is **'-ve'** -> `y - (x % y)`"
   ]
  },
  {
   "cell_type": "code",
   "execution_count": null,
   "metadata": {
    "colab": {
     "base_uri": "https://localhost:8080/"
    },
    "id": "joGuMTAsuRy9",
    "outputId": "c38a1c93-60f1-432c-d90a-d53b27a55569"
   },
   "outputs": [
    {
     "data": {
      "text/plain": [
       "1"
      ]
     },
     "execution_count": 11,
     "metadata": {},
     "output_type": "execute_result"
    }
   ],
   "source": [
    "10 % 3"
   ]
  },
  {
   "cell_type": "code",
   "execution_count": null,
   "metadata": {
    "colab": {
     "base_uri": "https://localhost:8080/"
    },
    "id": "RVOYRhnxuTcV",
    "outputId": "756fb06d-6ac3-426b-d26b-c0fcadfda112"
   },
   "outputs": [
    {
     "data": {
      "text/plain": [
       "2"
      ]
     },
     "execution_count": 12,
     "metadata": {},
     "output_type": "execute_result"
    }
   ],
   "source": [
    "-10 % 3"
   ]
  },
  {
   "cell_type": "markdown",
   "metadata": {
    "id": "BpYJhzFGM-Ue"
   },
   "source": [
    "---"
   ]
  },
  {
   "cell_type": "markdown",
   "metadata": {
    "id": "T9FPXxZ3tIGc"
   },
   "source": [
    "## **Quiz-3**"
   ]
  },
  {
   "cell_type": "markdown",
   "metadata": {
    "id": "Np9jx4rGtRwk"
   },
   "source": [
    "\n",
    "**Question:** Predict the output.\n",
    "\n",
    "```python\n",
    "print(10**-1)\n",
    "```\n",
    "\n",
    "A. ```10```\n",
    "\n",
    "B. ```1/10```\n",
    "\n",
    "C. ```0.1```\n",
    "\n",
    "**Ans:** C. `0.1`"
   ]
  },
  {
   "cell_type": "markdown",
   "metadata": {
    "id": "_IQLnFeZtfiy"
   },
   "source": [
    "## **Quiz-4**"
   ]
  },
  {
   "cell_type": "markdown",
   "metadata": {
    "id": "nhuuDuGTtkVL"
   },
   "source": [
    "**Question:** What would be the output of the following?\n",
    "\n",
    "```python\n",
    "15//2\n",
    "```\n",
    "A. ```7.5```\n",
    "\n",
    "B. ```7```\n",
    "\n",
    "C. ```1```\n",
    "\n",
    "**Ans:** B. `7`"
   ]
  },
  {
   "cell_type": "markdown",
   "metadata": {
    "id": "inL-DV2JM-1i"
   },
   "source": [
    "---"
   ]
  },
  {
   "cell_type": "markdown",
   "metadata": {
    "id": "WLJCLmPSufNb"
   },
   "source": [
    "## **Precedence of operators**"
   ]
  },
  {
   "cell_type": "markdown",
   "metadata": {
    "id": "hu6cvBIAuljc"
   },
   "source": [
    "### **Question**: Predict the ouptut\n",
    "```python\n",
    "10-4*2\n",
    "```\n",
    "**Ans:** 2"
   ]
  },
  {
   "cell_type": "markdown",
   "metadata": {
    "id": "0b8jKe0uHS9L"
   },
   "source": [
    "- Division and Multiplication have the same order of precedence.\n",
    "- Addition and Subtraction have the same order of precedence.\n",
    "- In case of encountering operators with same precedence, go from **left to right**.\n",
    "\n",
    "<img src=\"https://d2beiqkhq929f0.cloudfront.net/public_assets/assets/000/040/415/original/bodmas.png?1689922896\" width=600 height=300>"
   ]
  },
  {
   "cell_type": "markdown",
   "metadata": {
    "id": "4ciZZ6H2u0El"
   },
   "source": [
    "### **Question**: Predict the output.\n",
    "```python\n",
    "10-4*2+5-6/2\n",
    "```\n",
    "**Ans:** 4.0"
   ]
  },
  {
   "cell_type": "markdown",
   "metadata": {
    "id": "CD54PexSHD7S"
   },
   "source": [
    "<img src=\"https://d2beiqkhq929f0.cloudfront.net/public_assets/assets/000/040/416/original/question_bodmas.png?1689922995\" width=600 height=350>\n",
    "\n",
    "<img src=\"https://d2beiqkhq929f0.cloudfront.net/public_assets/assets/000/040/417/original/bodmas_question_2.png?1689923639\" width=600 height=250>"
   ]
  },
  {
   "cell_type": "markdown",
   "metadata": {
    "id": "kwRnJljJM_yl"
   },
   "source": [
    "---"
   ]
  },
  {
   "cell_type": "markdown",
   "metadata": {
    "id": "blylpxaKvCPS"
   },
   "source": [
    "## **Quiz-5**"
   ]
  },
  {
   "cell_type": "markdown",
   "metadata": {
    "id": "NGknEZgRvIFp"
   },
   "source": [
    "**Question:** Predict the output.\n",
    "```python\n",
    "x = 11\n",
    "y = 2\n",
    "z = 4\n",
    "res = (x + y - z) ** (x % z)\n",
    "print(res)\n",
    "```\n",
    "\n",
    "A. ```729```\n",
    "\n",
    "B. ```81```\n",
    "\n",
    "C. ```9```\n",
    "\n",
    "**Ans:** A. `729`"
   ]
  },
  {
   "cell_type": "markdown",
   "metadata": {
    "id": "VcrOqYEBH6QV"
   },
   "source": [
    "<img src=\"https://d2beiqkhq929f0.cloudfront.net/public_assets/assets/000/040/418/original/quiz7.png?1689923709\" width=500 height=350>"
   ]
  },
  {
   "cell_type": "markdown",
   "metadata": {
    "id": "7M_jVK_9NARv"
   },
   "source": [
    "---"
   ]
  },
  {
   "cell_type": "markdown",
   "metadata": {
    "id": "ToTdBJVXIv38"
   },
   "source": [
    "### The ```bool()``` function\n",
    "\n",
    "\n",
    "\n"
   ]
  },
  {
   "cell_type": "markdown",
   "metadata": {
    "id": "G5v7s_1gvevw"
   },
   "source": [
    "In Python,\n",
    "- Every number except 0 is `True`.\n",
    "- Every non-empty strings is `True`."
   ]
  },
  {
   "cell_type": "code",
   "execution_count": null,
   "metadata": {
    "colab": {
     "base_uri": "https://localhost:8080/"
    },
    "id": "mDhv2gH_vgaW",
    "outputId": "e59d97a5-ad6c-4fec-963a-d6b8a7cba409"
   },
   "outputs": [
    {
     "data": {
      "text/plain": [
       "True"
      ]
     },
     "execution_count": 13,
     "metadata": {},
     "output_type": "execute_result"
    }
   ],
   "source": [
    "bool(1)"
   ]
  },
  {
   "cell_type": "code",
   "execution_count": null,
   "metadata": {
    "colab": {
     "base_uri": "https://localhost:8080/"
    },
    "id": "n1FBlPYTvhSV",
    "outputId": "836c6597-fe66-4804-e870-53f2916f5339"
   },
   "outputs": [
    {
     "data": {
      "text/plain": [
       "False"
      ]
     },
     "execution_count": 14,
     "metadata": {},
     "output_type": "execute_result"
    }
   ],
   "source": [
    "bool(0)"
   ]
  },
  {
   "cell_type": "code",
   "execution_count": null,
   "metadata": {
    "colab": {
     "base_uri": "https://localhost:8080/"
    },
    "id": "8yd2sc4FvklB",
    "outputId": "90599212-c2da-437a-bea8-f77de561fa7d"
   },
   "outputs": [
    {
     "data": {
      "text/plain": [
       "True"
      ]
     },
     "execution_count": 17,
     "metadata": {},
     "output_type": "execute_result"
    }
   ],
   "source": [
    "bool(-123)"
   ]
  },
  {
   "cell_type": "code",
   "execution_count": null,
   "metadata": {
    "colab": {
     "base_uri": "https://localhost:8080/"
    },
    "id": "x8oLO4eLvkes",
    "outputId": "293c4b96-001d-434f-9fd8-f1c09d64e22a"
   },
   "outputs": [
    {
     "data": {
      "text/plain": [
       "True"
      ]
     },
     "execution_count": 18,
     "metadata": {},
     "output_type": "execute_result"
    }
   ],
   "source": [
    "bool(\"Hello\")"
   ]
  },
  {
   "cell_type": "code",
   "execution_count": null,
   "metadata": {
    "colab": {
     "base_uri": "https://localhost:8080/"
    },
    "id": "i30VTyOdvkUv",
    "outputId": "2a12f004-a2c9-4c54-ed73-3f83a4ffc2c3"
   },
   "outputs": [
    {
     "data": {
      "text/plain": [
       "False"
      ]
     },
     "execution_count": 19,
     "metadata": {},
     "output_type": "execute_result"
    }
   ],
   "source": [
    "bool(\"\")"
   ]
  },
  {
   "cell_type": "code",
   "execution_count": null,
   "metadata": {
    "colab": {
     "base_uri": "https://localhost:8080/"
    },
    "id": "i1WlkpIavn_y",
    "outputId": "6d3afe8b-9eab-4900-d907-33b673581d87"
   },
   "outputs": [
    {
     "data": {
      "text/plain": [
       "True"
      ]
     },
     "execution_count": 20,
     "metadata": {},
     "output_type": "execute_result"
    }
   ],
   "source": [
    "bool(\" \")"
   ]
  },
  {
   "cell_type": "markdown",
   "metadata": {
    "id": "Qh4e2EMtv0zD"
   },
   "source": [
    "**Question:** Predict the output\n",
    "\n",
    "```python\n",
    "print(bool('false'))\n",
    "```\n",
    "A. ```True```\n",
    "\n",
    "B. ```False```\n",
    "\n",
    "**Ans:** A. `True`"
   ]
  },
  {
   "cell_type": "markdown",
   "metadata": {
    "id": "snJj5B4KKCCe"
   },
   "source": [
    "**Question:** Predict the output\n",
    "\n",
    "```python\n",
    "print(int(True))\n",
    "```\n",
    "A. 1\n",
    "\n",
    "B. 0\n",
    "\n",
    "**Ans:** A. `1`\n",
    "\n"
   ]
  },
  {
   "cell_type": "markdown",
   "metadata": {
    "id": "EENiAJ5RNA3i"
   },
   "source": [
    "---"
   ]
  },
  {
   "cell_type": "markdown",
   "metadata": {
    "id": "qgQnyCrgwSur"
   },
   "source": [
    "## **Comparison operators**"
   ]
  },
  {
   "cell_type": "markdown",
   "metadata": {
    "id": "FxMJpiwvwaae"
   },
   "source": [
    "- operators such as `>, <, >=, <=, ==, !=`"
   ]
  },
  {
   "cell_type": "markdown",
   "metadata": {
    "id": "-GaS8HhwK4q3"
   },
   "source": [
    "<img src=\"https://d2beiqkhq929f0.cloudfront.net/public_assets/assets/000/040/419/original/operators_comparison.png?1689924424\" width=600 height=200>"
   ]
  },
  {
   "cell_type": "code",
   "execution_count": null,
   "metadata": {
    "id": "JsofGATww3Zo"
   },
   "outputs": [],
   "source": [
    "my_marks = 50\n",
    "my_cousin_marks = 90"
   ]
  },
  {
   "cell_type": "code",
   "execution_count": null,
   "metadata": {
    "colab": {
     "base_uri": "https://localhost:8080/"
    },
    "id": "vQhb7DFhw5WU",
    "outputId": "e1273cf7-d35e-4717-ab07-16d4e07adb26"
   },
   "outputs": [
    {
     "data": {
      "text/plain": [
       "False"
      ]
     },
     "execution_count": 23,
     "metadata": {},
     "output_type": "execute_result"
    }
   ],
   "source": [
    "my_marks > my_cousin_marks"
   ]
  },
  {
   "cell_type": "code",
   "execution_count": null,
   "metadata": {
    "colab": {
     "base_uri": "https://localhost:8080/"
    },
    "id": "sOhBofxhxCIW",
    "outputId": "6e19631a-bdca-4017-afb5-1fbe36229ff8"
   },
   "outputs": [
    {
     "data": {
      "text/plain": [
       "False"
      ]
     },
     "execution_count": 24,
     "metadata": {},
     "output_type": "execute_result"
    }
   ],
   "source": [
    "my_marks == my_cousin_marks"
   ]
  },
  {
   "cell_type": "code",
   "execution_count": null,
   "metadata": {
    "id": "De3XXh4NxDTt"
   },
   "outputs": [],
   "source": [
    "my_marks = 90"
   ]
  },
  {
   "cell_type": "code",
   "execution_count": null,
   "metadata": {
    "colab": {
     "base_uri": "https://localhost:8080/"
    },
    "id": "yA2Eiqs3xFZL",
    "outputId": "75be7d33-c0ff-4bd3-ccca-0cfcb78140e0"
   },
   "outputs": [
    {
     "data": {
      "text/plain": [
       "True"
      ]
     },
     "execution_count": 26,
     "metadata": {},
     "output_type": "execute_result"
    }
   ],
   "source": [
    "my_marks == my_cousin_marks"
   ]
  },
  {
   "cell_type": "code",
   "execution_count": null,
   "metadata": {
    "colab": {
     "base_uri": "https://localhost:8080/"
    },
    "id": "ZVAaVCCLxIaJ",
    "outputId": "ccb10013-44ea-4deb-c0e1-61b1cc262c82"
   },
   "outputs": [
    {
     "data": {
      "text/plain": [
       "False"
      ]
     },
     "execution_count": 27,
     "metadata": {},
     "output_type": "execute_result"
    }
   ],
   "source": [
    "my_marks!=my_cousin_marks"
   ]
  },
  {
   "cell_type": "markdown",
   "metadata": {
    "id": "vOK5kp_gNBXO"
   },
   "source": [
    "---"
   ]
  },
  {
   "cell_type": "markdown",
   "metadata": {
    "id": "8fVRUN1Mx6kR"
   },
   "source": [
    "## **Assignment operators**"
   ]
  },
  {
   "cell_type": "markdown",
   "metadata": {
    "id": "7dpnXA4SyDgw"
   },
   "source": [
    "- ```=``` is an assignment operator.\n",
    "- It assigns the RHS operand value to the LHS operand."
   ]
  },
  {
   "cell_type": "code",
   "execution_count": null,
   "metadata": {
    "colab": {
     "base_uri": "https://localhost:8080/"
    },
    "id": "qLui0zGvyJW9",
    "outputId": "17b061a0-e6f6-40ea-d656-c9dfa13a55ce"
   },
   "outputs": [
    {
     "data": {
      "text/plain": [
       "16"
      ]
     },
     "execution_count": 29,
     "metadata": {},
     "output_type": "execute_result"
    }
   ],
   "source": [
    "a = 4 * 4\n",
    "a"
   ]
  },
  {
   "cell_type": "code",
   "execution_count": null,
   "metadata": {
    "colab": {
     "base_uri": "https://localhost:8080/"
    },
    "id": "0cM6KQhOyYDf",
    "outputId": "edf1a988-740b-4d5c-f795-f262357fec5d"
   },
   "outputs": [
    {
     "data": {
      "text/plain": [
       "7"
      ]
     },
     "execution_count": 31,
     "metadata": {},
     "output_type": "execute_result"
    }
   ],
   "source": [
    "a = 5\n",
    "a = a + 2\n",
    "a"
   ]
  },
  {
   "cell_type": "markdown",
   "metadata": {
    "id": "i5EQVuh8L9GT"
   },
   "source": [
    "<img src=\"https://d2beiqkhq929f0.cloudfront.net/public_assets/assets/000/040/420/original/assignment_op.png?1689924874\" width=500 height=250>\n"
   ]
  },
  {
   "cell_type": "code",
   "execution_count": null,
   "metadata": {
    "colab": {
     "base_uri": "https://localhost:8080/"
    },
    "id": "79ir26hT8Crj",
    "outputId": "117c1f7d-b36c-4e55-ea14-9c3faed54b99"
   },
   "outputs": [
    {
     "data": {
      "text/plain": [
       "51.0"
      ]
     },
     "execution_count": 32,
     "metadata": {},
     "output_type": "execute_result"
    }
   ],
   "source": [
    "# Question\n",
    "# What will be the output?\n",
    "\n",
    "marks = 50\n",
    "correction = 0.5\n",
    "marks = marks + correction\n",
    "\n",
    "marks = marks + correction\n",
    "marks"
   ]
  },
  {
   "cell_type": "code",
   "execution_count": null,
   "metadata": {
    "colab": {
     "base_uri": "https://localhost:8080/"
    },
    "id": "izpfwuiq8Q5A",
    "outputId": "12e833d1-1a97-42f5-c293-27852773ff4d"
   },
   "outputs": [
    {
     "name": "stdout",
     "output_type": "stream",
     "text": [
      "7\n",
      "5\n",
      "10\n"
     ]
    }
   ],
   "source": [
    "# Question\n",
    "# What will be the output?\n",
    "\n",
    "a = 5\n",
    "a += 2\n",
    "print(a)\n",
    "a -= 2\n",
    "print(a)\n",
    "a *= 2\n",
    "print(a)"
   ]
  },
  {
   "cell_type": "markdown",
   "metadata": {
    "id": "dF6CE7MrNB6M"
   },
   "source": [
    "---"
   ]
  },
  {
   "cell_type": "markdown",
   "metadata": {
    "id": "bsAmGnlwE2C5"
   },
   "source": [
    "## **Logical operators**\n"
   ]
  },
  {
   "cell_type": "markdown",
   "metadata": {
    "id": "szxUAGIQFB4b"
   },
   "source": [
    "- `and`, `or`, `not`\n",
    "- used when there are multiple conditions"
   ]
  },
  {
   "cell_type": "markdown",
   "metadata": {
    "id": "Fe1bKLIPFZUY"
   },
   "source": [
    "<img src=\"https://d2beiqkhq929f0.cloudfront.net/public_assets/assets/000/040/421/original/logical_op.png?1689925052\" width=600 height=200>"
   ]
  },
  {
   "cell_type": "markdown",
   "metadata": {
    "id": "_8DBzKupFiAe"
   },
   "source": [
    "### ```and``` operator"
   ]
  },
  {
   "cell_type": "markdown",
   "metadata": {
    "id": "uZVjpkslFpBG"
   },
   "source": [
    "* ```True``` only if all the conditions are satisfied."
   ]
  },
  {
   "cell_type": "markdown",
   "metadata": {
    "id": "O2oFWKbaFvbo"
   },
   "source": [
    "<img src=\"https://d2beiqkhq929f0.cloudfront.net/public_assets/assets/000/040/422/original/and_op.png?1689925148\" width=600 height=250>"
   ]
  },
  {
   "cell_type": "markdown",
   "metadata": {
    "id": "M3erdwDqF0X5"
   },
   "source": [
    "### ```or``` operator"
   ]
  },
  {
   "cell_type": "markdown",
   "metadata": {
    "id": "7r89wW3gF3Ho"
   },
   "source": [
    "* `True` if any one of the conditions are satisfied."
   ]
  },
  {
   "cell_type": "markdown",
   "metadata": {
    "id": "leszruEpF-Uj"
   },
   "source": [
    "<img src=\"https://d2beiqkhq929f0.cloudfront.net/public_assets/assets/000/040/423/original/or_op.png?1689925216\" width=600 height=300>"
   ]
  },
  {
   "cell_type": "markdown",
   "metadata": {
    "id": "zt4QJLsPNEUM"
   },
   "source": [
    "---"
   ]
  },
  {
   "cell_type": "markdown",
   "metadata": {
    "id": "hgPyGDW4GEuq"
   },
   "source": [
    "### **Truth Tables**"
   ]
  },
  {
   "cell_type": "markdown",
   "metadata": {
    "id": "_WqQkHapGJfC"
   },
   "source": [
    "- **x** and **y** are conditions\n",
    "- 1 is `True`, 0 is `False`"
   ]
  },
  {
   "cell_type": "markdown",
   "metadata": {
    "id": "c1IHmJ3bGQYU"
   },
   "source": [
    "#### Truth table for `and`"
   ]
  },
  {
   "cell_type": "markdown",
   "metadata": {
    "id": "Na3kva-rGVYv"
   },
   "source": [
    "<img src=\"https://d2beiqkhq929f0.cloudfront.net/public_assets/assets/000/040/424/original/tt_for_and.png?1689925318\" width=300 height=250>"
   ]
  },
  {
   "cell_type": "markdown",
   "metadata": {
    "id": "7iuz8ThXGaSX"
   },
   "source": [
    "#### Truth table for `or`"
   ]
  },
  {
   "cell_type": "markdown",
   "metadata": {
    "id": "WJOJcax9Gf37"
   },
   "source": [
    "<img src=\"https://d2beiqkhq929f0.cloudfront.net/public_assets/assets/000/040/425/original/tt_or.png?1689925403\" width=300 height=250>"
   ]
  },
  {
   "cell_type": "markdown",
   "metadata": {
    "id": "M4k6VjRfNFM6"
   },
   "source": [
    "---"
   ]
  },
  {
   "cell_type": "markdown",
   "metadata": {
    "id": "zB4UFqCre1H4"
   },
   "source": [
    "#### **Question:** Predict the output of the following pieces of code."
   ]
  },
  {
   "cell_type": "code",
   "execution_count": null,
   "metadata": {
    "id": "ZgLhGkpSewBp"
   },
   "outputs": [],
   "source": [
    "a=10"
   ]
  },
  {
   "cell_type": "code",
   "execution_count": null,
   "metadata": {
    "id": "8TRzf67eewE3"
   },
   "outputs": [],
   "source": [
    "a>5 or a>20 or a<2 #True"
   ]
  },
  {
   "cell_type": "code",
   "execution_count": null,
   "metadata": {
    "id": "as8zxBdWewIO"
   },
   "outputs": [],
   "source": [
    "a>5 and a==20 and a<2 #False"
   ]
  },
  {
   "cell_type": "markdown",
   "metadata": {
    "id": "S7Pki0UAGpqI"
   },
   "source": [
    "#### **Check if a number is a multiple -**"
   ]
  },
  {
   "cell_type": "code",
   "execution_count": null,
   "metadata": {
    "colab": {
     "base_uri": "https://localhost:8080/"
    },
    "id": "4ahFBrLrGzlw",
    "outputId": "1d787202-b4a1-4cde-a10b-1190ad3aacf0"
   },
   "outputs": [
    {
     "data": {
      "text/plain": [
       "True"
      ]
     },
     "execution_count": 1,
     "metadata": {},
     "output_type": "execute_result"
    }
   ],
   "source": [
    "amount = 1000\n",
    "amount % 500 == 0"
   ]
  },
  {
   "cell_type": "markdown",
   "metadata": {
    "id": "K6w2xzrtG3Pz"
   },
   "source": [
    "#### **ATM Dispatch**"
   ]
  },
  {
   "cell_type": "code",
   "execution_count": null,
   "metadata": {
    "colab": {
     "base_uri": "https://localhost:8080/"
    },
    "id": "Wp2hXLtrG7C7",
    "outputId": "85d7eaad-96ea-48c0-eb3e-5dbf4a36ba21"
   },
   "outputs": [
    {
     "name": "stdout",
     "output_type": "stream",
     "text": [
      "Please enter the amount to withdraw -2039\n"
     ]
    },
    {
     "data": {
      "text/plain": [
       "False"
      ]
     },
     "execution_count": 2,
     "metadata": {},
     "output_type": "execute_result"
    }
   ],
   "source": [
    "amount= int(input(\"Please enter the amount to withdraw: \"))\n",
    "amount % 500 == 0 or amount % 200 == 0"
   ]
  },
  {
   "cell_type": "markdown",
   "metadata": {
    "id": "4Fc8GURXSb3S"
   },
   "source": [
    "### ```not``` operator"
   ]
  },
  {
   "cell_type": "markdown",
   "metadata": {
    "id": "FrJR42-YHG6U"
   },
   "source": [
    "- Works only with **boolean** operands."
   ]
  },
  {
   "cell_type": "code",
   "execution_count": null,
   "metadata": {
    "colab": {
     "base_uri": "https://localhost:8080/"
    },
    "id": "ge_aI96SHGZQ",
    "outputId": "d0bac484-05b9-404a-c702-fe3b3efd8c36"
   },
   "outputs": [
    {
     "name": "stdout",
     "output_type": "stream",
     "text": [
      "False\n",
      "True\n",
      "False\n"
     ]
    }
   ],
   "source": [
    "print(not True)\n",
    "\n",
    "print(not False)\n",
    "\n",
    "print(not 24 < 56)"
   ]
  },
  {
   "cell_type": "markdown",
   "metadata": {
    "id": "GlGhYf1SzKaA"
   },
   "source": [
    "---"
   ]
  }
 ],
 "metadata": {
  "colab": {
   "include_colab_link": true,
   "provenance": []
  },
  "kernelspec": {
   "display_name": "Python 3 (ipykernel)",
   "language": "python",
   "name": "python3"
  },
  "language_info": {
   "codemirror_mode": {
    "name": "ipython",
    "version": 3
   },
   "file_extension": ".py",
   "mimetype": "text/x-python",
   "name": "python",
   "nbconvert_exporter": "python",
   "pygments_lexer": "ipython3",
   "version": "3.13.2"
  }
 },
 "nbformat": 4,
 "nbformat_minor": 4
}

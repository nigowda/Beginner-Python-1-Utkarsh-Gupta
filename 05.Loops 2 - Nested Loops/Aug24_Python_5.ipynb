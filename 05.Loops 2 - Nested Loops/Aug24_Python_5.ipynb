{
 "cells": [
  {
   "cell_type": "code",
   "execution_count": null,
   "metadata": {
    "colab": {
     "base_uri": "https://localhost:8080/"
    },
    "id": "zzVCLPaXoQ4K",
    "outputId": "92933906-0883-4778-f5e1-1cce5a0cbc5f"
   },
   "outputs": [
    {
     "data": {
      "text/plain": [
       "4"
      ]
     },
     "execution_count": 1,
     "metadata": {},
     "output_type": "execute_result"
    }
   ],
   "source": [
    "2+2"
   ]
  },
  {
   "cell_type": "code",
   "execution_count": null,
   "metadata": {
    "colab": {
     "base_uri": "https://localhost:8080/"
    },
    "id": "_XBAxUMJq2Lq",
    "outputId": "f264af60-87d6-4029-d896-b1bdca91f3fd"
   },
   "outputs": [
    {
     "name": "stdout",
     "output_type": "stream",
     "text": [
      "0\n",
      "1\n",
      "2\n",
      "3\n",
      "4\n"
     ]
    }
   ],
   "source": [
    "for i in range(5):\n",
    "  pass\n",
    "  if i == 3:\n",
    "    pass\n",
    "  print(i)"
   ]
  },
  {
   "cell_type": "code",
   "execution_count": null,
   "metadata": {
    "colab": {
     "base_uri": "https://localhost:8080/"
    },
    "id": "ohtO0jLGuyxg",
    "outputId": "2612d8d1-429a-45a6-eacd-8df3a379dd9e"
   },
   "outputs": [
    {
     "name": "stdout",
     "output_type": "stream",
     "text": [
      "1\n",
      "2\n",
      "4\n",
      "5\n"
     ]
    }
   ],
   "source": [
    "x = 0\n",
    "while x < 5:\n",
    "  x += 1    # 0, 1, 2, 3, 4\n",
    "  if x == 3:\n",
    "    continue\n",
    "  print(x)"
   ]
  },
  {
   "cell_type": "code",
   "execution_count": null,
   "metadata": {
    "colab": {
     "base_uri": "https://localhost:8080/"
    },
    "id": "NY5j6OQZxSIo",
    "outputId": "29415f8b-e477-43b4-e58b-9e0e611dedc9"
   },
   "outputs": [
    {
     "name": "stdout",
     "output_type": "stream",
     "text": [
      "10\n",
      "8\n"
     ]
    }
   ],
   "source": [
    "# Find the count of numbers from 1 to N (user input) which are not multiples of 4.\n",
    "\n",
    "N = int(input())\n",
    "cnt = 0\n",
    "for i in range(1, N+1):\n",
    "  if i % 4 != 0:\n",
    "    cnt += 1\n",
    "\n",
    "print(cnt)"
   ]
  },
  {
   "cell_type": "code",
   "execution_count": null,
   "metadata": {
    "colab": {
     "base_uri": "https://localhost:8080/"
    },
    "id": "xkLOjSeDx_bT",
    "outputId": "d7f3d197-058b-4ccb-a87e-1b36367ff1d3"
   },
   "outputs": [
    {
     "name": "stdout",
     "output_type": "stream",
     "text": [
      "10\n",
      "8\n"
     ]
    }
   ],
   "source": [
    "N = int(input())\n",
    "cnt = 0\n",
    "for i in range(1, N+1):\n",
    "  if i % 4 == 0:\n",
    "    continue\n",
    "  cnt += 1\n",
    "\n",
    "print(cnt)"
   ]
  },
  {
   "cell_type": "code",
   "execution_count": null,
   "metadata": {
    "colab": {
     "base_uri": "https://localhost:8080/"
    },
    "id": "8HFJzo9FyKua",
    "outputId": "8d5a4fe4-47f5-4d4f-d510-a00bb9b362c0"
   },
   "outputs": [
    {
     "name": "stdout",
     "output_type": "stream",
     "text": [
      "10\n",
      "23\n",
      "8764\n",
      "55\n",
      "123132\n",
      "324\n",
      "5\n",
      "Number of inputs = 7\n"
     ]
    }
   ],
   "source": [
    "# Write a program that continuously asks the user to provide an input number\n",
    "# The program should stop only when the user provides 5.\n",
    "# Once the user provides 5, the program should print the number of times an input was provided.\n",
    "# Assume that the user always provides a number.\n",
    "\n",
    "cnt = 0\n",
    "while True:\n",
    "  n = int(input())\n",
    "  cnt += 1\n",
    "\n",
    "  if n == 5:\n",
    "    break\n",
    "\n",
    "print(\"Number of inputs =\", cnt)"
   ]
  },
  {
   "cell_type": "code",
   "execution_count": null,
   "metadata": {
    "colab": {
     "base_uri": "https://localhost:8080/"
    },
    "id": "mSl26MJb0qWy",
    "outputId": "84947598-4cbf-4244-8717-0cebe6800ecd"
   },
   "outputs": [
    {
     "name": "stdout",
     "output_type": "stream",
     "text": [
      "1\n",
      "2\n",
      "Loop finished\n"
     ]
    }
   ],
   "source": [
    "x = 0\n",
    "while x < 5:\n",
    "  x += 1\n",
    "  if x == 3:\n",
    "    break\n",
    "  print(x)\n",
    "print(\"Loop finished\")"
   ]
  },
  {
   "cell_type": "code",
   "execution_count": null,
   "metadata": {
    "colab": {
     "base_uri": "https://localhost:8080/"
    },
    "id": "72hpCX2n1jMg",
    "outputId": "7efeb4f6-199e-41c7-a441-908713ca511c"
   },
   "outputs": [
    {
     "name": "stdout",
     "output_type": "stream",
     "text": [
      "0\n",
      "1\n",
      "2\n",
      "3\n",
      "4\n"
     ]
    }
   ],
   "source": [
    "count = 0\n",
    "while True:\n",
    "  if count == 5:\n",
    "    break\n",
    "  print(count)\n",
    "  count += 1"
   ]
  },
  {
   "cell_type": "code",
   "execution_count": null,
   "metadata": {
    "colab": {
     "base_uri": "https://localhost:8080/"
    },
    "id": "XiG56r9L2KUM",
    "outputId": "d39e05e1-4977-4e91-e588-d32dffb677ba"
   },
   "outputs": [
    {
     "name": "stdout",
     "output_type": "stream",
     "text": [
      "0\n",
      "1\n",
      "2\n"
     ]
    }
   ],
   "source": [
    "for i in range(3):\n",
    "  print(i)"
   ]
  },
  {
   "cell_type": "code",
   "execution_count": null,
   "metadata": {
    "colab": {
     "base_uri": "https://localhost:8080/"
    },
    "id": "ksxtcAnE4X9_",
    "outputId": "8a01cfa0-ad24-466f-d5bc-09c89627a628"
   },
   "outputs": [
    {
     "name": "stdout",
     "output_type": "stream",
     "text": [
      "0 0\n",
      "0 1\n",
      "1 0\n",
      "1 1\n",
      "2 0\n",
      "2 1\n",
      "3 0\n",
      "3 1\n",
      "4 0\n",
      "4 1\n"
     ]
    }
   ],
   "source": [
    "for i in range(5):\n",
    "  for j in range(2):\n",
    "    print(i, j)"
   ]
  },
  {
   "cell_type": "code",
   "execution_count": null,
   "metadata": {
    "colab": {
     "base_uri": "https://localhost:8080/"
    },
    "id": "DEwyzAWy4xVS",
    "outputId": "a2a0ab23-7054-4923-8cf7-9f3162148d29"
   },
   "outputs": [
    {
     "name": "stdout",
     "output_type": "stream",
     "text": [
      "0 Hello\n",
      "0 0 What's up?\n",
      "0 1 What's up?\n",
      "1 Hello\n",
      "1 0 What's up?\n",
      "1 1 What's up?\n",
      "2 Hello\n",
      "2 0 What's up?\n",
      "2 1 What's up?\n"
     ]
    }
   ],
   "source": [
    "for i in range(3):  # 0, 1, 2\n",
    "  print(i, \"Hello\")\n",
    "  for j in range(2):  # 0, 1\n",
    "    print(i, j, \"What's up?\")"
   ]
  },
  {
   "cell_type": "code",
   "execution_count": null,
   "metadata": {
    "colab": {
     "base_uri": "https://localhost:8080/"
    },
    "id": "8-7sTGTH5lgb",
    "outputId": "2ce26edb-01d3-4326-a6ba-df1c10e3bd10"
   },
   "outputs": [
    {
     "name": "stdout",
     "output_type": "stream",
     "text": [
      "5\n",
      "1 2 3 4 5 6 7 8 9 10 \n",
      "2 4 6 8 10 12 14 16 18 20 \n",
      "3 6 9 12 15 18 21 24 27 30 \n",
      "4 8 12 16 20 24 28 32 36 40 \n",
      "5 10 15 20 25 30 35 40 45 50 \n"
     ]
    }
   ],
   "source": [
    "number = int(input()) # 2\n",
    "for i in range(1, number + 1):  # 1, 2\n",
    "    for j in range(1, 11):      # 1, 2, ... 10\n",
    "        print(i*j, end = \" \")\n",
    "    print()"
   ]
  },
  {
   "cell_type": "code",
   "execution_count": null,
   "metadata": {
    "colab": {
     "base_uri": "https://localhost:8080/"
    },
    "id": "y1_coCsS9rQF",
    "outputId": "3868deb7-4015-4913-b34c-da3f728fcd6e"
   },
   "outputs": [
    {
     "name": "stdout",
     "output_type": "stream",
     "text": [
      "* * * \n",
      "* * \n",
      "* \n"
     ]
    }
   ],
   "source": [
    "for i in range(3):    # 0, 1, 2\n",
    "  for j in range(i, 3): # i = 0 -> j = {0, 1, 2} | i = 1 -> j = {1, 2} | i = 2 -> j = {2}\n",
    "    print(\"*\", end=\" \")\n",
    "  print()"
   ]
  },
  {
   "cell_type": "code",
   "execution_count": null,
   "metadata": {
    "colab": {
     "base_uri": "https://localhost:8080/"
    },
    "id": "B7amtZpO-gnh",
    "outputId": "f9b25c35-f754-4341-c941-a7d00c50f15d"
   },
   "outputs": [
    {
     "name": "stdout",
     "output_type": "stream",
     "text": [
      "16\n",
      "10\n",
      "80\n"
     ]
    }
   ],
   "source": [
    "x = int(input())\n",
    "y = int(input())\n",
    "l = max(x, y)\n",
    "while True:\n",
    "    if l % x == 0 and l % y == 0:\n",
    "        print(l)\n",
    "        break\n",
    "    l += 1"
   ]
  },
  {
   "cell_type": "code",
   "execution_count": null,
   "metadata": {
    "id": "sJtnLKdtIkWt"
   },
   "outputs": [],
   "source": []
  }
 ],
 "metadata": {
  "colab": {
   "provenance": []
  },
  "kernelspec": {
   "display_name": "Python 3 (ipykernel)",
   "language": "python",
   "name": "python3"
  },
  "language_info": {
   "codemirror_mode": {
    "name": "ipython",
    "version": 3
   },
   "file_extension": ".py",
   "mimetype": "text/x-python",
   "name": "python",
   "nbconvert_exporter": "python",
   "pygments_lexer": "ipython3",
   "version": "3.13.2"
  }
 },
 "nbformat": 4,
 "nbformat_minor": 4
}

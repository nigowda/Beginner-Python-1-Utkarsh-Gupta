{
 "cells": [
  {
   "cell_type": "markdown",
   "metadata": {
    "colab_type": "text",
    "id": "view-in-github"
   },
   "source": [
    "<a href=\"https://colab.research.google.com/github/nigowda/Beginner-Python-1-Utkarsh-Gupta/blob/main/05.Loops%202%20-%20Nested%20Loops/Loops_2_Nested_Loops_notes.ipynb\" target=\"_parent\"><img src=\"https://colab.research.google.com/assets/colab-badge.svg\" alt=\"Open In Colab\"/></a>"
   ]
  },
  {
   "cell_type": "markdown",
   "metadata": {
    "id": "O-44bVDG5XtI"
   },
   "source": [
    "# Loops 2 - Nested Loops\n",
    "\n",
    "\n",
    "\n"
   ]
  },
  {
   "cell_type": "markdown",
   "metadata": {
    "id": "DZr3LgYpzPHR"
   },
   "source": [
    "---"
   ]
  },
  {
   "cell_type": "markdown",
   "metadata": {
    "id": "pffziZoBpC8_"
   },
   "source": [
    "## Content\n",
    "\n",
    "1. Jump Statements\n",
    "  1. Pass\n",
    "  1. Continue\n",
    "  1. Break\n",
    "2. Nested Loops\n",
    "3. GCD\n",
    "4. LCM"
   ]
  },
  {
   "cell_type": "markdown",
   "metadata": {
    "id": "-8SYJGOpOif-"
   },
   "source": [
    "---"
   ]
  },
  {
   "cell_type": "markdown",
   "metadata": {
    "id": "256YPmCupPK6"
   },
   "source": [
    "#### **Question**: Write a loop to print the following numbers - `1,4,7,10,13,16`"
   ]
  },
  {
   "cell_type": "code",
   "execution_count": null,
   "metadata": {
    "colab": {
     "base_uri": "https://localhost:8080/"
    },
    "id": "iSG2cL6npU4S",
    "outputId": "66316ee9-72e3-4c72-8d74-377084ad212b"
   },
   "outputs": [
    {
     "name": "stdout",
     "output_type": "stream",
     "text": [
      "1, 4, 7, 10, 13, 16"
     ]
    }
   ],
   "source": [
    "for i in range(1,17,3):\n",
    "    if i == 16:\n",
    "        print(i, end = \"\")\n",
    "    else:\n",
    "        print(i, end = \", \")"
   ]
  },
  {
   "cell_type": "markdown",
   "metadata": {
    "id": "w--hmsCTpWI2"
   },
   "source": [
    "#### **Question**: Write a loop to print the following numbers - `1,3,7,13,21,31,43`\n",
    "\n"
   ]
  },
  {
   "cell_type": "code",
   "execution_count": null,
   "metadata": {
    "colab": {
     "base_uri": "https://localhost:8080/"
    },
    "id": "YpwxFstxpfa8",
    "outputId": "0446bce6-37cd-4577-9f3b-ff005b5e556f"
   },
   "outputs": [
    {
     "name": "stdout",
     "output_type": "stream",
     "text": [
      "1 3 7 13 21 31 43 "
     ]
    }
   ],
   "source": [
    "number = 1\n",
    "i = 1\n",
    "while number <= 43:\n",
    "    print(number, end = \" \")\n",
    "    number = number + 2*i\n",
    "    i += 1"
   ]
  },
  {
   "cell_type": "markdown",
   "metadata": {
    "id": "YogboqYXOjkI"
   },
   "source": [
    "---"
   ]
  },
  {
   "cell_type": "markdown",
   "metadata": {
    "id": "q7WOBvKlpkxK"
   },
   "source": [
    "## Jump Statements"
   ]
  },
  {
   "cell_type": "markdown",
   "metadata": {
    "id": "R-yqxLwZpryP"
   },
   "source": [
    "### `pass`"
   ]
  },
  {
   "cell_type": "code",
   "execution_count": null,
   "metadata": {
    "id": "FPoAMSotpyfG"
   },
   "outputs": [],
   "source": [
    "if True:\n",
    "    pass # represents an empty block / statement in Python"
   ]
  },
  {
   "cell_type": "markdown",
   "metadata": {
    "id": "NIDxPrBQp1Cl"
   },
   "source": [
    "- `pass` acts as a placeholder.\n",
    "- It acts as an empty block."
   ]
  },
  {
   "cell_type": "markdown",
   "metadata": {
    "id": "gokRfvb4p8jN"
   },
   "source": [
    "<img src=\"https://d2beiqkhq929f0.cloudfront.net/public_assets/assets/000/060/229/original/download.png?1703660197\" />"
   ]
  },
  {
   "cell_type": "code",
   "execution_count": null,
   "metadata": {
    "colab": {
     "base_uri": "https://localhost:8080/"
    },
    "id": "eN_aW8QWqOFY",
    "outputId": "4d007805-9467-4384-d747-79d6e16f5a69"
   },
   "outputs": [
    {
     "name": "stdout",
     "output_type": "stream",
     "text": [
      "0\n",
      "1\n",
      "2\n",
      "3\n",
      "4\n"
     ]
    }
   ],
   "source": [
    "for i in range(5):\n",
    "    if i == 3:\n",
    "        pass\n",
    "    print(i)"
   ]
  },
  {
   "cell_type": "markdown",
   "metadata": {
    "id": "MVf6-wxCqSBA"
   },
   "source": [
    "### `continue`"
   ]
  },
  {
   "cell_type": "markdown",
   "metadata": {
    "id": "afJijJz-qVD5"
   },
   "source": [
    "* Disregards the code after the `continue` statement and goes to the next iteration.\n",
    "* It is effectively used `if` to skip a specific iteration."
   ]
  },
  {
   "cell_type": "markdown",
   "metadata": {
    "id": "QJduPbV8qfDI"
   },
   "source": [
    "<img src=\"https://d2beiqkhq929f0.cloudfront.net/public_assets/assets/000/060/230/original/download_%281%29.png?1703660215\">"
   ]
  },
  {
   "cell_type": "markdown",
   "metadata": {
    "id": "ZVS_1MkUqjk5"
   },
   "source": [
    "<img src=\"https://d2beiqkhq929f0.cloudfront.net/public_assets/assets/000/060/231/original/download_%282%29.png?1703660256\">"
   ]
  },
  {
   "cell_type": "code",
   "execution_count": null,
   "metadata": {
    "colab": {
     "base_uri": "https://localhost:8080/"
    },
    "id": "fCMWFQAkqaFm",
    "outputId": "b891d710-b535-4991-aa7b-4b2b7a0890e4"
   },
   "outputs": [
    {
     "name": "stdout",
     "output_type": "stream",
     "text": [
      "0\n",
      "1\n",
      "2\n",
      "4\n"
     ]
    }
   ],
   "source": [
    "for i in range(5):\n",
    "    if i == 3:\n",
    "        continue\n",
    "    print(i)"
   ]
  },
  {
   "cell_type": "markdown",
   "metadata": {
    "id": "9PcZo17OAVJQ"
   },
   "source": [
    "---"
   ]
  },
  {
   "cell_type": "markdown",
   "metadata": {
    "id": "oSW8Jg_M76XS"
   },
   "source": [
    "### Quiz-1\n",
    "\n",
    "# Question\n",
    "What will be the output of the following code snippet?\n",
    "```\n",
    "x = 0\n",
    "while x < 5:\n",
    "    x += 1\n",
    "    if x == 3:\n",
    "        continue\n",
    "    print(x)\n",
    "```\n",
    "\n",
    "A.\n",
    "```\n",
    "1\n",
    "2\n",
    "3\n",
    "4\n",
    "5\n",
    "```\n",
    "\n",
    "B.\n",
    "```\n",
    "1\n",
    "2\n",
    "4\n",
    "5\n",
    "```\n",
    "\n",
    "C.\n",
    "```\n",
    "1\n",
    "2\n",
    "3\n",
    "4\n",
    "```\n",
    "\n",
    "D.\n",
    "```\n",
    "0\n",
    "1\n",
    "2\n",
    "3\n",
    "4\n",
    "5\n",
    "```\n",
    "\n",
    "# Choices\n",
    "- [ ] A\n",
    "- [x] B\n",
    "- [ ] C\n",
    "- [ ] D"
   ]
  },
  {
   "cell_type": "markdown",
   "metadata": {
    "id": "Bu8EkzUYAWa1"
   },
   "source": [
    "---"
   ]
  },
  {
   "cell_type": "markdown",
   "metadata": {
    "id": "VErPVDu3qnNe"
   },
   "source": [
    "### `break`"
   ]
  },
  {
   "cell_type": "markdown",
   "metadata": {
    "id": "bNwXAkuSqpu6"
   },
   "source": [
    "* When `break` is encountered, the control goes out of the loop and the loop terminates, regardless of the code that follows."
   ]
  },
  {
   "cell_type": "markdown",
   "metadata": {
    "id": "Xj5_JF5ZqypJ"
   },
   "source": [
    "<img src=\"https://d2beiqkhq929f0.cloudfront.net/public_assets/assets/000/060/232/original/download_%283%29.png?1703660277\">"
   ]
  },
  {
   "cell_type": "code",
   "execution_count": null,
   "metadata": {
    "colab": {
     "base_uri": "https://localhost:8080/"
    },
    "id": "GVTEWXPNqvHz",
    "outputId": "48f10ca2-bef0-4178-bad2-8dc9ac01e9f0"
   },
   "outputs": [
    {
     "name": "stdout",
     "output_type": "stream",
     "text": [
      "0\n",
      "1\n",
      "2\n"
     ]
    }
   ],
   "source": [
    "for i in range(5):\n",
    "    if i == 3:\n",
    "        break\n",
    "    print(i)"
   ]
  },
  {
   "cell_type": "markdown",
   "metadata": {
    "id": "qO773nkTAkig"
   },
   "source": [
    "---"
   ]
  },
  {
   "cell_type": "markdown",
   "metadata": {
    "id": "ygKRNxKv8W66"
   },
   "source": [
    "### Quiz-2\n",
    "\n",
    "# Question\n",
    "What will be the output of the following code snippet?\n",
    "```\n",
    "x = 0\n",
    "while x < 5:\n",
    "    x += 1\n",
    "    if x == 3:\n",
    "        break\n",
    "    print(x)\n",
    "print(\"Loop finished\")\n",
    "```\n",
    "\n",
    "A.\n",
    "```\n",
    "1\n",
    "2\n",
    "```\n",
    "\n",
    "B.\n",
    "```\n",
    "1\n",
    "2\n",
    "Loop finished\n",
    "```\n",
    "\n",
    "C.\n",
    "```\n",
    "1\n",
    "2\n",
    "3\n",
    "```\n",
    "\n",
    "D.\n",
    "```\n",
    "1\n",
    "2\n",
    "3\n",
    "Loop Finished\n",
    "```\n",
    "\n",
    "# Choices\n",
    "- [ ] A\n",
    "- [x] B\n",
    "- [ ] C\n",
    "- [ ] D"
   ]
  },
  {
   "cell_type": "markdown",
   "metadata": {
    "id": "aTD4jxTfOmTp"
   },
   "source": [
    "---"
   ]
  },
  {
   "cell_type": "markdown",
   "metadata": {
    "id": "W8cODsM7fwpy"
   },
   "source": [
    "### Quiz-3"
   ]
  },
  {
   "cell_type": "markdown",
   "metadata": {
    "id": "CB5MhoS8fzRQ"
   },
   "source": [
    "What is the output of the following code?\n",
    "```\n",
    "count = 0\n",
    "while True:\n",
    "    if count == 5:\n",
    "        break\n",
    "    print(count)\n",
    "    count += 1\n",
    "```\n",
    "a)\n",
    "```\n",
    "0\n",
    "1\n",
    "2\n",
    "3\n",
    "4\n",
    "```\n",
    "\n",
    "b) 5\n",
    "\n",
    "c) an infinite loop\n",
    "\n",
    "**Answer**:\n",
    "a.\n",
    "```\n",
    "0\n",
    "1\n",
    "2\n",
    "3\n",
    "4\n",
    "```"
   ]
  },
  {
   "cell_type": "markdown",
   "metadata": {
    "id": "0S0O5hMfA3EW"
   },
   "source": [
    "---"
   ]
  },
  {
   "cell_type": "markdown",
   "metadata": {
    "id": "719O6HW4rbMF"
   },
   "source": [
    "### **Question:**\n",
    "- Write a program that continuously asks the user to provide an input number\n",
    "- The program should stop only when the user provides 5.\n",
    "- Once the user provides 5, the program should print the number of times an input was provided.\n",
    "- Assume that the user always provides a number."
   ]
  },
  {
   "cell_type": "code",
   "execution_count": null,
   "metadata": {
    "colab": {
     "base_uri": "https://localhost:8080/"
    },
    "id": "ERUa746SrgpR",
    "outputId": "f4ed72b2-c6a6-4d9b-982e-84e1d51c1655"
   },
   "outputs": [
    {
     "name": "stdout",
     "output_type": "stream",
     "text": [
      "3\n",
      "4\n",
      "5\n",
      "You provided 3 inputs!\n"
     ]
    }
   ],
   "source": [
    "counter = 0\n",
    "while True:\n",
    "    number = int(input())\n",
    "    counter += 1\n",
    "\n",
    "    if number == 5:\n",
    "        break\n",
    "print(\"You provided\", counter, \"inputs!\")"
   ]
  },
  {
   "cell_type": "markdown",
   "metadata": {
    "id": "kXnF7CaSBI6U"
   },
   "source": [
    "---"
   ]
  },
  {
   "cell_type": "markdown",
   "metadata": {
    "id": "k307MK-O7mH4"
   },
   "source": [
    "### Quiz-4\n",
    "\n",
    "# Question\n",
    "Which statement is used to skip the current iteration of a loop and move on to the next iteration?\n",
    "\n",
    "# Choices\n",
    "- [ ] `break`\n",
    "- [x] `continue`\n",
    "- [ ] `pass`\n",
    "- [ ] None of these"
   ]
  },
  {
   "cell_type": "markdown",
   "metadata": {
    "id": "izj1vvmFBK2O"
   },
   "source": [
    "---"
   ]
  },
  {
   "cell_type": "markdown",
   "metadata": {
    "id": "OMeJt552row7"
   },
   "source": [
    "## Nested Loops"
   ]
  },
  {
   "cell_type": "code",
   "execution_count": null,
   "metadata": {
    "colab": {
     "base_uri": "https://localhost:8080/"
    },
    "id": "OnB4At1erzwS",
    "outputId": "fb5357f0-e3dd-42ef-ca2d-529a78c2fc37"
   },
   "outputs": [
    {
     "name": "stdout",
     "output_type": "stream",
     "text": [
      "0 0\n",
      "0 1\n",
      "0 2\n",
      "1 0\n",
      "1 1\n",
      "1 2\n",
      "2 0\n",
      "2 1\n",
      "2 2\n"
     ]
    }
   ],
   "source": [
    "for i in range(3):\n",
    "    for j in range(3):\n",
    "        print(i, j)"
   ]
  },
  {
   "cell_type": "markdown",
   "metadata": {
    "id": "aAbywNz4r1qP"
   },
   "source": [
    "For every value of `i`, there will be corresponding `j` values.\n",
    "\n",
    "In the above code,\n",
    "- for `i = 0`, `j` runs from **0** to **2**,\n",
    "- then for `i = 1`, `j` runs from **0** to **2**,\n",
    "- then for `i = 2`, j runs from **0** to **2** again.\n",
    "\n",
    "Therefore there is **6** (i, j) pairs."
   ]
  },
  {
   "cell_type": "markdown",
   "metadata": {
    "id": "6d7EKjnIpBgF"
   },
   "source": [
    "<img src=\"https://d2beiqkhq929f0.cloudfront.net/public_assets/assets/000/060/233/original/download_%284%29.png?1703660299\">"
   ]
  },
  {
   "cell_type": "markdown",
   "metadata": {
    "id": "1kNMVMm_sKDU"
   },
   "source": [
    "#### **Question:** Write a program to print a `N x N` matrix of `*`"
   ]
  },
  {
   "cell_type": "markdown",
   "metadata": {
    "id": "U7nI1j5UsWRv"
   },
   "source": [
    "```\n",
    "Example Input:\n",
    "3\n",
    "\n",
    "Example Output:\n",
    "***\n",
    "***\n",
    "***\n",
    "```"
   ]
  },
  {
   "cell_type": "code",
   "execution_count": null,
   "metadata": {
    "colab": {
     "base_uri": "https://localhost:8080/"
    },
    "id": "T3xnNuNBsbec",
    "outputId": "b5624017-1ebc-4477-f79e-c05a23d94348"
   },
   "outputs": [
    {
     "name": "stdout",
     "output_type": "stream",
     "text": [
      "3\n",
      "* * * \n",
      "* * * \n",
      "* * * \n"
     ]
    }
   ],
   "source": [
    "n = int(input())\n",
    "for i in range(n):\n",
    "    for j in range(n):\n",
    "        print(\"*\", end = \" \")\n",
    "    print()"
   ]
  },
  {
   "cell_type": "markdown",
   "metadata": {
    "id": "95qRtV5ksg2h"
   },
   "source": [
    "#### **Question:** Write a program to print a multiplication table till the provided input."
   ]
  },
  {
   "cell_type": "markdown",
   "metadata": {
    "id": "aFmKT0cOp2Ia"
   },
   "source": [
    "\n",
    "```\n",
    "Example Input:\n",
    "3\n",
    "\n",
    "Example Output:\n",
    "1 2 3 4 5 6 7 8 9 10\n",
    "2 4 6 8 10 12 14 16 18 20\n",
    "3 6 9 12 15 18 21 24 27 30\n",
    "\n",
    "```\n"
   ]
  },
  {
   "cell_type": "code",
   "execution_count": null,
   "metadata": {
    "colab": {
     "base_uri": "https://localhost:8080/"
    },
    "id": "xpTovlrkso5d",
    "outputId": "436d7691-c2e0-4e85-c0c3-a5e95802b0ca"
   },
   "outputs": [
    {
     "name": "stdout",
     "output_type": "stream",
     "text": [
      "3\n",
      "1 2 3 4 5 6 7 8 9 10 \n",
      "2 4 6 8 10 12 14 16 18 20 \n",
      "3 6 9 12 15 18 21 24 27 30 \n"
     ]
    }
   ],
   "source": [
    "number = int(input())\n",
    "for i in range(1, number + 1):\n",
    "    for j in range(1, 11):\n",
    "        print(i*j, end = \" \")\n",
    "    print()"
   ]
  },
  {
   "cell_type": "markdown",
   "metadata": {
    "id": "KR70iyTfCaqV"
   },
   "source": [
    "---"
   ]
  },
  {
   "cell_type": "markdown",
   "metadata": {
    "id": "gggpq9n980Ao"
   },
   "source": [
    "### Quiz-5\n",
    "\n",
    "# Question\n",
    "What will be the output of the following code snippet?\n",
    "```\n",
    "for i in range(3):\n",
    "    for j in range(i, 3):\n",
    "        print(\"*\", end=\" \")\n",
    "    print()\n",
    "```\n",
    "\n",
    "A.\n",
    "```\n",
    "  * * *\n",
    "  * *\n",
    "  *\n",
    "```\n",
    "\n",
    "B.\n",
    "```\n",
    "  * * *\n",
    "  * * *\n",
    "  * * *\n",
    "```\n",
    "B.\n",
    "```\n",
    "      *\n",
    "    * *\n",
    "  * * *\n",
    "```\n",
    "\n",
    "# Choices\n",
    "- [x] A\n",
    "- [ ] B\n",
    "- [ ] C\n",
    "- [ ] None of these"
   ]
  },
  {
   "cell_type": "markdown",
   "metadata": {
    "id": "6m1ZF2K0CYe4"
   },
   "source": [
    "---"
   ]
  },
  {
   "cell_type": "markdown",
   "metadata": {
    "id": "Gx387xqasxq0"
   },
   "source": [
    "## **GCD**"
   ]
  },
  {
   "cell_type": "markdown",
   "metadata": {
    "id": "fDt5Fc3Zs0wD"
   },
   "source": [
    "#### **Question:** Given two integer inputs, write a program to calculate the GCD of these two numbers."
   ]
  },
  {
   "cell_type": "markdown",
   "metadata": {
    "id": "BGa5AvHMs9nj"
   },
   "source": [
    "```\n",
    "Example Input:\n",
    "16 24\n",
    "\n",
    "Example Output:\n",
    "8\n",
    "```"
   ]
  },
  {
   "cell_type": "markdown",
   "metadata": {
    "id": "Ds1o2pg8tFXF"
   },
   "source": [
    "<img src=\"https://d2beiqkhq929f0.cloudfront.net/public_assets/assets/000/060/234/original/download_%285%29.png?1703660510\">"
   ]
  },
  {
   "cell_type": "code",
   "execution_count": null,
   "metadata": {
    "colab": {
     "base_uri": "https://localhost:8080/"
    },
    "id": "gYUh2d3XtIlH",
    "outputId": "7a01c606-ef81-427b-d1c2-dbdf90d82c8e"
   },
   "outputs": [
    {
     "name": "stdout",
     "output_type": "stream",
     "text": [
      "16\n",
      "24\n",
      "8\n"
     ]
    }
   ],
   "source": [
    "A = int(input())\n",
    "B = int(input())\n",
    "X = min(A, B)\n",
    "for i in range(X, 0, -1):\n",
    "    if A % i == 0 and B % i == 0:\n",
    "        print(i)\n",
    "        break"
   ]
  },
  {
   "cell_type": "markdown",
   "metadata": {
    "id": "jXBilyCyC1GU"
   },
   "source": [
    "## **LCM**"
   ]
  },
  {
   "cell_type": "markdown",
   "metadata": {
    "id": "E7Q7cNA9tO5T"
   },
   "source": [
    "#### **Question:** Given two integer inputs, write a program to calculate the LCM of these two numbers."
   ]
  },
  {
   "cell_type": "markdown",
   "metadata": {
    "id": "g-Z3YUKZtT_M"
   },
   "source": [
    "```\n",
    "Example Input:\n",
    "6 8\n",
    "\n",
    "Example Output:\n",
    "24\n",
    "```"
   ]
  },
  {
   "cell_type": "code",
   "execution_count": null,
   "metadata": {
    "colab": {
     "base_uri": "https://localhost:8080/"
    },
    "id": "5OXFXuICtY-n",
    "outputId": "7fb78918-62ce-41fc-f16b-aaaa877f4efe"
   },
   "outputs": [
    {
     "name": "stdout",
     "output_type": "stream",
     "text": [
      "6\n",
      "8\n",
      "24\n"
     ]
    }
   ],
   "source": [
    "A = int(input())\n",
    "B = int(input())\n",
    "X = max(A, B)\n",
    "while True:\n",
    "    if X % A == 0 and X % B == 0:\n",
    "        print(X)\n",
    "        break\n",
    "    X += 1"
   ]
  },
  {
   "cell_type": "markdown",
   "metadata": {
    "id": "XLnPLoI6CSr8"
   },
   "source": [
    "---"
   ]
  }
 ],
 "metadata": {
  "colab": {
   "include_colab_link": true,
   "provenance": []
  },
  "kernelspec": {
   "display_name": "Python 3 (ipykernel)",
   "language": "python",
   "name": "python3"
  },
  "language_info": {
   "codemirror_mode": {
    "name": "ipython",
    "version": 3
   },
   "file_extension": ".py",
   "mimetype": "text/x-python",
   "name": "python",
   "nbconvert_exporter": "python",
   "pygments_lexer": "ipython3",
   "version": "3.13.2"
  }
 },
 "nbformat": 4,
 "nbformat_minor": 4
}

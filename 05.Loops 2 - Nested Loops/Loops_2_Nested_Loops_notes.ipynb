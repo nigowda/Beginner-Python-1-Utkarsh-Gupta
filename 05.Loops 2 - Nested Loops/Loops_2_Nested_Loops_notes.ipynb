{
  "nbformat": 4,
  "nbformat_minor": 0,
  "metadata": {
    "colab": {
      "provenance": []
    },
    "kernelspec": {
      "name": "python3",
      "display_name": "Python 3"
    },
    "language_info": {
      "name": "python"
    }
  },
  "cells": [
    {
      "cell_type": "markdown",
      "source": [
        "# Loops 2 - Nested Loops\n",
        "\n",
        "\n",
        "\n"
      ],
      "metadata": {
        "id": "O-44bVDG5XtI"
      }
    },
    {
      "cell_type": "markdown",
      "source": [
        "---"
      ],
      "metadata": {
        "id": "DZr3LgYpzPHR"
      }
    },
    {
      "cell_type": "markdown",
      "source": [
        "## Content\n",
        "\n",
        "1. Jump Statements\n",
        "  1. Pass\n",
        "  1. Continue\n",
        "  1. Break\n",
        "2. Nested Loops\n",
        "3. GCD\n",
        "4. LCM"
      ],
      "metadata": {
        "id": "pffziZoBpC8_"
      }
    },
    {
      "cell_type": "markdown",
      "source": [
        "---"
      ],
      "metadata": {
        "id": "-8SYJGOpOif-"
      }
    },
    {
      "cell_type": "markdown",
      "source": [
        "#### **Question**: Write a loop to print the following numbers - `1,4,7,10,13,16`"
      ],
      "metadata": {
        "id": "256YPmCupPK6"
      }
    },
    {
      "cell_type": "code",
      "source": [
        "for i in range(1,17,3):\n",
        "    if i == 16:\n",
        "        print(i, end = \"\")\n",
        "    else:\n",
        "        print(i, end = \", \")"
      ],
      "metadata": {
        "colab": {
          "base_uri": "https://localhost:8080/"
        },
        "id": "iSG2cL6npU4S",
        "outputId": "66316ee9-72e3-4c72-8d74-377084ad212b"
      },
      "execution_count": null,
      "outputs": [
        {
          "output_type": "stream",
          "name": "stdout",
          "text": [
            "1, 4, 7, 10, 13, 16"
          ]
        }
      ]
    },
    {
      "cell_type": "markdown",
      "source": [
        "#### **Question**: Write a loop to print the following numbers - `1,3,7,13,21,31,43`\n",
        "\n"
      ],
      "metadata": {
        "id": "w--hmsCTpWI2"
      }
    },
    {
      "cell_type": "code",
      "source": [
        "number = 1\n",
        "i = 1\n",
        "while number <= 43:\n",
        "    print(number, end = \" \")\n",
        "    number = number + 2*i\n",
        "    i += 1"
      ],
      "metadata": {
        "colab": {
          "base_uri": "https://localhost:8080/"
        },
        "id": "YpwxFstxpfa8",
        "outputId": "0446bce6-37cd-4577-9f3b-ff005b5e556f"
      },
      "execution_count": null,
      "outputs": [
        {
          "output_type": "stream",
          "name": "stdout",
          "text": [
            "1 3 7 13 21 31 43 "
          ]
        }
      ]
    },
    {
      "cell_type": "markdown",
      "source": [
        "---"
      ],
      "metadata": {
        "id": "YogboqYXOjkI"
      }
    },
    {
      "cell_type": "markdown",
      "source": [
        "## Jump Statements"
      ],
      "metadata": {
        "id": "q7WOBvKlpkxK"
      }
    },
    {
      "cell_type": "markdown",
      "source": [
        "### `pass`"
      ],
      "metadata": {
        "id": "R-yqxLwZpryP"
      }
    },
    {
      "cell_type": "code",
      "source": [
        "if True:\n",
        "    pass # represents an empty block / statement in Python"
      ],
      "metadata": {
        "id": "FPoAMSotpyfG"
      },
      "execution_count": null,
      "outputs": []
    },
    {
      "cell_type": "markdown",
      "source": [
        "- `pass` acts as a placeholder.\n",
        "- It acts as an empty block."
      ],
      "metadata": {
        "id": "NIDxPrBQp1Cl"
      }
    },
    {
      "cell_type": "markdown",
      "source": [
        "<img src=\"https://d2beiqkhq929f0.cloudfront.net/public_assets/assets/000/060/229/original/download.png?1703660197\" />"
      ],
      "metadata": {
        "id": "gokRfvb4p8jN"
      }
    },
    {
      "cell_type": "code",
      "source": [
        "for i in range(5):\n",
        "    if i == 3:\n",
        "        pass\n",
        "    print(i)"
      ],
      "metadata": {
        "colab": {
          "base_uri": "https://localhost:8080/"
        },
        "id": "eN_aW8QWqOFY",
        "outputId": "4d007805-9467-4384-d747-79d6e16f5a69"
      },
      "execution_count": null,
      "outputs": [
        {
          "output_type": "stream",
          "name": "stdout",
          "text": [
            "0\n",
            "1\n",
            "2\n",
            "3\n",
            "4\n"
          ]
        }
      ]
    },
    {
      "cell_type": "markdown",
      "source": [
        "### `continue`"
      ],
      "metadata": {
        "id": "MVf6-wxCqSBA"
      }
    },
    {
      "cell_type": "markdown",
      "source": [
        "* Disregards the code after the `continue` statement and goes to the next iteration.\n",
        "* It is effectively used `if` to skip a specific iteration."
      ],
      "metadata": {
        "id": "afJijJz-qVD5"
      }
    },
    {
      "cell_type": "markdown",
      "source": [
        "<img src=\"https://d2beiqkhq929f0.cloudfront.net/public_assets/assets/000/060/230/original/download_%281%29.png?1703660215\">"
      ],
      "metadata": {
        "id": "QJduPbV8qfDI"
      }
    },
    {
      "cell_type": "markdown",
      "source": [
        "<img src=\"https://d2beiqkhq929f0.cloudfront.net/public_assets/assets/000/060/231/original/download_%282%29.png?1703660256\">"
      ],
      "metadata": {
        "id": "ZVS_1MkUqjk5"
      }
    },
    {
      "cell_type": "code",
      "source": [
        "for i in range(5):\n",
        "    if i == 3:\n",
        "        continue\n",
        "    print(i)"
      ],
      "metadata": {
        "colab": {
          "base_uri": "https://localhost:8080/"
        },
        "id": "fCMWFQAkqaFm",
        "outputId": "b891d710-b535-4991-aa7b-4b2b7a0890e4"
      },
      "execution_count": null,
      "outputs": [
        {
          "output_type": "stream",
          "name": "stdout",
          "text": [
            "0\n",
            "1\n",
            "2\n",
            "4\n"
          ]
        }
      ]
    },
    {
      "cell_type": "markdown",
      "source": [
        "---"
      ],
      "metadata": {
        "id": "9PcZo17OAVJQ"
      }
    },
    {
      "cell_type": "markdown",
      "source": [
        "### Quiz-1\n",
        "\n",
        "# Question\n",
        "What will be the output of the following code snippet?\n",
        "```\n",
        "x = 0\n",
        "while x < 5:\n",
        "    x += 1\n",
        "    if x == 3:\n",
        "        continue\n",
        "    print(x)\n",
        "```\n",
        "\n",
        "A.\n",
        "```\n",
        "1\n",
        "2\n",
        "3\n",
        "4\n",
        "5\n",
        "```\n",
        "\n",
        "B.\n",
        "```\n",
        "1\n",
        "2\n",
        "4\n",
        "5\n",
        "```\n",
        "\n",
        "C.\n",
        "```\n",
        "1\n",
        "2\n",
        "3\n",
        "4\n",
        "```\n",
        "\n",
        "D.\n",
        "```\n",
        "0\n",
        "1\n",
        "2\n",
        "3\n",
        "4\n",
        "5\n",
        "```\n",
        "\n",
        "# Choices\n",
        "- [ ] A\n",
        "- [x] B\n",
        "- [ ] C\n",
        "- [ ] D"
      ],
      "metadata": {
        "id": "oSW8Jg_M76XS"
      }
    },
    {
      "cell_type": "markdown",
      "source": [
        "---"
      ],
      "metadata": {
        "id": "Bu8EkzUYAWa1"
      }
    },
    {
      "cell_type": "markdown",
      "source": [
        "### `break`"
      ],
      "metadata": {
        "id": "VErPVDu3qnNe"
      }
    },
    {
      "cell_type": "markdown",
      "source": [
        "* When `break` is encountered, the control goes out of the loop and the loop terminates, regardless of the code that follows."
      ],
      "metadata": {
        "id": "bNwXAkuSqpu6"
      }
    },
    {
      "cell_type": "markdown",
      "source": [
        "<img src=\"https://d2beiqkhq929f0.cloudfront.net/public_assets/assets/000/060/232/original/download_%283%29.png?1703660277\">"
      ],
      "metadata": {
        "id": "Xj5_JF5ZqypJ"
      }
    },
    {
      "cell_type": "code",
      "source": [
        "for i in range(5):\n",
        "    if i == 3:\n",
        "        break\n",
        "    print(i)"
      ],
      "metadata": {
        "colab": {
          "base_uri": "https://localhost:8080/"
        },
        "id": "GVTEWXPNqvHz",
        "outputId": "48f10ca2-bef0-4178-bad2-8dc9ac01e9f0"
      },
      "execution_count": null,
      "outputs": [
        {
          "output_type": "stream",
          "name": "stdout",
          "text": [
            "0\n",
            "1\n",
            "2\n"
          ]
        }
      ]
    },
    {
      "cell_type": "markdown",
      "source": [
        "---"
      ],
      "metadata": {
        "id": "qO773nkTAkig"
      }
    },
    {
      "cell_type": "markdown",
      "source": [
        "### Quiz-2\n",
        "\n",
        "# Question\n",
        "What will be the output of the following code snippet?\n",
        "```\n",
        "x = 0\n",
        "while x < 5:\n",
        "    x += 1\n",
        "    if x == 3:\n",
        "        break\n",
        "    print(x)\n",
        "print(\"Loop finished\")\n",
        "```\n",
        "\n",
        "A.\n",
        "```\n",
        "1\n",
        "2\n",
        "```\n",
        "\n",
        "B.\n",
        "```\n",
        "1\n",
        "2\n",
        "Loop finished\n",
        "```\n",
        "\n",
        "C.\n",
        "```\n",
        "1\n",
        "2\n",
        "3\n",
        "```\n",
        "\n",
        "D.\n",
        "```\n",
        "1\n",
        "2\n",
        "3\n",
        "Loop Finished\n",
        "```\n",
        "\n",
        "# Choices\n",
        "- [ ] A\n",
        "- [x] B\n",
        "- [ ] C\n",
        "- [ ] D"
      ],
      "metadata": {
        "id": "ygKRNxKv8W66"
      }
    },
    {
      "cell_type": "markdown",
      "source": [
        "---"
      ],
      "metadata": {
        "id": "aTD4jxTfOmTp"
      }
    },
    {
      "cell_type": "markdown",
      "source": [
        "### Quiz-3"
      ],
      "metadata": {
        "id": "W8cODsM7fwpy"
      }
    },
    {
      "cell_type": "markdown",
      "source": [
        "What is the output of the following code?\n",
        "```\n",
        "count = 0\n",
        "while True:\n",
        "    if count == 5:\n",
        "        break\n",
        "    print(count)\n",
        "    count += 1\n",
        "```\n",
        "a)\n",
        "```\n",
        "0\n",
        "1\n",
        "2\n",
        "3\n",
        "4\n",
        "```\n",
        "\n",
        "b) 5\n",
        "\n",
        "c) an infinite loop\n",
        "\n",
        "**Answer**:\n",
        "a.\n",
        "```\n",
        "0\n",
        "1\n",
        "2\n",
        "3\n",
        "4\n",
        "```"
      ],
      "metadata": {
        "id": "CB5MhoS8fzRQ"
      }
    },
    {
      "cell_type": "markdown",
      "source": [
        "---"
      ],
      "metadata": {
        "id": "0S0O5hMfA3EW"
      }
    },
    {
      "cell_type": "markdown",
      "source": [
        "### **Question:**\n",
        "- Write a program that continuously asks the user to provide an input number\n",
        "- The program should stop only when the user provides 5.\n",
        "- Once the user provides 5, the program should print the number of times an input was provided.\n",
        "- Assume that the user always provides a number."
      ],
      "metadata": {
        "id": "719O6HW4rbMF"
      }
    },
    {
      "cell_type": "code",
      "source": [
        "counter = 0\n",
        "while True:\n",
        "    number = int(input())\n",
        "    counter += 1\n",
        "\n",
        "    if number == 5:\n",
        "        break\n",
        "print(\"You provided\", counter, \"inputs!\")"
      ],
      "metadata": {
        "colab": {
          "base_uri": "https://localhost:8080/"
        },
        "id": "ERUa746SrgpR",
        "outputId": "f4ed72b2-c6a6-4d9b-982e-84e1d51c1655"
      },
      "execution_count": null,
      "outputs": [
        {
          "output_type": "stream",
          "name": "stdout",
          "text": [
            "3\n",
            "4\n",
            "5\n",
            "You provided 3 inputs!\n"
          ]
        }
      ]
    },
    {
      "cell_type": "markdown",
      "source": [
        "---"
      ],
      "metadata": {
        "id": "kXnF7CaSBI6U"
      }
    },
    {
      "cell_type": "markdown",
      "source": [
        "### Quiz-4\n",
        "\n",
        "# Question\n",
        "Which statement is used to skip the current iteration of a loop and move on to the next iteration?\n",
        "\n",
        "# Choices\n",
        "- [ ] `break`\n",
        "- [x] `continue`\n",
        "- [ ] `pass`\n",
        "- [ ] None of these"
      ],
      "metadata": {
        "id": "k307MK-O7mH4"
      }
    },
    {
      "cell_type": "markdown",
      "source": [
        "---"
      ],
      "metadata": {
        "id": "izj1vvmFBK2O"
      }
    },
    {
      "cell_type": "markdown",
      "source": [
        "## Nested Loops"
      ],
      "metadata": {
        "id": "OMeJt552row7"
      }
    },
    {
      "cell_type": "code",
      "source": [
        "for i in range(3):\n",
        "    for j in range(3):\n",
        "        print(i, j)"
      ],
      "metadata": {
        "colab": {
          "base_uri": "https://localhost:8080/"
        },
        "id": "OnB4At1erzwS",
        "outputId": "fb5357f0-e3dd-42ef-ca2d-529a78c2fc37"
      },
      "execution_count": null,
      "outputs": [
        {
          "output_type": "stream",
          "name": "stdout",
          "text": [
            "0 0\n",
            "0 1\n",
            "0 2\n",
            "1 0\n",
            "1 1\n",
            "1 2\n",
            "2 0\n",
            "2 1\n",
            "2 2\n"
          ]
        }
      ]
    },
    {
      "cell_type": "markdown",
      "source": [
        "For every value of `i`, there will be corresponding `j` values.\n",
        "\n",
        "In the above code,\n",
        "- for `i = 0`, `j` runs from **0** to **2**,\n",
        "- then for `i = 1`, `j` runs from **0** to **2**,\n",
        "- then for `i = 2`, j runs from **0** to **2** again.\n",
        "\n",
        "Therefore there is **6** (i, j) pairs."
      ],
      "metadata": {
        "id": "aAbywNz4r1qP"
      }
    },
    {
      "cell_type": "markdown",
      "source": [
        "<img src=\"https://d2beiqkhq929f0.cloudfront.net/public_assets/assets/000/060/233/original/download_%284%29.png?1703660299\">"
      ],
      "metadata": {
        "id": "6d7EKjnIpBgF"
      }
    },
    {
      "cell_type": "markdown",
      "source": [
        "#### **Question:** Write a program to print a `N x N` matrix of `*`"
      ],
      "metadata": {
        "id": "1kNMVMm_sKDU"
      }
    },
    {
      "cell_type": "markdown",
      "source": [
        "```\n",
        "Example Input:\n",
        "3\n",
        "\n",
        "Example Output:\n",
        "***\n",
        "***\n",
        "***\n",
        "```"
      ],
      "metadata": {
        "id": "U7nI1j5UsWRv"
      }
    },
    {
      "cell_type": "code",
      "source": [
        "n = int(input())\n",
        "for i in range(n):\n",
        "    for j in range(n):\n",
        "        print(\"*\", end = \" \")\n",
        "    print()"
      ],
      "metadata": {
        "colab": {
          "base_uri": "https://localhost:8080/"
        },
        "id": "T3xnNuNBsbec",
        "outputId": "b5624017-1ebc-4477-f79e-c05a23d94348"
      },
      "execution_count": null,
      "outputs": [
        {
          "output_type": "stream",
          "name": "stdout",
          "text": [
            "3\n",
            "* * * \n",
            "* * * \n",
            "* * * \n"
          ]
        }
      ]
    },
    {
      "cell_type": "markdown",
      "source": [
        "#### **Question:** Write a program to print a multiplication table till the provided input."
      ],
      "metadata": {
        "id": "95qRtV5ksg2h"
      }
    },
    {
      "cell_type": "markdown",
      "source": [
        "\n",
        "```\n",
        "Example Input:\n",
        "3\n",
        "\n",
        "Example Output:\n",
        "1 2 3 4 5 6 7 8 9 10\n",
        "2 4 6 8 10 12 14 16 18 20\n",
        "3 6 9 12 15 18 21 24 27 30\n",
        "\n",
        "```\n"
      ],
      "metadata": {
        "id": "aFmKT0cOp2Ia"
      }
    },
    {
      "cell_type": "code",
      "source": [
        "number = int(input())\n",
        "for i in range(1, number + 1):\n",
        "    for j in range(1, 11):\n",
        "        print(i*j, end = \" \")\n",
        "    print()"
      ],
      "metadata": {
        "colab": {
          "base_uri": "https://localhost:8080/"
        },
        "id": "xpTovlrkso5d",
        "outputId": "436d7691-c2e0-4e85-c0c3-a5e95802b0ca"
      },
      "execution_count": null,
      "outputs": [
        {
          "output_type": "stream",
          "name": "stdout",
          "text": [
            "3\n",
            "1 2 3 4 5 6 7 8 9 10 \n",
            "2 4 6 8 10 12 14 16 18 20 \n",
            "3 6 9 12 15 18 21 24 27 30 \n"
          ]
        }
      ]
    },
    {
      "cell_type": "markdown",
      "source": [
        "---"
      ],
      "metadata": {
        "id": "KR70iyTfCaqV"
      }
    },
    {
      "cell_type": "markdown",
      "source": [
        "### Quiz-5\n",
        "\n",
        "# Question\n",
        "What will be the output of the following code snippet?\n",
        "```\n",
        "for i in range(3):\n",
        "    for j in range(i, 3):\n",
        "        print(\"*\", end=\" \")\n",
        "    print()\n",
        "```\n",
        "\n",
        "A.\n",
        "```\n",
        "  * * *\n",
        "  * *\n",
        "  *\n",
        "```\n",
        "\n",
        "B.\n",
        "```\n",
        "  * * *\n",
        "  * * *\n",
        "  * * *\n",
        "```\n",
        "B.\n",
        "```\n",
        "      *\n",
        "    * *\n",
        "  * * *\n",
        "```\n",
        "\n",
        "# Choices\n",
        "- [x] A\n",
        "- [ ] B\n",
        "- [ ] C\n",
        "- [ ] None of these"
      ],
      "metadata": {
        "id": "gggpq9n980Ao"
      }
    },
    {
      "cell_type": "markdown",
      "source": [
        "---"
      ],
      "metadata": {
        "id": "6m1ZF2K0CYe4"
      }
    },
    {
      "cell_type": "markdown",
      "source": [
        "## **GCD**"
      ],
      "metadata": {
        "id": "Gx387xqasxq0"
      }
    },
    {
      "cell_type": "markdown",
      "source": [
        "#### **Question:** Given two integer inputs, write a program to calculate the GCD of these two numbers."
      ],
      "metadata": {
        "id": "fDt5Fc3Zs0wD"
      }
    },
    {
      "cell_type": "markdown",
      "source": [
        "```\n",
        "Example Input:\n",
        "16 24\n",
        "\n",
        "Example Output:\n",
        "8\n",
        "```"
      ],
      "metadata": {
        "id": "BGa5AvHMs9nj"
      }
    },
    {
      "cell_type": "markdown",
      "source": [
        "<img src=\"https://d2beiqkhq929f0.cloudfront.net/public_assets/assets/000/060/234/original/download_%285%29.png?1703660510\">"
      ],
      "metadata": {
        "id": "Ds1o2pg8tFXF"
      }
    },
    {
      "cell_type": "code",
      "source": [
        "A = int(input())\n",
        "B = int(input())\n",
        "X = min(A, B)\n",
        "for i in range(X, 0, -1):\n",
        "    if A % i == 0 and B % i == 0:\n",
        "        print(i)\n",
        "        break"
      ],
      "metadata": {
        "colab": {
          "base_uri": "https://localhost:8080/"
        },
        "id": "gYUh2d3XtIlH",
        "outputId": "7a01c606-ef81-427b-d1c2-dbdf90d82c8e"
      },
      "execution_count": null,
      "outputs": [
        {
          "output_type": "stream",
          "name": "stdout",
          "text": [
            "16\n",
            "24\n",
            "8\n"
          ]
        }
      ]
    },
    {
      "cell_type": "markdown",
      "source": [
        "## **LCM**"
      ],
      "metadata": {
        "id": "jXBilyCyC1GU"
      }
    },
    {
      "cell_type": "markdown",
      "source": [
        "#### **Question:** Given two integer inputs, write a program to calculate the LCM of these two numbers."
      ],
      "metadata": {
        "id": "E7Q7cNA9tO5T"
      }
    },
    {
      "cell_type": "markdown",
      "source": [
        "```\n",
        "Example Input:\n",
        "6 8\n",
        "\n",
        "Example Output:\n",
        "24\n",
        "```"
      ],
      "metadata": {
        "id": "g-Z3YUKZtT_M"
      }
    },
    {
      "cell_type": "code",
      "source": [
        "A = int(input())\n",
        "B = int(input())\n",
        "X = max(A, B)\n",
        "while True:\n",
        "    if X % A == 0 and X % B == 0:\n",
        "        print(X)\n",
        "        break\n",
        "    X += 1"
      ],
      "metadata": {
        "colab": {
          "base_uri": "https://localhost:8080/"
        },
        "id": "5OXFXuICtY-n",
        "outputId": "7fb78918-62ce-41fc-f16b-aaaa877f4efe"
      },
      "execution_count": null,
      "outputs": [
        {
          "output_type": "stream",
          "name": "stdout",
          "text": [
            "6\n",
            "8\n",
            "24\n"
          ]
        }
      ]
    },
    {
      "cell_type": "markdown",
      "source": [
        "---"
      ],
      "metadata": {
        "id": "XLnPLoI6CSr8"
      }
    }
  ]
}
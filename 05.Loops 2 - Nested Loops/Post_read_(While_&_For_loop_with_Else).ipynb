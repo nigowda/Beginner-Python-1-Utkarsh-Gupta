{
  "nbformat": 4,
  "nbformat_minor": 0,
  "metadata": {
    "colab": {
      "provenance": []
    },
    "kernelspec": {
      "name": "python3",
      "display_name": "Python 3"
    },
    "language_info": {
      "name": "python"
    }
  },
  "cells": [
    {
      "cell_type": "markdown",
      "source": [
        "# while-else"
      ],
      "metadata": {
        "id": "IW6U3uQrG8Ty"
      }
    },
    {
      "cell_type": "markdown",
      "source": [
        "**Definition:**\n",
        "\n",
        "* The `while-else` construct in Python combines a while loop with an else block.\n",
        "* The else block is executed when the while loop condition becomes false, and the loop terminates naturally."
      ],
      "metadata": {
        "id": "iknM8Zrvo9GU"
      }
    },
    {
      "cell_type": "markdown",
      "source": [
        "**Syntax:**\n",
        "\n",
        "```\n",
        "while condition:\n",
        "    # Code block to execute while the condition is true\n",
        "else:\n",
        "    # Code block to execute when the condition becomes false\n",
        "```"
      ],
      "metadata": {
        "id": "SH3TcB2GpK8l"
      }
    },
    {
      "cell_type": "markdown",
      "source": [
        "**Example of while-else loop -**"
      ],
      "metadata": {
        "id": "j5QrVR42wFJh"
      }
    },
    {
      "cell_type": "code",
      "source": [
        "count = 0\n",
        "while count < 5:\n",
        "    print(count, \"is less than 5\")\n",
        "    count += 1\n",
        "else:\n",
        "    print(count, \"is not less than 5\")"
      ],
      "metadata": {
        "colab": {
          "base_uri": "https://localhost:8080/"
        },
        "id": "OZFz5PcWpanS",
        "outputId": "6a7c4e0d-a477-444e-a8db-4c9f7b288b29"
      },
      "execution_count": null,
      "outputs": [
        {
          "output_type": "stream",
          "name": "stdout",
          "text": [
            "0 is less than 5\n",
            "1 is less than 5\n",
            "2 is less than 5\n",
            "3 is less than 5\n",
            "4 is less than 5\n",
            "5 is not less than 5\n"
          ]
        }
      ]
    },
    {
      "cell_type": "code",
      "source": [
        "num = 10\n",
        "while num > 0:\n",
        "    print(\"Countdown:\", num)\n",
        "    num -= 1\n",
        "else:\n",
        "    print(\"Blast off!\")"
      ],
      "metadata": {
        "colab": {
          "base_uri": "https://localhost:8080/"
        },
        "id": "waIDVQqywC9h",
        "outputId": "34ba3a71-cf6e-44de-c50e-8906d6a34985"
      },
      "execution_count": null,
      "outputs": [
        {
          "output_type": "stream",
          "name": "stdout",
          "text": [
            "Countdown: 10\n",
            "Countdown: 9\n",
            "Countdown: 8\n",
            "Countdown: 7\n",
            "Countdown: 6\n",
            "Countdown: 5\n",
            "Countdown: 4\n",
            "Countdown: 3\n",
            "Countdown: 2\n",
            "Countdown: 1\n",
            "Blast off!\n"
          ]
        }
      ]
    },
    {
      "cell_type": "markdown",
      "source": [
        "---"
      ],
      "metadata": {
        "id": "UqbF5ORmo16J"
      }
    },
    {
      "cell_type": "markdown",
      "source": [
        "# for-else"
      ],
      "metadata": {
        "id": "8qosg6B3o2-H"
      }
    },
    {
      "cell_type": "markdown",
      "source": [
        "**Definition:**\n",
        "\n",
        "* Similar to while-else, `for-else` combines a for loop with an else block.\n",
        "* The else block is executed when the for loop completes iterating over all items in the iterable without encountering a break statement."
      ],
      "metadata": {
        "id": "p8cJNuixpich"
      }
    },
    {
      "cell_type": "markdown",
      "source": [
        "**Syntax:**\n",
        "\n",
        "```\n",
        "for item in iterable:\n",
        "    # Code block to execute for each item in the iterable\n",
        "else:\n",
        "    # Code block to execute when the loop completes without encountering a break statement\n",
        "```"
      ],
      "metadata": {
        "id": "si5P32N4pich"
      }
    },
    {
      "cell_type": "markdown",
      "source": [
        "**Example of for-else loop -**"
      ],
      "metadata": {
        "id": "CmTi0zu7wMyq"
      }
    },
    {
      "cell_type": "code",
      "source": [
        "for num in range(1, 6):\n",
        "    if num == 6:\n",
        "        print(\"Number 6 found\")\n",
        "        break\n",
        "else:\n",
        "    print(\"Number 6 not found\")"
      ],
      "metadata": {
        "colab": {
          "base_uri": "https://localhost:8080/"
        },
        "id": "dimWtx-Epich",
        "outputId": "3bed8946-8641-4987-8d04-fc1ee5c8c903"
      },
      "execution_count": null,
      "outputs": [
        {
          "output_type": "stream",
          "name": "stdout",
          "text": [
            "Number 6 not found\n"
          ]
        }
      ]
    },
    {
      "cell_type": "markdown",
      "source": [
        "In this example,\n",
        "\n",
        "* Since we have used `range(1,6)`, where 6 is the end value, it will be excluded from the loop.\n",
        "* The loop will complete without encountering the number 6, and consequently, the else block will be executed."
      ],
      "metadata": {
        "id": "nBVaLF3OtEY8"
      }
    },
    {
      "cell_type": "markdown",
      "source": [
        "---"
      ],
      "metadata": {
        "id": "9YMLCn2DvG8q"
      }
    }
  ]
}
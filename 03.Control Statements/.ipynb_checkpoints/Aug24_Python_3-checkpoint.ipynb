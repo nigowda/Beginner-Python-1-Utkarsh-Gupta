{
  "nbformat": 4,
  "nbformat_minor": 0,
  "metadata": {
    "colab": {
      "provenance": []
    },
    "kernelspec": {
      "name": "python3",
      "display_name": "Python 3"
    },
    "language_info": {
      "name": "python"
    }
  },
  "cells": [
    {
      "cell_type": "code",
      "execution_count": null,
      "metadata": {
        "colab": {
          "base_uri": "https://localhost:8080/"
        },
        "id": "_Q0_QSBv2506",
        "outputId": "7f42867f-034d-49de-eaa1-ead9845fba17"
      },
      "outputs": [
        {
          "output_type": "execute_result",
          "data": {
            "text/plain": [
              "4"
            ]
          },
          "metadata": {},
          "execution_count": 1
        }
      ],
      "source": [
        "2 + 2"
      ]
    },
    {
      "cell_type": "code",
      "source": [
        "age = int(input())\n",
        "if age >= 18:\n",
        "  print(\"Adult\")"
      ],
      "metadata": {
        "colab": {
          "base_uri": "https://localhost:8080/"
        },
        "id": "6HTa-T-V29en",
        "outputId": "a8bd34bd-e693-4fbd-f378-bea46873eb04"
      },
      "execution_count": null,
      "outputs": [
        {
          "name": "stdout",
          "output_type": "stream",
          "text": [
            "16\n"
          ]
        }
      ]
    },
    {
      "cell_type": "code",
      "source": [
        "age = int(input())\n",
        "if age >= 18:\n",
        "  print(\"Adult\") # part of if\n",
        "  print(\"Ready for driving!\") # part of if"
      ],
      "metadata": {
        "colab": {
          "base_uri": "https://localhost:8080/"
        },
        "id": "to-Cdg-I-Ref",
        "outputId": "a13f418e-8cb7-427a-f8c5-28da9aba2c00"
      },
      "execution_count": null,
      "outputs": [
        {
          "name": "stdout",
          "output_type": "stream",
          "text": [
            "1\n"
          ]
        }
      ]
    },
    {
      "cell_type": "code",
      "source": [
        "age = int(input())\n",
        "if age >= 18:\n",
        "  print(\"Adult\") # part of if\n",
        "print(\"Ready for driving!\") # not part of if since no indentation"
      ],
      "metadata": {
        "colab": {
          "base_uri": "https://localhost:8080/"
        },
        "id": "GRJXx1rn-w7f",
        "outputId": "458494bf-2228-4eb6-b169-f1c69b7b4ca3"
      },
      "execution_count": null,
      "outputs": [
        {
          "output_type": "stream",
          "name": "stdout",
          "text": [
            "11\n",
            "Ready for driving!\n"
          ]
        }
      ]
    },
    {
      "cell_type": "code",
      "source": [
        "if 56 > 50:\n",
        "  print(\"1\")\n",
        "  print(\"2\")\n",
        "print(\"3\")"
      ],
      "metadata": {
        "colab": {
          "base_uri": "https://localhost:8080/"
        },
        "id": "SljBmHE6_JpI",
        "outputId": "d0c3a92b-1ce2-4a72-8fbf-25734dedfac5"
      },
      "execution_count": null,
      "outputs": [
        {
          "output_type": "stream",
          "name": "stdout",
          "text": [
            "1\n",
            "2\n",
            "3\n"
          ]
        }
      ]
    },
    {
      "cell_type": "code",
      "source": [
        "if 5 > 50:\n",
        "  print(\"1\")\n",
        "  print(\"2\")\n",
        "print(\"3\")"
      ],
      "metadata": {
        "colab": {
          "base_uri": "https://localhost:8080/"
        },
        "id": "xN0lgC1YAUSx",
        "outputId": "b29abc44-6e3b-492a-bdfe-0e99fefe4065"
      },
      "execution_count": null,
      "outputs": [
        {
          "output_type": "stream",
          "name": "stdout",
          "text": [
            "3\n"
          ]
        }
      ]
    },
    {
      "cell_type": "code",
      "source": [
        "age = int(input())\n",
        "if age >= 18:\n",
        "  print(\"Adult\")\n",
        "  print(\"Ready for driving!\")\n",
        "else:\n",
        "  print(\"Get ready for school!\")"
      ],
      "metadata": {
        "colab": {
          "base_uri": "https://localhost:8080/"
        },
        "id": "9uU5wuBLAaXS",
        "outputId": "cee033ed-7d97-455c-e545-d66a3cece144"
      },
      "execution_count": null,
      "outputs": [
        {
          "output_type": "stream",
          "name": "stdout",
          "text": [
            "15\n",
            "Get ready for school!\n"
          ]
        }
      ]
    },
    {
      "cell_type": "code",
      "source": [
        "a = 2\n",
        "result = a ** 5 # 2 to the power 5 = 32\n",
        "if result > 25:\n",
        "  print(\"That is massive!\")\n",
        "else:\n",
        "  print(\"pretty small!\")\n",
        "print(\"complete\")"
      ],
      "metadata": {
        "colab": {
          "base_uri": "https://localhost:8080/"
        },
        "id": "xtLBLMaKB_xq",
        "outputId": "d4e58234-663c-4b10-aae8-526257200d5c"
      },
      "execution_count": null,
      "outputs": [
        {
          "output_type": "stream",
          "name": "stdout",
          "text": [
            "That is massive!\n",
            "complete\n"
          ]
        }
      ]
    },
    {
      "cell_type": "code",
      "source": [
        "original_password = \"password\"\n",
        "password = input(\"Please enter password: \")\n",
        "if (original_password == password):\n",
        "  print(\"password correct\")\n",
        "else:\n",
        "  print(\"password incorrect\")"
      ],
      "metadata": {
        "colab": {
          "base_uri": "https://localhost:8080/"
        },
        "id": "m4-LZo8gCkft",
        "outputId": "c746fe61-506f-4f5a-ee36-d4e9ebd6cef9"
      },
      "execution_count": null,
      "outputs": [
        {
          "output_type": "stream",
          "name": "stdout",
          "text": [
            "Please enter password: Password\n",
            "password incorrect\n"
          ]
        }
      ]
    },
    {
      "cell_type": "code",
      "source": [
        "time = int(input())\n",
        "if time > 0 and time <= 12:\n",
        "  print(\"Good morning\")\n",
        "else:\n",
        "  if time > 12 and time <= 16:\n",
        "    print(\"Good afternoon\")\n",
        "  else:\n",
        "    if(time > 16 and time <= 20):\n",
        "      print(\"Good evening\")\n",
        "    else:\n",
        "      print(\"SO JAO!\")"
      ],
      "metadata": {
        "colab": {
          "base_uri": "https://localhost:8080/"
        },
        "id": "QwgGJk_OC1E7",
        "outputId": "df73f721-0f64-4b0a-fe56-dcdb4fe86073"
      },
      "execution_count": null,
      "outputs": [
        {
          "output_type": "stream",
          "name": "stdout",
          "text": [
            "22\n",
            "SO JAO!\n"
          ]
        }
      ]
    },
    {
      "cell_type": "code",
      "source": [
        "a = int(input())"
      ],
      "metadata": {
        "colab": {
          "base_uri": "https://localhost:8080/"
        },
        "id": "d-9X9tz5G5BX",
        "outputId": "4654314c-1b4e-498d-b412-7a7a208e1791"
      },
      "execution_count": null,
      "outputs": [
        {
          "name": "stdout",
          "output_type": "stream",
          "text": [
            "3\n"
          ]
        }
      ]
    },
    {
      "cell_type": "code",
      "source": [
        "print(a)"
      ],
      "metadata": {
        "colab": {
          "base_uri": "https://localhost:8080/"
        },
        "id": "TZsNsEx6HF5_",
        "outputId": "b798ab85-cd29-406d-f716-ffe730a85b38"
      },
      "execution_count": null,
      "outputs": [
        {
          "output_type": "stream",
          "name": "stdout",
          "text": [
            "3\n"
          ]
        }
      ]
    },
    {
      "cell_type": "code",
      "source": [
        "time = int(input())\n",
        "if time > 0 and time <= 12:\n",
        "  print(\"Good morning\")\n",
        "else:\n",
        "  if time > 12 and time <= 16:\n",
        "    print(\"Good afternoon\")\n",
        "  else:\n",
        "    if(time > 16 and time <= 20):\n",
        "      print(\"Good evening\")\n",
        "    else:\n",
        "      print(\"SO JAO!\")"
      ],
      "metadata": {
        "id": "vF0QusINHYms"
      },
      "execution_count": null,
      "outputs": []
    },
    {
      "cell_type": "code",
      "source": [
        "x = -3\n",
        "if x:\n",
        "    print(\"True\")\n",
        "else:\n",
        "    print(\"False\")"
      ],
      "metadata": {
        "colab": {
          "base_uri": "https://localhost:8080/"
        },
        "id": "9xdbf04RIkeK",
        "outputId": "84911949-24ec-4002-b2da-c13020c2f786"
      },
      "execution_count": null,
      "outputs": [
        {
          "output_type": "stream",
          "name": "stdout",
          "text": [
            "True\n"
          ]
        }
      ]
    },
    {
      "cell_type": "code",
      "source": [
        "#if condition1:\n",
        "#  this\n",
        "#elif condition2:\n",
        "#  this\n",
        "#else:\n",
        "#  this"
      ],
      "metadata": {
        "id": "WqadkVoVI2rS"
      },
      "execution_count": null,
      "outputs": []
    },
    {
      "cell_type": "code",
      "source": [
        "time = int(input())\n",
        "if time > 0 and time <= 12:\n",
        "  print(\"Good morning\")\n",
        "elif time > 12 and time <= 16:\n",
        "  print(\"Good afternoon\")\n",
        "elif(time > 16 and time <= 20):\n",
        "  print(\"Good evening\")\n",
        "else:\n",
        "  print(\"SO JAO!\")"
      ],
      "metadata": {
        "colab": {
          "base_uri": "https://localhost:8080/"
        },
        "id": "FwCWwGYgJJ7g",
        "outputId": "221276dc-4cf1-416e-8734-69727441774a"
      },
      "execution_count": null,
      "outputs": [
        {
          "output_type": "stream",
          "name": "stdout",
          "text": [
            "24\n",
            "SO JAO!\n"
          ]
        }
      ]
    },
    {
      "cell_type": "code",
      "source": [
        "# Given the amount entered in ATM machine which only has 500 rupee notes.\n",
        "# Check if it possible to withdraw the amount, if yes print the count of notes, else print \"Enter Again\".\n",
        "\n",
        "amount = int(input(\"Enter Amount: \"))\n",
        "if amount % 500 == 0:\n",
        "  print(amount // 500)\n",
        "else:\n",
        "  print(\"Enter Again\")"
      ],
      "metadata": {
        "colab": {
          "base_uri": "https://localhost:8080/"
        },
        "id": "4LcP3Ed5JgXV",
        "outputId": "15a100ec-e686-4ba1-e673-447d0baf3ffc"
      },
      "execution_count": null,
      "outputs": [
        {
          "output_type": "stream",
          "name": "stdout",
          "text": [
            "Enter Amount: 2800\n",
            "Enter Again\n"
          ]
        }
      ]
    },
    {
      "cell_type": "code",
      "source": [
        "x = 5\n",
        "if x > 2:\n",
        "  if x < 10:\n",
        "    print(\"x is between 2 and 10\")\n",
        "  else:\n",
        "    print(\"x is greater than or equal to 10\")\n",
        "else:\n",
        "  print(\"x is less than or equal to 2\")"
      ],
      "metadata": {
        "colab": {
          "base_uri": "https://localhost:8080/"
        },
        "id": "2t9ft5tRMDIR",
        "outputId": "322e694a-66fc-4c5d-b7fd-10afa346a205"
      },
      "execution_count": null,
      "outputs": [
        {
          "output_type": "stream",
          "name": "stdout",
          "text": [
            "x is between 2 and 10\n"
          ]
        }
      ]
    },
    {
      "cell_type": "code",
      "source": [
        "x = 5\n",
        "if x > 2 and x < 10:\n",
        "  print(\"x is between 2 and 10\")\n",
        "elif x > 2 and x >= 10:\n",
        "  print(\"x is greater than or equal to 10\")\n",
        "else:\n",
        "  print(\"x is less than or equal to 2\")"
      ],
      "metadata": {
        "colab": {
          "base_uri": "https://localhost:8080/"
        },
        "id": "hGQYuV1VMmsw",
        "outputId": "5a76f53a-2cae-44cc-cd5c-fdad13d6713f"
      },
      "execution_count": null,
      "outputs": [
        {
          "output_type": "stream",
          "name": "stdout",
          "text": [
            "x is between 2 and 10\n"
          ]
        }
      ]
    },
    {
      "cell_type": "code",
      "source": [
        "age = 15\n",
        "if age < 18:\n",
        "  print(\"You are not eligible to vote\")\n",
        "elif age >= 18 and age < 21:\n",
        "  print(\"You can vote but can't drink\")\n",
        "else:\n",
        "  print(\"You can vote and drink\")"
      ],
      "metadata": {
        "colab": {
          "base_uri": "https://localhost:8080/"
        },
        "id": "tgFkxLcgNJxV",
        "outputId": "e49eed8f-7dd7-4379-f46a-0e114d648000"
      },
      "execution_count": null,
      "outputs": [
        {
          "output_type": "stream",
          "name": "stdout",
          "text": [
            "You are not eligible to vote\n"
          ]
        }
      ]
    },
    {
      "cell_type": "code",
      "source": [
        "# Given the amount entered in ATM machine which has 500 rupee notes as well as 200 rupee notes but\n",
        "# it can only allow withdrawl of 1 type of notes.\n",
        "# Check if it possible to withdraw the amount, if yes print the count of notes, else print \"Enter Again\".\n",
        "\n",
        "amount = int(input(\"Enter Amount: \"))\n",
        "if amount % 500 == 0:\n",
        "  print(amount // 500)\n",
        "elif amount % 200 == 0:\n",
        "  print(amount // 200)\n",
        "else:\n",
        "  print(\"Enter Again\")"
      ],
      "metadata": {
        "colab": {
          "base_uri": "https://localhost:8080/"
        },
        "id": "kczXjrWFNPKc",
        "outputId": "e24cc96f-8638-4ab5-e3c3-d51b886b0b86"
      },
      "execution_count": null,
      "outputs": [
        {
          "output_type": "stream",
          "name": "stdout",
          "text": [
            "Enter Amount: 2000\n",
            "4\n"
          ]
        }
      ]
    },
    {
      "cell_type": "code",
      "source": [
        "# Given the amount entered in ATM machine which has 500 rupee notes as well as 200 rupee notes.\n",
        "# Check if it possible to withdraw the amount, if yes print \"Yay\", else print \"Ohho\"."
      ],
      "metadata": {
        "id": "YUv2YwXpOOkc"
      },
      "execution_count": null,
      "outputs": []
    },
    {
      "cell_type": "code",
      "source": [
        "amount = int(input(\"Enter Amount = \"))\n",
        "if amount % 100 == 0 and amount != 100 and amount != 300:\n",
        "  print(\"Yay\")\n",
        "else:\n",
        "  print(\"Ohho\")"
      ],
      "metadata": {
        "colab": {
          "base_uri": "https://localhost:8080/"
        },
        "id": "E2Z6rNbdP9ce",
        "outputId": "f48100a1-7bd4-4f9f-b11a-b78b351e36da"
      },
      "execution_count": null,
      "outputs": [
        {
          "output_type": "stream",
          "name": "stdout",
          "text": [
            "Enter Amount = 2050\n",
            "Ohho\n"
          ]
        }
      ]
    },
    {
      "cell_type": "code",
      "source": [
        "# amount % 100 == 0 -> amount has to be multiple of 100"
      ],
      "metadata": {
        "id": "E6NdnJiVQIKQ"
      },
      "execution_count": null,
      "outputs": []
    },
    {
      "cell_type": "code",
      "source": [
        "amount = int(input(\"Enter Amount = \"))\n",
        "if(amount % 200 == 0 or amount % 500 == 0):\n",
        "  print(\"yes\")\n",
        "elif((amount % 500) % 200 == 0):\n",
        "  print(\"yes\")\n",
        "else:\n",
        "  print(\"Ohho\")"
      ],
      "metadata": {
        "colab": {
          "base_uri": "https://localhost:8080/"
        },
        "id": "y8QpyvStVR1s",
        "outputId": "30d2e81c-5b8c-47db-f878-5f6b127620a8"
      },
      "execution_count": null,
      "outputs": [
        {
          "output_type": "stream",
          "name": "stdout",
          "text": [
            "Enter Amount = 1100\n",
            "Ohho\n"
          ]
        }
      ]
    },
    {
      "cell_type": "code",
      "source": [
        "# 1100 = 500 + 200 * 3"
      ],
      "metadata": {
        "id": "yLI181uAVlIw"
      },
      "execution_count": null,
      "outputs": []
    },
    {
      "cell_type": "code",
      "source": [
        "amount = int(input(\"Enter Amount = \"))\n",
        "if(amount % 200 == 0 or amount % 500 == 0):\n",
        "  print(\"yes\")\n",
        "elif((amount % 500) % 200 == 0):\n",
        "  print(\"yes\")\n",
        "elif((amount - 500) % 500 + 500) % 200 == 0:\n",
        "  print(\"yes\")\n",
        "else:\n",
        "  print(\"Ohho\")"
      ],
      "metadata": {
        "colab": {
          "base_uri": "https://localhost:8080/"
        },
        "id": "RbdzmufLV2-n",
        "outputId": "3dfecc78-c68c-4b76-d280-3e4be93cf0ad"
      },
      "execution_count": null,
      "outputs": [
        {
          "output_type": "stream",
          "name": "stdout",
          "text": [
            "Enter Amount = 300\n",
            "yes\n"
          ]
        }
      ]
    },
    {
      "cell_type": "code",
      "source": [],
      "metadata": {
        "id": "MkOIHyaOWQHm"
      },
      "execution_count": null,
      "outputs": []
    }
  ]
}
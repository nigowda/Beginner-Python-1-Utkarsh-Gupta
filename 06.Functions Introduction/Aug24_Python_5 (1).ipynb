{
  "nbformat": 4,
  "nbformat_minor": 0,
  "metadata": {
    "colab": {
      "provenance": []
    },
    "kernelspec": {
      "name": "python3",
      "display_name": "Python 3"
    },
    "language_info": {
      "name": "python"
    }
  },
  "cells": [
    {
      "cell_type": "code",
      "execution_count": null,
      "metadata": {
        "colab": {
          "base_uri": "https://localhost:8080/"
        },
        "id": "p2MDiV8D7REx",
        "outputId": "fa3ffdd1-1307-4139-acec-87e6d3203d14"
      },
      "outputs": [
        {
          "output_type": "execute_result",
          "data": {
            "text/plain": [
              "4"
            ]
          },
          "metadata": {},
          "execution_count": 1
        }
      ],
      "source": [
        "2+2"
      ]
    },
    {
      "cell_type": "code",
      "source": [
        "def prepare_for_guests(): # Defining a function\n",
        "\n",
        "  # Body of the function\n",
        "  print(\"Dust all the rooms\")\n",
        "  print(\"Arrange the living area\")\n",
        "  print(\"Go and get drinks & snacks!\")\n",
        "  print(\"Don't misbehave in front of the guests!\")\n",
        "  print(\"Touch their feet when you greet them!\")"
      ],
      "metadata": {
        "id": "VYRheRg37Tq4"
      },
      "execution_count": null,
      "outputs": []
    },
    {
      "cell_type": "code",
      "source": [
        "prepare_for_guests() # Calling / Invoking the function"
      ],
      "metadata": {
        "colab": {
          "base_uri": "https://localhost:8080/"
        },
        "id": "Z1B1rBuQ-JH7",
        "outputId": "c2ee2c1c-b242-4735-bb67-328644bae65d"
      },
      "execution_count": null,
      "outputs": [
        {
          "output_type": "stream",
          "name": "stdout",
          "text": [
            "Dust all the rooms\n",
            "Arrange the living area\n",
            "Go and get drinks & snacks!\n",
            "Don't misbehave in front of the guests!\n",
            "Touch their feet when you greet them!\n"
          ]
        }
      ]
    },
    {
      "cell_type": "code",
      "source": [
        "prepare_for_guests() # Calling / Invoking the function"
      ],
      "metadata": {
        "colab": {
          "base_uri": "https://localhost:8080/"
        },
        "id": "DO-gnb3H-Olc",
        "outputId": "f3d7ee76-3474-42cb-a0e1-3d66174f9143"
      },
      "execution_count": null,
      "outputs": [
        {
          "output_type": "stream",
          "name": "stdout",
          "text": [
            "Dust all the rooms\n",
            "Arrange the living area\n",
            "Go and get drinks & snacks!\n",
            "Don't misbehave in front of the guests!\n",
            "Touch their feet when you greet them!\n"
          ]
        }
      ]
    },
    {
      "cell_type": "code",
      "source": [
        "prepare_for_guests() # Calling / Invoking the function"
      ],
      "metadata": {
        "colab": {
          "base_uri": "https://localhost:8080/"
        },
        "id": "CAHH632Q-Q2G",
        "outputId": "b2ae6f23-bb01-478a-fbf5-e800aef502d8"
      },
      "execution_count": null,
      "outputs": [
        {
          "output_type": "stream",
          "name": "stdout",
          "text": [
            "Dust all the rooms\n",
            "Arrange the living area\n",
            "Go and get drinks & snacks!\n",
            "Don't misbehave in front of the guests!\n",
            "Touch their feet when you greet them!\n"
          ]
        }
      ]
    },
    {
      "cell_type": "code",
      "source": [
        "def make_tea():\n",
        "    print(\"I am making tea\")"
      ],
      "metadata": {
        "id": "2H1ZpSMv-Rrq"
      },
      "execution_count": null,
      "outputs": []
    },
    {
      "cell_type": "code",
      "source": [
        "make_tea() # call"
      ],
      "metadata": {
        "colab": {
          "base_uri": "https://localhost:8080/"
        },
        "id": "-CPk8dp_-iU8",
        "outputId": "8d2cabf5-b96a-4f7c-dc97-da123e76f117"
      },
      "execution_count": null,
      "outputs": [
        {
          "output_type": "stream",
          "name": "stdout",
          "text": [
            "I am making tea\n"
          ]
        }
      ]
    },
    {
      "cell_type": "code",
      "source": [
        "for i in range(5):\n",
        "    make_tea()"
      ],
      "metadata": {
        "colab": {
          "base_uri": "https://localhost:8080/"
        },
        "id": "8IzUozB1-j35",
        "outputId": "02014d98-eef9-4a5d-bb32-5f190afaca4b"
      },
      "execution_count": null,
      "outputs": [
        {
          "output_type": "stream",
          "name": "stdout",
          "text": [
            "I am making tea\n",
            "I am making tea\n",
            "I am making tea\n",
            "I am making tea\n",
            "I am making tea\n"
          ]
        }
      ]
    },
    {
      "cell_type": "code",
      "source": [
        "def make_tea():\n",
        "  for i in range(5):\n",
        "    print(\"I am making tea\")\n",
        "\n",
        "make_tea()"
      ],
      "metadata": {
        "colab": {
          "base_uri": "https://localhost:8080/"
        },
        "id": "VLgbMmS5-yBu",
        "outputId": "382a23d0-440f-4d68-ab50-dcbf6625d4b9"
      },
      "execution_count": null,
      "outputs": [
        {
          "output_type": "stream",
          "name": "stdout",
          "text": [
            "I am making tea\n",
            "I am making tea\n",
            "I am making tea\n",
            "I am making tea\n",
            "I am making tea\n"
          ]
        }
      ]
    },
    {
      "cell_type": "code",
      "source": [
        "# Functions can accpet arguments or parameters\n",
        "\n",
        "def sheldon_knock(name):\n",
        "    print(\"knock knock \", name)"
      ],
      "metadata": {
        "id": "y2VYmov9_Aw3"
      },
      "execution_count": null,
      "outputs": []
    },
    {
      "cell_type": "code",
      "source": [
        "sheldon_knock(\"Shivani\")"
      ],
      "metadata": {
        "colab": {
          "base_uri": "https://localhost:8080/"
        },
        "id": "BzElOj8z_thT",
        "outputId": "783c82ae-8a38-44ec-de59-d1a7dc26e35e"
      },
      "execution_count": null,
      "outputs": [
        {
          "output_type": "stream",
          "name": "stdout",
          "text": [
            "knock knock  Shivani\n"
          ]
        }
      ]
    },
    {
      "cell_type": "code",
      "source": [
        "sheldon_knock(True)"
      ],
      "metadata": {
        "colab": {
          "base_uri": "https://localhost:8080/"
        },
        "id": "rvhmcxTv_zOa",
        "outputId": "630b0c67-84e9-4601-84bc-90a0cf1b61d8"
      },
      "execution_count": null,
      "outputs": [
        {
          "output_type": "stream",
          "name": "stdout",
          "text": [
            "knock knock  True\n"
          ]
        }
      ]
    },
    {
      "cell_type": "code",
      "source": [
        "def introduce_family(father, mother, sibling):\n",
        "    print(\"Father:\", father)\n",
        "    print(\"Mother:\", mother)\n",
        "    print(\"Sibling:\", sibling)"
      ],
      "metadata": {
        "id": "gPAkFfcI_7BO"
      },
      "execution_count": null,
      "outputs": []
    },
    {
      "cell_type": "code",
      "source": [
        "introduce_family(\"Srinivas\", \"Shivani\", \"Pratik\")"
      ],
      "metadata": {
        "colab": {
          "base_uri": "https://localhost:8080/"
        },
        "id": "IT00XeENAW_Z",
        "outputId": "53f01306-fefc-4308-8986-641ce9b9acc7"
      },
      "execution_count": null,
      "outputs": [
        {
          "output_type": "stream",
          "name": "stdout",
          "text": [
            "Father: Srinivas\n",
            "Mother: Shivani\n",
            "Sibling: Pratik\n"
          ]
        }
      ]
    },
    {
      "cell_type": "code",
      "source": [
        "introduce_family(\"Srinivas\", \"Shivani\")"
      ],
      "metadata": {
        "colab": {
          "base_uri": "https://localhost:8080/",
          "height": 141
        },
        "id": "Z7togUxyAgY8",
        "outputId": "6bdee2a9-8309-4897-9023-2d8272f3d83d"
      },
      "execution_count": null,
      "outputs": [
        {
          "output_type": "error",
          "ename": "TypeError",
          "evalue": "introduce_family() missing 1 required positional argument: 'sibling'",
          "traceback": [
            "\u001b[0;31m---------------------------------------------------------------------------\u001b[0m",
            "\u001b[0;31mTypeError\u001b[0m                                 Traceback (most recent call last)",
            "\u001b[0;32m<ipython-input-16-c6ee2a6136f7>\u001b[0m in \u001b[0;36m<cell line: 1>\u001b[0;34m()\u001b[0m\n\u001b[0;32m----> 1\u001b[0;31m \u001b[0mintroduce_family\u001b[0m\u001b[0;34m(\u001b[0m\u001b[0;34m\"Srinivas\"\u001b[0m\u001b[0;34m,\u001b[0m \u001b[0;34m\"Shivani\"\u001b[0m\u001b[0;34m)\u001b[0m\u001b[0;34m\u001b[0m\u001b[0;34m\u001b[0m\u001b[0m\n\u001b[0m",
            "\u001b[0;31mTypeError\u001b[0m: introduce_family() missing 1 required positional argument: 'sibling'"
          ]
        }
      ]
    },
    {
      "cell_type": "code",
      "source": [
        "introduce_family(\"Srinivas\", \"Shivani\", \"A\", \"B\")"
      ],
      "metadata": {
        "colab": {
          "base_uri": "https://localhost:8080/",
          "height": 141
        },
        "id": "Hfjbw4DzA0VY",
        "outputId": "445ef492-6e52-40cb-8a23-73b9d2e560a4"
      },
      "execution_count": null,
      "outputs": [
        {
          "output_type": "error",
          "ename": "TypeError",
          "evalue": "introduce_family() takes 3 positional arguments but 4 were given",
          "traceback": [
            "\u001b[0;31m---------------------------------------------------------------------------\u001b[0m",
            "\u001b[0;31mTypeError\u001b[0m                                 Traceback (most recent call last)",
            "\u001b[0;32m<ipython-input-17-053bce3d18a1>\u001b[0m in \u001b[0;36m<cell line: 1>\u001b[0;34m()\u001b[0m\n\u001b[0;32m----> 1\u001b[0;31m \u001b[0mintroduce_family\u001b[0m\u001b[0;34m(\u001b[0m\u001b[0;34m\"Srinivas\"\u001b[0m\u001b[0;34m,\u001b[0m \u001b[0;34m\"Shivani\"\u001b[0m\u001b[0;34m,\u001b[0m \u001b[0;34m\"A\"\u001b[0m\u001b[0;34m,\u001b[0m \u001b[0;34m\"B\"\u001b[0m\u001b[0;34m)\u001b[0m\u001b[0;34m\u001b[0m\u001b[0;34m\u001b[0m\u001b[0m\n\u001b[0m",
            "\u001b[0;31mTypeError\u001b[0m: introduce_family() takes 3 positional arguments but 4 were given"
          ]
        }
      ]
    },
    {
      "cell_type": "code",
      "source": [
        "def func(n):\n",
        "  for i in range(n):\n",
        "    print(\"hello\")"
      ],
      "metadata": {
        "id": "A7s4F2ssA9E-"
      },
      "execution_count": null,
      "outputs": []
    },
    {
      "cell_type": "code",
      "source": [
        "func(\"Hello\")"
      ],
      "metadata": {
        "colab": {
          "base_uri": "https://localhost:8080/",
          "height": 228
        },
        "id": "AUbkbRYkB4gb",
        "outputId": "1e01bedf-9b45-4017-8344-c61d06bcdd5f"
      },
      "execution_count": null,
      "outputs": [
        {
          "output_type": "error",
          "ename": "TypeError",
          "evalue": "'str' object cannot be interpreted as an integer",
          "traceback": [
            "\u001b[0;31m---------------------------------------------------------------------------\u001b[0m",
            "\u001b[0;31mTypeError\u001b[0m                                 Traceback (most recent call last)",
            "\u001b[0;32m<ipython-input-19-dbaa47b51de9>\u001b[0m in \u001b[0;36m<cell line: 1>\u001b[0;34m()\u001b[0m\n\u001b[0;32m----> 1\u001b[0;31m \u001b[0mfunc\u001b[0m\u001b[0;34m(\u001b[0m\u001b[0;34m\"Hello\"\u001b[0m\u001b[0;34m)\u001b[0m\u001b[0;34m\u001b[0m\u001b[0;34m\u001b[0m\u001b[0m\n\u001b[0m",
            "\u001b[0;32m<ipython-input-18-384426a734e0>\u001b[0m in \u001b[0;36mfunc\u001b[0;34m(n)\u001b[0m\n\u001b[1;32m      1\u001b[0m \u001b[0;32mdef\u001b[0m \u001b[0mfunc\u001b[0m\u001b[0;34m(\u001b[0m\u001b[0mn\u001b[0m\u001b[0;34m)\u001b[0m\u001b[0;34m:\u001b[0m\u001b[0;34m\u001b[0m\u001b[0;34m\u001b[0m\u001b[0m\n\u001b[0;32m----> 2\u001b[0;31m   \u001b[0;32mfor\u001b[0m \u001b[0mi\u001b[0m \u001b[0;32min\u001b[0m \u001b[0mrange\u001b[0m\u001b[0;34m(\u001b[0m\u001b[0mn\u001b[0m\u001b[0;34m)\u001b[0m\u001b[0;34m:\u001b[0m\u001b[0;34m\u001b[0m\u001b[0;34m\u001b[0m\u001b[0m\n\u001b[0m\u001b[1;32m      3\u001b[0m     \u001b[0mprint\u001b[0m\u001b[0;34m(\u001b[0m\u001b[0;34m\"hello\"\u001b[0m\u001b[0;34m)\u001b[0m\u001b[0;34m\u001b[0m\u001b[0;34m\u001b[0m\u001b[0m\n",
            "\u001b[0;31mTypeError\u001b[0m: 'str' object cannot be interpreted as an integer"
          ]
        }
      ]
    },
    {
      "cell_type": "code",
      "source": [
        "func(3.0)"
      ],
      "metadata": {
        "colab": {
          "base_uri": "https://localhost:8080/",
          "height": 228
        },
        "id": "7Hfu2dwpB7Dv",
        "outputId": "9abd308a-6876-470e-b412-462f0f05bce8"
      },
      "execution_count": null,
      "outputs": [
        {
          "output_type": "error",
          "ename": "TypeError",
          "evalue": "'float' object cannot be interpreted as an integer",
          "traceback": [
            "\u001b[0;31m---------------------------------------------------------------------------\u001b[0m",
            "\u001b[0;31mTypeError\u001b[0m                                 Traceback (most recent call last)",
            "\u001b[0;32m<ipython-input-21-d801d4a30be3>\u001b[0m in \u001b[0;36m<cell line: 1>\u001b[0;34m()\u001b[0m\n\u001b[0;32m----> 1\u001b[0;31m \u001b[0mfunc\u001b[0m\u001b[0;34m(\u001b[0m\u001b[0;36m3.0\u001b[0m\u001b[0;34m)\u001b[0m\u001b[0;34m\u001b[0m\u001b[0;34m\u001b[0m\u001b[0m\n\u001b[0m",
            "\u001b[0;32m<ipython-input-18-384426a734e0>\u001b[0m in \u001b[0;36mfunc\u001b[0;34m(n)\u001b[0m\n\u001b[1;32m      1\u001b[0m \u001b[0;32mdef\u001b[0m \u001b[0mfunc\u001b[0m\u001b[0;34m(\u001b[0m\u001b[0mn\u001b[0m\u001b[0;34m)\u001b[0m\u001b[0;34m:\u001b[0m\u001b[0;34m\u001b[0m\u001b[0;34m\u001b[0m\u001b[0m\n\u001b[0;32m----> 2\u001b[0;31m   \u001b[0;32mfor\u001b[0m \u001b[0mi\u001b[0m \u001b[0;32min\u001b[0m \u001b[0mrange\u001b[0m\u001b[0;34m(\u001b[0m\u001b[0mn\u001b[0m\u001b[0;34m)\u001b[0m\u001b[0;34m:\u001b[0m\u001b[0;34m\u001b[0m\u001b[0;34m\u001b[0m\u001b[0m\n\u001b[0m\u001b[1;32m      3\u001b[0m     \u001b[0mprint\u001b[0m\u001b[0;34m(\u001b[0m\u001b[0;34m\"hello\"\u001b[0m\u001b[0;34m)\u001b[0m\u001b[0;34m\u001b[0m\u001b[0;34m\u001b[0m\u001b[0m\n",
            "\u001b[0;31mTypeError\u001b[0m: 'float' object cannot be interpreted as an integer"
          ]
        }
      ]
    },
    {
      "cell_type": "code",
      "source": [
        "def print_money(amount):\n",
        "    print(2 * amount)"
      ],
      "metadata": {
        "id": "i_UbEdOGCDkF"
      },
      "execution_count": null,
      "outputs": []
    },
    {
      "cell_type": "code",
      "source": [
        "print_money(1000)"
      ],
      "metadata": {
        "colab": {
          "base_uri": "https://localhost:8080/"
        },
        "id": "FeBUYBPvD56t",
        "outputId": "4380d877-3f76-4c63-d30a-5df772ec918b"
      },
      "execution_count": null,
      "outputs": [
        {
          "output_type": "stream",
          "name": "stdout",
          "text": [
            "2000\n"
          ]
        }
      ]
    },
    {
      "cell_type": "code",
      "source": [
        "def return_money(amount):\n",
        "    return 2 * amount"
      ],
      "metadata": {
        "id": "9vas3zJ4D82G"
      },
      "execution_count": null,
      "outputs": []
    },
    {
      "cell_type": "code",
      "source": [
        "# store money in variable\n",
        "result_money = return_money(1000)\n",
        "result_money %= 5\n",
        "print(result_money)"
      ],
      "metadata": {
        "colab": {
          "base_uri": "https://localhost:8080/"
        },
        "id": "PHZTm-uiEEKs",
        "outputId": "6d5c8fb1-7fc7-4a48-8a38-5d6510202981"
      },
      "execution_count": null,
      "outputs": [
        {
          "output_type": "stream",
          "name": "stdout",
          "text": [
            "0\n"
          ]
        }
      ]
    },
    {
      "cell_type": "code",
      "source": [
        "# store money in variable\n",
        "result_money = print_money(1000)\n",
        "result_money %= 5\n",
        "print(result_money)"
      ],
      "metadata": {
        "colab": {
          "base_uri": "https://localhost:8080/",
          "height": 211
        },
        "id": "yX7-8HZIESLg",
        "outputId": "069302ac-b8ef-40b9-e8d1-4fa22527b403"
      },
      "execution_count": null,
      "outputs": [
        {
          "output_type": "stream",
          "name": "stdout",
          "text": [
            "2000\n"
          ]
        },
        {
          "output_type": "error",
          "ename": "TypeError",
          "evalue": "unsupported operand type(s) for %=: 'NoneType' and 'int'",
          "traceback": [
            "\u001b[0;31m---------------------------------------------------------------------------\u001b[0m",
            "\u001b[0;31mTypeError\u001b[0m                                 Traceback (most recent call last)",
            "\u001b[0;32m<ipython-input-26-4bde483a651a>\u001b[0m in \u001b[0;36m<cell line: 3>\u001b[0;34m()\u001b[0m\n\u001b[1;32m      1\u001b[0m \u001b[0;31m# store money in variable\u001b[0m\u001b[0;34m\u001b[0m\u001b[0;34m\u001b[0m\u001b[0m\n\u001b[1;32m      2\u001b[0m \u001b[0mresult_money\u001b[0m \u001b[0;34m=\u001b[0m \u001b[0mprint_money\u001b[0m\u001b[0;34m(\u001b[0m\u001b[0;36m1000\u001b[0m\u001b[0;34m)\u001b[0m\u001b[0;34m\u001b[0m\u001b[0;34m\u001b[0m\u001b[0m\n\u001b[0;32m----> 3\u001b[0;31m \u001b[0mresult_money\u001b[0m \u001b[0;34m%=\u001b[0m \u001b[0;36m5\u001b[0m\u001b[0;34m\u001b[0m\u001b[0;34m\u001b[0m\u001b[0m\n\u001b[0m\u001b[1;32m      4\u001b[0m \u001b[0mprint\u001b[0m\u001b[0;34m(\u001b[0m\u001b[0mresult_money\u001b[0m\u001b[0;34m)\u001b[0m\u001b[0;34m\u001b[0m\u001b[0;34m\u001b[0m\u001b[0m\n",
            "\u001b[0;31mTypeError\u001b[0m: unsupported operand type(s) for %=: 'NoneType' and 'int'"
          ]
        }
      ]
    },
    {
      "cell_type": "code",
      "source": [
        "type(return_money(100))"
      ],
      "metadata": {
        "colab": {
          "base_uri": "https://localhost:8080/"
        },
        "id": "jX5dDrMuEbhg",
        "outputId": "c9860c36-f2c3-48a9-c434-f212814d95e5"
      },
      "execution_count": null,
      "outputs": [
        {
          "output_type": "execute_result",
          "data": {
            "text/plain": [
              "int"
            ]
          },
          "metadata": {},
          "execution_count": 27
        }
      ]
    },
    {
      "cell_type": "code",
      "source": [
        "type(print_money(100))"
      ],
      "metadata": {
        "colab": {
          "base_uri": "https://localhost:8080/"
        },
        "id": "ho_cLwnBEqcb",
        "outputId": "bc6ac48e-87e9-4795-efc4-db0e9f1623f0"
      },
      "execution_count": null,
      "outputs": [
        {
          "output_type": "stream",
          "name": "stdout",
          "text": [
            "200\n"
          ]
        },
        {
          "output_type": "execute_result",
          "data": {
            "text/plain": [
              "NoneType"
            ]
          },
          "metadata": {},
          "execution_count": 28
        }
      ]
    },
    {
      "cell_type": "code",
      "source": [
        "def prepare_for_guests(): # Defining a function\n",
        "\n",
        "  # Body of the function\n",
        "  print(\"Dust all the rooms\")\n",
        "  print(\"Arrange the living area\")\n",
        "  print(\"Go and get drinks & snacks!\")\n",
        "  print(\"Don't misbehave in front of the guests!\")\n",
        "  print(\"Touch their feet when you greet them!\")"
      ],
      "metadata": {
        "id": "e9J0dn-yEu9M"
      },
      "execution_count": null,
      "outputs": []
    },
    {
      "cell_type": "code",
      "source": [
        "x = prepare_for_guests()"
      ],
      "metadata": {
        "colab": {
          "base_uri": "https://localhost:8080/"
        },
        "id": "fCjeXR36FZ6F",
        "outputId": "11759b15-716d-45e7-cda5-8b6851eb8f5e"
      },
      "execution_count": null,
      "outputs": [
        {
          "output_type": "stream",
          "name": "stdout",
          "text": [
            "Dust all the rooms\n",
            "Arrange the living area\n",
            "Go and get drinks & snacks!\n",
            "Don't misbehave in front of the guests!\n",
            "Touch their feet when you greet them!\n"
          ]
        }
      ]
    },
    {
      "cell_type": "code",
      "source": [
        "type(x)"
      ],
      "metadata": {
        "colab": {
          "base_uri": "https://localhost:8080/"
        },
        "id": "vAHetlEPFcTe",
        "outputId": "bd30fd61-a125-46a5-b7bf-1aa0c2b28245"
      },
      "execution_count": null,
      "outputs": [
        {
          "output_type": "execute_result",
          "data": {
            "text/plain": [
              "NoneType"
            ]
          },
          "metadata": {},
          "execution_count": 32
        }
      ]
    },
    {
      "cell_type": "code",
      "source": [
        "def do_something(n):  # n = 6\n",
        "  total = 0\n",
        "  i = 1\n",
        "  while i <= n:   # i = 7\n",
        "    total += i    # total = 0 + 1 + 2 + 3 + 4 + 5 + 6 = 21\n",
        "    i += 1\n",
        "  return total\n",
        "\n",
        "print(do_something(6))"
      ],
      "metadata": {
        "colab": {
          "base_uri": "https://localhost:8080/"
        },
        "id": "QZwfBF5rFqbA",
        "outputId": "2eaf9e6c-bb13-4967-d6ae-37e008f348e8"
      },
      "execution_count": null,
      "outputs": [
        {
          "output_type": "stream",
          "name": "stdout",
          "text": [
            "21\n"
          ]
        }
      ]
    },
    {
      "cell_type": "code",
      "source": [
        "help(print)"
      ],
      "metadata": {
        "colab": {
          "base_uri": "https://localhost:8080/"
        },
        "id": "e7mroUylGoWu",
        "outputId": "53e0f21a-5d5c-4fdb-c75d-3c2699fc452d"
      },
      "execution_count": null,
      "outputs": [
        {
          "output_type": "stream",
          "name": "stdout",
          "text": [
            "Help on built-in function print in module builtins:\n",
            "\n",
            "print(...)\n",
            "    print(value, ..., sep=' ', end='\\n', file=sys.stdout, flush=False)\n",
            "    \n",
            "    Prints the values to a stream, or to sys.stdout by default.\n",
            "    Optional keyword arguments:\n",
            "    file:  a file-like object (stream); defaults to the current sys.stdout.\n",
            "    sep:   string inserted between values, default a space.\n",
            "    end:   string appended after the last value, default a newline.\n",
            "    flush: whether to forcibly flush the stream.\n",
            "\n"
          ]
        }
      ]
    },
    {
      "cell_type": "code",
      "source": [
        "help(input)"
      ],
      "metadata": {
        "colab": {
          "base_uri": "https://localhost:8080/"
        },
        "id": "lDmfOhImH7bF",
        "outputId": "10ecf33d-fddb-4152-b237-554689dcbc5d"
      },
      "execution_count": null,
      "outputs": [
        {
          "output_type": "stream",
          "name": "stdout",
          "text": [
            "Help on method raw_input in module ipykernel.kernelbase:\n",
            "\n",
            "raw_input(prompt='') method of google.colab._kernel.Kernel instance\n",
            "    Forward raw_input to frontends\n",
            "    \n",
            "    Raises\n",
            "    ------\n",
            "    StdinNotImplementedError if active frontend doesn't support stdin.\n",
            "\n"
          ]
        }
      ]
    },
    {
      "cell_type": "code",
      "source": [
        "help(do_something)"
      ],
      "metadata": {
        "colab": {
          "base_uri": "https://localhost:8080/"
        },
        "id": "KPEvOF3cIAP9",
        "outputId": "7cac5a9c-74b7-4acf-e686-9b9ade32812d"
      },
      "execution_count": null,
      "outputs": [
        {
          "output_type": "stream",
          "name": "stdout",
          "text": [
            "Help on function do_something in module __main__:\n",
            "\n",
            "do_something(n)\n",
            "\n"
          ]
        }
      ]
    },
    {
      "cell_type": "code",
      "source": [
        "help(prepare_for_guests)"
      ],
      "metadata": {
        "colab": {
          "base_uri": "https://localhost:8080/"
        },
        "id": "_PMmIacBIHJv",
        "outputId": "90c5f411-e356-4bf6-cc7a-f1ecb3fdcb3d"
      },
      "execution_count": null,
      "outputs": [
        {
          "output_type": "stream",
          "name": "stdout",
          "text": [
            "Help on function prepare_for_guests in module __main__:\n",
            "\n",
            "prepare_for_guests()\n",
            "\n"
          ]
        }
      ]
    },
    {
      "cell_type": "code",
      "source": [
        "def do_something(n):  # n = 6\n",
        "  ''' Sum of N natural numbers. '''\n",
        "  total = 0\n",
        "  i = 1\n",
        "  while i <= n:   # i = 7\n",
        "    total += i    # total = 0 + 1 + 2 + 3 + 4 + 5 + 6 = 21\n",
        "    i += 1\n",
        "  return total"
      ],
      "metadata": {
        "id": "Q33_y6RfIOM0"
      },
      "execution_count": null,
      "outputs": []
    },
    {
      "cell_type": "code",
      "source": [
        "help(do_something)"
      ],
      "metadata": {
        "colab": {
          "base_uri": "https://localhost:8080/"
        },
        "id": "0TSMyayZI2QT",
        "outputId": "b9c9c08d-4c9f-47f7-f619-78fcccd8f960"
      },
      "execution_count": null,
      "outputs": [
        {
          "output_type": "stream",
          "name": "stdout",
          "text": [
            "Help on function do_something in module __main__:\n",
            "\n",
            "do_something(n)\n",
            "    Sum of N natural numbers.\n",
            "\n"
          ]
        }
      ]
    },
    {
      "cell_type": "code",
      "source": [
        "def prepare_for_guests(): # Defining a function\n",
        "  ''' List of steps that we should follow whenever there is a guest coming. '''\n",
        "  # Body of the function\n",
        "  print(\"Dust all the rooms\")\n",
        "  print(\"Arrange the living area\")\n",
        "  print(\"Go and get drinks & snacks!\")\n",
        "  print(\"Don't misbehave in front of the guests!\")\n",
        "  print(\"Touch their feet when you greet them!\")"
      ],
      "metadata": {
        "id": "GuapVp_3I6F9"
      },
      "execution_count": null,
      "outputs": []
    },
    {
      "cell_type": "code",
      "source": [
        "help(prepare_for_guests)"
      ],
      "metadata": {
        "colab": {
          "base_uri": "https://localhost:8080/"
        },
        "id": "rQ2BPEZaJmCF",
        "outputId": "69979089-434f-4af3-df1d-52acb9ad4b4e"
      },
      "execution_count": null,
      "outputs": [
        {
          "output_type": "stream",
          "name": "stdout",
          "text": [
            "Help on function prepare_for_guests in module __main__:\n",
            "\n",
            "prepare_for_guests()\n",
            "    List of steps that we should follow whenever there is a guest coming.\n",
            "\n"
          ]
        }
      ]
    },
    {
      "cell_type": "code",
      "source": [
        "def introduce_family(mother, father, sibling):\n",
        "    print(\"Father:\", father)\n",
        "    print(\"Mother:\", mother)\n",
        "    print(\"Sibling:\", sibling)"
      ],
      "metadata": {
        "id": "KWfPWBrBJpX5"
      },
      "execution_count": null,
      "outputs": []
    },
    {
      "cell_type": "code",
      "source": [
        "introduce_family(father=\"Srinivas\", mother=\"Shivani\", \"Pratik\")"
      ],
      "metadata": {
        "colab": {
          "base_uri": "https://localhost:8080/",
          "height": 106
        },
        "id": "c9MkZVfMLLZ_",
        "outputId": "41f9483a-9550-4f77-eb06-6a4d86e5c3c8"
      },
      "execution_count": null,
      "outputs": [
        {
          "output_type": "error",
          "ename": "SyntaxError",
          "evalue": "positional argument follows keyword argument (<ipython-input-47-3f98997f6c14>, line 1)",
          "traceback": [
            "\u001b[0;36m  File \u001b[0;32m\"<ipython-input-47-3f98997f6c14>\"\u001b[0;36m, line \u001b[0;32m1\u001b[0m\n\u001b[0;31m    introduce_family(father=\"Srinivas\", mother=\"Shivani\", \"Pratik\")\u001b[0m\n\u001b[0m                                                                  ^\u001b[0m\n\u001b[0;31mSyntaxError\u001b[0m\u001b[0;31m:\u001b[0m positional argument follows keyword argument\n"
          ]
        }
      ]
    },
    {
      "cell_type": "code",
      "source": [
        "introduce_family(\"Srinivas\", mother=\"Shivani\", sibling=\"Pratik\")"
      ],
      "metadata": {
        "colab": {
          "base_uri": "https://localhost:8080/",
          "height": 141
        },
        "id": "82HMUy6vLOa3",
        "outputId": "d4702b46-7201-4437-95a0-d0e7884621f2"
      },
      "execution_count": null,
      "outputs": [
        {
          "output_type": "error",
          "ename": "TypeError",
          "evalue": "introduce_family() got multiple values for argument 'mother'",
          "traceback": [
            "\u001b[0;31m---------------------------------------------------------------------------\u001b[0m",
            "\u001b[0;31mTypeError\u001b[0m                                 Traceback (most recent call last)",
            "\u001b[0;32m<ipython-input-63-da0dfd22553d>\u001b[0m in \u001b[0;36m<cell line: 1>\u001b[0;34m()\u001b[0m\n\u001b[0;32m----> 1\u001b[0;31m \u001b[0mintroduce_family\u001b[0m\u001b[0;34m(\u001b[0m\u001b[0;34m\"Srinivas\"\u001b[0m\u001b[0;34m,\u001b[0m \u001b[0mmother\u001b[0m\u001b[0;34m=\u001b[0m\u001b[0;34m\"Shivani\"\u001b[0m\u001b[0;34m,\u001b[0m \u001b[0msibling\u001b[0m\u001b[0;34m=\u001b[0m\u001b[0;34m\"Pratik\"\u001b[0m\u001b[0;34m)\u001b[0m\u001b[0;34m\u001b[0m\u001b[0;34m\u001b[0m\u001b[0m\n\u001b[0m",
            "\u001b[0;31mTypeError\u001b[0m: introduce_family() got multiple values for argument 'mother'"
          ]
        }
      ]
    },
    {
      "cell_type": "code",
      "source": [
        "introduce_family(\"Srinivas\", \"Shivani\", sibling=\"Pratik\")"
      ],
      "metadata": {
        "colab": {
          "base_uri": "https://localhost:8080/"
        },
        "id": "iB58wo6nMTXh",
        "outputId": "d0ed0c25-6568-453c-feb0-dd1c08ba7215"
      },
      "execution_count": null,
      "outputs": [
        {
          "output_type": "stream",
          "name": "stdout",
          "text": [
            "Father: Srinivas\n",
            "Mother: Shivani\n",
            "Sibling: Pratik\n"
          ]
        }
      ]
    },
    {
      "cell_type": "code",
      "source": [
        "def simple_interest(p, t=3, r=5):\n",
        "  interest = (p * r * t) / 100\n",
        "  return interest"
      ],
      "metadata": {
        "id": "a9QzC0cJM7lf"
      },
      "execution_count": null,
      "outputs": []
    },
    {
      "cell_type": "code",
      "source": [
        "simple_interest(2, 5, r = 3.0)"
      ],
      "metadata": {
        "colab": {
          "base_uri": "https://localhost:8080/"
        },
        "id": "utxm3VdZNOmC",
        "outputId": "3172420c-0fd6-4759-aeee-d0a617c17dfb"
      },
      "execution_count": null,
      "outputs": [
        {
          "output_type": "execute_result",
          "data": {
            "text/plain": [
              "0.3"
            ]
          },
          "metadata": {},
          "execution_count": 51
        }
      ]
    },
    {
      "cell_type": "code",
      "source": [
        "simple_interest(2, 5, 7)"
      ],
      "metadata": {
        "colab": {
          "base_uri": "https://localhost:8080/"
        },
        "id": "TVuYTkDfNYju",
        "outputId": "77dda33a-25a4-4009-d22c-b02c0ba5da20"
      },
      "execution_count": null,
      "outputs": [
        {
          "output_type": "execute_result",
          "data": {
            "text/plain": [
              "0.7"
            ]
          },
          "metadata": {},
          "execution_count": 57
        }
      ]
    },
    {
      "cell_type": "code",
      "source": [
        "x = 7"
      ],
      "metadata": {
        "id": "0qmwwLhqNggD"
      },
      "execution_count": null,
      "outputs": []
    },
    {
      "cell_type": "code",
      "source": [
        "x"
      ],
      "metadata": {
        "colab": {
          "base_uri": "https://localhost:8080/"
        },
        "id": "Tpxhnju5OJsd",
        "outputId": "a0124118-7dba-4c69-e0fb-504c77d2da26"
      },
      "execution_count": null,
      "outputs": [
        {
          "output_type": "execute_result",
          "data": {
            "text/plain": [
              "7"
            ]
          },
          "metadata": {},
          "execution_count": 59
        }
      ]
    },
    {
      "cell_type": "code",
      "source": [
        "def multiply(num1=3, num2):\n",
        "  return num1 * num2\n",
        "\n",
        "print(multiply(2, 4))"
      ],
      "metadata": {
        "colab": {
          "base_uri": "https://localhost:8080/",
          "height": 106
        },
        "id": "Gj7qnL3DOKfM",
        "outputId": "6b561e37-4062-434d-94e6-d84e1ee67a11"
      },
      "execution_count": null,
      "outputs": [
        {
          "output_type": "error",
          "ename": "SyntaxError",
          "evalue": "non-default argument follows default argument (<ipython-input-64-49eb9889cec6>, line 1)",
          "traceback": [
            "\u001b[0;36m  File \u001b[0;32m\"<ipython-input-64-49eb9889cec6>\"\u001b[0;36m, line \u001b[0;32m1\u001b[0m\n\u001b[0;31m    def multiply(num1=3, num2):\u001b[0m\n\u001b[0m                         ^\u001b[0m\n\u001b[0;31mSyntaxError\u001b[0m\u001b[0;31m:\u001b[0m non-default argument follows default argument\n"
          ]
        }
      ]
    },
    {
      "cell_type": "code",
      "source": [
        "def sum_of_three(x, y=3, z=4):  # 1, 3, 4\n",
        "  s = x + y + z\n",
        "  return s"
      ],
      "metadata": {
        "id": "4xMR24cWO1Q9"
      },
      "execution_count": null,
      "outputs": []
    },
    {
      "cell_type": "code",
      "source": [
        "sum_of_three(1, 2)"
      ],
      "metadata": {
        "colab": {
          "base_uri": "https://localhost:8080/"
        },
        "id": "mzJDWJvnPe_H",
        "outputId": "27fb2b30-ff21-4715-dd29-e4dcc6f2dd49"
      },
      "execution_count": null,
      "outputs": [
        {
          "output_type": "execute_result",
          "data": {
            "text/plain": [
              "7"
            ]
          },
          "metadata": {},
          "execution_count": 72
        }
      ]
    },
    {
      "cell_type": "code",
      "source": [
        "sum_of_three(1)"
      ],
      "metadata": {
        "colab": {
          "base_uri": "https://localhost:8080/"
        },
        "id": "Q1lp5a0mPiOm",
        "outputId": "92c2ff7f-9426-4c96-ff57-f9e25f15078f"
      },
      "execution_count": null,
      "outputs": [
        {
          "output_type": "execute_result",
          "data": {
            "text/plain": [
              "8"
            ]
          },
          "metadata": {},
          "execution_count": 74
        }
      ]
    },
    {
      "cell_type": "code",
      "source": [
        "def sum_of_three(x, y=3):\n",
        "  s = x + y\n",
        "  return s"
      ],
      "metadata": {
        "id": "kkkFjICCQIyk"
      },
      "execution_count": null,
      "outputs": []
    },
    {
      "cell_type": "code",
      "source": [
        "a = 10  # Global Variable\n",
        "\n",
        "def random():\n",
        "  a = 50  # Local Variable\n",
        "  print(\"Inside =\", a)\n",
        "\n",
        "print(\"Before =\", a)\n",
        "random()\n",
        "print(\"After =\", a)"
      ],
      "metadata": {
        "colab": {
          "base_uri": "https://localhost:8080/"
        },
        "id": "geWepI2LQlRx",
        "outputId": "b3bb4c0e-075c-400f-ae1f-e622defaa656"
      },
      "execution_count": null,
      "outputs": [
        {
          "output_type": "stream",
          "name": "stdout",
          "text": [
            "Before = 10\n",
            "Inside = 50\n",
            "After = 10\n"
          ]
        }
      ]
    },
    {
      "cell_type": "code",
      "source": [
        "a = 10  # Global Variable\n",
        "\n",
        "def random():\n",
        "  global a\n",
        "  a = 50  # Global Variable\n",
        "  print(\"Inside =\", a)\n",
        "\n",
        "print(\"Before =\", a)\n",
        "random()\n",
        "print(\"After =\", a)"
      ],
      "metadata": {
        "colab": {
          "base_uri": "https://localhost:8080/"
        },
        "id": "v7BGFpagRPQn",
        "outputId": "18a34e20-a21c-4929-a93a-e876f807236f"
      },
      "execution_count": null,
      "outputs": [
        {
          "output_type": "stream",
          "name": "stdout",
          "text": [
            "Before = 10\n",
            "Inside = 50\n",
            "After = 50\n"
          ]
        }
      ]
    },
    {
      "cell_type": "code",
      "source": [
        "def function(var):\n",
        "  print(var)\n",
        "\n",
        "function(3)\n",
        "\n",
        "var = 5\n",
        "function(var)"
      ],
      "metadata": {
        "colab": {
          "base_uri": "https://localhost:8080/"
        },
        "id": "C4upz2TfUOQR",
        "outputId": "c76ec3ac-f7dc-4c91-c996-3f19e1b42cee"
      },
      "execution_count": null,
      "outputs": [
        {
          "output_type": "stream",
          "name": "stdout",
          "text": [
            "3\n",
            "5\n"
          ]
        }
      ]
    },
    {
      "cell_type": "code",
      "source": [
        "# function_name = lambda arguments: expression\n",
        "\n",
        "def random(x):\n",
        "    return x + 10\n",
        "\n",
        "# random = lambda x: x + 10"
      ],
      "metadata": {
        "id": "OLa8-ToDUu9E"
      },
      "execution_count": null,
      "outputs": []
    },
    {
      "cell_type": "code",
      "source": [
        "random(5)"
      ],
      "metadata": {
        "colab": {
          "base_uri": "https://localhost:8080/"
        },
        "id": "w5ssRRCjVhWE",
        "outputId": "2ffa260b-a532-4561-a8c5-88a9f9c47fff"
      },
      "execution_count": null,
      "outputs": [
        {
          "output_type": "execute_result",
          "data": {
            "text/plain": [
              "15"
            ]
          },
          "metadata": {},
          "execution_count": 95
        }
      ]
    },
    {
      "cell_type": "code",
      "source": [
        "random = lambda x: x + 20"
      ],
      "metadata": {
        "id": "hl7N4culVl2S"
      },
      "execution_count": null,
      "outputs": []
    },
    {
      "cell_type": "code",
      "source": [
        "random(5)"
      ],
      "metadata": {
        "colab": {
          "base_uri": "https://localhost:8080/"
        },
        "id": "R-BB7t5lVofh",
        "outputId": "59d0443d-f602-4d33-fb46-d6cb4a7e5dec"
      },
      "execution_count": null,
      "outputs": [
        {
          "output_type": "execute_result",
          "data": {
            "text/plain": [
              "25"
            ]
          },
          "metadata": {},
          "execution_count": 99
        }
      ]
    },
    {
      "cell_type": "code",
      "source": [
        "(lambda x: x + 20)(5)"
      ],
      "metadata": {
        "colab": {
          "base_uri": "https://localhost:8080/"
        },
        "id": "nlGKEiBuVraP",
        "outputId": "6f730309-9973-48d7-8df6-38293125b8fa"
      },
      "execution_count": null,
      "outputs": [
        {
          "output_type": "execute_result",
          "data": {
            "text/plain": [
              "25"
            ]
          },
          "metadata": {},
          "execution_count": 100
        }
      ]
    },
    {
      "cell_type": "code",
      "source": [
        "(lambda : print(\"Hello Scaler\"))(\"Scaler\")"
      ],
      "metadata": {
        "colab": {
          "base_uri": "https://localhost:8080/",
          "height": 141
        },
        "id": "_RJEcUw7WIRm",
        "outputId": "80e53e91-7f75-45ba-cf38-3dd4ad205f84"
      },
      "execution_count": null,
      "outputs": [
        {
          "output_type": "error",
          "ename": "TypeError",
          "evalue": "<lambda>() takes 0 positional arguments but 1 was given",
          "traceback": [
            "\u001b[0;31m---------------------------------------------------------------------------\u001b[0m",
            "\u001b[0;31mTypeError\u001b[0m                                 Traceback (most recent call last)",
            "\u001b[0;32m<ipython-input-101-6a92729b329f>\u001b[0m in \u001b[0;36m<cell line: 1>\u001b[0;34m()\u001b[0m\n\u001b[0;32m----> 1\u001b[0;31m \u001b[0;34m(\u001b[0m\u001b[0;32mlambda\u001b[0m \u001b[0;34m:\u001b[0m \u001b[0mprint\u001b[0m\u001b[0;34m(\u001b[0m\u001b[0;34m\"Hello Scaler\"\u001b[0m\u001b[0;34m)\u001b[0m\u001b[0;34m)\u001b[0m\u001b[0;34m(\u001b[0m\u001b[0;34m\"Scaler\"\u001b[0m\u001b[0;34m)\u001b[0m\u001b[0;34m\u001b[0m\u001b[0;34m\u001b[0m\u001b[0m\n\u001b[0m",
            "\u001b[0;31mTypeError\u001b[0m: <lambda>() takes 0 positional arguments but 1 was given"
          ]
        }
      ]
    },
    {
      "cell_type": "code",
      "source": [
        "(lambda : return x + y)"
      ],
      "metadata": {
        "colab": {
          "base_uri": "https://localhost:8080/",
          "height": 106
        },
        "id": "8JZknie-WvRR",
        "outputId": "4eb6d39b-1a7c-483c-aad1-e6a238d940bf"
      },
      "execution_count": null,
      "outputs": [
        {
          "output_type": "error",
          "ename": "SyntaxError",
          "evalue": "invalid syntax (<ipython-input-102-d614f7f37fd4>, line 1)",
          "traceback": [
            "\u001b[0;36m  File \u001b[0;32m\"<ipython-input-102-d614f7f37fd4>\"\u001b[0;36m, line \u001b[0;32m1\u001b[0m\n\u001b[0;31m    (lambda : return x + y)\u001b[0m\n\u001b[0m              ^\u001b[0m\n\u001b[0;31mSyntaxError\u001b[0m\u001b[0;31m:\u001b[0m invalid syntax\n"
          ]
        }
      ]
    },
    {
      "cell_type": "code",
      "source": [
        "(lambda x: print(\"Hello Scaler\"))(\"Scaler\")"
      ],
      "metadata": {
        "colab": {
          "base_uri": "https://localhost:8080/"
        },
        "id": "zHvPIoYQXSfv",
        "outputId": "be7a908d-17e5-4d91-c816-b19e9c84731c"
      },
      "execution_count": null,
      "outputs": [
        {
          "output_type": "stream",
          "name": "stdout",
          "text": [
            "Hello Scaler\n"
          ]
        }
      ]
    },
    {
      "cell_type": "code",
      "source": [
        "(lambda x, y: x + y)(2, 3)"
      ],
      "metadata": {
        "colab": {
          "base_uri": "https://localhost:8080/"
        },
        "id": "oyR0JcGXXpsc",
        "outputId": "17b21bcc-279e-43d6-e9a5-cba83731127e"
      },
      "execution_count": null,
      "outputs": [
        {
          "output_type": "execute_result",
          "data": {
            "text/plain": [
              "5"
            ]
          },
          "metadata": {},
          "execution_count": 106
        }
      ]
    },
    {
      "cell_type": "code",
      "source": [
        "sum2 = lambda : x+y"
      ],
      "metadata": {
        "id": "tmB1gL5gX2-c"
      },
      "execution_count": null,
      "outputs": []
    },
    {
      "cell_type": "code",
      "source": [
        "x = 2\n",
        "y = 3\n",
        "\n",
        "\n",
        "def sum2():\n",
        "  return x+y"
      ],
      "metadata": {
        "id": "n43GvLJjYSvI"
      },
      "execution_count": null,
      "outputs": []
    },
    {
      "cell_type": "code",
      "source": [
        "sum2()"
      ],
      "metadata": {
        "colab": {
          "base_uri": "https://localhost:8080/"
        },
        "id": "wWmJD7r4ZFV2",
        "outputId": "de2c35dc-24b9-4cf4-c1c9-8a04b0cdc73d"
      },
      "execution_count": null,
      "outputs": [
        {
          "output_type": "execute_result",
          "data": {
            "text/plain": [
              "5"
            ]
          },
          "metadata": {},
          "execution_count": 112
        }
      ]
    },
    {
      "cell_type": "code",
      "source": [
        "(lambda x: print(\"hello\", x))(15)"
      ],
      "metadata": {
        "colab": {
          "base_uri": "https://localhost:8080/"
        },
        "id": "H0L0rXN6ZW46",
        "outputId": "54bb720d-a93a-4332-d4ef-2df5f1b2ba27"
      },
      "execution_count": null,
      "outputs": [
        {
          "output_type": "stream",
          "name": "stdout",
          "text": [
            "hello 15\n"
          ]
        }
      ]
    },
    {
      "cell_type": "code",
      "source": [
        "def prod(x, y):\n",
        "  return x * y"
      ],
      "metadata": {
        "id": "GW8wfG85Zpbe"
      },
      "execution_count": null,
      "outputs": []
    },
    {
      "cell_type": "code",
      "source": [],
      "metadata": {
        "id": "zD0vR82QbDWP"
      },
      "execution_count": null,
      "outputs": []
    }
  ]
}
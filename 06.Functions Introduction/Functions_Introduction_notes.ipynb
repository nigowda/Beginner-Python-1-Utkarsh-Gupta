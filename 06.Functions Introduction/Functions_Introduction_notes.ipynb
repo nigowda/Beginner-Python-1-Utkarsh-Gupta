{
  "nbformat": 4,
  "nbformat_minor": 0,
  "metadata": {
    "colab": {
      "provenance": [],
      "include_colab_link": true
    },
    "kernelspec": {
      "name": "python3",
      "display_name": "Python 3"
    },
    "language_info": {
      "name": "python"
    }
  },
  "cells": [
    {
      "cell_type": "markdown",
      "metadata": {
        "id": "view-in-github",
        "colab_type": "text"
      },
      "source": [
        "<a href=\"https://colab.research.google.com/github/nigowda/Beginner-Python-1-Utkarsh-Gupta/blob/main/06.Functions%20Introduction/Functions_Introduction_notes.ipynb\" target=\"_parent\"><img src=\"https://colab.research.google.com/assets/colab-badge.svg\" alt=\"Open In Colab\"/></a>"
      ]
    },
    {
      "cell_type": "markdown",
      "source": [
        "# Functions Introduction"
      ],
      "metadata": {
        "id": "108yYLEv0d8V"
      }
    },
    {
      "cell_type": "markdown",
      "source": [
        "---"
      ],
      "metadata": {
        "id": "OBk9K5mCUECR"
      }
    },
    {
      "cell_type": "markdown",
      "source": [
        "## Content\n",
        "\n",
        "1. What are functions?\n",
        "2. Function with parameters\n",
        "3. Function with default arguments\n",
        "4. Difference between `print` and `return`\n",
        "5. Positional and Keyword arguments\n",
        "6. Scope of Variables\n",
        "7. Lambda Functions"
      ],
      "metadata": {
        "id": "9Cu7yTEnLXSI"
      }
    },
    {
      "cell_type": "markdown",
      "source": [
        "---"
      ],
      "metadata": {
        "id": "X2hHuT_6UE-7"
      }
    },
    {
      "cell_type": "markdown",
      "source": [
        "### What are functions?\n",
        "\n",
        "- A function is a set of instructions that can be **called / invoked** whenever needed.\n",
        "- Once you've defined a function, you can use it multiple times throughout your program.\n",
        "- This reduces the effort of rewriting the same logic at different places."
      ],
      "metadata": {
        "id": "fUVPJjcztINB"
      }
    },
    {
      "cell_type": "markdown",
      "source": [
        "Code\n",
        "```python\n",
        "def prepare_for_guests(): # Defining a function\n",
        "  \n",
        "  # Body of the function\n",
        "  print(\"Dust all the rooms\")\n",
        "  print(\"Arrange the living area\")\n",
        "  print(\"Go and get drinks & snacks!\")\n",
        "  print(\"Don't misbehave in front of the guests!\")\n",
        "  print(\"Touch their feet when you greet them!\")\n",
        "\n",
        "prepare_for_guests() # Calling / Invoking the function\n",
        "```\n",
        "\n",
        "> Output\n",
        "\n",
        "    Dust all the rooms\n",
        "    Arrange the living area\n",
        "    Go and get drinks & snacks!\n",
        "    Don't misbehave in front of the guests!\n",
        "    Touch their feet when you greet them!"
      ],
      "metadata": {
        "id": "fXCvyYZ0swd6"
      }
    },
    {
      "cell_type": "markdown",
      "source": [
        "### **Question:** Write a piece of code which cooks tea.\n",
        "\n",
        "**Motivation:**\n",
        "- Focus on why encapsulation of code inside functions is good.\n",
        "- Clarify doubts (if any) on where functions are advantegous\n",
        "over loops."
      ],
      "metadata": {
        "id": "ngl8s_y_ukuF"
      }
    },
    {
      "cell_type": "code",
      "source": [
        "def make_tea():\n",
        "    print(\"I am making tea\")"
      ],
      "metadata": {
        "id": "C5m0EPxtuwZQ"
      },
      "execution_count": null,
      "outputs": []
    },
    {
      "cell_type": "code",
      "source": [
        "make_tea()"
      ],
      "metadata": {
        "colab": {
          "base_uri": "https://localhost:8080/"
        },
        "id": "Fjj23JBSu2r9",
        "outputId": "cf3c7fd2-ded1-445f-fbe8-25793d7ab577"
      },
      "execution_count": null,
      "outputs": [
        {
          "output_type": "stream",
          "name": "stdout",
          "text": [
            "I am making tea\n"
          ]
        }
      ]
    },
    {
      "cell_type": "code",
      "source": [
        "# We can use a For loop to call the function 5 times.\n",
        "\n",
        "for i in range(5):\n",
        "    make_tea()"
      ],
      "metadata": {
        "colab": {
          "base_uri": "https://localhost:8080/"
        },
        "id": "yWcBkSahu8Pj",
        "outputId": "313e60ce-e1a6-47d5-be81-34521e1304fe"
      },
      "execution_count": null,
      "outputs": [
        {
          "output_type": "stream",
          "name": "stdout",
          "text": [
            "I am making tea\n",
            "I am making tea\n",
            "I am making tea\n",
            "I am making tea\n",
            "I am making tea\n"
          ]
        }
      ]
    },
    {
      "cell_type": "code",
      "source": [
        "def make_tea():\n",
        "  for i in range(5):\n",
        "    print(\"I am making tea\")\n",
        "\n",
        "make_tea()"
      ],
      "metadata": {
        "colab": {
          "base_uri": "https://localhost:8080/"
        },
        "id": "yJ8aivX51hua",
        "outputId": "f4997d39-094b-4529-faa8-f584ed76c57f"
      },
      "execution_count": null,
      "outputs": [
        {
          "output_type": "stream",
          "name": "stdout",
          "text": [
            "I am making tea\n",
            "I am making tea\n",
            "I am making tea\n",
            "I am making tea\n",
            "I am making tea\n"
          ]
        }
      ]
    },
    {
      "cell_type": "markdown",
      "source": [
        "Encapsulating the independent logic into a separate entitiy/object to avoid code duplication."
      ],
      "metadata": {
        "id": "qcCFj-On1rt-"
      }
    },
    {
      "cell_type": "markdown",
      "source": [
        "---"
      ],
      "metadata": {
        "id": "02E5s01vAlfX"
      }
    },
    {
      "cell_type": "markdown",
      "source": [
        "### Functions with parameters -"
      ],
      "metadata": {
        "id": "mTw9FO1QvjUX"
      }
    },
    {
      "cell_type": "code",
      "source": [
        "# Functions can accpet arguments or parameters\n",
        "\n",
        "def sheldon_knock(name):\n",
        "    print(\"knock knock \", name)\n",
        "\n",
        "sheldon_knock(\"Bipin\")"
      ],
      "metadata": {
        "colab": {
          "base_uri": "https://localhost:8080/"
        },
        "id": "bJvTAOn61472",
        "outputId": "0a85e1f6-3e65-446a-882a-4575192c8554"
      },
      "execution_count": null,
      "outputs": [
        {
          "output_type": "stream",
          "name": "stdout",
          "text": [
            "knock knock knock Bipin\n",
            "knock knock knock Bipin\n",
            "knock knock knock Bipin\n"
          ]
        }
      ]
    },
    {
      "cell_type": "markdown",
      "source": [
        "### Functions that can take multiple inputs -\n",
        "\n",
        "**Motivation:**\n",
        "- Explain positional mapping of arguments.\n",
        "- Highlight errors that can occour if some argument is missing."
      ],
      "metadata": {
        "id": "uktOlM2K538P"
      }
    },
    {
      "cell_type": "code",
      "source": [
        "# Introduce my family!\n",
        "\n",
        "def introduce_family(father, mother, sibling):\n",
        "    print(\"Father:\", father)\n",
        "    print(\"Mother:\", mother)\n",
        "    print(\"Sibling:\", sibling)\n",
        "\n",
        "introduce_family(\"Deepak\", \"Deepa\", \"Vidhi\")"
      ],
      "metadata": {
        "colab": {
          "base_uri": "https://localhost:8080/"
        },
        "id": "zkx0OUFW2skH",
        "outputId": "829038de-ccc2-4199-944d-9d863a2fdf53"
      },
      "execution_count": null,
      "outputs": [
        {
          "output_type": "stream",
          "name": "stdout",
          "text": [
            "Father: Deepak\n",
            "Mother: Deepa\n",
            "Sibling: Vidhi\n"
          ]
        }
      ]
    },
    {
      "cell_type": "code",
      "source": [
        "# Raises a TypeError, because 1 argument i.e. sibling was not provided.\n",
        "\n",
        "introduce_family(\"A\", \"B\")"
      ],
      "metadata": {
        "colab": {
          "base_uri": "https://localhost:8080/",
          "height": 197
        },
        "id": "x3jo_Ee023Jb",
        "outputId": "2349b4d9-8f9c-4f42-c2d6-192f0d3b4ebc"
      },
      "execution_count": null,
      "outputs": [
        {
          "output_type": "error",
          "ename": "TypeError",
          "evalue": "ignored",
          "traceback": [
            "\u001b[0;31m---------------------------------------------------------------------------\u001b[0m",
            "\u001b[0;31mTypeError\u001b[0m                                 Traceback (most recent call last)",
            "\u001b[0;32m<ipython-input-10-231e98ef6f67>\u001b[0m in \u001b[0;36m<cell line: 2>\u001b[0;34m()\u001b[0m\n\u001b[1;32m      1\u001b[0m \u001b[0;31m# Raises a TypeError - because 1 argument, that is, sibling was not provided\u001b[0m\u001b[0;34m\u001b[0m\u001b[0;34m\u001b[0m\u001b[0m\n\u001b[0;32m----> 2\u001b[0;31m \u001b[0mintroduce_family\u001b[0m\u001b[0;34m(\u001b[0m\u001b[0;34m\"A\"\u001b[0m\u001b[0;34m,\u001b[0m \u001b[0;34m\"B\"\u001b[0m\u001b[0;34m)\u001b[0m\u001b[0;34m\u001b[0m\u001b[0;34m\u001b[0m\u001b[0m\n\u001b[0m",
            "\u001b[0;31mTypeError\u001b[0m: introduce_family() missing 1 required positional argument: 'sibling'"
          ]
        }
      ]
    },
    {
      "cell_type": "code",
      "source": [
        "# Raises a NameError, when passing more than defined arguments.\n",
        "\n",
        "introduce_family(\"A\", \"B\", \"C\", \"D\")"
      ],
      "metadata": {
        "colab": {
          "base_uri": "https://localhost:8080/",
          "height": 197
        },
        "id": "Z7phOn4-28FF",
        "outputId": "d677bd59-3139-4ada-cdff-926b14d09008"
      },
      "execution_count": null,
      "outputs": [
        {
          "output_type": "error",
          "ename": "TypeError",
          "evalue": "ignored",
          "traceback": [
            "\u001b[0;31m---------------------------------------------------------------------------\u001b[0m",
            "\u001b[0;31mTypeError\u001b[0m                                 Traceback (most recent call last)",
            "\u001b[0;32m<ipython-input-11-294cbaa167ab>\u001b[0m in \u001b[0;36m<cell line: 2>\u001b[0;34m()\u001b[0m\n\u001b[1;32m      1\u001b[0m \u001b[0;31m# Raises a NameError, when passing more than defined arguments\u001b[0m\u001b[0;34m\u001b[0m\u001b[0;34m\u001b[0m\u001b[0m\n\u001b[0;32m----> 2\u001b[0;31m \u001b[0mintroduce_family\u001b[0m\u001b[0;34m(\u001b[0m\u001b[0;34m\"A\"\u001b[0m\u001b[0;34m,\u001b[0m \u001b[0;34m\"B\"\u001b[0m\u001b[0;34m,\u001b[0m \u001b[0;34m\"C\"\u001b[0m\u001b[0;34m,\u001b[0m \u001b[0;34m\"D\"\u001b[0m\u001b[0;34m)\u001b[0m\u001b[0;34m\u001b[0m\u001b[0;34m\u001b[0m\u001b[0m\n\u001b[0m",
            "\u001b[0;31mTypeError\u001b[0m: introduce_family() takes 3 positional arguments but 4 were given"
          ]
        }
      ]
    },
    {
      "cell_type": "markdown",
      "source": [
        "### Quick Revision\n",
        "\n",
        "<img src=\"https://d2beiqkhq929f0.cloudfront.net/public_assets/assets/000/059/994/original/download.png?1703220381\" width = 600 height = 400>\n",
        "\n",
        "<img src=\"https://d2beiqkhq929f0.cloudfront.net/public_assets/assets/000/059/995/original/download_%281%29.png?1703220589\" width = 600 height = 350>"
      ],
      "metadata": {
        "id": "3x_hGsaM2RIf"
      }
    },
    {
      "cell_type": "markdown",
      "source": [
        "---"
      ],
      "metadata": {
        "id": "vBttwBNwUCL5"
      }
    },
    {
      "cell_type": "markdown",
      "source": [
        "### Quiz-1\n",
        "\n",
        "# Question\n",
        "Given a Python function :\n",
        "```python\n",
        "def func(n):\n",
        "  for i in range(n):\n",
        "    print(\"hello\")\n",
        "```\n",
        "In which of the following function calls, the code will get executed without any errors?\n",
        "# Choices\n",
        "- [ ] func(3.0)\n",
        "- [x] func(3)\n",
        "- [ ] func(\"hello\")\n",
        "- [ ] All of these"
      ],
      "metadata": {
        "id": "e_cDG9kuIKWQ"
      }
    },
    {
      "cell_type": "markdown",
      "source": [
        "---"
      ],
      "metadata": {
        "id": "m2IxCa_wUBMk"
      }
    },
    {
      "cell_type": "markdown",
      "source": [
        "### `return` keyword\n",
        "\n",
        "<img src=\"https://d2beiqkhq929f0.cloudfront.net/public_assets/assets/000/059/996/original/download_%282%29.png?1703220689\">"
      ],
      "metadata": {
        "id": "qFWhjABx3ciO"
      }
    },
    {
      "cell_type": "code",
      "source": [
        "def print_money(amount):\n",
        "    print(2 * amount)\n",
        "\n",
        "print_money(1000)"
      ],
      "metadata": {
        "colab": {
          "base_uri": "https://localhost:8080/"
        },
        "id": "Ok1s_lXf3WI2",
        "outputId": "07b2eda0-098b-439d-e759-c919b6892f80"
      },
      "execution_count": null,
      "outputs": [
        {
          "output_type": "stream",
          "name": "stdout",
          "text": [
            "2000\n"
          ]
        }
      ]
    },
    {
      "cell_type": "code",
      "source": [
        "def return_money(amount):\n",
        "    return 2 * amount"
      ],
      "metadata": {
        "id": "98OulIWX3s2C"
      },
      "execution_count": null,
      "outputs": []
    },
    {
      "cell_type": "code",
      "source": [
        "# store money in variable\n",
        "result_money = return_money(1000)\n",
        "print(result_money)"
      ],
      "metadata": {
        "colab": {
          "base_uri": "https://localhost:8080/"
        },
        "id": "ONomeriFWTQX",
        "outputId": "18991303-17d4-4a46-c59c-5d2bedc776bb"
      },
      "execution_count": null,
      "outputs": [
        {
          "output_type": "stream",
          "name": "stdout",
          "text": [
            "2000\n"
          ]
        }
      ]
    },
    {
      "cell_type": "markdown",
      "source": [
        "A function execution gets over the second we return from it."
      ],
      "metadata": {
        "id": "I-5poOZzWoZY"
      }
    },
    {
      "cell_type": "code",
      "source": [
        "def random():\n",
        "    print(\"before return\")\n",
        "    return 1\n",
        "    print(\"after return\")\n",
        "random()"
      ],
      "metadata": {
        "colab": {
          "base_uri": "https://localhost:8080/"
        },
        "id": "-rDS3WVk36w2",
        "outputId": "929c971d-a1bc-4d12-a6b4-4a455e84e77c"
      },
      "execution_count": null,
      "outputs": [
        {
          "output_type": "stream",
          "name": "stdout",
          "text": [
            "before return\n"
          ]
        },
        {
          "output_type": "execute_result",
          "data": {
            "text/plain": [
              "1"
            ]
          },
          "metadata": {},
          "execution_count": 5
        }
      ]
    },
    {
      "cell_type": "markdown",
      "source": [
        "---"
      ],
      "metadata": {
        "id": "z3GyiT9yUaqs"
      }
    },
    {
      "cell_type": "markdown",
      "source": [
        "### Quiz-2\n",
        "\n",
        "# Question\n",
        "What will be the output of the following code?\n",
        "```\n",
        "def do_something(n):\n",
        "    total = 0\n",
        "    i = 1\n",
        "    while i <= n:\n",
        "        total += i\n",
        "        i += 1\n",
        "    return total\n",
        "\n",
        "print(do_something(5))\n",
        "```\n",
        "# Choices\n",
        "- [ ] 5\n",
        "- [ ] 10\n",
        "- [x] 15\n",
        "- [ ] 25"
      ],
      "metadata": {
        "id": "_Eo400nqEBj3"
      }
    },
    {
      "cell_type": "markdown",
      "source": [
        "---"
      ],
      "metadata": {
        "id": "FNFbCcKGUkwr"
      }
    },
    {
      "cell_type": "markdown",
      "source": [
        "### Quiz-3\n",
        "\n",
        "# Question\n",
        "Consider the following Python code:\n",
        "```python\n",
        "def gcd(a, b):\n",
        "    while b != 0:\n",
        "        a, b = b, a % b\n",
        "    return a\n",
        "\n",
        "x = gcd(48, 180)\n",
        "print(x)\n",
        "```\n",
        "What will be the output of this code?\n",
        "# Chocies\n",
        "- [x] `12`\n",
        "- [ ] `36`\n",
        "- [ ] `6`\n",
        "- [ ] `18`\n"
      ],
      "metadata": {
        "id": "irNBU_QRKPLK"
      }
    },
    {
      "cell_type": "markdown",
      "source": [
        "---"
      ],
      "metadata": {
        "id": "RfWg3QZjCQ9G"
      }
    },
    {
      "cell_type": "markdown",
      "source": [
        "## Positional and Keyword arguments\n",
        "\n",
        "**Motivation:**\n",
        "Explain how positional arguments can cause problems and the role of keyword arguments."
      ],
      "metadata": {
        "id": "NPpo-MSyKqRS"
      }
    },
    {
      "cell_type": "code",
      "source": [
        "def introduce_family(my_name, sibling_name, father_name, mother_name):\n",
        "    print(\"My name is\", my_name)\n",
        "    print(\"My sibling's is\", sibling_name)\n",
        "    print(\"My father's is\", father_name)\n",
        "    print(\"My mother's is\", mother_name)\n",
        "\n",
        "# Giving arguments in incorrect order\n",
        "introduce_family(\"Nilesh\", \"Deepak\", \"Deepa\", \"Vidhi\")"
      ],
      "metadata": {
        "colab": {
          "base_uri": "https://localhost:8080/"
        },
        "id": "IUm6JaB_5Gi6",
        "outputId": "177e359d-e475-4673-ccc5-3581e13fe3dd"
      },
      "execution_count": null,
      "outputs": [
        {
          "output_type": "stream",
          "name": "stdout",
          "text": [
            "My name is Nilesh\n",
            "My sibling's is Deepak\n",
            "My father's is Deepa\n",
            "My mother's is Vidhi\n"
          ]
        }
      ]
    },
    {
      "cell_type": "code",
      "source": [
        "# keyword arguments\n",
        "introduce_family(my_name= \"Bipin\",\n",
        "                 father_name = \"Deepak\",\n",
        "                 mother_name = \"Deepa\",\n",
        "                 sibling_name = \"Vidhi\")"
      ],
      "metadata": {
        "colab": {
          "base_uri": "https://localhost:8080/"
        },
        "id": "PGeWHJcv5IR0",
        "outputId": "c84ac900-0f04-44e9-aa48-86a4d8a16840"
      },
      "execution_count": null,
      "outputs": [
        {
          "output_type": "stream",
          "name": "stdout",
          "text": [
            "My name is Bipin\n",
            "My sibling's is Vidhi\n",
            "My father's is Deepak\n",
            "My mother's is Deepa\n"
          ]
        }
      ]
    },
    {
      "cell_type": "markdown",
      "source": [
        "**Note:** We cannot have positional arguments after keyword arguments."
      ],
      "metadata": {
        "id": "_A_xkW9445Vp"
      }
    },
    {
      "cell_type": "markdown",
      "source": [
        "<img src=\"https://d2beiqkhq929f0.cloudfront.net/public_assets/assets/000/059/997/original/download_%283%29.png?1703221197\">"
      ],
      "metadata": {
        "id": "bZ_hpOic5YVO"
      }
    },
    {
      "cell_type": "markdown",
      "source": [
        "### **Setting default values to parameters -**"
      ],
      "metadata": {
        "id": "Cbvcq2Kj5nrh"
      }
    },
    {
      "cell_type": "markdown",
      "source": [
        "- We can set the value of parameter to some default argument.\n",
        "- This can only be done after defining the positional arguments."
      ],
      "metadata": {
        "id": "CtIRP6_35GGs"
      }
    },
    {
      "cell_type": "code",
      "source": [
        "def simple_interest(p, t, r = 5): # default argument\n",
        "    interest = (p * r * t) / 100\n",
        "    return interest\n",
        "\n",
        "simple_interest(50000, 3)"
      ],
      "metadata": {
        "colab": {
          "base_uri": "https://localhost:8080/"
        },
        "id": "FXzJvMwA5S8y",
        "outputId": "87c2a5cd-518d-4095-dc4a-9dfda2454e24"
      },
      "execution_count": null,
      "outputs": [
        {
          "output_type": "execute_result",
          "data": {
            "text/plain": [
              "7500.0"
            ]
          },
          "metadata": {},
          "execution_count": 23
        }
      ]
    },
    {
      "cell_type": "markdown",
      "source": [
        "### **So now two situations arise -**\n",
        "1. We pass all three values ```simple_interest(50000, 3, 10)```.\n",
        "  - In this case the function will use the values we passed to calculate the simple interest.\n",
        "  - It will not use the default value that is present.\n",
        "2. We do not pass anythin in place of the default argument ```simple_interest(50000, 3)```.\n",
        "  - In this case the function will use the default value to calculate the simple interest."
      ],
      "metadata": {
        "id": "7M-t_jFmUesE"
      }
    },
    {
      "cell_type": "markdown",
      "source": [
        "---"
      ],
      "metadata": {
        "id": "lnPJU_gn8hyr"
      }
    },
    {
      "cell_type": "markdown",
      "source": [
        "### Quiz-4\n",
        "\n",
        "# Question\n",
        "What will be the output of the following code?\n",
        "```python\n",
        "def multiply(num1=3, num2):\n",
        "    return num1 * num2\n",
        "\n",
        "print(multiply(2, 4))\n",
        "```\n",
        "# Choices\n",
        "- [ ] `8`\n",
        "- [ ] `TypeError`\n",
        "- [ ] `6`\n",
        "- [x] `SyntaxError`"
      ],
      "metadata": {
        "id": "D_w6Wd5CGj5V"
      }
    },
    {
      "cell_type": "markdown",
      "source": [
        "---"
      ],
      "metadata": {
        "id": "TJr7NYdE8jI5"
      }
    },
    {
      "cell_type": "markdown",
      "source": [
        "## Scope of Variables"
      ],
      "metadata": {
        "id": "hlFDhNgq6OGr"
      }
    },
    {
      "cell_type": "code",
      "source": [
        "a = 10 # Global Variable\n",
        "def random():\n",
        "    a = 50 # Local Variable\n",
        "    print(\"Inside -\", end = \" \")\n",
        "    print(a)\n",
        "random()\n",
        "\n",
        "print(\"Outside -\", end = \" \")\n",
        "print(a)"
      ],
      "metadata": {
        "colab": {
          "base_uri": "https://localhost:8080/"
        },
        "id": "Psu6GLZj6OkO",
        "outputId": "665e03d3-bff7-47bc-f962-f2bb5982d55f"
      },
      "execution_count": null,
      "outputs": [
        {
          "output_type": "stream",
          "name": "stdout",
          "text": [
            "Inside - 50\n",
            "Outside - 10\n"
          ]
        }
      ]
    },
    {
      "cell_type": "markdown",
      "source": [
        "* The variable ```a``` in the function above is defined within the block of that function. The variable \"a\" inside the function random is a ```local variable``` and is only accessible inside the function.\n",
        "* The variable ```a``` outside the function body is accesible anywhere in the code below and hence it is called a ```global variable```."
      ],
      "metadata": {
        "id": "CASIWS5E6TXd"
      }
    },
    {
      "cell_type": "code",
      "source": [
        "a = 10 # Global Variable\n",
        "\n",
        "# A local variable with name \"a\" is defined inside Random1.\n",
        "def random1():\n",
        "    a = 50 # Local Variable\n",
        "    print(\"Inside Random1 -\", end = \" \")\n",
        "    print(a)\n",
        "random()\n",
        "\n",
        "# No local variable with name \"a\" is defined inside Random2.\n",
        "def random2():\n",
        "    print(\"Inside Random2 -\", end = \" \")\n",
        "    print(a)\n",
        "random2()\n",
        "\n",
        "print(\"Outside -\", end = \" \")\n",
        "print(a)"
      ],
      "metadata": {
        "colab": {
          "base_uri": "https://localhost:8080/"
        },
        "id": "-y6FSiSJ6QGm",
        "outputId": "da80e0f5-53d6-429a-b216-5cd9bf87615f"
      },
      "execution_count": null,
      "outputs": [
        {
          "output_type": "stream",
          "name": "stdout",
          "text": [
            "Inside Random1- 50\n",
            "Inside Random2- 10\n",
            "Outside - 10\n"
          ]
        }
      ]
    },
    {
      "cell_type": "markdown",
      "source": [
        "* If there is **no** local definition of a variable **within** the function, and that variable is called/used from within a function's body, the function would just use the **global variable**."
      ],
      "metadata": {
        "id": "DpSxTpzK6fAu"
      }
    },
    {
      "cell_type": "markdown",
      "source": [
        "The `global` keyword in front of a variable name is used to tell python to use the global value of that variable."
      ],
      "metadata": {
        "id": "BVvh77Ex6lYF"
      }
    },
    {
      "cell_type": "code",
      "source": [
        "a = 10\n",
        "def random():\n",
        "    global a\n",
        "    a = 20\n",
        "    print(a)\n",
        "random()\n",
        "print(a)"
      ],
      "metadata": {
        "colab": {
          "base_uri": "https://localhost:8080/"
        },
        "id": "QxyMI2z26e1C",
        "outputId": "3bb4a581-f1c4-442a-c897-aaad1a52895d"
      },
      "execution_count": null,
      "outputs": [
        {
          "output_type": "stream",
          "name": "stdout",
          "text": [
            "20\n",
            "20\n"
          ]
        }
      ]
    },
    {
      "cell_type": "markdown",
      "source": [
        "---"
      ],
      "metadata": {
        "id": "3PxrkcEc8ebN"
      }
    },
    {
      "cell_type": "markdown",
      "source": [
        "### Quiz-5\n",
        "\n",
        "# Question\n",
        "What will be the output of the following code?\n",
        "```python\n",
        "def function(var):\n",
        "    print(var)\n",
        "\n",
        "function(3)\n",
        "\n",
        "var = 5\n",
        "function(var)\n",
        "```\n",
        "\n",
        "A.\n",
        "```\n",
        "3\n",
        "5\n",
        "```\n",
        "B.\n",
        "```\n",
        "3\n",
        "3\n",
        "```\n",
        "C.\n",
        "```\n",
        "5\n",
        "5\n",
        "```\n",
        "D.\n",
        "```\n",
        "5\n",
        "3\n",
        "```\n",
        "\n",
        "# Choices\n",
        "- [x] A\n",
        "- [ ] B\n",
        "- [ ] C\n",
        "- [ ] D"
      ],
      "metadata": {
        "id": "BG7nb65dG2Ok"
      }
    },
    {
      "cell_type": "markdown",
      "source": [
        "---"
      ],
      "metadata": {
        "id": "bDISuQ_28fnv"
      }
    },
    {
      "cell_type": "markdown",
      "source": [
        "##**Lambda Functions**"
      ],
      "metadata": {
        "id": "gjRuTgwWcK87"
      }
    },
    {
      "cell_type": "markdown",
      "source": [
        "Functions having a single return statement in its body, are easily convertible to a **lambda function**.\n",
        "\n",
        "**Syntax:**\n",
        "```\n",
        "function_name = lambda arguments: expression\n",
        "```\n",
        "\n",
        "- `lambda` is the keyword that signifies the creation of a lambda function.\n",
        "- `arguments` are the input parameters of the function.\n",
        "- `expression` is the single expression or operation that the function performs."
      ],
      "metadata": {
        "id": "fl6ARbiI7Dvz"
      }
    },
    {
      "cell_type": "code",
      "source": [
        "def random(x):\n",
        "    return x + 10\n",
        "\n",
        "random(5)"
      ],
      "metadata": {
        "colab": {
          "base_uri": "https://localhost:8080/"
        },
        "id": "aNhUii8c672x",
        "outputId": "1bccca06-c9bb-4594-d5b7-7a0b747bc16a"
      },
      "execution_count": null,
      "outputs": [
        {
          "output_type": "execute_result",
          "data": {
            "text/plain": [
              "15"
            ]
          },
          "metadata": {},
          "execution_count": 28
        }
      ]
    },
    {
      "cell_type": "code",
      "source": [
        "# lambda equivalent of above function\n",
        "\n",
        "random = lambda x: x + 10   # passing the argument x\n",
        "random(10)"
      ],
      "metadata": {
        "colab": {
          "base_uri": "https://localhost:8080/"
        },
        "id": "aOdozX_I7OCj",
        "outputId": "1f7a6ef5-113e-4623-afab-bea926ef64ee"
      },
      "execution_count": null,
      "outputs": [
        {
          "output_type": "execute_result",
          "data": {
            "text/plain": [
              "20"
            ]
          },
          "metadata": {},
          "execution_count": 30
        }
      ]
    },
    {
      "cell_type": "markdown",
      "source": [
        "-   An important feature of random functions is that they are called **anonymous functions**.\n",
        "-   We can omit or don't specify **function names** and directly define & call the function in **same line**."
      ],
      "metadata": {
        "id": "-NsjQCzw7d27"
      }
    },
    {
      "cell_type": "code",
      "source": [
        "(lambda x: x + 10)(5)  # 5 is being sent as a value to the argument x"
      ],
      "metadata": {
        "colab": {
          "base_uri": "https://localhost:8080/"
        },
        "id": "3f7hTlG37Viv",
        "outputId": "a9547fc7-17d0-4a10-cc28-013200d59ffa"
      },
      "execution_count": null,
      "outputs": [
        {
          "output_type": "execute_result",
          "data": {
            "text/plain": [
              "15"
            ]
          },
          "metadata": {},
          "execution_count": 31
        }
      ]
    },
    {
      "cell_type": "markdown",
      "source": [
        "---"
      ],
      "metadata": {
        "id": "cQqPSCRb_vnk"
      }
    },
    {
      "cell_type": "markdown",
      "source": [
        "### Quiz-6\n",
        "\n",
        "# Question\n",
        "What will be the output of the following code?\n",
        "```python\n",
        "(lambda : print(\"Hello Scaler\"))(\"Scaler\")\n",
        "```\n",
        "# Choices\n",
        "- [ ] Hello Scaler\n",
        "- [ ] Hello Scaler Scaler\n",
        "- [ ] Error, because lambda function cannot be called this way.\n",
        "- [x] Error, because lambda function takes 0 arguments but 1 is given."
      ],
      "metadata": {
        "id": "r9YUUagNHPzV"
      }
    },
    {
      "cell_type": "markdown",
      "source": [
        "---"
      ],
      "metadata": {
        "id": "hV9E-NPo_wwL"
      }
    }
  ]
}
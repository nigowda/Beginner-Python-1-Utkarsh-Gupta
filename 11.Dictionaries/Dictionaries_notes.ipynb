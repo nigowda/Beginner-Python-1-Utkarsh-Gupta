{
 "cells": [
  {
   "cell_type": "markdown",
   "metadata": {
    "colab_type": "text",
    "id": "view-in-github"
   },
   "source": [
    "<a href=\"https://colab.research.google.com/github/nigowda/Beginner-Python-1-Utkarsh-Gupta/blob/main/11.Dictionaries/Dictionaries_notes.ipynb\" target=\"_parent\"><img src=\"https://colab.research.google.com/assets/colab-badge.svg\" alt=\"Open In Colab\"/></a>"
   ]
  },
  {
   "cell_type": "markdown",
   "metadata": {
    "id": "tbTbtn8By3eY"
   },
   "source": [
    "# Dictionaries"
   ]
  },
  {
   "cell_type": "markdown",
   "metadata": {
    "id": "cFrJd0M_hCDy"
   },
   "source": [
    "---"
   ]
  },
  {
   "cell_type": "markdown",
   "metadata": {
    "id": "NNs-cWRLzFbD"
   },
   "source": [
    "## **Content**\n",
    "\n",
    "1. Motivation behind Dictionaries\n",
    "2. Creating a Dictionary\n",
    "3. Properties of Dictionaries\n",
    "4. Iterating over Dictionaries\n",
    "5. Sorting a Dictionary"
   ]
  },
  {
   "cell_type": "markdown",
   "metadata": {
    "id": "9u_oZXSohMaV"
   },
   "source": [
    "---"
   ]
  },
  {
   "cell_type": "markdown",
   "metadata": {
    "id": "NE9svD7mzvCJ"
   },
   "source": [
    "### **Quiz-1**\n",
    "\n",
    "What will be the output of the following?\n",
    "```\n",
    "s = {{1,2,3,4,5}}\n",
    "print(s)\n",
    "```\n",
    "\n",
    "Options:\n",
    "```\n",
    "A. {1,2,3,4,5}\n",
    "B. {{1,2,3,4,5}}\n",
    "C. {1}\n",
    "D. Error\n",
    "```\n",
    "\n",
    "* The correct answer is **Error**\n",
    "* Nested sets are not allowed in Python."
   ]
  },
  {
   "cell_type": "markdown",
   "metadata": {
    "id": "b4nFK08U9coq"
   },
   "source": [
    "---"
   ]
  },
  {
   "cell_type": "markdown",
   "metadata": {
    "id": "3YnBthJI0X5X"
   },
   "source": [
    "### **Quiz-2**\n",
    "What will be the output of the following?\n",
    "```\n",
    "t = [[1,2], [3,4], (5,6)]\n",
    "a, b = t[1]\n",
    "```\n",
    "Options:\n",
    "```\n",
    "A. a = 3 and b = 4\n",
    "B. a = 5 and b = 6\n",
    "C. a = [3,4] and b = (5,6)\n",
    "D. None of the above\n",
    "```\n",
    "* The correct answer is **Option A**."
   ]
  },
  {
   "cell_type": "markdown",
   "metadata": {
    "id": "oyrYrAN6hOXG"
   },
   "source": [
    "---"
   ]
  },
  {
   "cell_type": "markdown",
   "metadata": {
    "id": "PJmcAo551pM2"
   },
   "source": [
    "### **Motivation behind dictionaries - What do dictionaries signify in languages?**"
   ]
  },
  {
   "cell_type": "markdown",
   "metadata": {
    "id": "mJBQsJSM11Qo"
   },
   "source": [
    "* Dictionaries in languages can be used to store meaning of different words."
   ]
  },
  {
   "cell_type": "markdown",
   "metadata": {
    "id": "wVsXO3Mq2HeY"
   },
   "source": [
    "![Screenshot 2022-12-07 095859.png](data:image/png;base64,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)"
   ]
  },
  {
   "cell_type": "markdown",
   "metadata": {
    "id": "bHhZlz5j2K8W"
   },
   "source": [
    "* Python uses a syntax which is like a **key-value pair** with curly braces ```{ }``` around the elements."
   ]
  },
  {
   "cell_type": "markdown",
   "metadata": {
    "id": "QTY3aUoC2Xzw"
   },
   "source": [
    "### **Creating dictionaries in Python**"
   ]
  },
  {
   "cell_type": "markdown",
   "metadata": {
    "id": "3qS7rvxb29kp"
   },
   "source": [
    "* Curly Braces `{ }` around the values,.\n",
    "* Each value has two components - a **key** and a **value**."
   ]
  },
  {
   "cell_type": "code",
   "execution_count": null,
   "metadata": {
    "id": "pz1bMs0ryvYf"
   },
   "outputs": [],
   "source": [
    "a = {\n",
    "    \"random\": \"something which is not well defined\",\n",
    "    \"bizzare\": \"something which is unusual\"\n",
    "}"
   ]
  },
  {
   "cell_type": "code",
   "execution_count": null,
   "metadata": {
    "colab": {
     "base_uri": "https://localhost:8080/"
    },
    "id": "qca2oah440I3",
    "outputId": "9c20a626-1918-4acd-c611-bcb70db3ce73"
   },
   "outputs": [
    {
     "name": "stdout",
     "output_type": "stream",
     "text": [
      "<class 'dict'>\n"
     ]
    }
   ],
   "source": [
    "print(type(a))"
   ]
  },
  {
   "cell_type": "markdown",
   "metadata": {
    "id": "pcaJ7qcP3S-b"
   },
   "source": [
    "### **Why dictionaries?**"
   ]
  },
  {
   "cell_type": "markdown",
   "metadata": {
    "id": "ejDcZoPg3XTn"
   },
   "source": [
    "* Let's say you want to store the population of certain cities.\n",
    "* You can do something like this -"
   ]
  },
  {
   "cell_type": "code",
   "execution_count": null,
   "metadata": {
    "id": "4XHGTT5X3WkM"
   },
   "outputs": [],
   "source": [
    "city_wise_data = {\n",
    "    \"Delhi\": 450,\n",
    "    \"Mumbai\": 400,\n",
    "    \"Bengaluru\": 325\n",
    "}"
   ]
  },
  {
   "cell_type": "markdown",
   "metadata": {
    "id": "4xVrmEr93qpZ"
   },
   "source": [
    "* But why not just use nested tuples?"
   ]
  },
  {
   "cell_type": "code",
   "execution_count": null,
   "metadata": {
    "id": "xf5QeCGq3vI_"
   },
   "outputs": [],
   "source": [
    "city_wise_data_tup = [(\"Delhi\", 450), (\"Mumbai\", 400), (\"Bengaluru\", 325)]"
   ]
  },
  {
   "cell_type": "markdown",
   "metadata": {
    "id": "efbk_IhJ3-IT"
   },
   "source": [
    "* To access a list, we have to use indexing.\n",
    "* For that, we need to remember the order in which we kept all the elements."
   ]
  },
  {
   "cell_type": "code",
   "execution_count": null,
   "metadata": {
    "colab": {
     "base_uri": "https://localhost:8080/"
    },
    "id": "opMgrLJt380k",
    "outputId": "ae1d0f50-5654-4c39-c661-5e335aa63e23"
   },
   "outputs": [
    {
     "data": {
      "text/plain": [
       "('Mumbai', 400)"
      ]
     },
     "execution_count": 5,
     "metadata": {},
     "output_type": "execute_result"
    }
   ],
   "source": [
    "city_wise_data_tup[1]"
   ]
  },
  {
   "cell_type": "markdown",
   "metadata": {
    "id": "lk_d58G84JOm"
   },
   "source": [
    "* Dictionaries are **not ordered** or **subscriptable**.\n",
    "* You access a value directly by using its **key**."
   ]
  },
  {
   "cell_type": "code",
   "execution_count": null,
   "metadata": {
    "colab": {
     "base_uri": "https://localhost:8080/"
    },
    "id": "5oJ5vTXF4WSM",
    "outputId": "52a3fb2f-0e25-4a07-91db-c1fb58409894"
   },
   "outputs": [
    {
     "data": {
      "text/plain": [
       "325"
      ]
     },
     "execution_count": 6,
     "metadata": {},
     "output_type": "execute_result"
    }
   ],
   "source": [
    "city_wise_data[\"Bengaluru\"]"
   ]
  },
  {
   "cell_type": "markdown",
   "metadata": {
    "id": "gh1xP1w-RSTY"
   },
   "source": [
    "---"
   ]
  },
  {
   "cell_type": "markdown",
   "metadata": {
    "id": "PRZ8LkbV5NLe"
   },
   "source": [
    "### **Updating a dictionary**"
   ]
  },
  {
   "cell_type": "code",
   "execution_count": null,
   "metadata": {
    "id": "69rkEVTH5HNv"
   },
   "outputs": [],
   "source": [
    "a = {\n",
    "    \"Delhi\": 450,\n",
    "    \"Mumbai\": 400,\n",
    "    \"Bengaluru\": 325\n",
    "}"
   ]
  },
  {
   "cell_type": "code",
   "execution_count": null,
   "metadata": {
    "colab": {
     "base_uri": "https://localhost:8080/"
    },
    "id": "V6bzmAp75KWW",
    "outputId": "007fbd38-9a0f-42cc-c8a7-692ef431f386"
   },
   "outputs": [
    {
     "data": {
      "text/plain": [
       "{'Delhi': 500, 'Mumbai': 400, 'Bengaluru': 325}"
      ]
     },
     "execution_count": 8,
     "metadata": {},
     "output_type": "execute_result"
    }
   ],
   "source": [
    "a[\"Delhi\"] = 500\n",
    "\n",
    "# The value is updated\n",
    "a"
   ]
  },
  {
   "cell_type": "code",
   "execution_count": null,
   "metadata": {
    "colab": {
     "base_uri": "https://localhost:8080/"
    },
    "id": "fGgslAoX5gRc",
    "outputId": "4c211d07-033e-4c51-d9f0-ee9e1929842f"
   },
   "outputs": [
    {
     "data": {
      "text/plain": [
       "{'Delhi': 500, 'Mumbai': 400, 'Bengaluru': 325, 'New Delhi': 350}"
      ]
     },
     "execution_count": 9,
     "metadata": {},
     "output_type": "execute_result"
    }
   ],
   "source": [
    "a[\"New Delhi\"] = 350\n",
    "\n",
    "# Creates a new key\n",
    "a"
   ]
  },
  {
   "cell_type": "markdown",
   "metadata": {
    "id": "kRHcjedK6MKh"
   },
   "source": [
    "#### We can also use the ```.update()``` method to update the values of a dictionary."
   ]
  },
  {
   "cell_type": "code",
   "execution_count": null,
   "metadata": {
    "id": "TOqelyJk6CBt"
   },
   "outputs": [],
   "source": [
    "avenger = {\n",
    "    \"name\": \"Thor\",\n",
    "    \"age\": 1500,\n",
    "    \"weapon\": \"mjolnir\"\n",
    "}"
   ]
  },
  {
   "cell_type": "code",
   "execution_count": null,
   "metadata": {
    "id": "exlMSaAd6TX6"
   },
   "outputs": [],
   "source": [
    "# Old keys will be updated\n",
    "# New keys will be added\n",
    "\n",
    "avenger.update(\n",
    "    {\"name\": \"Thor Odinson\",\n",
    "     \"weapon\": [\"mjonir\", \"stormbreaker\"],\n",
    "     \"strongest\": True}\n",
    ")"
   ]
  },
  {
   "cell_type": "code",
   "execution_count": null,
   "metadata": {
    "colab": {
     "base_uri": "https://localhost:8080/"
    },
    "id": "OhsspJ2w6ug-",
    "outputId": "02960b04-9bb3-43e7-e8a5-2cc32b9782ae"
   },
   "outputs": [
    {
     "data": {
      "text/plain": [
       "{'name': 'Thor Odinson',\n",
       " 'age': 1500,\n",
       " 'weapon': ['mjonir', 'stormbreaker'],\n",
       " 'strongest': True}"
      ]
     },
     "execution_count": 12,
     "metadata": {},
     "output_type": "execute_result"
    }
   ],
   "source": [
    "avenger"
   ]
  },
  {
   "cell_type": "markdown",
   "metadata": {
    "id": "FCFZ-BMQ6ubK"
   },
   "source": [
    "### **Another way of accessing values of a dictionary**"
   ]
  },
  {
   "cell_type": "code",
   "execution_count": null,
   "metadata": {
    "id": "0h6QEuNG7NZD"
   },
   "outputs": [],
   "source": [
    "random = {\n",
    "    \"a\": 1,\n",
    "    \"b\": 2,\n",
    "    \"c\": 3\n",
    "}"
   ]
  },
  {
   "cell_type": "code",
   "execution_count": null,
   "metadata": {
    "colab": {
     "base_uri": "https://localhost:8080/"
    },
    "id": "L3CdzigF72Ms",
    "outputId": "851ce7b3-893a-4c4b-fc00-807cb98b47de"
   },
   "outputs": [
    {
     "name": "stdout",
     "output_type": "stream",
     "text": [
      "1\n"
     ]
    }
   ],
   "source": [
    "result = random.get(\"a\")\n",
    "print(result)"
   ]
  },
  {
   "cell_type": "code",
   "execution_count": null,
   "metadata": {
    "colab": {
     "base_uri": "https://localhost:8080/",
     "height": 214
    },
    "id": "sofp7N2Sk9c4",
    "outputId": "bbef991f-216d-4980-cf04-c72e6e9d1267"
   },
   "outputs": [
    {
     "ename": "KeyError",
     "evalue": "'d'",
     "output_type": "error",
     "traceback": [
      "\u001b[0;31m---------------------------------------------------------------------------\u001b[0m",
      "\u001b[0;31mKeyError\u001b[0m                                  Traceback (most recent call last)",
      "\u001b[0;32m<ipython-input-16-b9b570f01fff>\u001b[0m in \u001b[0;36m<cell line: 1>\u001b[0;34m()\u001b[0m\n\u001b[0;32m----> 1\u001b[0;31m \u001b[0mrandom\u001b[0m\u001b[0;34m[\u001b[0m\u001b[0;34m\"d\"\u001b[0m\u001b[0;34m]\u001b[0m\u001b[0;34m\u001b[0m\u001b[0;34m\u001b[0m\u001b[0m\n\u001b[0m",
      "\u001b[0;31mKeyError\u001b[0m: 'd'"
     ]
    }
   ],
   "source": [
    "random[\"d\"]"
   ]
  },
  {
   "cell_type": "code",
   "execution_count": null,
   "metadata": {
    "colab": {
     "base_uri": "https://localhost:8080/"
    },
    "id": "86rYKZ57Wn3g",
    "outputId": "1547e152-aa65-479c-f597-5bd0f71f4463"
   },
   "outputs": [
    {
     "name": "stdout",
     "output_type": "stream",
     "text": [
      "None\n"
     ]
    }
   ],
   "source": [
    "result = random.get(\"d\")\n",
    "print(result)"
   ]
  },
  {
   "cell_type": "markdown",
   "metadata": {
    "id": "0EtZB9sL8VCI"
   },
   "source": [
    "### **How do we remove a key?**"
   ]
  },
  {
   "cell_type": "code",
   "execution_count": null,
   "metadata": {
    "id": "eQcpZCJM8RA6"
   },
   "outputs": [],
   "source": [
    "random = {\n",
    "    \"a\": 1,\n",
    "    \"b\": 2,\n",
    "    \"c\": 3\n",
    "}"
   ]
  },
  {
   "cell_type": "code",
   "execution_count": null,
   "metadata": {
    "colab": {
     "base_uri": "https://localhost:8080/"
    },
    "id": "zFmrqtrm8bkt",
    "outputId": "27cc8d99-4247-45a3-88b9-d411115ebdb0"
   },
   "outputs": [
    {
     "data": {
      "text/plain": [
       "2"
      ]
     },
     "execution_count": 19,
     "metadata": {},
     "output_type": "execute_result"
    }
   ],
   "source": [
    "random.pop(\"b\")"
   ]
  },
  {
   "cell_type": "code",
   "execution_count": null,
   "metadata": {
    "colab": {
     "base_uri": "https://localhost:8080/"
    },
    "id": "jvjJKp58lcO7",
    "outputId": "05f5ad46-d82d-4836-90e6-e4141788ed63"
   },
   "outputs": [
    {
     "data": {
      "text/plain": [
       "{'a': 1, 'c': 3}"
      ]
     },
     "execution_count": 20,
     "metadata": {},
     "output_type": "execute_result"
    }
   ],
   "source": [
    "random"
   ]
  },
  {
   "cell_type": "markdown",
   "metadata": {
    "id": "PquhF_MM8w5x"
   },
   "source": [
    "#### We need at least 1 argument when using ```.pop()``` on Dictionaries."
   ]
  },
  {
   "cell_type": "code",
   "execution_count": null,
   "metadata": {
    "colab": {
     "base_uri": "https://localhost:8080/",
     "height": 214
    },
    "id": "12ffVCb38tFT",
    "outputId": "f693b89f-c81d-452d-daee-d2f6bbcdd190"
   },
   "outputs": [
    {
     "ename": "TypeError",
     "evalue": "pop expected at least 1 argument, got 0",
     "output_type": "error",
     "traceback": [
      "\u001b[0;31m---------------------------------------------------------------------------\u001b[0m",
      "\u001b[0;31mTypeError\u001b[0m                                 Traceback (most recent call last)",
      "\u001b[0;32m<ipython-input-21-06bcf8527137>\u001b[0m in \u001b[0;36m<cell line: 1>\u001b[0;34m()\u001b[0m\n\u001b[0;32m----> 1\u001b[0;31m \u001b[0mrandom\u001b[0m\u001b[0;34m.\u001b[0m\u001b[0mpop\u001b[0m\u001b[0;34m(\u001b[0m\u001b[0;34m)\u001b[0m \u001b[0;31m# TypeError\u001b[0m\u001b[0;34m\u001b[0m\u001b[0;34m\u001b[0m\u001b[0m\n\u001b[0m",
      "\u001b[0;31mTypeError\u001b[0m: pop expected at least 1 argument, got 0"
     ]
    }
   ],
   "source": [
    "random.pop() # TypeError"
   ]
  },
  {
   "cell_type": "markdown",
   "metadata": {
    "id": "aXDcc4VBXF49"
   },
   "source": [
    "---"
   ]
  },
  {
   "cell_type": "markdown",
   "metadata": {
    "id": "4FMDHfZX9dgH"
   },
   "source": [
    "## **Iterating over dictionaries**"
   ]
  },
  {
   "cell_type": "code",
   "execution_count": null,
   "metadata": {
    "id": "zY5UXN0B9knc"
   },
   "outputs": [],
   "source": [
    "a = {'name': 'Thor Odinson',\n",
    "    'age': 1500,\n",
    "    'weapon': ['mjonir', 'stormbreaker'],\n",
    "    'strongest': True}"
   ]
  },
  {
   "cell_type": "markdown",
   "metadata": {
    "id": "0ciRnssl96Rm"
   },
   "source": [
    "* The iterable gets all the keys as values."
   ]
  },
  {
   "cell_type": "code",
   "execution_count": null,
   "metadata": {
    "colab": {
     "base_uri": "https://localhost:8080/"
    },
    "id": "gS6xtOls92-E",
    "outputId": "6a523358-e3d9-4a46-983f-ea8f4ab7fab0"
   },
   "outputs": [
    {
     "name": "stdout",
     "output_type": "stream",
     "text": [
      "name\n",
      "age\n",
      "weapon\n",
      "strongest\n"
     ]
    }
   ],
   "source": [
    "for i in a:\n",
    "    print(i)"
   ]
  },
  {
   "cell_type": "markdown",
   "metadata": {
    "id": "VNwNKwW3-CLF"
   },
   "source": [
    "* To get the values we can do something as follows:"
   ]
  },
  {
   "cell_type": "code",
   "execution_count": null,
   "metadata": {
    "colab": {
     "base_uri": "https://localhost:8080/"
    },
    "id": "ZHSnm-_g99qs",
    "outputId": "78e0abfe-9ec6-4b63-f925-a9e48cdac8d5"
   },
   "outputs": [
    {
     "name": "stdout",
     "output_type": "stream",
     "text": [
      "Thor Odinson\n",
      "1500\n",
      "['mjonir', 'stormbreaker']\n",
      "True\n"
     ]
    }
   ],
   "source": [
    "for i in a:\n",
    "    print(a[i])"
   ]
  },
  {
   "cell_type": "code",
   "execution_count": null,
   "metadata": {
    "colab": {
     "base_uri": "https://localhost:8080/"
    },
    "id": "edJB36xg-IK-",
    "outputId": "bfdbebeb-4ebf-4756-ceb4-14cbcb1541ac"
   },
   "outputs": [
    {
     "name": "stdout",
     "output_type": "stream",
     "text": [
      "name -> Thor Odinson\n",
      "age -> 1500\n",
      "weapon -> ['mjonir', 'stormbreaker']\n",
      "strongest -> True\n"
     ]
    }
   ],
   "source": [
    "for i in a:\n",
    "    print(f\"{i} -> {a[i]}\")"
   ]
  },
  {
   "cell_type": "markdown",
   "metadata": {
    "id": "Ayt0rs52Z1RK"
   },
   "source": [
    "---"
   ]
  },
  {
   "cell_type": "markdown",
   "metadata": {
    "id": "VgivkDQg-X_X"
   },
   "source": [
    "#### The ```.keys()``` method can be used to get a list of all the keys in a dictionary."
   ]
  },
  {
   "cell_type": "code",
   "execution_count": null,
   "metadata": {
    "colab": {
     "base_uri": "https://localhost:8080/"
    },
    "id": "xPhGx4wA-SZo",
    "outputId": "b1cb3ad7-85b4-49b3-eebc-d883c6baeffb"
   },
   "outputs": [
    {
     "data": {
      "text/plain": [
       "dict_keys(['name', 'age', 'weapon', 'strongest'])"
      ]
     },
     "execution_count": 26,
     "metadata": {},
     "output_type": "execute_result"
    }
   ],
   "source": [
    "a.keys()"
   ]
  },
  {
   "cell_type": "markdown",
   "metadata": {
    "id": "mEAjhlbh-jqy"
   },
   "source": [
    "#### The ```.values()``` method can be used to get a list of all the values in a dictionary."
   ]
  },
  {
   "cell_type": "code",
   "execution_count": null,
   "metadata": {
    "colab": {
     "base_uri": "https://localhost:8080/"
    },
    "id": "EGAHL91W-jQc",
    "outputId": "49121c9d-15f6-411b-fcd6-574970c80f72"
   },
   "outputs": [
    {
     "data": {
      "text/plain": [
       "dict_values(['Thor Odinson', 1500, ['mjonir', 'stormbreaker'], True])"
      ]
     },
     "execution_count": 27,
     "metadata": {},
     "output_type": "execute_result"
    }
   ],
   "source": [
    "a.values()"
   ]
  },
  {
   "cell_type": "markdown",
   "metadata": {
    "id": "C2XcbadQ-sqU"
   },
   "source": [
    "#### The ```.items()``` method can be used to get a list of all the key-value pairs in a dictionary."
   ]
  },
  {
   "cell_type": "code",
   "execution_count": null,
   "metadata": {
    "colab": {
     "base_uri": "https://localhost:8080/"
    },
    "id": "3HO13UKO-wzN",
    "outputId": "4a5af6c1-a377-488f-9e77-e8803e070350"
   },
   "outputs": [
    {
     "data": {
      "text/plain": [
       "dict_items([('name', 'Thor Odinson'), ('age', 1500), ('weapon', ['mjonir', 'stormbreaker']), ('strongest', True)])"
      ]
     },
     "execution_count": 28,
     "metadata": {},
     "output_type": "execute_result"
    }
   ],
   "source": [
    "a.items()"
   ]
  },
  {
   "cell_type": "code",
   "execution_count": null,
   "metadata": {
    "colab": {
     "base_uri": "https://localhost:8080/"
    },
    "id": "awirpe-y-3OI",
    "outputId": "58d10094-37f4-4bbd-f4df-93955b2c0e44"
   },
   "outputs": [
    {
     "name": "stdout",
     "output_type": "stream",
     "text": [
      "name -> Thor Odinson\n",
      "age -> 1500\n",
      "weapon -> ['mjonir', 'stormbreaker']\n",
      "strongest -> True\n"
     ]
    }
   ],
   "source": [
    "for key, value in a.items():\n",
    "    print(f\"{key} -> {value}\")"
   ]
  },
  {
   "cell_type": "markdown",
   "metadata": {
    "id": "EdZuF7fqZzz_"
   },
   "source": [
    "---"
   ]
  },
  {
   "cell_type": "markdown",
   "metadata": {
    "id": "clN2pQ3__sRF"
   },
   "source": [
    "### **How do we check if a key exists within a dictionary?**"
   ]
  },
  {
   "cell_type": "markdown",
   "metadata": {
    "id": "xwOusdq4_6BC"
   },
   "source": [
    "* We can simply use the ```in``` membership operator to achieve this."
   ]
  },
  {
   "cell_type": "code",
   "execution_count": null,
   "metadata": {
    "colab": {
     "base_uri": "https://localhost:8080/"
    },
    "id": "wBrXT1Cf_n3G",
    "outputId": "42be9b7c-f335-4b47-8d31-a237204befe7"
   },
   "outputs": [
    {
     "data": {
      "text/plain": [
       "True"
      ]
     },
     "execution_count": 30,
     "metadata": {},
     "output_type": "execute_result"
    }
   ],
   "source": [
    "\"strongest\" in a.keys()"
   ]
  },
  {
   "cell_type": "code",
   "execution_count": null,
   "metadata": {
    "colab": {
     "base_uri": "https://localhost:8080/"
    },
    "id": "t-go0OMbADT8",
    "outputId": "ac9771bd-26d8-45e8-b5cf-dca1f36356eb"
   },
   "outputs": [
    {
     "data": {
      "text/plain": [
       "False"
      ]
     },
     "execution_count": 31,
     "metadata": {},
     "output_type": "execute_result"
    }
   ],
   "source": [
    "\"asdasd\" in a.keys()"
   ]
  },
  {
   "cell_type": "markdown",
   "metadata": {
    "id": "4lzfxhYBAPoy"
   },
   "source": [
    "### **Can we have object of any datatype as a key in a dictionary?**"
   ]
  },
  {
   "cell_type": "markdown",
   "metadata": {
    "id": "oS3Ta_gvAZFB"
   },
   "source": [
    "* While discussing sets, we talked about how we cannot have **sets**, **dictionaries** and **lists** as elements of sets because they are **mutable**.\n",
    "\n",
    "* This is the exact same case with dictionaries.\n",
    "  * **Values** - Can store any data structure or any data type.\n",
    "  * **Keys** - Lists, Sets and Dictionaries are not allowed."
   ]
  },
  {
   "cell_type": "code",
   "execution_count": null,
   "metadata": {
    "id": "7tbr1_OZAYuf"
   },
   "outputs": [],
   "source": [
    "# Allowed\n",
    "random = {\n",
    "    \"key1\": [45, 56, 78],\n",
    "    \"key2\": {\n",
    "        \"key3\": (1, 2, 3)\n",
    "    },\n",
    "    45: \"value3\",\n",
    "    56.78: \"678\",\n",
    "    (1,2,3): \"random value\"\n",
    "}"
   ]
  },
  {
   "cell_type": "code",
   "execution_count": null,
   "metadata": {
    "colab": {
     "base_uri": "https://localhost:8080/",
     "height": 286
    },
    "id": "K9nTO9cPBZHI",
    "outputId": "3ad3461e-0674-451a-b496-6dd6d16e4030"
   },
   "outputs": [
    {
     "ename": "TypeError",
     "evalue": "unhashable type: 'list'",
     "output_type": "error",
     "traceback": [
      "\u001b[0;31m---------------------------------------------------------------------------\u001b[0m",
      "\u001b[0;31mTypeError\u001b[0m                                 Traceback (most recent call last)",
      "\u001b[0;32m<ipython-input-33-a5e17c96aade>\u001b[0m in \u001b[0;36m<cell line: 3>\u001b[0;34m()\u001b[0m\n\u001b[1;32m      1\u001b[0m \u001b[0;31m# Not allowed\u001b[0m\u001b[0;34m\u001b[0m\u001b[0;34m\u001b[0m\u001b[0m\n\u001b[0;32m----> 2\u001b[0;31m random = {\n\u001b[0m\u001b[1;32m      3\u001b[0m     \u001b[0;34m\"key1\"\u001b[0m\u001b[0;34m:\u001b[0m \u001b[0;34m[\u001b[0m\u001b[0;36m45\u001b[0m\u001b[0;34m,\u001b[0m \u001b[0;36m56\u001b[0m\u001b[0;34m,\u001b[0m \u001b[0;36m78\u001b[0m\u001b[0;34m]\u001b[0m\u001b[0;34m,\u001b[0m\u001b[0;34m\u001b[0m\u001b[0;34m\u001b[0m\u001b[0m\n\u001b[1;32m      4\u001b[0m     \"key2\": {\n\u001b[1;32m      5\u001b[0m         \u001b[0;34m\"key3\"\u001b[0m\u001b[0;34m:\u001b[0m \u001b[0;34m(\u001b[0m\u001b[0;36m1\u001b[0m\u001b[0;34m,\u001b[0m \u001b[0;36m2\u001b[0m\u001b[0;34m,\u001b[0m \u001b[0;36m3\u001b[0m\u001b[0;34m)\u001b[0m\u001b[0;34m\u001b[0m\u001b[0;34m\u001b[0m\u001b[0m\n",
      "\u001b[0;31mTypeError\u001b[0m: unhashable type: 'list'"
     ]
    }
   ],
   "source": [
    "# Not allowed\n",
    "random = {\n",
    "    \"key1\": [45, 56, 78],\n",
    "    \"key2\": {\n",
    "        \"key3\": (1, 2, 3)\n",
    "    },\n",
    "    45: \"value3\",\n",
    "    56.78: \"678\",\n",
    "    [1,2,3]: \"random value\"\n",
    "}"
   ]
  },
  {
   "cell_type": "markdown",
   "metadata": {
    "id": "6IURqZJuaNBE"
   },
   "source": [
    "---"
   ]
  },
  {
   "cell_type": "markdown",
   "metadata": {
    "id": "2KL9vTsT9rjF"
   },
   "source": [
    "### **How to sort a dictionary?**"
   ]
  },
  {
   "cell_type": "code",
   "execution_count": null,
   "metadata": {
    "colab": {
     "base_uri": "https://localhost:8080/"
    },
    "id": "YylCdb3g-0Ic",
    "outputId": "6aaaa527-2d49-4b80-cd32-716a900e470e"
   },
   "outputs": [
    {
     "name": "stdout",
     "output_type": "stream",
     "text": [
      "{'banana': 3, 'apple': 2, 'orange': 5, 'grape': 1}\n"
     ]
    }
   ],
   "source": [
    "my_dict = {'banana': 3, 'apple': 2, 'orange': 5, 'grape': 1}\n",
    "print(my_dict)"
   ]
  },
  {
   "cell_type": "markdown",
   "metadata": {
    "id": "jpxNyBqX-33s"
   },
   "source": [
    "#### Sort the dictionary by keys -"
   ]
  },
  {
   "cell_type": "code",
   "execution_count": null,
   "metadata": {
    "colab": {
     "base_uri": "https://localhost:8080/"
    },
    "id": "idDY5edQ-8CF",
    "outputId": "c5c8ca6e-81d3-4636-f10e-0bdbadee7798"
   },
   "outputs": [
    {
     "name": "stdout",
     "output_type": "stream",
     "text": [
      "Sorted by keys: {'apple': 2, 'banana': 3, 'grape': 1, 'orange': 5}\n"
     ]
    }
   ],
   "source": [
    "sorted_dict_keys = dict(sorted(my_dict.items()))\n",
    "print(\"Sorted by keys:\", sorted_dict_keys)"
   ]
  },
  {
   "cell_type": "markdown",
   "metadata": {
    "id": "dczkO88mAXkG"
   },
   "source": [
    "**Explanation:**\n",
    "\n",
    "* `my_dict.items()`: It returns a list of tuples, where each tuple contains a key-value pair from the dictionary `my_dict`.\n",
    "  * For the given example, it would be `[('banana', 3), ('apple', 2), ('orange', 5), ('grape', 1)]`.\n",
    "\n",
    "* `sorted()`: It sorts the list of tuples obtained from `my_dict.items()`.\n",
    "  * By default, it sorts based on the keys of the dictionary.\n",
    "  * Since the keys are strings, they will be sorted alphabetically.\n",
    "\n",
    "* `dict()`: It creates a new dictionary from the sorted list of tuples.\n",
    "  * So, when we run the code, `sorted_dict_keys` will be `{'apple': 2, 'banana': 3, 'grape': 1, 'orange': 5}`"
   ]
  },
  {
   "cell_type": "markdown",
   "metadata": {
    "id": "xmywO9sR-8Vy"
   },
   "source": [
    "#### Sort the dictionary by values -"
   ]
  },
  {
   "cell_type": "code",
   "execution_count": null,
   "metadata": {
    "colab": {
     "base_uri": "https://localhost:8080/"
    },
    "id": "RyepiPIN_HRG",
    "outputId": "f1eb1607-4da4-4f12-f668-0aeb7dadcaa9"
   },
   "outputs": [
    {
     "name": "stdout",
     "output_type": "stream",
     "text": [
      "Sorted by values: {'grape': 1, 'apple': 2, 'banana': 3, 'orange': 5}\n"
     ]
    }
   ],
   "source": [
    "sorted_dict_values = dict(sorted(my_dict.items(), key=lambda item: item[1]))\n",
    "print(\"Sorted by values:\", sorted_dict_values)"
   ]
  },
  {
   "cell_type": "markdown",
   "metadata": {
    "id": "RitQaYABBSwv"
   },
   "source": [
    "**Explanation:**\n",
    "\n",
    "* `my_dict.items()`: It returns a list of tuples, where each tuple contains a key-value pair from the dictionary `my_dict`.\n",
    "  * For the given example, it would be `[('banana', 3), ('apple', 2), ('orange', 5), ('grape', 1)]`.\n",
    "\n",
    "* `sorted()`: It sorts the list of tuples obtained from `my_dict.items()` based on a custom key.\n",
    "  * In this case, the custom key is a lambda function: `lambda item: item[1]`.\n",
    "  * This lambda function extracts the **second element (index 1)** from each tuple i.e. the values of the dictionary.\n",
    "\n",
    "* `dict()`: It creates a new dictionary from the sorted list of tuples.\n",
    "  * So, when we run the code, `sorted_dict_values` will be `{'grape': 1, 'apple': 2, 'banana': 3, 'orange': 5}`"
   ]
  },
  {
   "cell_type": "markdown",
   "metadata": {
    "id": "0IQ571V-9w1B"
   },
   "source": [
    "---"
   ]
  },
  {
   "cell_type": "markdown",
   "metadata": {
    "id": "xN6ryYWTB3RP"
   },
   "source": [
    "## **Question**\n",
    "\n",
    "* Take a string as input.\n",
    "* Create a dictionary according to the following criteria :-\n",
    "    * There will be one key-value pair for each unique character.\n",
    "    * Key will be the character name.\n",
    "    * Value will be the count of the character inside the string.\n",
    "\n",
    "**Example Input:**\n",
    "```\n",
    "rrsssstttt\n",
    "```\n",
    "\n",
    "**Example Output:**\n",
    "```\n",
    "{\n",
    "    \"r\": 2,\n",
    "    \"s\": 3,\n",
    "    \"t\": 4\n",
    "}\n",
    "```"
   ]
  },
  {
   "cell_type": "code",
   "execution_count": null,
   "metadata": {
    "id": "lpiPZEWSCsQY"
   },
   "outputs": [],
   "source": [
    "string = \"this is a random string with various characters\""
   ]
  },
  {
   "cell_type": "code",
   "execution_count": null,
   "metadata": {
    "colab": {
     "base_uri": "https://localhost:8080/"
    },
    "id": "xzC1XjV4C2y6",
    "outputId": "d1544656-20ed-490d-9015-a0c8ba30b86d"
   },
   "outputs": [
    {
     "data": {
      "text/plain": [
       "{'c': 2,\n",
       " 'g': 1,\n",
       " ' ': 7,\n",
       " 'w': 1,\n",
       " 'r': 5,\n",
       " 'n': 2,\n",
       " 't': 4,\n",
       " 'o': 2,\n",
       " 'e': 1,\n",
       " 'i': 5,\n",
       " 'a': 5,\n",
       " 's': 5,\n",
       " 'm': 1,\n",
       " 'd': 1,\n",
       " 'h': 3,\n",
       " 'v': 1,\n",
       " 'u': 1}"
      ]
     },
     "execution_count": 35,
     "metadata": {},
     "output_type": "execute_result"
    }
   ],
   "source": [
    "result = {}\n",
    "for i in set(string):\n",
    "    result[i] = string.count(i)\n",
    "result"
   ]
  },
  {
   "cell_type": "markdown",
   "metadata": {
    "id": "NNbIFZ5Ug8UK"
   },
   "source": [
    "---"
   ]
  }
 ],
 "metadata": {
  "colab": {
   "include_colab_link": true,
   "provenance": []
  },
  "kernelspec": {
   "display_name": "Python 3 (ipykernel)",
   "language": "python",
   "name": "python3"
  },
  "language_info": {
   "codemirror_mode": {
    "name": "ipython",
    "version": 3
   },
   "file_extension": ".py",
   "mimetype": "text/x-python",
   "name": "python",
   "nbconvert_exporter": "python",
   "pygments_lexer": "ipython3",
   "version": "3.13.2"
  }
 },
 "nbformat": 4,
 "nbformat_minor": 4
}

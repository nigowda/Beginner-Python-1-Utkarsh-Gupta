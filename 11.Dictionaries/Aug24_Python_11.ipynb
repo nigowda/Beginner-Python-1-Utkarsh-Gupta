{
 "cells": [
  {
   "cell_type": "code",
   "execution_count": null,
   "metadata": {
    "colab": {
     "base_uri": "https://localhost:8080/"
    },
    "id": "P-ZgP9Brx41X",
    "outputId": "90c4a30a-a187-4c83-d883-0dc383f73fac"
   },
   "outputs": [
    {
     "data": {
      "text/plain": [
       "4"
      ]
     },
     "execution_count": 1,
     "metadata": {},
     "output_type": "execute_result"
    }
   ],
   "source": [
    "2+2"
   ]
  },
  {
   "cell_type": "code",
   "execution_count": null,
   "metadata": {
    "id": "l6YHuuAdx7TL"
   },
   "outputs": [],
   "source": [
    "city_wise_data = {\n",
    "    \"Delhi\": 450,\n",
    "    \"Mumbai\": 400,\n",
    "    \"Bengaluru\": 325\n",
    "}"
   ]
  },
  {
   "cell_type": "code",
   "execution_count": null,
   "metadata": {
    "colab": {
     "base_uri": "https://localhost:8080/"
    },
    "id": "03beg-GtyDup",
    "outputId": "823b2f62-916c-4579-a522-b09cfa69185c"
   },
   "outputs": [
    {
     "name": "stdout",
     "output_type": "stream",
     "text": [
      "<class 'dict'>\n"
     ]
    }
   ],
   "source": [
    "print(type(city_wise_data))"
   ]
  },
  {
   "cell_type": "code",
   "execution_count": null,
   "metadata": {
    "id": "bMHUdcMLyG6O"
   },
   "outputs": [],
   "source": [
    "city_wise_data_tup = [(\"Delhi\", 450), (\"Mumbai\", 400), (\"Bengaluru\", 325)]"
   ]
  },
  {
   "cell_type": "code",
   "execution_count": null,
   "metadata": {
    "colab": {
     "base_uri": "https://localhost:8080/"
    },
    "id": "9JMly-BJygYH",
    "outputId": "d3420e6f-cea3-479f-a3a5-dd419d121da5"
   },
   "outputs": [
    {
     "name": "stdout",
     "output_type": "stream",
     "text": [
      "('Delhi', 450)\n"
     ]
    }
   ],
   "source": [
    "print(city_wise_data_tup[0])"
   ]
  },
  {
   "cell_type": "code",
   "execution_count": null,
   "metadata": {
    "colab": {
     "base_uri": "https://localhost:8080/"
    },
    "id": "TEzn7El_ykMg",
    "outputId": "32af6169-8497-4faa-91c8-e5c86760148f"
   },
   "outputs": [
    {
     "name": "stdout",
     "output_type": "stream",
     "text": [
      "400\n"
     ]
    }
   ],
   "source": [
    "print(city_wise_data[\"Mumbai\"])"
   ]
  },
  {
   "cell_type": "code",
   "execution_count": null,
   "metadata": {
    "colab": {
     "base_uri": "https://localhost:8080/",
     "height": 141
    },
    "id": "SpvjJuxwy8H6",
    "outputId": "46a37caa-01bf-45fa-f33d-dd9ee79331b9"
   },
   "outputs": [
    {
     "ename": "KeyError",
     "evalue": "'Agra'",
     "output_type": "error",
     "traceback": [
      "\u001b[0;31m---------------------------------------------------------------------------\u001b[0m",
      "\u001b[0;31mKeyError\u001b[0m                                  Traceback (most recent call last)",
      "\u001b[0;32m<ipython-input-7-840d946ad937>\u001b[0m in \u001b[0;36m<cell line: 1>\u001b[0;34m()\u001b[0m\n\u001b[0;32m----> 1\u001b[0;31m \u001b[0mprint\u001b[0m\u001b[0;34m(\u001b[0m\u001b[0mcity_wise_data\u001b[0m\u001b[0;34m[\u001b[0m\u001b[0;34m\"Agra\"\u001b[0m\u001b[0;34m]\u001b[0m\u001b[0;34m)\u001b[0m\u001b[0;34m\u001b[0m\u001b[0;34m\u001b[0m\u001b[0m\n\u001b[0m",
      "\u001b[0;31mKeyError\u001b[0m: 'Agra'"
     ]
    }
   ],
   "source": [
    "print(city_wise_data[\"Agra\"])"
   ]
  },
  {
   "cell_type": "code",
   "execution_count": null,
   "metadata": {
    "colab": {
     "base_uri": "https://localhost:8080/"
    },
    "id": "Jex-qd7yzS6m",
    "outputId": "4b73e27c-efe3-4007-a311-fd8251857288"
   },
   "outputs": [
    {
     "name": "stdout",
     "output_type": "stream",
     "text": [
      "450\n"
     ]
    }
   ],
   "source": [
    "print(city_wise_data[\"Delhi\"])"
   ]
  },
  {
   "cell_type": "code",
   "execution_count": null,
   "metadata": {
    "colab": {
     "base_uri": "https://localhost:8080/"
    },
    "id": "G4QS1qi8ziqs",
    "outputId": "b0de0dc2-2750-48c3-fd47-0e1f7a4b2503"
   },
   "outputs": [
    {
     "name": "stdout",
     "output_type": "stream",
     "text": [
      "{'Delhi': 500, 'Mumbai': 400, 'Bengaluru': 325}\n"
     ]
    }
   ],
   "source": [
    "city_wise_data[\"Delhi\"] = 500\n",
    "\n",
    "print(city_wise_data)"
   ]
  },
  {
   "cell_type": "code",
   "execution_count": null,
   "metadata": {
    "colab": {
     "base_uri": "https://localhost:8080/"
    },
    "id": "7ca8MB3Vzq_G",
    "outputId": "0849cb4e-486d-4549-95cb-320c1b4e787f"
   },
   "outputs": [
    {
     "name": "stdout",
     "output_type": "stream",
     "text": [
      "{'Delhi': 500, 'Mumbai': 400, 'Bengaluru': 825, 'Agra': 800, 'Pune': 330}\n"
     ]
    }
   ],
   "source": [
    "city_wise_data.update(\n",
    "    {\n",
    "        \"Agra\" : 800,\n",
    "        \"Pune\" : 330,\n",
    "        \"Bengaluru\": 825\n",
    "    }\n",
    ")\n",
    "\n",
    "print(city_wise_data)"
   ]
  },
  {
   "cell_type": "code",
   "execution_count": null,
   "metadata": {
    "colab": {
     "base_uri": "https://localhost:8080/"
    },
    "id": "7zqOD8pn0UCI",
    "outputId": "cea60646-b699-45ee-ba7f-a5a2b7891fb3"
   },
   "outputs": [
    {
     "data": {
      "text/plain": [
       "5"
      ]
     },
     "execution_count": 11,
     "metadata": {},
     "output_type": "execute_result"
    }
   ],
   "source": [
    "len(city_wise_data)"
   ]
  },
  {
   "cell_type": "code",
   "execution_count": null,
   "metadata": {
    "colab": {
     "base_uri": "https://localhost:8080/"
    },
    "id": "WB7pX3dY0hb6",
    "outputId": "d206165f-b5e8-4363-e3db-a7e5c59c545f"
   },
   "outputs": [
    {
     "name": "stdout",
     "output_type": "stream",
     "text": [
      "500\n"
     ]
    }
   ],
   "source": [
    "print(city_wise_data.get(\"Delhi\"))"
   ]
  },
  {
   "cell_type": "code",
   "execution_count": null,
   "metadata": {
    "id": "9L1sqH9T0pCq"
   },
   "outputs": [],
   "source": [
    "city_wise_data[\"Bihar\"] = 1000"
   ]
  },
  {
   "cell_type": "code",
   "execution_count": null,
   "metadata": {
    "colab": {
     "base_uri": "https://localhost:8080/"
    },
    "id": "hKpZWgEm0-ba",
    "outputId": "92fb991d-cc53-4bfe-eb0c-2fc78058ccee"
   },
   "outputs": [
    {
     "name": "stdout",
     "output_type": "stream",
     "text": [
      "{'Delhi': 500, 'Mumbai': 400, 'Bengaluru': 825, 'Agra': 800, 'Pune': 330, 'Bihar': 1000}\n"
     ]
    }
   ],
   "source": [
    "print(city_wise_data)"
   ]
  },
  {
   "cell_type": "code",
   "execution_count": null,
   "metadata": {
    "colab": {
     "base_uri": "https://localhost:8080/"
    },
    "id": "nbVxH0G_1Cz5",
    "outputId": "1a8df2f0-61a1-4f8e-c184-7c054b57445f"
   },
   "outputs": [
    {
     "name": "stdout",
     "output_type": "stream",
     "text": [
      "{'Delhi': 500, 'Mumbai': 400, 'Bengaluru': 825, 'Agra': 800, 'Pune': 330}\n"
     ]
    }
   ],
   "source": [
    "city_wise_data.pop(\"Bihar\")\n",
    "\n",
    "print(city_wise_data)"
   ]
  },
  {
   "cell_type": "code",
   "execution_count": null,
   "metadata": {
    "colab": {
     "base_uri": "https://localhost:8080/"
    },
    "id": "ujkHfSAD1d-J",
    "outputId": "a99d4b21-6bb2-4fab-dbcd-baa3326601be"
   },
   "outputs": [
    {
     "name": "stdout",
     "output_type": "stream",
     "text": [
      "{2, 3, 4, 5}\n"
     ]
    }
   ],
   "source": [
    "s = {1, 2, 3, 4, 5}\n",
    "\n",
    "s.pop()\n",
    "print(s)"
   ]
  },
  {
   "cell_type": "code",
   "execution_count": null,
   "metadata": {
    "colab": {
     "base_uri": "https://localhost:8080/",
     "height": 141
    },
    "id": "pQMAVEoZ1pjI",
    "outputId": "265f3c1e-2565-4094-fe3f-01f2b4883fad"
   },
   "outputs": [
    {
     "ename": "TypeError",
     "evalue": "pop expected at least 1 argument, got 0",
     "output_type": "error",
     "traceback": [
      "\u001b[0;31m---------------------------------------------------------------------------\u001b[0m",
      "\u001b[0;31mTypeError\u001b[0m                                 Traceback (most recent call last)",
      "\u001b[0;32m<ipython-input-17-00234fb4ebf2>\u001b[0m in \u001b[0;36m<cell line: 1>\u001b[0;34m()\u001b[0m\n\u001b[0;32m----> 1\u001b[0;31m \u001b[0mcity_wise_data\u001b[0m\u001b[0;34m.\u001b[0m\u001b[0mpop\u001b[0m\u001b[0;34m(\u001b[0m\u001b[0;34m)\u001b[0m\u001b[0;34m\u001b[0m\u001b[0;34m\u001b[0m\u001b[0m\n\u001b[0m",
      "\u001b[0;31mTypeError\u001b[0m: pop expected at least 1 argument, got 0"
     ]
    }
   ],
   "source": [
    "city_wise_data.pop()"
   ]
  },
  {
   "cell_type": "code",
   "execution_count": null,
   "metadata": {
    "colab": {
     "base_uri": "https://localhost:8080/"
    },
    "id": "-XfdsKjH1znI",
    "outputId": "a83cdddd-ffa8-4c65-e092-5564f2ef8458"
   },
   "outputs": [
    {
     "name": "stdout",
     "output_type": "stream",
     "text": [
      "{1: 'A', 2: 'B', 3: 'C'}\n"
     ]
    }
   ],
   "source": [
    "d = {\n",
    "    1 : \"A\",\n",
    "    2 : \"B\",\n",
    "    3 : \"C\"\n",
    "}\n",
    "\n",
    "print(d)"
   ]
  },
  {
   "cell_type": "code",
   "execution_count": null,
   "metadata": {
    "colab": {
     "base_uri": "https://localhost:8080/",
     "height": 141
    },
    "id": "gQqj76p22diK",
    "outputId": "136d5e86-e019-46a9-d0a4-a99e7c192db6"
   },
   "outputs": [
    {
     "ename": "KeyError",
     "evalue": "0",
     "output_type": "error",
     "traceback": [
      "\u001b[0;31m---------------------------------------------------------------------------\u001b[0m",
      "\u001b[0;31mKeyError\u001b[0m                                  Traceback (most recent call last)",
      "\u001b[0;32m<ipython-input-19-c7332189be96>\u001b[0m in \u001b[0;36m<cell line: 1>\u001b[0;34m()\u001b[0m\n\u001b[0;32m----> 1\u001b[0;31m \u001b[0mprint\u001b[0m\u001b[0;34m(\u001b[0m\u001b[0md\u001b[0m\u001b[0;34m[\u001b[0m\u001b[0;36m0\u001b[0m\u001b[0;34m]\u001b[0m\u001b[0;34m)\u001b[0m\u001b[0;34m\u001b[0m\u001b[0;34m\u001b[0m\u001b[0m\n\u001b[0m",
      "\u001b[0;31mKeyError\u001b[0m: 0"
     ]
    }
   ],
   "source": [
    "print(d[0])"
   ]
  },
  {
   "cell_type": "code",
   "execution_count": null,
   "metadata": {
    "colab": {
     "base_uri": "https://localhost:8080/"
    },
    "id": "fF4kVwly2rZS",
    "outputId": "0a8ed652-3f25-453a-c66f-45471d15d2bd"
   },
   "outputs": [
    {
     "name": "stdout",
     "output_type": "stream",
     "text": [
      "A\n"
     ]
    }
   ],
   "source": [
    "print(d[1])"
   ]
  },
  {
   "cell_type": "code",
   "execution_count": null,
   "metadata": {
    "colab": {
     "base_uri": "https://localhost:8080/"
    },
    "id": "9raHonAt261x",
    "outputId": "963b56e1-4ba5-4ba3-d349-9bbf4441bb7b"
   },
   "outputs": [
    {
     "name": "stdout",
     "output_type": "stream",
     "text": [
      "{1: 'A', 2: 'B', 3: 'C', 0: 'Hello'}\n"
     ]
    }
   ],
   "source": [
    "d[0] = \"Hello\"\n",
    "print(d)"
   ]
  },
  {
   "cell_type": "code",
   "execution_count": null,
   "metadata": {
    "colab": {
     "base_uri": "https://localhost:8080/"
    },
    "id": "ZjY5pxgh3OxG",
    "outputId": "84f399e3-5781-401e-9d33-3a988139a553"
   },
   "outputs": [
    {
     "name": "stdout",
     "output_type": "stream",
     "text": [
      "{1: 'Bye', 2: 'Play', 3: 'C', 0: 'Hello', 10: 'Happy'}\n"
     ]
    }
   ],
   "source": [
    "d.update(\n",
    "    {\n",
    "        1 : \"Bye\",\n",
    "        2 : \"Play\",\n",
    "        10 : \"Happy\"\n",
    "    }\n",
    ")\n",
    "print(d)"
   ]
  },
  {
   "cell_type": "code",
   "execution_count": null,
   "metadata": {
    "colab": {
     "base_uri": "https://localhost:8080/"
    },
    "id": "bIrXWGvi3jXF",
    "outputId": "8ac9c2cc-f0e3-4271-db42-9be8af1e2ec0"
   },
   "outputs": [
    {
     "name": "stdout",
     "output_type": "stream",
     "text": [
      "{1: 'Bye', 2: 'Play', 3: 'C', 0: 'Hello'}\n"
     ]
    }
   ],
   "source": [
    "d.pop(10)\n",
    "print(d)"
   ]
  },
  {
   "cell_type": "code",
   "execution_count": null,
   "metadata": {
    "colab": {
     "base_uri": "https://localhost:8080/",
     "height": 158
    },
    "id": "U1WCtAzn3twF",
    "outputId": "c312e078-fe55-4288-f3f1-253130e78287"
   },
   "outputs": [
    {
     "ename": "KeyError",
     "evalue": "10",
     "output_type": "error",
     "traceback": [
      "\u001b[0;31m---------------------------------------------------------------------------\u001b[0m",
      "\u001b[0;31mKeyError\u001b[0m                                  Traceback (most recent call last)",
      "\u001b[0;32m<ipython-input-25-1388dd800274>\u001b[0m in \u001b[0;36m<cell line: 1>\u001b[0;34m()\u001b[0m\n\u001b[0;32m----> 1\u001b[0;31m \u001b[0md\u001b[0m\u001b[0;34m.\u001b[0m\u001b[0mpop\u001b[0m\u001b[0;34m(\u001b[0m\u001b[0;36m10\u001b[0m\u001b[0;34m)\u001b[0m\u001b[0;34m\u001b[0m\u001b[0;34m\u001b[0m\u001b[0m\n\u001b[0m\u001b[1;32m      2\u001b[0m \u001b[0mprint\u001b[0m\u001b[0;34m(\u001b[0m\u001b[0md\u001b[0m\u001b[0;34m)\u001b[0m\u001b[0;34m\u001b[0m\u001b[0;34m\u001b[0m\u001b[0m\n",
      "\u001b[0;31mKeyError\u001b[0m: 10"
     ]
    }
   ],
   "source": [
    "d.pop(10)\n",
    "print(d)"
   ]
  },
  {
   "cell_type": "code",
   "execution_count": null,
   "metadata": {
    "colab": {
     "base_uri": "https://localhost:8080/",
     "height": 141
    },
    "id": "X2asX9Ac33wU",
    "outputId": "7a0b8a52-69de-4c56-b9bb-851d8d5762f3"
   },
   "outputs": [
    {
     "ename": "KeyError",
     "evalue": "10",
     "output_type": "error",
     "traceback": [
      "\u001b[0;31m---------------------------------------------------------------------------\u001b[0m",
      "\u001b[0;31mKeyError\u001b[0m                                  Traceback (most recent call last)",
      "\u001b[0;32m<ipython-input-26-dcdf5fe0f74b>\u001b[0m in \u001b[0;36m<cell line: 1>\u001b[0;34m()\u001b[0m\n\u001b[0;32m----> 1\u001b[0;31m \u001b[0mprint\u001b[0m\u001b[0;34m(\u001b[0m\u001b[0md\u001b[0m\u001b[0;34m[\u001b[0m\u001b[0;36m10\u001b[0m\u001b[0;34m]\u001b[0m\u001b[0;34m)\u001b[0m\u001b[0;34m\u001b[0m\u001b[0;34m\u001b[0m\u001b[0m\n\u001b[0m",
      "\u001b[0;31mKeyError\u001b[0m: 10"
     ]
    }
   ],
   "source": [
    "print(d[10])"
   ]
  },
  {
   "cell_type": "code",
   "execution_count": null,
   "metadata": {
    "colab": {
     "base_uri": "https://localhost:8080/"
    },
    "id": "KVObFj8h3-Tc",
    "outputId": "32f30db2-21c9-440a-aee6-8bbc67707b10"
   },
   "outputs": [
    {
     "name": "stdout",
     "output_type": "stream",
     "text": [
      "None\n"
     ]
    }
   ],
   "source": [
    "print(d.get(10))"
   ]
  },
  {
   "cell_type": "code",
   "execution_count": null,
   "metadata": {
    "colab": {
     "base_uri": "https://localhost:8080/"
    },
    "id": "Nfvkyd074E0E",
    "outputId": "6039feb5-7879-49ea-c6d5-839f773b9c17"
   },
   "outputs": [
    {
     "name": "stdout",
     "output_type": "stream",
     "text": [
      "{1: 'Bye', 2: 'Play', 3: 3.0, 0: 'Hello'}\n"
     ]
    }
   ],
   "source": [
    "d[3.0] = 3.0\n",
    "\n",
    "print(d)"
   ]
  },
  {
   "cell_type": "code",
   "execution_count": null,
   "metadata": {
    "colab": {
     "base_uri": "https://localhost:8080/"
    },
    "id": "DanqvtHv4jWk",
    "outputId": "e3c9ffc2-95dc-4b24-f8a4-f3a69ced6345"
   },
   "outputs": [
    {
     "name": "stdout",
     "output_type": "stream",
     "text": [
      "True\n"
     ]
    }
   ],
   "source": [
    "print(3 == 3.0)"
   ]
  },
  {
   "cell_type": "code",
   "execution_count": null,
   "metadata": {
    "colab": {
     "base_uri": "https://localhost:8080/"
    },
    "id": "Uc0d5cRk4x-p",
    "outputId": "231cd140-68af-4f2c-c99d-6237c498e07c"
   },
   "outputs": [
    {
     "name": "stdout",
     "output_type": "stream",
     "text": [
      "{'mum': 22, 'delhi': 33}\n"
     ]
    }
   ],
   "source": [
    "city = {\n",
    "    \"mum\":11,\n",
    "    \"mum\":22,\n",
    "    \"delhi\":33\n",
    "}\n",
    "print(city)"
   ]
  },
  {
   "cell_type": "code",
   "execution_count": null,
   "metadata": {
    "colab": {
     "base_uri": "https://localhost:8080/"
    },
    "id": "AuM1sX-54_S_",
    "outputId": "890d9e10-f945-48f6-d6cb-46f8a963d645"
   },
   "outputs": [
    {
     "name": "stdout",
     "output_type": "stream",
     "text": [
      "{1: 'A', 'H': 2, 3: 3}\n"
     ]
    }
   ],
   "source": [
    "dt = {\n",
    "    1 : \"A\",\n",
    "    \"H\" : 2,\n",
    "    3 : 3\n",
    "}\n",
    "print(dt)"
   ]
  },
  {
   "cell_type": "code",
   "execution_count": null,
   "metadata": {
    "colab": {
     "base_uri": "https://localhost:8080/"
    },
    "id": "eFTLgJmJ7IMS",
    "outputId": "12f7a5fc-b243-45ee-f203-9bdf36145c89"
   },
   "outputs": [
    {
     "name": "stdout",
     "output_type": "stream",
     "text": [
      "{'name': 'Thor Odinson', 'age': 1500, 'weapon': ['mjonir', 'stormbreaker'], 'strongest': True}\n"
     ]
    }
   ],
   "source": [
    "a = {'name': 'Thor Odinson',\n",
    "     'age': 1500,\n",
    "     'weapon': ['mjonir', 'stormbreaker'],\n",
    "     'strongest': True}\n",
    "\n",
    "print(a)"
   ]
  },
  {
   "cell_type": "code",
   "execution_count": null,
   "metadata": {
    "colab": {
     "base_uri": "https://localhost:8080/"
    },
    "id": "QCmQDIdL7WP7",
    "outputId": "b84e8db7-473a-4e23-dacf-96b2a3078d93"
   },
   "outputs": [
    {
     "name": "stdout",
     "output_type": "stream",
     "text": [
      "name\n",
      "age\n",
      "weapon\n",
      "strongest\n"
     ]
    }
   ],
   "source": [
    "for i in a:\n",
    "  print(i)"
   ]
  },
  {
   "cell_type": "code",
   "execution_count": null,
   "metadata": {
    "colab": {
     "base_uri": "https://localhost:8080/"
    },
    "id": "GdVI0t4P7j2O",
    "outputId": "c4716bf1-8be3-448c-8ce5-3f19b0547ad7"
   },
   "outputs": [
    {
     "name": "stdout",
     "output_type": "stream",
     "text": [
      "Thor Odinson\n",
      "1500\n",
      "['mjonir', 'stormbreaker']\n",
      "True\n"
     ]
    }
   ],
   "source": [
    "for i in a:\n",
    "  print(a.get(i))"
   ]
  },
  {
   "cell_type": "code",
   "execution_count": null,
   "metadata": {
    "colab": {
     "base_uri": "https://localhost:8080/"
    },
    "id": "y8-1ah9C7xnr",
    "outputId": "6d61d368-5651-421d-d35e-bfebb849af8c"
   },
   "outputs": [
    {
     "name": "stdout",
     "output_type": "stream",
     "text": [
      "name -> Thor Odinson\n",
      "age -> 1500\n",
      "weapon -> ['mjonir', 'stormbreaker']\n",
      "strongest -> True\n"
     ]
    }
   ],
   "source": [
    "for i in a:\n",
    "  print(f\"{i} -> {a.get(i)}\")"
   ]
  },
  {
   "cell_type": "code",
   "execution_count": null,
   "metadata": {
    "colab": {
     "base_uri": "https://localhost:8080/"
    },
    "id": "0voKLxmT73XW",
    "outputId": "91f72bf3-efb0-4a17-82f8-305979e5ebd9"
   },
   "outputs": [
    {
     "data": {
      "text/plain": [
       "dict_keys(['name', 'age', 'weapon', 'strongest'])"
      ]
     },
     "execution_count": 38,
     "metadata": {},
     "output_type": "execute_result"
    }
   ],
   "source": [
    "a.keys()"
   ]
  },
  {
   "cell_type": "code",
   "execution_count": null,
   "metadata": {
    "colab": {
     "base_uri": "https://localhost:8080/"
    },
    "id": "TkyK-TPL8KCG",
    "outputId": "e59162c9-e985-4baa-bd9b-a898c87f8b29"
   },
   "outputs": [
    {
     "data": {
      "text/plain": [
       "dict_values(['Thor Odinson', 1500, ['mjonir', 'stormbreaker'], True])"
      ]
     },
     "execution_count": 39,
     "metadata": {},
     "output_type": "execute_result"
    }
   ],
   "source": [
    "a.values()"
   ]
  },
  {
   "cell_type": "code",
   "execution_count": null,
   "metadata": {
    "colab": {
     "base_uri": "https://localhost:8080/"
    },
    "id": "EypMAUFo8Pu5",
    "outputId": "dbacf7c2-8bc8-44cf-e5be-d0fd6db6220a"
   },
   "outputs": [
    {
     "data": {
      "text/plain": [
       "dict_items([('name', 'Thor Odinson'), ('age', 1500), ('weapon', ['mjonir', 'stormbreaker']), ('strongest', True)])"
      ]
     },
     "execution_count": 40,
     "metadata": {},
     "output_type": "execute_result"
    }
   ],
   "source": [
    "a.items()"
   ]
  },
  {
   "cell_type": "code",
   "execution_count": null,
   "metadata": {
    "colab": {
     "base_uri": "https://localhost:8080/"
    },
    "id": "mRRtL69I8Uxm",
    "outputId": "ab61416d-9e92-42a5-d27a-4fac4587ed4d"
   },
   "outputs": [
    {
     "data": {
      "text/plain": [
       "True"
      ]
     },
     "execution_count": 41,
     "metadata": {},
     "output_type": "execute_result"
    }
   ],
   "source": [
    "\"name\" in a.keys()"
   ]
  },
  {
   "cell_type": "code",
   "execution_count": null,
   "metadata": {
    "colab": {
     "base_uri": "https://localhost:8080/"
    },
    "id": "gLsezFah8l6W",
    "outputId": "e8faf26c-3e23-4cb4-d575-569074a150da"
   },
   "outputs": [
    {
     "data": {
      "text/plain": [
       "False"
      ]
     },
     "execution_count": 42,
     "metadata": {},
     "output_type": "execute_result"
    }
   ],
   "source": [
    "\"first_name\" in a.keys()"
   ]
  },
  {
   "cell_type": "code",
   "execution_count": null,
   "metadata": {
    "colab": {
     "base_uri": "https://localhost:8080/"
    },
    "id": "yzSw6PIY8pAz",
    "outputId": "7400ff5c-88b8-487a-d1ae-7bffe3e0fd64"
   },
   "outputs": [
    {
     "name": "stdout",
     "output_type": "stream",
     "text": [
      "dob\n",
      "dob is not present in a\n"
     ]
    }
   ],
   "source": [
    "x = input()\n",
    "\n",
    "if x in a.keys():\n",
    "  print(a.get(x))\n",
    "else:\n",
    "  print(f\"{x} is not present in a\")"
   ]
  },
  {
   "cell_type": "code",
   "execution_count": null,
   "metadata": {
    "colab": {
     "base_uri": "https://localhost:8080/"
    },
    "id": "bQUn0CU78yMh",
    "outputId": "f91b6919-4b8c-45e4-cdd1-9e7794184746"
   },
   "outputs": [
    {
     "name": "stdout",
     "output_type": "stream",
     "text": [
      "{'key1': [45, 56, 78], 'key2': {'key3': (1, 2, 3)}, 45: 'value3', 56.78: '678', (1, 2, 3): 'random value'}\n"
     ]
    }
   ],
   "source": [
    "random = {\n",
    "    \"key1\": [45, 56, 78],\n",
    "    \"key2\": {\n",
    "        \"key3\": (1, 2, 3)\n",
    "    },\n",
    "    45: \"value3\",\n",
    "    56.78: \"678\",\n",
    "    (1,2,3): \"random value\"\n",
    "}\n",
    "\n",
    "print(random)"
   ]
  },
  {
   "cell_type": "code",
   "execution_count": null,
   "metadata": {
    "colab": {
     "base_uri": "https://localhost:8080/",
     "height": 211
    },
    "id": "HVVl9q_o-Kh4",
    "outputId": "c24628f9-2156-45fb-f52d-139305998b52"
   },
   "outputs": [
    {
     "ename": "TypeError",
     "evalue": "unhashable type: 'list'",
     "output_type": "error",
     "traceback": [
      "\u001b[0;31m---------------------------------------------------------------------------\u001b[0m",
      "\u001b[0;31mTypeError\u001b[0m                                 Traceback (most recent call last)",
      "\u001b[0;32m<ipython-input-50-24c6e498912b>\u001b[0m in \u001b[0;36m<cell line: 2>\u001b[0;34m()\u001b[0m\n\u001b[0;32m----> 1\u001b[0;31m random = {\n\u001b[0m\u001b[1;32m      2\u001b[0m     \u001b[0;34m\"key1\"\u001b[0m\u001b[0;34m:\u001b[0m \u001b[0;34m[\u001b[0m\u001b[0;36m45\u001b[0m\u001b[0;34m,\u001b[0m \u001b[0;36m56\u001b[0m\u001b[0;34m,\u001b[0m \u001b[0;36m78\u001b[0m\u001b[0;34m]\u001b[0m\u001b[0;34m,\u001b[0m\u001b[0;34m\u001b[0m\u001b[0;34m\u001b[0m\u001b[0m\n\u001b[1;32m      3\u001b[0m     \"key2\": {\n\u001b[1;32m      4\u001b[0m         \u001b[0;34m\"key3\"\u001b[0m\u001b[0;34m:\u001b[0m \u001b[0;34m(\u001b[0m\u001b[0;36m1\u001b[0m\u001b[0;34m,\u001b[0m \u001b[0;36m2\u001b[0m\u001b[0;34m,\u001b[0m \u001b[0;36m3\u001b[0m\u001b[0;34m)\u001b[0m\u001b[0;34m\u001b[0m\u001b[0;34m\u001b[0m\u001b[0m\n\u001b[1;32m      5\u001b[0m     },\n",
      "\u001b[0;31mTypeError\u001b[0m: unhashable type: 'list'"
     ]
    }
   ],
   "source": [
    "random = {\n",
    "    \"key1\": [45, 56, 78],\n",
    "    \"key2\": {\n",
    "        \"key3\": (1, 2, 3)\n",
    "    },\n",
    "    45: \"value3\",\n",
    "    56.78: \"678\",\n",
    "    [1,2,3]: \"random value\"\n",
    "}"
   ]
  },
  {
   "cell_type": "markdown",
   "metadata": {
    "id": "bMRf-uG6-xVI"
   },
   "source": [
    "Values - Can store any data structure or any data type.\n",
    "\n",
    "\n",
    "Keys - Lists, Sets and Dictionaries are not allowed."
   ]
  },
  {
   "cell_type": "code",
   "execution_count": null,
   "metadata": {
    "colab": {
     "base_uri": "https://localhost:8080/"
    },
    "id": "qxNayNlj-l8u",
    "outputId": "9e81f384-1dfd-4512-9cfc-0ad20ca23037"
   },
   "outputs": [
    {
     "name": "stdout",
     "output_type": "stream",
     "text": [
      "{'banana': 3, 'apple': 2, 'orange': 5, 'grape': 1}\n"
     ]
    }
   ],
   "source": [
    "my_dict = {'banana': 3, 'apple': 2, 'orange': 5, 'grape': 1}\n",
    "print(my_dict)"
   ]
  },
  {
   "cell_type": "code",
   "execution_count": null,
   "metadata": {
    "colab": {
     "base_uri": "https://localhost:8080/"
    },
    "id": "QCYCQ-CV_VMA",
    "outputId": "667688c5-5d2a-4029-f7ba-e931d1b9f1ab"
   },
   "outputs": [
    {
     "name": "stdout",
     "output_type": "stream",
     "text": [
      "Sorted by keys: {'apple': 2, 'banana': 3, 'grape': 1, 'orange': 5}\n"
     ]
    }
   ],
   "source": [
    "sorted_dict_keys = dict(sorted(my_dict.items()))\n",
    "print(\"Sorted by keys:\", sorted_dict_keys)"
   ]
  },
  {
   "cell_type": "code",
   "execution_count": null,
   "metadata": {
    "colab": {
     "base_uri": "https://localhost:8080/"
    },
    "id": "U72Q3AQB_dQU",
    "outputId": "e8cbf834-8584-4fb0-d08a-a46ddc12772a"
   },
   "outputs": [
    {
     "name": "stdout",
     "output_type": "stream",
     "text": [
      "Sorted by values: {'grape': 1, 'apple': 2, 'banana': 3, 'orange': 5}\n"
     ]
    }
   ],
   "source": [
    "sorted_dict_values = dict(sorted(my_dict.items(), key=lambda item: item[1]))\n",
    "print(\"Sorted by values:\", sorted_dict_values)"
   ]
  },
  {
   "cell_type": "code",
   "execution_count": null,
   "metadata": {
    "colab": {
     "base_uri": "https://localhost:8080/"
    },
    "id": "70pV_-j9CnMm",
    "outputId": "dfcddffe-6223-42cb-c37e-a1141ba96c32"
   },
   "outputs": [
    {
     "data": {
      "text/plain": [
       "dict_items([('banana', 3), ('apple', 2), ('orange', 5), ('grape', 1)])"
      ]
     },
     "execution_count": 54,
     "metadata": {},
     "output_type": "execute_result"
    }
   ],
   "source": [
    "# 1\n",
    "my_dict.items()"
   ]
  },
  {
   "cell_type": "code",
   "execution_count": null,
   "metadata": {
    "colab": {
     "base_uri": "https://localhost:8080/"
    },
    "id": "RC5oWN8hCrBk",
    "outputId": "dc2c7a48-479f-4d2d-8720-7a164f7e6328"
   },
   "outputs": [
    {
     "data": {
      "text/plain": [
       "[('apple', 2), ('banana', 3), ('grape', 1), ('orange', 5)]"
      ]
     },
     "execution_count": 55,
     "metadata": {},
     "output_type": "execute_result"
    }
   ],
   "source": [
    "# sorted_dict_keys = dict(sorted(my_dict.items()))\n",
    "# print(\"Sorted by keys:\", sorted_dict_keys)\n",
    "\n",
    "# 2\n",
    "sorted(my_dict.items())"
   ]
  },
  {
   "cell_type": "code",
   "execution_count": null,
   "metadata": {
    "colab": {
     "base_uri": "https://localhost:8080/"
    },
    "id": "CojDW83_C2Ux",
    "outputId": "e1eea141-0e0a-4874-9321-ee00dac90ff1"
   },
   "outputs": [
    {
     "data": {
      "text/plain": [
       "{'apple': 2, 'banana': 3, 'grape': 1, 'orange': 5}"
      ]
     },
     "execution_count": 56,
     "metadata": {},
     "output_type": "execute_result"
    }
   ],
   "source": [
    "# 3\n",
    "dict(sorted(my_dict.items()))"
   ]
  },
  {
   "cell_type": "code",
   "execution_count": null,
   "metadata": {
    "colab": {
     "base_uri": "https://localhost:8080/"
    },
    "id": "OpUTc2YxC8f1",
    "outputId": "b80c6b89-bb8f-49a2-c81c-06b2348bf4a4"
   },
   "outputs": [
    {
     "data": {
      "text/plain": [
       "dict_items([('banana', 3), ('apple', 2), ('orange', 5), ('grape', 1)])"
      ]
     },
     "execution_count": 57,
     "metadata": {},
     "output_type": "execute_result"
    }
   ],
   "source": [
    "# sorted_dict_values = dict(sorted(my_dict.items(), key=lambda item: item[1]))\n",
    "\n",
    "# 1\n",
    "my_dict.items()"
   ]
  },
  {
   "cell_type": "code",
   "execution_count": null,
   "metadata": {
    "colab": {
     "base_uri": "https://localhost:8080/"
    },
    "id": "907_FrTxDLiD",
    "outputId": "379e38fa-f858-4421-c68a-3bad701704b5"
   },
   "outputs": [
    {
     "data": {
      "text/plain": [
       "[('grape', 1), ('apple', 2), ('banana', 3), ('orange', 5)]"
      ]
     },
     "execution_count": 58,
     "metadata": {},
     "output_type": "execute_result"
    }
   ],
   "source": [
    "# 2\n",
    "sorted(my_dict.items(), key=lambda item: item[1])"
   ]
  },
  {
   "cell_type": "code",
   "execution_count": null,
   "metadata": {
    "colab": {
     "base_uri": "https://localhost:8080/"
    },
    "id": "NhD55pYrDQQJ",
    "outputId": "4b8833e9-e1cc-4fb7-c334-4cc69b544ecc"
   },
   "outputs": [
    {
     "data": {
      "text/plain": [
       "{'orange': 5, 'grape': 1, 'banana': 3, 'apple': 2}"
      ]
     },
     "execution_count": 69,
     "metadata": {},
     "output_type": "execute_result"
    }
   ],
   "source": [
    "# 3\n",
    "dict(sorted(my_dict.items(), key = lambda item: item[0], reverse = True))"
   ]
  },
  {
   "cell_type": "code",
   "execution_count": null,
   "metadata": {
    "colab": {
     "base_uri": "https://localhost:8080/"
    },
    "id": "Zwn2bq0gDU2M",
    "outputId": "68be2425-251c-4c28-ed2a-02e02a90c64b"
   },
   "outputs": [
    {
     "name": "stdout",
     "output_type": "stream",
     "text": [
      "Help on built-in function sorted in module builtins:\n",
      "\n",
      "sorted(iterable, /, *, key=None, reverse=False)\n",
      "    Return a new list containing all items from the iterable in ascending order.\n",
      "    \n",
      "    A custom key function can be supplied to customize the sort order, and the\n",
      "    reverse flag can be set to request the result in descending order.\n",
      "\n"
     ]
    }
   ],
   "source": [
    "help(sorted)"
   ]
  },
  {
   "cell_type": "code",
   "execution_count": null,
   "metadata": {
    "colab": {
     "base_uri": "https://localhost:8080/"
    },
    "id": "4kOsezb_Dkws",
    "outputId": "796b6d42-76f2-4405-9ad0-aab5a82389b8"
   },
   "outputs": [
    {
     "name": "stdout",
     "output_type": "stream",
     "text": [
      "{'banana': 3, 'apple': 2, 'orange': 5, 'grape': 1}\n",
      "Sorted by keys: {'apple': 2, 'banana': 3, 'grape': 1, 'orange': 5}\n"
     ]
    }
   ],
   "source": [
    "my_dict = {'banana': 3, 'apple': 2, 'orange': 5, 'grape': 1}\n",
    "sorted_dict_keys = dict(sorted(my_dict.items()))\n",
    "\n",
    "print(my_dict)\n",
    "print(\"Sorted by keys:\", sorted_dict_keys)"
   ]
  },
  {
   "cell_type": "markdown",
   "metadata": {
    "id": "LdzKxm9UFeoG"
   },
   "source": [
    "Take a string as input.\n",
    "\n",
    "\n",
    "Create a dictionary according to the following criteria :-\n",
    "\n",
    "\n",
    "There will be one key-value pair for each unique character.\n",
    "Key will be the character name.\n",
    "Value will be the count of the character inside the string."
   ]
  },
  {
   "cell_type": "code",
   "execution_count": null,
   "metadata": {
    "colab": {
     "base_uri": "https://localhost:8080/"
    },
    "id": "CH1-mvt2FQE9",
    "outputId": "e148ba9b-3284-417a-f711-94c3c7b7a081"
   },
   "outputs": [
    {
     "name": "stdout",
     "output_type": "stream",
     "text": [
      "rrsssstttt\n",
      "{'r': 2, 's': 4, 't': 4}\n"
     ]
    }
   ],
   "source": [
    "# I/P\n",
    "# rrsssstttt\n",
    "\n",
    "# O/P\n",
    "# {\n",
    "#    \"r\": 2,\n",
    "#    \"s\": 3,\n",
    "#    \"t\": 4\n",
    "# }\n",
    "\n",
    "str = input()\n",
    "ans = {}\n",
    "for ch in str:\n",
    "  if ch in ans:\n",
    "    ans[ch] += 1\n",
    "  else:\n",
    "    ans[ch] = 1\n",
    "\n",
    "print(ans)"
   ]
  },
  {
   "cell_type": "code",
   "execution_count": null,
   "metadata": {
    "colab": {
     "base_uri": "https://localhost:8080/"
    },
    "id": "fObuZSBGHLLJ",
    "outputId": "a4d2b399-a8d5-4cd7-caa3-3d35a8ac77f6"
   },
   "outputs": [
    {
     "name": "stdout",
     "output_type": "stream",
     "text": [
      "rrsssstttt\n",
      "{'r': 2, 't': 4, 's': 4}\n"
     ]
    }
   ],
   "source": [
    "str = input()\n",
    "s = set(str)\n",
    "ans = {}\n",
    "for ch in s:\n",
    "  ans[ch] = str.count(ch)\n",
    "\n",
    "print(ans)"
   ]
  },
  {
   "cell_type": "code",
   "execution_count": null,
   "metadata": {
    "id": "mTatc8c9HqDC"
   },
   "outputs": [],
   "source": []
  }
 ],
 "metadata": {
  "colab": {
   "provenance": []
  },
  "kernelspec": {
   "display_name": "Python 3 (ipykernel)",
   "language": "python",
   "name": "python3"
  },
  "language_info": {
   "codemirror_mode": {
    "name": "ipython",
    "version": 3
   },
   "file_extension": ".py",
   "mimetype": "text/x-python",
   "name": "python",
   "nbconvert_exporter": "python",
   "pygments_lexer": "ipython3",
   "version": "3.13.2"
  }
 },
 "nbformat": 4,
 "nbformat_minor": 4
}

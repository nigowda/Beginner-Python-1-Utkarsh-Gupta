{
  "nbformat": 4,
  "nbformat_minor": 0,
  "metadata": {
    "colab": {
      "provenance": []
    },
    "kernelspec": {
      "name": "python3",
      "display_name": "Python 3"
    },
    "language_info": {
      "name": "python"
    }
  },
  "cells": [
    {
      "cell_type": "code",
      "execution_count": null,
      "metadata": {
        "colab": {
          "base_uri": "https://localhost:8080/"
        },
        "id": "P-ZgP9Brx41X",
        "outputId": "90c4a30a-a187-4c83-d883-0dc383f73fac"
      },
      "outputs": [
        {
          "output_type": "execute_result",
          "data": {
            "text/plain": [
              "4"
            ]
          },
          "metadata": {},
          "execution_count": 1
        }
      ],
      "source": [
        "2+2"
      ]
    },
    {
      "cell_type": "code",
      "source": [
        "city_wise_data = {\n",
        "    \"Delhi\": 450,\n",
        "    \"Mumbai\": 400,\n",
        "    \"Bengaluru\": 325\n",
        "}"
      ],
      "metadata": {
        "id": "l6YHuuAdx7TL"
      },
      "execution_count": null,
      "outputs": []
    },
    {
      "cell_type": "code",
      "source": [
        "print(type(city_wise_data))"
      ],
      "metadata": {
        "colab": {
          "base_uri": "https://localhost:8080/"
        },
        "id": "03beg-GtyDup",
        "outputId": "823b2f62-916c-4579-a522-b09cfa69185c"
      },
      "execution_count": null,
      "outputs": [
        {
          "output_type": "stream",
          "name": "stdout",
          "text": [
            "<class 'dict'>\n"
          ]
        }
      ]
    },
    {
      "cell_type": "code",
      "source": [
        "city_wise_data_tup = [(\"Delhi\", 450), (\"Mumbai\", 400), (\"Bengaluru\", 325)]"
      ],
      "metadata": {
        "id": "bMHUdcMLyG6O"
      },
      "execution_count": null,
      "outputs": []
    },
    {
      "cell_type": "code",
      "source": [
        "print(city_wise_data_tup[0])"
      ],
      "metadata": {
        "colab": {
          "base_uri": "https://localhost:8080/"
        },
        "id": "9JMly-BJygYH",
        "outputId": "d3420e6f-cea3-479f-a3a5-dd419d121da5"
      },
      "execution_count": null,
      "outputs": [
        {
          "output_type": "stream",
          "name": "stdout",
          "text": [
            "('Delhi', 450)\n"
          ]
        }
      ]
    },
    {
      "cell_type": "code",
      "source": [
        "print(city_wise_data[\"Mumbai\"])"
      ],
      "metadata": {
        "colab": {
          "base_uri": "https://localhost:8080/"
        },
        "id": "TEzn7El_ykMg",
        "outputId": "32af6169-8497-4faa-91c8-e5c86760148f"
      },
      "execution_count": null,
      "outputs": [
        {
          "output_type": "stream",
          "name": "stdout",
          "text": [
            "400\n"
          ]
        }
      ]
    },
    {
      "cell_type": "code",
      "source": [
        "print(city_wise_data[\"Agra\"])"
      ],
      "metadata": {
        "colab": {
          "base_uri": "https://localhost:8080/",
          "height": 141
        },
        "id": "SpvjJuxwy8H6",
        "outputId": "46a37caa-01bf-45fa-f33d-dd9ee79331b9"
      },
      "execution_count": null,
      "outputs": [
        {
          "output_type": "error",
          "ename": "KeyError",
          "evalue": "'Agra'",
          "traceback": [
            "\u001b[0;31m---------------------------------------------------------------------------\u001b[0m",
            "\u001b[0;31mKeyError\u001b[0m                                  Traceback (most recent call last)",
            "\u001b[0;32m<ipython-input-7-840d946ad937>\u001b[0m in \u001b[0;36m<cell line: 1>\u001b[0;34m()\u001b[0m\n\u001b[0;32m----> 1\u001b[0;31m \u001b[0mprint\u001b[0m\u001b[0;34m(\u001b[0m\u001b[0mcity_wise_data\u001b[0m\u001b[0;34m[\u001b[0m\u001b[0;34m\"Agra\"\u001b[0m\u001b[0;34m]\u001b[0m\u001b[0;34m)\u001b[0m\u001b[0;34m\u001b[0m\u001b[0;34m\u001b[0m\u001b[0m\n\u001b[0m",
            "\u001b[0;31mKeyError\u001b[0m: 'Agra'"
          ]
        }
      ]
    },
    {
      "cell_type": "code",
      "source": [
        "print(city_wise_data[\"Delhi\"])"
      ],
      "metadata": {
        "colab": {
          "base_uri": "https://localhost:8080/"
        },
        "id": "Jex-qd7yzS6m",
        "outputId": "4b73e27c-efe3-4007-a311-fd8251857288"
      },
      "execution_count": null,
      "outputs": [
        {
          "output_type": "stream",
          "name": "stdout",
          "text": [
            "450\n"
          ]
        }
      ]
    },
    {
      "cell_type": "code",
      "source": [
        "city_wise_data[\"Delhi\"] = 500\n",
        "\n",
        "print(city_wise_data)"
      ],
      "metadata": {
        "colab": {
          "base_uri": "https://localhost:8080/"
        },
        "id": "G4QS1qi8ziqs",
        "outputId": "b0de0dc2-2750-48c3-fd47-0e1f7a4b2503"
      },
      "execution_count": null,
      "outputs": [
        {
          "output_type": "stream",
          "name": "stdout",
          "text": [
            "{'Delhi': 500, 'Mumbai': 400, 'Bengaluru': 325}\n"
          ]
        }
      ]
    },
    {
      "cell_type": "code",
      "source": [
        "city_wise_data.update(\n",
        "    {\n",
        "        \"Agra\" : 800,\n",
        "        \"Pune\" : 330,\n",
        "        \"Bengaluru\": 825\n",
        "    }\n",
        ")\n",
        "\n",
        "print(city_wise_data)"
      ],
      "metadata": {
        "colab": {
          "base_uri": "https://localhost:8080/"
        },
        "id": "7ca8MB3Vzq_G",
        "outputId": "0849cb4e-486d-4549-95cb-320c1b4e787f"
      },
      "execution_count": null,
      "outputs": [
        {
          "output_type": "stream",
          "name": "stdout",
          "text": [
            "{'Delhi': 500, 'Mumbai': 400, 'Bengaluru': 825, 'Agra': 800, 'Pune': 330}\n"
          ]
        }
      ]
    },
    {
      "cell_type": "code",
      "source": [
        "len(city_wise_data)"
      ],
      "metadata": {
        "colab": {
          "base_uri": "https://localhost:8080/"
        },
        "id": "7zqOD8pn0UCI",
        "outputId": "cea60646-b699-45ee-ba7f-a5a2b7891fb3"
      },
      "execution_count": null,
      "outputs": [
        {
          "output_type": "execute_result",
          "data": {
            "text/plain": [
              "5"
            ]
          },
          "metadata": {},
          "execution_count": 11
        }
      ]
    },
    {
      "cell_type": "code",
      "source": [
        "print(city_wise_data.get(\"Delhi\"))"
      ],
      "metadata": {
        "colab": {
          "base_uri": "https://localhost:8080/"
        },
        "id": "WB7pX3dY0hb6",
        "outputId": "d206165f-b5e8-4363-e3db-a7e5c59c545f"
      },
      "execution_count": null,
      "outputs": [
        {
          "output_type": "stream",
          "name": "stdout",
          "text": [
            "500\n"
          ]
        }
      ]
    },
    {
      "cell_type": "code",
      "source": [
        "city_wise_data[\"Bihar\"] = 1000"
      ],
      "metadata": {
        "id": "9L1sqH9T0pCq"
      },
      "execution_count": null,
      "outputs": []
    },
    {
      "cell_type": "code",
      "source": [
        "print(city_wise_data)"
      ],
      "metadata": {
        "colab": {
          "base_uri": "https://localhost:8080/"
        },
        "id": "hKpZWgEm0-ba",
        "outputId": "92fb991d-cc53-4bfe-eb0c-2fc78058ccee"
      },
      "execution_count": null,
      "outputs": [
        {
          "output_type": "stream",
          "name": "stdout",
          "text": [
            "{'Delhi': 500, 'Mumbai': 400, 'Bengaluru': 825, 'Agra': 800, 'Pune': 330, 'Bihar': 1000}\n"
          ]
        }
      ]
    },
    {
      "cell_type": "code",
      "source": [
        "city_wise_data.pop(\"Bihar\")\n",
        "\n",
        "print(city_wise_data)"
      ],
      "metadata": {
        "colab": {
          "base_uri": "https://localhost:8080/"
        },
        "id": "nbVxH0G_1Cz5",
        "outputId": "1a8df2f0-61a1-4f8e-c184-7c054b57445f"
      },
      "execution_count": null,
      "outputs": [
        {
          "output_type": "stream",
          "name": "stdout",
          "text": [
            "{'Delhi': 500, 'Mumbai': 400, 'Bengaluru': 825, 'Agra': 800, 'Pune': 330}\n"
          ]
        }
      ]
    },
    {
      "cell_type": "code",
      "source": [
        "s = {1, 2, 3, 4, 5}\n",
        "\n",
        "s.pop()\n",
        "print(s)"
      ],
      "metadata": {
        "colab": {
          "base_uri": "https://localhost:8080/"
        },
        "id": "ujkHfSAD1d-J",
        "outputId": "a99d4b21-6bb2-4fab-dbcd-baa3326601be"
      },
      "execution_count": null,
      "outputs": [
        {
          "output_type": "stream",
          "name": "stdout",
          "text": [
            "{2, 3, 4, 5}\n"
          ]
        }
      ]
    },
    {
      "cell_type": "code",
      "source": [
        "city_wise_data.pop()"
      ],
      "metadata": {
        "colab": {
          "base_uri": "https://localhost:8080/",
          "height": 141
        },
        "id": "pQMAVEoZ1pjI",
        "outputId": "265f3c1e-2565-4094-fe3f-01f2b4883fad"
      },
      "execution_count": null,
      "outputs": [
        {
          "output_type": "error",
          "ename": "TypeError",
          "evalue": "pop expected at least 1 argument, got 0",
          "traceback": [
            "\u001b[0;31m---------------------------------------------------------------------------\u001b[0m",
            "\u001b[0;31mTypeError\u001b[0m                                 Traceback (most recent call last)",
            "\u001b[0;32m<ipython-input-17-00234fb4ebf2>\u001b[0m in \u001b[0;36m<cell line: 1>\u001b[0;34m()\u001b[0m\n\u001b[0;32m----> 1\u001b[0;31m \u001b[0mcity_wise_data\u001b[0m\u001b[0;34m.\u001b[0m\u001b[0mpop\u001b[0m\u001b[0;34m(\u001b[0m\u001b[0;34m)\u001b[0m\u001b[0;34m\u001b[0m\u001b[0;34m\u001b[0m\u001b[0m\n\u001b[0m",
            "\u001b[0;31mTypeError\u001b[0m: pop expected at least 1 argument, got 0"
          ]
        }
      ]
    },
    {
      "cell_type": "code",
      "source": [
        "d = {\n",
        "    1 : \"A\",\n",
        "    2 : \"B\",\n",
        "    3 : \"C\"\n",
        "}\n",
        "\n",
        "print(d)"
      ],
      "metadata": {
        "colab": {
          "base_uri": "https://localhost:8080/"
        },
        "id": "-XfdsKjH1znI",
        "outputId": "a83cdddd-ffa8-4c65-e092-5564f2ef8458"
      },
      "execution_count": null,
      "outputs": [
        {
          "output_type": "stream",
          "name": "stdout",
          "text": [
            "{1: 'A', 2: 'B', 3: 'C'}\n"
          ]
        }
      ]
    },
    {
      "cell_type": "code",
      "source": [
        "print(d[0])"
      ],
      "metadata": {
        "colab": {
          "base_uri": "https://localhost:8080/",
          "height": 141
        },
        "id": "gQqj76p22diK",
        "outputId": "136d5e86-e019-46a9-d0a4-a99e7c192db6"
      },
      "execution_count": null,
      "outputs": [
        {
          "output_type": "error",
          "ename": "KeyError",
          "evalue": "0",
          "traceback": [
            "\u001b[0;31m---------------------------------------------------------------------------\u001b[0m",
            "\u001b[0;31mKeyError\u001b[0m                                  Traceback (most recent call last)",
            "\u001b[0;32m<ipython-input-19-c7332189be96>\u001b[0m in \u001b[0;36m<cell line: 1>\u001b[0;34m()\u001b[0m\n\u001b[0;32m----> 1\u001b[0;31m \u001b[0mprint\u001b[0m\u001b[0;34m(\u001b[0m\u001b[0md\u001b[0m\u001b[0;34m[\u001b[0m\u001b[0;36m0\u001b[0m\u001b[0;34m]\u001b[0m\u001b[0;34m)\u001b[0m\u001b[0;34m\u001b[0m\u001b[0;34m\u001b[0m\u001b[0m\n\u001b[0m",
            "\u001b[0;31mKeyError\u001b[0m: 0"
          ]
        }
      ]
    },
    {
      "cell_type": "code",
      "source": [
        "print(d[1])"
      ],
      "metadata": {
        "colab": {
          "base_uri": "https://localhost:8080/"
        },
        "id": "fF4kVwly2rZS",
        "outputId": "0a8ed652-3f25-453a-c66f-45471d15d2bd"
      },
      "execution_count": null,
      "outputs": [
        {
          "output_type": "stream",
          "name": "stdout",
          "text": [
            "A\n"
          ]
        }
      ]
    },
    {
      "cell_type": "code",
      "source": [
        "d[0] = \"Hello\"\n",
        "print(d)"
      ],
      "metadata": {
        "colab": {
          "base_uri": "https://localhost:8080/"
        },
        "id": "9raHonAt261x",
        "outputId": "963b56e1-4ba5-4ba3-d349-9bbf4441bb7b"
      },
      "execution_count": null,
      "outputs": [
        {
          "output_type": "stream",
          "name": "stdout",
          "text": [
            "{1: 'A', 2: 'B', 3: 'C', 0: 'Hello'}\n"
          ]
        }
      ]
    },
    {
      "cell_type": "code",
      "source": [
        "d.update(\n",
        "    {\n",
        "        1 : \"Bye\",\n",
        "        2 : \"Play\",\n",
        "        10 : \"Happy\"\n",
        "    }\n",
        ")\n",
        "print(d)"
      ],
      "metadata": {
        "colab": {
          "base_uri": "https://localhost:8080/"
        },
        "id": "ZjY5pxgh3OxG",
        "outputId": "84f399e3-5781-401e-9d33-3a988139a553"
      },
      "execution_count": null,
      "outputs": [
        {
          "output_type": "stream",
          "name": "stdout",
          "text": [
            "{1: 'Bye', 2: 'Play', 3: 'C', 0: 'Hello', 10: 'Happy'}\n"
          ]
        }
      ]
    },
    {
      "cell_type": "code",
      "source": [
        "d.pop(10)\n",
        "print(d)"
      ],
      "metadata": {
        "colab": {
          "base_uri": "https://localhost:8080/"
        },
        "id": "bIrXWGvi3jXF",
        "outputId": "8ac9c2cc-f0e3-4271-db42-9be8af1e2ec0"
      },
      "execution_count": null,
      "outputs": [
        {
          "output_type": "stream",
          "name": "stdout",
          "text": [
            "{1: 'Bye', 2: 'Play', 3: 'C', 0: 'Hello'}\n"
          ]
        }
      ]
    },
    {
      "cell_type": "code",
      "source": [
        "d.pop(10)\n",
        "print(d)"
      ],
      "metadata": {
        "colab": {
          "base_uri": "https://localhost:8080/",
          "height": 158
        },
        "id": "U1WCtAzn3twF",
        "outputId": "c312e078-fe55-4288-f3f1-253130e78287"
      },
      "execution_count": null,
      "outputs": [
        {
          "output_type": "error",
          "ename": "KeyError",
          "evalue": "10",
          "traceback": [
            "\u001b[0;31m---------------------------------------------------------------------------\u001b[0m",
            "\u001b[0;31mKeyError\u001b[0m                                  Traceback (most recent call last)",
            "\u001b[0;32m<ipython-input-25-1388dd800274>\u001b[0m in \u001b[0;36m<cell line: 1>\u001b[0;34m()\u001b[0m\n\u001b[0;32m----> 1\u001b[0;31m \u001b[0md\u001b[0m\u001b[0;34m.\u001b[0m\u001b[0mpop\u001b[0m\u001b[0;34m(\u001b[0m\u001b[0;36m10\u001b[0m\u001b[0;34m)\u001b[0m\u001b[0;34m\u001b[0m\u001b[0;34m\u001b[0m\u001b[0m\n\u001b[0m\u001b[1;32m      2\u001b[0m \u001b[0mprint\u001b[0m\u001b[0;34m(\u001b[0m\u001b[0md\u001b[0m\u001b[0;34m)\u001b[0m\u001b[0;34m\u001b[0m\u001b[0;34m\u001b[0m\u001b[0m\n",
            "\u001b[0;31mKeyError\u001b[0m: 10"
          ]
        }
      ]
    },
    {
      "cell_type": "code",
      "source": [
        "print(d[10])"
      ],
      "metadata": {
        "colab": {
          "base_uri": "https://localhost:8080/",
          "height": 141
        },
        "id": "X2asX9Ac33wU",
        "outputId": "7a0b8a52-69de-4c56-b9bb-851d8d5762f3"
      },
      "execution_count": null,
      "outputs": [
        {
          "output_type": "error",
          "ename": "KeyError",
          "evalue": "10",
          "traceback": [
            "\u001b[0;31m---------------------------------------------------------------------------\u001b[0m",
            "\u001b[0;31mKeyError\u001b[0m                                  Traceback (most recent call last)",
            "\u001b[0;32m<ipython-input-26-dcdf5fe0f74b>\u001b[0m in \u001b[0;36m<cell line: 1>\u001b[0;34m()\u001b[0m\n\u001b[0;32m----> 1\u001b[0;31m \u001b[0mprint\u001b[0m\u001b[0;34m(\u001b[0m\u001b[0md\u001b[0m\u001b[0;34m[\u001b[0m\u001b[0;36m10\u001b[0m\u001b[0;34m]\u001b[0m\u001b[0;34m)\u001b[0m\u001b[0;34m\u001b[0m\u001b[0;34m\u001b[0m\u001b[0m\n\u001b[0m",
            "\u001b[0;31mKeyError\u001b[0m: 10"
          ]
        }
      ]
    },
    {
      "cell_type": "code",
      "source": [
        "print(d.get(10))"
      ],
      "metadata": {
        "colab": {
          "base_uri": "https://localhost:8080/"
        },
        "id": "KVObFj8h3-Tc",
        "outputId": "32f30db2-21c9-440a-aee6-8bbc67707b10"
      },
      "execution_count": null,
      "outputs": [
        {
          "output_type": "stream",
          "name": "stdout",
          "text": [
            "None\n"
          ]
        }
      ]
    },
    {
      "cell_type": "code",
      "source": [
        "d[3.0] = 3.0\n",
        "\n",
        "print(d)"
      ],
      "metadata": {
        "colab": {
          "base_uri": "https://localhost:8080/"
        },
        "id": "Nfvkyd074E0E",
        "outputId": "6039feb5-7879-49ea-c6d5-839f773b9c17"
      },
      "execution_count": null,
      "outputs": [
        {
          "output_type": "stream",
          "name": "stdout",
          "text": [
            "{1: 'Bye', 2: 'Play', 3: 3.0, 0: 'Hello'}\n"
          ]
        }
      ]
    },
    {
      "cell_type": "code",
      "source": [
        "print(3 == 3.0)"
      ],
      "metadata": {
        "colab": {
          "base_uri": "https://localhost:8080/"
        },
        "id": "DanqvtHv4jWk",
        "outputId": "e3c9ffc2-95dc-4b24-f8a4-f3a69ced6345"
      },
      "execution_count": null,
      "outputs": [
        {
          "output_type": "stream",
          "name": "stdout",
          "text": [
            "True\n"
          ]
        }
      ]
    },
    {
      "cell_type": "code",
      "source": [
        "city = {\n",
        "    \"mum\":11,\n",
        "    \"mum\":22,\n",
        "    \"delhi\":33\n",
        "}\n",
        "print(city)"
      ],
      "metadata": {
        "colab": {
          "base_uri": "https://localhost:8080/"
        },
        "id": "Uc0d5cRk4x-p",
        "outputId": "231cd140-68af-4f2c-c99d-6237c498e07c"
      },
      "execution_count": null,
      "outputs": [
        {
          "output_type": "stream",
          "name": "stdout",
          "text": [
            "{'mum': 22, 'delhi': 33}\n"
          ]
        }
      ]
    },
    {
      "cell_type": "code",
      "source": [
        "dt = {\n",
        "    1 : \"A\",\n",
        "    \"H\" : 2,\n",
        "    3 : 3\n",
        "}\n",
        "print(dt)"
      ],
      "metadata": {
        "colab": {
          "base_uri": "https://localhost:8080/"
        },
        "id": "AuM1sX-54_S_",
        "outputId": "890d9e10-f945-48f6-d6cb-46f8a963d645"
      },
      "execution_count": null,
      "outputs": [
        {
          "output_type": "stream",
          "name": "stdout",
          "text": [
            "{1: 'A', 'H': 2, 3: 3}\n"
          ]
        }
      ]
    },
    {
      "cell_type": "code",
      "source": [
        "a = {'name': 'Thor Odinson',\n",
        "     'age': 1500,\n",
        "     'weapon': ['mjonir', 'stormbreaker'],\n",
        "     'strongest': True}\n",
        "\n",
        "print(a)"
      ],
      "metadata": {
        "colab": {
          "base_uri": "https://localhost:8080/"
        },
        "id": "eFTLgJmJ7IMS",
        "outputId": "12f7a5fc-b243-45ee-f203-9bdf36145c89"
      },
      "execution_count": null,
      "outputs": [
        {
          "output_type": "stream",
          "name": "stdout",
          "text": [
            "{'name': 'Thor Odinson', 'age': 1500, 'weapon': ['mjonir', 'stormbreaker'], 'strongest': True}\n"
          ]
        }
      ]
    },
    {
      "cell_type": "code",
      "source": [
        "for i in a:\n",
        "  print(i)"
      ],
      "metadata": {
        "colab": {
          "base_uri": "https://localhost:8080/"
        },
        "id": "QCmQDIdL7WP7",
        "outputId": "b84e8db7-473a-4e23-dacf-96b2a3078d93"
      },
      "execution_count": null,
      "outputs": [
        {
          "output_type": "stream",
          "name": "stdout",
          "text": [
            "name\n",
            "age\n",
            "weapon\n",
            "strongest\n"
          ]
        }
      ]
    },
    {
      "cell_type": "code",
      "source": [
        "for i in a:\n",
        "  print(a.get(i))"
      ],
      "metadata": {
        "colab": {
          "base_uri": "https://localhost:8080/"
        },
        "id": "GdVI0t4P7j2O",
        "outputId": "c4716bf1-8be3-448c-8ce5-3f19b0547ad7"
      },
      "execution_count": null,
      "outputs": [
        {
          "output_type": "stream",
          "name": "stdout",
          "text": [
            "Thor Odinson\n",
            "1500\n",
            "['mjonir', 'stormbreaker']\n",
            "True\n"
          ]
        }
      ]
    },
    {
      "cell_type": "code",
      "source": [
        "for i in a:\n",
        "  print(f\"{i} -> {a.get(i)}\")"
      ],
      "metadata": {
        "colab": {
          "base_uri": "https://localhost:8080/"
        },
        "id": "y8-1ah9C7xnr",
        "outputId": "6d61d368-5651-421d-d35e-bfebb849af8c"
      },
      "execution_count": null,
      "outputs": [
        {
          "output_type": "stream",
          "name": "stdout",
          "text": [
            "name -> Thor Odinson\n",
            "age -> 1500\n",
            "weapon -> ['mjonir', 'stormbreaker']\n",
            "strongest -> True\n"
          ]
        }
      ]
    },
    {
      "cell_type": "code",
      "source": [
        "a.keys()"
      ],
      "metadata": {
        "colab": {
          "base_uri": "https://localhost:8080/"
        },
        "id": "0voKLxmT73XW",
        "outputId": "91f72bf3-efb0-4a17-82f8-305979e5ebd9"
      },
      "execution_count": null,
      "outputs": [
        {
          "output_type": "execute_result",
          "data": {
            "text/plain": [
              "dict_keys(['name', 'age', 'weapon', 'strongest'])"
            ]
          },
          "metadata": {},
          "execution_count": 38
        }
      ]
    },
    {
      "cell_type": "code",
      "source": [
        "a.values()"
      ],
      "metadata": {
        "colab": {
          "base_uri": "https://localhost:8080/"
        },
        "id": "TkyK-TPL8KCG",
        "outputId": "e59162c9-e985-4baa-bd9b-a898c87f8b29"
      },
      "execution_count": null,
      "outputs": [
        {
          "output_type": "execute_result",
          "data": {
            "text/plain": [
              "dict_values(['Thor Odinson', 1500, ['mjonir', 'stormbreaker'], True])"
            ]
          },
          "metadata": {},
          "execution_count": 39
        }
      ]
    },
    {
      "cell_type": "code",
      "source": [
        "a.items()"
      ],
      "metadata": {
        "colab": {
          "base_uri": "https://localhost:8080/"
        },
        "id": "EypMAUFo8Pu5",
        "outputId": "dbacf7c2-8bc8-44cf-e5be-d0fd6db6220a"
      },
      "execution_count": null,
      "outputs": [
        {
          "output_type": "execute_result",
          "data": {
            "text/plain": [
              "dict_items([('name', 'Thor Odinson'), ('age', 1500), ('weapon', ['mjonir', 'stormbreaker']), ('strongest', True)])"
            ]
          },
          "metadata": {},
          "execution_count": 40
        }
      ]
    },
    {
      "cell_type": "code",
      "source": [
        "\"name\" in a.keys()"
      ],
      "metadata": {
        "colab": {
          "base_uri": "https://localhost:8080/"
        },
        "id": "mRRtL69I8Uxm",
        "outputId": "ab61416d-9e92-42a5-d27a-4fac4587ed4d"
      },
      "execution_count": null,
      "outputs": [
        {
          "output_type": "execute_result",
          "data": {
            "text/plain": [
              "True"
            ]
          },
          "metadata": {},
          "execution_count": 41
        }
      ]
    },
    {
      "cell_type": "code",
      "source": [
        "\"first_name\" in a.keys()"
      ],
      "metadata": {
        "colab": {
          "base_uri": "https://localhost:8080/"
        },
        "id": "gLsezFah8l6W",
        "outputId": "e8faf26c-3e23-4cb4-d575-569074a150da"
      },
      "execution_count": null,
      "outputs": [
        {
          "output_type": "execute_result",
          "data": {
            "text/plain": [
              "False"
            ]
          },
          "metadata": {},
          "execution_count": 42
        }
      ]
    },
    {
      "cell_type": "code",
      "source": [
        "x = input()\n",
        "\n",
        "if x in a.keys():\n",
        "  print(a.get(x))\n",
        "else:\n",
        "  print(f\"{x} is not present in a\")"
      ],
      "metadata": {
        "colab": {
          "base_uri": "https://localhost:8080/"
        },
        "id": "yzSw6PIY8pAz",
        "outputId": "7400ff5c-88b8-487a-d1ae-7bffe3e0fd64"
      },
      "execution_count": null,
      "outputs": [
        {
          "output_type": "stream",
          "name": "stdout",
          "text": [
            "dob\n",
            "dob is not present in a\n"
          ]
        }
      ]
    },
    {
      "cell_type": "code",
      "source": [
        "random = {\n",
        "    \"key1\": [45, 56, 78],\n",
        "    \"key2\": {\n",
        "        \"key3\": (1, 2, 3)\n",
        "    },\n",
        "    45: \"value3\",\n",
        "    56.78: \"678\",\n",
        "    (1,2,3): \"random value\"\n",
        "}\n",
        "\n",
        "print(random)"
      ],
      "metadata": {
        "colab": {
          "base_uri": "https://localhost:8080/"
        },
        "id": "bQUn0CU78yMh",
        "outputId": "f91b6919-4b8c-45e4-cdd1-9e7794184746"
      },
      "execution_count": null,
      "outputs": [
        {
          "output_type": "stream",
          "name": "stdout",
          "text": [
            "{'key1': [45, 56, 78], 'key2': {'key3': (1, 2, 3)}, 45: 'value3', 56.78: '678', (1, 2, 3): 'random value'}\n"
          ]
        }
      ]
    },
    {
      "cell_type": "code",
      "source": [
        "random = {\n",
        "    \"key1\": [45, 56, 78],\n",
        "    \"key2\": {\n",
        "        \"key3\": (1, 2, 3)\n",
        "    },\n",
        "    45: \"value3\",\n",
        "    56.78: \"678\",\n",
        "    [1,2,3]: \"random value\"\n",
        "}"
      ],
      "metadata": {
        "colab": {
          "base_uri": "https://localhost:8080/",
          "height": 211
        },
        "id": "HVVl9q_o-Kh4",
        "outputId": "c24628f9-2156-45fb-f52d-139305998b52"
      },
      "execution_count": null,
      "outputs": [
        {
          "output_type": "error",
          "ename": "TypeError",
          "evalue": "unhashable type: 'list'",
          "traceback": [
            "\u001b[0;31m---------------------------------------------------------------------------\u001b[0m",
            "\u001b[0;31mTypeError\u001b[0m                                 Traceback (most recent call last)",
            "\u001b[0;32m<ipython-input-50-24c6e498912b>\u001b[0m in \u001b[0;36m<cell line: 2>\u001b[0;34m()\u001b[0m\n\u001b[0;32m----> 1\u001b[0;31m random = {\n\u001b[0m\u001b[1;32m      2\u001b[0m     \u001b[0;34m\"key1\"\u001b[0m\u001b[0;34m:\u001b[0m \u001b[0;34m[\u001b[0m\u001b[0;36m45\u001b[0m\u001b[0;34m,\u001b[0m \u001b[0;36m56\u001b[0m\u001b[0;34m,\u001b[0m \u001b[0;36m78\u001b[0m\u001b[0;34m]\u001b[0m\u001b[0;34m,\u001b[0m\u001b[0;34m\u001b[0m\u001b[0;34m\u001b[0m\u001b[0m\n\u001b[1;32m      3\u001b[0m     \"key2\": {\n\u001b[1;32m      4\u001b[0m         \u001b[0;34m\"key3\"\u001b[0m\u001b[0;34m:\u001b[0m \u001b[0;34m(\u001b[0m\u001b[0;36m1\u001b[0m\u001b[0;34m,\u001b[0m \u001b[0;36m2\u001b[0m\u001b[0;34m,\u001b[0m \u001b[0;36m3\u001b[0m\u001b[0;34m)\u001b[0m\u001b[0;34m\u001b[0m\u001b[0;34m\u001b[0m\u001b[0m\n\u001b[1;32m      5\u001b[0m     },\n",
            "\u001b[0;31mTypeError\u001b[0m: unhashable type: 'list'"
          ]
        }
      ]
    },
    {
      "cell_type": "markdown",
      "source": [
        "Values - Can store any data structure or any data type.\n",
        "\n",
        "\n",
        "Keys - Lists, Sets and Dictionaries are not allowed."
      ],
      "metadata": {
        "id": "bMRf-uG6-xVI"
      }
    },
    {
      "cell_type": "code",
      "source": [
        "my_dict = {'banana': 3, 'apple': 2, 'orange': 5, 'grape': 1}\n",
        "print(my_dict)"
      ],
      "metadata": {
        "colab": {
          "base_uri": "https://localhost:8080/"
        },
        "id": "qxNayNlj-l8u",
        "outputId": "9e81f384-1dfd-4512-9cfc-0ad20ca23037"
      },
      "execution_count": null,
      "outputs": [
        {
          "output_type": "stream",
          "name": "stdout",
          "text": [
            "{'banana': 3, 'apple': 2, 'orange': 5, 'grape': 1}\n"
          ]
        }
      ]
    },
    {
      "cell_type": "code",
      "source": [
        "sorted_dict_keys = dict(sorted(my_dict.items()))\n",
        "print(\"Sorted by keys:\", sorted_dict_keys)"
      ],
      "metadata": {
        "colab": {
          "base_uri": "https://localhost:8080/"
        },
        "id": "QCYCQ-CV_VMA",
        "outputId": "667688c5-5d2a-4029-f7ba-e931d1b9f1ab"
      },
      "execution_count": null,
      "outputs": [
        {
          "output_type": "stream",
          "name": "stdout",
          "text": [
            "Sorted by keys: {'apple': 2, 'banana': 3, 'grape': 1, 'orange': 5}\n"
          ]
        }
      ]
    },
    {
      "cell_type": "code",
      "source": [
        "sorted_dict_values = dict(sorted(my_dict.items(), key=lambda item: item[1]))\n",
        "print(\"Sorted by values:\", sorted_dict_values)"
      ],
      "metadata": {
        "colab": {
          "base_uri": "https://localhost:8080/"
        },
        "id": "U72Q3AQB_dQU",
        "outputId": "e8cbf834-8584-4fb0-d08a-a46ddc12772a"
      },
      "execution_count": null,
      "outputs": [
        {
          "output_type": "stream",
          "name": "stdout",
          "text": [
            "Sorted by values: {'grape': 1, 'apple': 2, 'banana': 3, 'orange': 5}\n"
          ]
        }
      ]
    },
    {
      "cell_type": "code",
      "source": [
        "# 1\n",
        "my_dict.items()"
      ],
      "metadata": {
        "colab": {
          "base_uri": "https://localhost:8080/"
        },
        "id": "70pV_-j9CnMm",
        "outputId": "dfcddffe-6223-42cb-c37e-a1141ba96c32"
      },
      "execution_count": null,
      "outputs": [
        {
          "output_type": "execute_result",
          "data": {
            "text/plain": [
              "dict_items([('banana', 3), ('apple', 2), ('orange', 5), ('grape', 1)])"
            ]
          },
          "metadata": {},
          "execution_count": 54
        }
      ]
    },
    {
      "cell_type": "code",
      "source": [
        "# sorted_dict_keys = dict(sorted(my_dict.items()))\n",
        "# print(\"Sorted by keys:\", sorted_dict_keys)\n",
        "\n",
        "# 2\n",
        "sorted(my_dict.items())"
      ],
      "metadata": {
        "colab": {
          "base_uri": "https://localhost:8080/"
        },
        "id": "RC5oWN8hCrBk",
        "outputId": "dc2c7a48-479f-4d2d-8720-7a164f7e6328"
      },
      "execution_count": null,
      "outputs": [
        {
          "output_type": "execute_result",
          "data": {
            "text/plain": [
              "[('apple', 2), ('banana', 3), ('grape', 1), ('orange', 5)]"
            ]
          },
          "metadata": {},
          "execution_count": 55
        }
      ]
    },
    {
      "cell_type": "code",
      "source": [
        "# 3\n",
        "dict(sorted(my_dict.items()))"
      ],
      "metadata": {
        "colab": {
          "base_uri": "https://localhost:8080/"
        },
        "id": "CojDW83_C2Ux",
        "outputId": "e1eea141-0e0a-4874-9321-ee00dac90ff1"
      },
      "execution_count": null,
      "outputs": [
        {
          "output_type": "execute_result",
          "data": {
            "text/plain": [
              "{'apple': 2, 'banana': 3, 'grape': 1, 'orange': 5}"
            ]
          },
          "metadata": {},
          "execution_count": 56
        }
      ]
    },
    {
      "cell_type": "code",
      "source": [
        "# sorted_dict_values = dict(sorted(my_dict.items(), key=lambda item: item[1]))\n",
        "\n",
        "# 1\n",
        "my_dict.items()"
      ],
      "metadata": {
        "colab": {
          "base_uri": "https://localhost:8080/"
        },
        "id": "OpUTc2YxC8f1",
        "outputId": "b80c6b89-bb8f-49a2-c81c-06b2348bf4a4"
      },
      "execution_count": null,
      "outputs": [
        {
          "output_type": "execute_result",
          "data": {
            "text/plain": [
              "dict_items([('banana', 3), ('apple', 2), ('orange', 5), ('grape', 1)])"
            ]
          },
          "metadata": {},
          "execution_count": 57
        }
      ]
    },
    {
      "cell_type": "code",
      "source": [
        "# 2\n",
        "sorted(my_dict.items(), key=lambda item: item[1])"
      ],
      "metadata": {
        "colab": {
          "base_uri": "https://localhost:8080/"
        },
        "id": "907_FrTxDLiD",
        "outputId": "379e38fa-f858-4421-c68a-3bad701704b5"
      },
      "execution_count": null,
      "outputs": [
        {
          "output_type": "execute_result",
          "data": {
            "text/plain": [
              "[('grape', 1), ('apple', 2), ('banana', 3), ('orange', 5)]"
            ]
          },
          "metadata": {},
          "execution_count": 58
        }
      ]
    },
    {
      "cell_type": "code",
      "source": [
        "# 3\n",
        "dict(sorted(my_dict.items(), key = lambda item: item[0], reverse = True))"
      ],
      "metadata": {
        "colab": {
          "base_uri": "https://localhost:8080/"
        },
        "id": "NhD55pYrDQQJ",
        "outputId": "4b8833e9-e1cc-4fb7-c334-4cc69b544ecc"
      },
      "execution_count": null,
      "outputs": [
        {
          "output_type": "execute_result",
          "data": {
            "text/plain": [
              "{'orange': 5, 'grape': 1, 'banana': 3, 'apple': 2}"
            ]
          },
          "metadata": {},
          "execution_count": 69
        }
      ]
    },
    {
      "cell_type": "code",
      "source": [
        "help(sorted)"
      ],
      "metadata": {
        "colab": {
          "base_uri": "https://localhost:8080/"
        },
        "id": "Zwn2bq0gDU2M",
        "outputId": "68be2425-251c-4c28-ed2a-02e02a90c64b"
      },
      "execution_count": null,
      "outputs": [
        {
          "output_type": "stream",
          "name": "stdout",
          "text": [
            "Help on built-in function sorted in module builtins:\n",
            "\n",
            "sorted(iterable, /, *, key=None, reverse=False)\n",
            "    Return a new list containing all items from the iterable in ascending order.\n",
            "    \n",
            "    A custom key function can be supplied to customize the sort order, and the\n",
            "    reverse flag can be set to request the result in descending order.\n",
            "\n"
          ]
        }
      ]
    },
    {
      "cell_type": "code",
      "source": [
        "my_dict = {'banana': 3, 'apple': 2, 'orange': 5, 'grape': 1}\n",
        "sorted_dict_keys = dict(sorted(my_dict.items()))\n",
        "\n",
        "print(my_dict)\n",
        "print(\"Sorted by keys:\", sorted_dict_keys)"
      ],
      "metadata": {
        "colab": {
          "base_uri": "https://localhost:8080/"
        },
        "id": "4kOsezb_Dkws",
        "outputId": "796b6d42-76f2-4405-9ad0-aab5a82389b8"
      },
      "execution_count": null,
      "outputs": [
        {
          "output_type": "stream",
          "name": "stdout",
          "text": [
            "{'banana': 3, 'apple': 2, 'orange': 5, 'grape': 1}\n",
            "Sorted by keys: {'apple': 2, 'banana': 3, 'grape': 1, 'orange': 5}\n"
          ]
        }
      ]
    },
    {
      "cell_type": "markdown",
      "source": [
        "Take a string as input.\n",
        "\n",
        "\n",
        "Create a dictionary according to the following criteria :-\n",
        "\n",
        "\n",
        "There will be one key-value pair for each unique character.\n",
        "Key will be the character name.\n",
        "Value will be the count of the character inside the string."
      ],
      "metadata": {
        "id": "LdzKxm9UFeoG"
      }
    },
    {
      "cell_type": "code",
      "source": [
        "# I/P\n",
        "# rrsssstttt\n",
        "\n",
        "# O/P\n",
        "# {\n",
        "#    \"r\": 2,\n",
        "#    \"s\": 3,\n",
        "#    \"t\": 4\n",
        "# }\n",
        "\n",
        "str = input()\n",
        "ans = {}\n",
        "for ch in str:\n",
        "  if ch in ans:\n",
        "    ans[ch] += 1\n",
        "  else:\n",
        "    ans[ch] = 1\n",
        "\n",
        "print(ans)"
      ],
      "metadata": {
        "colab": {
          "base_uri": "https://localhost:8080/"
        },
        "id": "CH1-mvt2FQE9",
        "outputId": "e148ba9b-3284-417a-f711-94c3c7b7a081"
      },
      "execution_count": null,
      "outputs": [
        {
          "output_type": "stream",
          "name": "stdout",
          "text": [
            "rrsssstttt\n",
            "{'r': 2, 's': 4, 't': 4}\n"
          ]
        }
      ]
    },
    {
      "cell_type": "code",
      "source": [
        "str = input()\n",
        "s = set(str)\n",
        "ans = {}\n",
        "for ch in s:\n",
        "  ans[ch] = str.count(ch)\n",
        "\n",
        "print(ans)"
      ],
      "metadata": {
        "colab": {
          "base_uri": "https://localhost:8080/"
        },
        "id": "fObuZSBGHLLJ",
        "outputId": "a4d2b399-a8d5-4cd7-caa3-3d35a8ac77f6"
      },
      "execution_count": null,
      "outputs": [
        {
          "output_type": "stream",
          "name": "stdout",
          "text": [
            "rrsssstttt\n",
            "{'r': 2, 't': 4, 's': 4}\n"
          ]
        }
      ]
    },
    {
      "cell_type": "code",
      "source": [],
      "metadata": {
        "id": "mTatc8c9HqDC"
      },
      "execution_count": null,
      "outputs": []
    }
  ]
}
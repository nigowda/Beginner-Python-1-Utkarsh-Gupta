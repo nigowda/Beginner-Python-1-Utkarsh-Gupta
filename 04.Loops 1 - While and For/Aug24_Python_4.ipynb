{
  "nbformat": 4,
  "nbformat_minor": 0,
  "metadata": {
    "colab": {
      "provenance": []
    },
    "kernelspec": {
      "name": "python3",
      "display_name": "Python 3"
    },
    "language_info": {
      "name": "python"
    }
  },
  "cells": [
    {
      "cell_type": "code",
      "execution_count": null,
      "metadata": {
        "colab": {
          "base_uri": "https://localhost:8080/"
        },
        "id": "SjPEvvlCZtfV",
        "outputId": "9b08ab4f-46cf-4e78-9d06-9e09ad942b23"
      },
      "outputs": [
        {
          "output_type": "execute_result",
          "data": {
            "text/plain": [
              "2"
            ]
          },
          "metadata": {},
          "execution_count": 1
        }
      ],
      "source": [
        "1+1"
      ]
    },
    {
      "cell_type": "code",
      "source": [
        "# Print numbers from 1 to 5\n",
        "\n",
        "n = 1\n",
        "last = int(input())\n",
        "while n <= last:\n",
        "  print(n)\n",
        "  n = n+1"
      ],
      "metadata": {
        "colab": {
          "base_uri": "https://localhost:8080/"
        },
        "id": "t9GbfQXHZwNa",
        "outputId": "35dee2e4-8b74-461e-d30a-21ec3ae51415"
      },
      "execution_count": null,
      "outputs": [
        {
          "output_type": "stream",
          "name": "stdout",
          "text": [
            "7\n",
            "1\n",
            "2\n",
            "3\n",
            "4\n",
            "5\n",
            "6\n",
            "7\n"
          ]
        }
      ]
    },
    {
      "cell_type": "code",
      "source": [
        "# Print all even numbers from 1 to N (user input)\n",
        "\n",
        "i = 2\n",
        "N = int(input())\n",
        "while i <= N:\n",
        "  print(i)\n",
        "  i = i+2"
      ],
      "metadata": {
        "colab": {
          "base_uri": "https://localhost:8080/"
        },
        "id": "7tVvxblVZ805",
        "outputId": "a88b10d9-0d09-4ff7-8ce9-9f16c3b51e3b"
      },
      "execution_count": null,
      "outputs": [
        {
          "output_type": "stream",
          "name": "stdout",
          "text": [
            "9\n",
            "2\n",
            "4\n",
            "6\n",
            "8\n"
          ]
        }
      ]
    },
    {
      "cell_type": "code",
      "source": [
        "# Print all odd numbers from 1 to N (user input)\n",
        "\n",
        "i = 1\n",
        "N = int(input())\n",
        "while i <= N:\n",
        "  print(i)\n",
        "  i = i+2   # 1, 3, 5..."
      ],
      "metadata": {
        "colab": {
          "base_uri": "https://localhost:8080/"
        },
        "id": "0HptY-e6a70R",
        "outputId": "4940ec9f-3d50-417f-8ca2-4d8f01cd1ee7"
      },
      "execution_count": null,
      "outputs": [
        {
          "output_type": "stream",
          "name": "stdout",
          "text": [
            "10\n",
            "1\n",
            "3\n",
            "5\n",
            "7\n",
            "9\n"
          ]
        }
      ]
    },
    {
      "cell_type": "code",
      "source": [
        "# Print even numbers 1 to N followed by odd numbers 1 to N (user input)\n",
        "\n",
        "N = int(input())\n",
        "x = 2\n",
        "while x <= N:\n",
        "  print(x)\n",
        "  x = x + 2\n",
        "\n",
        "x = 1\n",
        "while x <= N:\n",
        "  print(x)\n",
        "  x = x + 2"
      ],
      "metadata": {
        "colab": {
          "base_uri": "https://localhost:8080/"
        },
        "id": "dJoPb5oJb29C",
        "outputId": "a8ccf9e2-735e-4b2d-d3a7-c248aff44ed2"
      },
      "execution_count": null,
      "outputs": [
        {
          "output_type": "stream",
          "name": "stdout",
          "text": [
            "7\n",
            "2\n",
            "4\n",
            "6\n",
            "1\n",
            "3\n",
            "5\n",
            "7\n"
          ]
        }
      ]
    },
    {
      "cell_type": "code",
      "source": [
        "# Print all odd numbers (1, 3, 5, ...) from L to R where L & R are user defined.\n",
        "\n",
        "L = int(input())\n",
        "R = int(input())\n",
        "\n",
        "cnt = 0\n",
        "x = L\n",
        "while x <= R:\n",
        "  cnt += 1\n",
        "  if (x % 2 == 1):\n",
        "    print(x)\n",
        "  x = x + 1\n",
        "print(\"Number of times while loop is running = \", cnt)"
      ],
      "metadata": {
        "colab": {
          "base_uri": "https://localhost:8080/"
        },
        "id": "2n987-zMct2u",
        "outputId": "13fa5c09-e60d-4b72-ae83-c1aa9b143ca7"
      },
      "execution_count": null,
      "outputs": [
        {
          "output_type": "stream",
          "name": "stdout",
          "text": [
            "25\n",
            "35\n",
            "25\n",
            "27\n",
            "29\n",
            "31\n",
            "33\n",
            "35\n",
            "Number of times while loop is running =  11\n"
          ]
        }
      ]
    },
    {
      "cell_type": "code",
      "source": [
        "L = int(input())\n",
        "R = int(input())\n",
        "\n",
        "if L % 2 == 1:\n",
        "  x = L\n",
        "else:\n",
        "  x = L+1\n",
        "\n",
        "cnt = 0\n",
        "while x <= R:\n",
        "  cnt += 1\n",
        "  print(x)\n",
        "  x = x + 2\n",
        "print(\"Number of times while loop is running = \", cnt)"
      ],
      "metadata": {
        "colab": {
          "base_uri": "https://localhost:8080/"
        },
        "id": "_exd492zeITA",
        "outputId": "9e89adfc-9e18-466d-b62c-a9bda5929f60"
      },
      "execution_count": null,
      "outputs": [
        {
          "output_type": "stream",
          "name": "stdout",
          "text": [
            "25\n",
            "35\n",
            "25\n",
            "27\n",
            "29\n",
            "31\n",
            "33\n",
            "35\n",
            "Number of times while loop is running =  6\n"
          ]
        }
      ]
    },
    {
      "cell_type": "code",
      "source": [
        "x = 1\n",
        "while x <= 100:\n",
        "    if x % 3 == 0 and x % 5 == 0:\n",
        "        print(\"FizzBuzz\")\n",
        "    elif x % 3 == 0:\n",
        "        print(\"Fizz\")\n",
        "    elif x % 5 == 0:\n",
        "        print(\"Buzz\")\n",
        "    else:\n",
        "        print(x)\n",
        "    x += 1"
      ],
      "metadata": {
        "colab": {
          "base_uri": "https://localhost:8080/"
        },
        "id": "sXH-poYNeorG",
        "outputId": "c638f8ee-a6d1-4239-c78d-8328ac74ea5f"
      },
      "execution_count": null,
      "outputs": [
        {
          "output_type": "stream",
          "name": "stdout",
          "text": [
            "1\n",
            "2\n",
            "Fizz\n",
            "4\n",
            "Buzz\n",
            "Fizz\n",
            "7\n",
            "8\n",
            "Fizz\n",
            "Buzz\n",
            "11\n",
            "Fizz\n",
            "13\n",
            "14\n",
            "FizzBuzz\n",
            "16\n",
            "17\n",
            "Fizz\n",
            "19\n",
            "Buzz\n",
            "Fizz\n",
            "22\n",
            "23\n",
            "Fizz\n",
            "Buzz\n",
            "26\n",
            "Fizz\n",
            "28\n",
            "29\n",
            "FizzBuzz\n",
            "31\n",
            "32\n",
            "Fizz\n",
            "34\n",
            "Buzz\n",
            "Fizz\n",
            "37\n",
            "38\n",
            "Fizz\n",
            "Buzz\n",
            "41\n",
            "Fizz\n",
            "43\n",
            "44\n",
            "FizzBuzz\n",
            "46\n",
            "47\n",
            "Fizz\n",
            "49\n",
            "Buzz\n",
            "Fizz\n",
            "52\n",
            "53\n",
            "Fizz\n",
            "Buzz\n",
            "56\n",
            "Fizz\n",
            "58\n",
            "59\n",
            "FizzBuzz\n",
            "61\n",
            "62\n",
            "Fizz\n",
            "64\n",
            "Buzz\n",
            "Fizz\n",
            "67\n",
            "68\n",
            "Fizz\n",
            "Buzz\n",
            "71\n",
            "Fizz\n",
            "73\n",
            "74\n",
            "FizzBuzz\n",
            "76\n",
            "77\n",
            "Fizz\n",
            "79\n",
            "Buzz\n",
            "Fizz\n",
            "82\n",
            "83\n",
            "Fizz\n",
            "Buzz\n",
            "86\n",
            "Fizz\n",
            "88\n",
            "89\n",
            "FizzBuzz\n",
            "91\n",
            "92\n",
            "Fizz\n",
            "94\n",
            "Buzz\n",
            "Fizz\n",
            "97\n",
            "98\n",
            "Fizz\n",
            "Buzz\n"
          ]
        }
      ]
    },
    {
      "cell_type": "code",
      "source": [
        "x = 1\n",
        "N = int(input())\n",
        "while x <= N:\n",
        "  print(x)\n",
        "  x = x+1"
      ],
      "metadata": {
        "colab": {
          "base_uri": "https://localhost:8080/"
        },
        "id": "oB_FuOKsh8ig",
        "outputId": "cf01520d-7f47-4c5c-bcde-77b0717d96b2"
      },
      "execution_count": null,
      "outputs": [
        {
          "output_type": "stream",
          "name": "stdout",
          "text": [
            "5\n",
            "1\n",
            "2\n",
            "3\n",
            "4\n",
            "5\n"
          ]
        }
      ]
    },
    {
      "cell_type": "code",
      "source": [
        "# Print 1 to N in a single line i.e. 1 2 3 4 5\n",
        "\n",
        "x = 1\n",
        "N = int(input())\n",
        "while x <= N:\n",
        "  print(x, end = \" \")\n",
        "  x = x+1"
      ],
      "metadata": {
        "colab": {
          "base_uri": "https://localhost:8080/"
        },
        "id": "YCnpIEisiq6J",
        "outputId": "580f5f31-6071-4c87-9d02-faadb67e6de2"
      },
      "execution_count": null,
      "outputs": [
        {
          "output_type": "stream",
          "name": "stdout",
          "text": [
            "5\n",
            "1 2 3 4 5 "
          ]
        }
      ]
    },
    {
      "cell_type": "code",
      "source": [
        "# Print 1 to N in a single line i.e. 1, 2, 3, 4, 5,\n",
        "\n",
        "x = 1\n",
        "N = int(input())\n",
        "while x < N:\n",
        "  print(x, end = \", \")\n",
        "  x = x+1\n",
        "print(N)"
      ],
      "metadata": {
        "colab": {
          "base_uri": "https://localhost:8080/"
        },
        "id": "nfUC5CH2jAw2",
        "outputId": "ca184967-9104-4eb1-ef7d-facb8e8cb329"
      },
      "execution_count": null,
      "outputs": [
        {
          "output_type": "stream",
          "name": "stdout",
          "text": [
            "5\n",
            "1, 2, 3, 4, 5\n"
          ]
        }
      ]
    },
    {
      "cell_type": "code",
      "source": [
        "print(1, 2, 3, 4, 5, 6, 7, 8, 9)"
      ],
      "metadata": {
        "colab": {
          "base_uri": "https://localhost:8080/"
        },
        "id": "2nyqlND5jOa8",
        "outputId": "2c2a307b-f95b-4276-d6a6-b47694caf5fb"
      },
      "execution_count": null,
      "outputs": [
        {
          "output_type": "stream",
          "name": "stdout",
          "text": [
            "1 2 3 4 5 6 7 8 9\n"
          ]
        }
      ]
    },
    {
      "cell_type": "code",
      "source": [
        "print(1, 2, 3, 4, 5, 6, 7, 8, 9, sep = \"#\")"
      ],
      "metadata": {
        "colab": {
          "base_uri": "https://localhost:8080/"
        },
        "id": "7qEgFBzZm-zV",
        "outputId": "42272973-9d0c-402a-fe0c-2d1ae9ffa1ee"
      },
      "execution_count": null,
      "outputs": [
        {
          "output_type": "stream",
          "name": "stdout",
          "text": [
            "1#2#3#4#5#6#7#8#9\n"
          ]
        }
      ]
    },
    {
      "cell_type": "code",
      "source": [
        "print(1, 2, 3, 4, 5, 6, 7, 8, 9, sep = \" hello \")"
      ],
      "metadata": {
        "colab": {
          "base_uri": "https://localhost:8080/"
        },
        "id": "Qfw6RKZ-nExS",
        "outputId": "4ba478d4-70e0-46a6-b1a0-8e1f2df98036"
      },
      "execution_count": null,
      "outputs": [
        {
          "output_type": "stream",
          "name": "stdout",
          "text": [
            "1 hello 2 hello 3 hello 4 hello 5 hello 6 hello 7 hello 8 hello 9\n"
          ]
        }
      ]
    },
    {
      "cell_type": "code",
      "source": [
        "x = 1\n",
        "while x <= 5:\n",
        "  print(x)\n",
        "  x = x+1"
      ],
      "metadata": {
        "colab": {
          "base_uri": "https://localhost:8080/"
        },
        "id": "Tu5xbSeloG0K",
        "outputId": "f2f595e3-9415-4f0e-cd11-2aa2c7208124"
      },
      "execution_count": null,
      "outputs": [
        {
          "output_type": "stream",
          "name": "stdout",
          "text": [
            "1\n",
            "2\n",
            "3\n",
            "4\n",
            "5\n"
          ]
        }
      ]
    },
    {
      "cell_type": "code",
      "source": [
        "print(1, 2, 3, sep = \"$\")                     # 1$2$3 <move to next line>\n",
        "print(4, 5, 6, sep = \" yo! \", end = \"\\t\")     # 4 yo! 5 yo! 6 <tab space>\n",
        "print(7, 8, 9, sep = \"wow\", end = \" amazing\\n\") # 7wow8wow9 <print \" amazing\">\n",
        "print(10, 11, 12, end = \"@@123\")                # 10 11 12 <print123>"
      ],
      "metadata": {
        "colab": {
          "base_uri": "https://localhost:8080/"
        },
        "id": "3faQWkUjnJKX",
        "outputId": "87300a78-0af5-4bbe-b9df-ce3bb972f0ab"
      },
      "execution_count": null,
      "outputs": [
        {
          "output_type": "stream",
          "name": "stdout",
          "text": [
            "1$2$3\n",
            "4 yo! 5 yo! 6\t7wow8wow9 amazing\n",
            "10 11 12@@123"
          ]
        }
      ]
    },
    {
      "cell_type": "code",
      "source": [
        "print(list(range(1, 5)))"
      ],
      "metadata": {
        "colab": {
          "base_uri": "https://localhost:8080/"
        },
        "id": "UGUPVN2WpLpP",
        "outputId": "495ca232-d3ad-4d82-f7b2-7f7d2a45156a"
      },
      "execution_count": null,
      "outputs": [
        {
          "output_type": "stream",
          "name": "stdout",
          "text": [
            "[1, 2, 3, 4]\n"
          ]
        }
      ]
    },
    {
      "cell_type": "code",
      "source": [
        "print(list(range(10, 15)))"
      ],
      "metadata": {
        "colab": {
          "base_uri": "https://localhost:8080/"
        },
        "id": "FLfMA6qhrxwU",
        "outputId": "9e0a1d2e-c0b2-4de2-9924-0e400538d014"
      },
      "execution_count": null,
      "outputs": [
        {
          "output_type": "stream",
          "name": "stdout",
          "text": [
            "[10, 11, 12, 13, 14]\n"
          ]
        }
      ]
    },
    {
      "cell_type": "code",
      "source": [
        "print(list(range(5)))"
      ],
      "metadata": {
        "colab": {
          "base_uri": "https://localhost:8080/"
        },
        "id": "9yIdf8qVr5_v",
        "outputId": "315132f3-22bc-4b31-e477-b7d1dec1d7cf"
      },
      "execution_count": null,
      "outputs": [
        {
          "output_type": "stream",
          "name": "stdout",
          "text": [
            "[0, 1, 2, 3, 4]\n"
          ]
        }
      ]
    },
    {
      "cell_type": "code",
      "source": [
        "print(list(range(-2, 2)))"
      ],
      "metadata": {
        "colab": {
          "base_uri": "https://localhost:8080/"
        },
        "id": "q-wZ25e7sTqH",
        "outputId": "b9d39037-0ec1-45c2-ad7d-339db2cd3abc"
      },
      "execution_count": null,
      "outputs": [
        {
          "output_type": "stream",
          "name": "stdout",
          "text": [
            "[-2, -1, 0, 1]\n"
          ]
        }
      ]
    },
    {
      "cell_type": "code",
      "source": [
        "print(list(range(1, 10, 3)))"
      ],
      "metadata": {
        "colab": {
          "base_uri": "https://localhost:8080/"
        },
        "id": "GAzeFDzUscdM",
        "outputId": "c26edd21-6274-4b72-b77a-7027fb71b09d"
      },
      "execution_count": null,
      "outputs": [
        {
          "output_type": "stream",
          "name": "stdout",
          "text": [
            "[1, 4, 7]\n"
          ]
        }
      ]
    },
    {
      "cell_type": "code",
      "source": [
        "print(list(range(5,-10,-2)))\n",
        "# 5, 3, 1..."
      ],
      "metadata": {
        "colab": {
          "base_uri": "https://localhost:8080/"
        },
        "id": "pf7IBO0KslXY",
        "outputId": "69b557a5-95e9-499a-b3ce-29f028172902"
      },
      "execution_count": null,
      "outputs": [
        {
          "output_type": "stream",
          "name": "stdout",
          "text": [
            "[5, 3, 1, -1, -3, -5, -7, -9]\n"
          ]
        }
      ]
    },
    {
      "cell_type": "code",
      "source": [
        "print(list(range(5,-10,2)))\n",
        "\n",
        "# jump = +ve ==> range goes left to right (increasing)\n",
        "# jump = -ve ==> range goes right to left (decreasing)"
      ],
      "metadata": {
        "colab": {
          "base_uri": "https://localhost:8080/"
        },
        "id": "0FzibPees5d9",
        "outputId": "d1f64aae-459c-41a8-9e13-eff4c0126aa7"
      },
      "execution_count": null,
      "outputs": [
        {
          "output_type": "stream",
          "name": "stdout",
          "text": [
            "[]\n"
          ]
        }
      ]
    },
    {
      "cell_type": "code",
      "source": [
        "print(list(range(8, 8)))"
      ],
      "metadata": {
        "colab": {
          "base_uri": "https://localhost:8080/"
        },
        "id": "nXwJ3JKKtCra",
        "outputId": "439a8684-ec51-4594-9847-263d1b0c26d2"
      },
      "execution_count": null,
      "outputs": [
        {
          "output_type": "stream",
          "name": "stdout",
          "text": [
            "[]\n"
          ]
        }
      ]
    },
    {
      "cell_type": "code",
      "source": [
        "for i in range(1, 10, 3):\n",
        "  print(i)"
      ],
      "metadata": {
        "colab": {
          "base_uri": "https://localhost:8080/"
        },
        "id": "Abc-UC8wti1r",
        "outputId": "a49c7c0e-bf55-4374-8013-15a059c2a148"
      },
      "execution_count": null,
      "outputs": [
        {
          "output_type": "stream",
          "name": "stdout",
          "text": [
            "1\n",
            "4\n",
            "7\n"
          ]
        }
      ]
    },
    {
      "cell_type": "code",
      "source": [
        "# Calculate sum of all numbers starting from 1 to N using a for loop\n",
        "N = int(input())\n",
        "sum = 0\n",
        "for x in range(1, N+1): # 1, 2, 3, 4, ... N\n",
        "  sum += x\n",
        "\n",
        "print(sum)"
      ],
      "metadata": {
        "colab": {
          "base_uri": "https://localhost:8080/"
        },
        "id": "PrlVivYjtwhS",
        "outputId": "d4c4f548-cfb9-4996-b26c-6637ad12b860"
      },
      "execution_count": null,
      "outputs": [
        {
          "output_type": "stream",
          "name": "stdout",
          "text": [
            "5\n",
            "15\n"
          ]
        }
      ]
    },
    {
      "cell_type": "code",
      "source": [
        "# Print all numbers from an input N to 1, where N > 1.\n",
        "# N = 3\n",
        "# o/p = 3 2 1\n",
        "\n",
        "N = int(input())\n",
        "for i in range(N, 0, -1):\n",
        "  print(i, end = \" \")"
      ],
      "metadata": {
        "colab": {
          "base_uri": "https://localhost:8080/"
        },
        "id": "KG8YnuPiuJlx",
        "outputId": "092c28d1-c210-4f5d-bc76-a4af1ed118df"
      },
      "execution_count": null,
      "outputs": [
        {
          "output_type": "stream",
          "name": "stdout",
          "text": [
            "3\n",
            "3 2 1 "
          ]
        }
      ]
    },
    {
      "cell_type": "code",
      "source": [
        "N = int(input())\n",
        "for i in range(-N, 0):\n",
        "  print(-i, end = \" \")"
      ],
      "metadata": {
        "colab": {
          "base_uri": "https://localhost:8080/"
        },
        "id": "MTQ_Za3yutEv",
        "outputId": "b712e562-847a-4df1-b560-16b0c808baf8"
      },
      "execution_count": null,
      "outputs": [
        {
          "output_type": "stream",
          "name": "stdout",
          "text": [
            "5\n",
            "5 4 3 2 1 "
          ]
        }
      ]
    },
    {
      "cell_type": "code",
      "source": [
        "print(list(range(1, 11, 2)))"
      ],
      "metadata": {
        "colab": {
          "base_uri": "https://localhost:8080/"
        },
        "id": "zXQNeVv5vJM1",
        "outputId": "ae6d0d26-de70-440b-e6cf-adbb1c5ca19e"
      },
      "execution_count": null,
      "outputs": [
        {
          "output_type": "stream",
          "name": "stdout",
          "text": [
            "[1, 3, 5, 7, 9]\n"
          ]
        }
      ]
    },
    {
      "cell_type": "code",
      "source": [
        "print(list(range(11)))"
      ],
      "metadata": {
        "colab": {
          "base_uri": "https://localhost:8080/"
        },
        "id": "XaRDePT2voH3",
        "outputId": "fc0d1086-89ed-4a6e-a5c3-0c1ea9eb3e31"
      },
      "execution_count": null,
      "outputs": [
        {
          "output_type": "stream",
          "name": "stdout",
          "text": [
            "[0, 1, 2, 3, 4, 5, 6, 7, 8, 9, 10]\n"
          ]
        }
      ]
    },
    {
      "cell_type": "code",
      "source": [
        "# Given an integer input N, print all multiples of 4 less than or equal to N.\n",
        "# Use for loop\n",
        "\n",
        "N = int(input())\n",
        "cnt = 0\n",
        "\n",
        "for i in range(1, N+1):\n",
        "  cnt += 1\n",
        "  if (i%4 == 0):\n",
        "    print(i)\n",
        "\n",
        "print(\"Number of iterations =\", cnt)"
      ],
      "metadata": {
        "colab": {
          "base_uri": "https://localhost:8080/"
        },
        "id": "9iUI3k5rv43l",
        "outputId": "94349bda-4dc5-48d3-f029-9eb25243a20f"
      },
      "execution_count": null,
      "outputs": [
        {
          "output_type": "stream",
          "name": "stdout",
          "text": [
            "20\n",
            "4\n",
            "8\n",
            "12\n",
            "16\n",
            "20\n",
            " Number of iterations = 20\n"
          ]
        }
      ]
    },
    {
      "cell_type": "code",
      "source": [
        "N = int(input())\n",
        "cnt = 0\n",
        "for i in range(4, N+1, 4):  # 4, 8, 12, 16, 20\n",
        "  cnt += 1\n",
        "  print(i)\n",
        "print(\"Number of iterations =\", cnt)"
      ],
      "metadata": {
        "colab": {
          "base_uri": "https://localhost:8080/"
        },
        "id": "NGKRLFD6xII8",
        "outputId": "f6e6a317-640f-466f-f083-027c869d9dff"
      },
      "execution_count": null,
      "outputs": [
        {
          "output_type": "stream",
          "name": "stdout",
          "text": [
            "20\n",
            "4\n",
            "8\n",
            "12\n",
            "16\n",
            "20\n",
            "Number of iterations = 5\n"
          ]
        }
      ]
    },
    {
      "cell_type": "code",
      "source": [],
      "metadata": {
        "id": "i6LINxyZxrHz"
      },
      "execution_count": null,
      "outputs": []
    }
  ]
}
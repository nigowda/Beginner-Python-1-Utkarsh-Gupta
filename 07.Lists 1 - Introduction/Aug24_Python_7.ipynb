{
  "nbformat": 4,
  "nbformat_minor": 0,
  "metadata": {
    "colab": {
      "provenance": []
    },
    "kernelspec": {
      "name": "python3",
      "display_name": "Python 3"
    },
    "language_info": {
      "name": "python"
    }
  },
  "cells": [
    {
      "cell_type": "code",
      "execution_count": null,
      "metadata": {
        "colab": {
          "base_uri": "https://localhost:8080/"
        },
        "id": "FRDCVGToYb0F",
        "outputId": "e461e8b0-31a6-4330-c0df-60e381664d2d"
      },
      "outputs": [
        {
          "output_type": "execute_result",
          "data": {
            "text/plain": [
              "4"
            ]
          },
          "metadata": {},
          "execution_count": 1
        }
      ],
      "source": [
        "2+2"
      ]
    },
    {
      "cell_type": "code",
      "source": [
        "# Runs scored by Virat Kohli in IPL over multiple matches.\n",
        "\n",
        "m1 = 30\n",
        "m2 = 52\n",
        "m3 = 9\n",
        "m4 = 73\n",
        "m5 = 5\n",
        "m6 = 22"
      ],
      "metadata": {
        "id": "lPogqriYYfT0"
      },
      "execution_count": null,
      "outputs": []
    },
    {
      "cell_type": "code",
      "source": [
        "max(m1, m2, m3, m4, m5, m6)"
      ],
      "metadata": {
        "colab": {
          "base_uri": "https://localhost:8080/"
        },
        "id": "b9OXrLrXaQDb",
        "outputId": "9fee81c3-1b90-47ff-af3f-62e9b678aba2"
      },
      "execution_count": null,
      "outputs": [
        {
          "output_type": "execute_result",
          "data": {
            "text/plain": [
              "73"
            ]
          },
          "metadata": {},
          "execution_count": 3
        }
      ]
    },
    {
      "cell_type": "code",
      "source": [
        "# Having multiple variables - Prone to errors & time consuming.\n",
        "\n",
        "# Create a list instead\n",
        "runs = [30, 52, 9, 73, 5, 22]"
      ],
      "metadata": {
        "id": "buSDYIwoaTwB"
      },
      "execution_count": null,
      "outputs": []
    },
    {
      "cell_type": "code",
      "source": [
        "runs"
      ],
      "metadata": {
        "colab": {
          "base_uri": "https://localhost:8080/"
        },
        "id": "mZq1s5v-aykd",
        "outputId": "c0859b1a-4750-4f4b-b32c-10ae364934b9"
      },
      "execution_count": null,
      "outputs": [
        {
          "output_type": "execute_result",
          "data": {
            "text/plain": [
              "[30, 52, 9, 73, 5, 22]"
            ]
          },
          "metadata": {},
          "execution_count": 5
        }
      ]
    },
    {
      "cell_type": "code",
      "source": [
        "print(runs)"
      ],
      "metadata": {
        "colab": {
          "base_uri": "https://localhost:8080/"
        },
        "id": "BrA6Iv_ZbAHr",
        "outputId": "8f06665d-6651-48bf-a88d-78d315aaeed0"
      },
      "execution_count": null,
      "outputs": [
        {
          "output_type": "stream",
          "name": "stdout",
          "text": [
            "[30, 52, 9, 73, 5, 22]\n"
          ]
        }
      ]
    },
    {
      "cell_type": "code",
      "source": [
        "type(runs)"
      ],
      "metadata": {
        "colab": {
          "base_uri": "https://localhost:8080/"
        },
        "id": "e6beczGZbDEW",
        "outputId": "81923b2d-c611-4aaf-b5fb-b93a122a7fb7"
      },
      "execution_count": null,
      "outputs": [
        {
          "output_type": "execute_result",
          "data": {
            "text/plain": [
              "list"
            ]
          },
          "metadata": {},
          "execution_count": 7
        }
      ]
    },
    {
      "cell_type": "code",
      "source": [
        "len(runs)"
      ],
      "metadata": {
        "colab": {
          "base_uri": "https://localhost:8080/"
        },
        "id": "d4exOr2YbMib",
        "outputId": "c33caa02-d922-4bfd-9ef1-9f553f637288"
      },
      "execution_count": null,
      "outputs": [
        {
          "output_type": "execute_result",
          "data": {
            "text/plain": [
              "6"
            ]
          },
          "metadata": {},
          "execution_count": 8
        }
      ]
    },
    {
      "cell_type": "code",
      "source": [
        "a = [1, 2, 3, 4, 5]"
      ],
      "metadata": {
        "id": "hvzCt8BlbTPn"
      },
      "execution_count": null,
      "outputs": []
    },
    {
      "cell_type": "code",
      "source": [
        "len(a)"
      ],
      "metadata": {
        "colab": {
          "base_uri": "https://localhost:8080/"
        },
        "id": "o8IzCfCCbV70",
        "outputId": "9c403bea-f935-4e36-b0a5-248dff1b996f"
      },
      "execution_count": null,
      "outputs": [
        {
          "output_type": "execute_result",
          "data": {
            "text/plain": [
              "5"
            ]
          },
          "metadata": {},
          "execution_count": 10
        }
      ]
    },
    {
      "cell_type": "code",
      "source": [
        "runs"
      ],
      "metadata": {
        "colab": {
          "base_uri": "https://localhost:8080/"
        },
        "id": "UJ6vQnyebW02",
        "outputId": "01bb33c6-52f5-47b6-ccb6-b068e137ef2c"
      },
      "execution_count": null,
      "outputs": [
        {
          "output_type": "execute_result",
          "data": {
            "text/plain": [
              "[30, 52, 9, 73, 5, 22]"
            ]
          },
          "metadata": {},
          "execution_count": 11
        }
      ]
    },
    {
      "cell_type": "code",
      "source": [
        "runs[1]"
      ],
      "metadata": {
        "colab": {
          "base_uri": "https://localhost:8080/"
        },
        "id": "QvFoY3C1dkuH",
        "outputId": "cda92538-b831-46de-8ab5-dd1c15828f50"
      },
      "execution_count": null,
      "outputs": [
        {
          "output_type": "execute_result",
          "data": {
            "text/plain": [
              "52"
            ]
          },
          "metadata": {},
          "execution_count": 12
        }
      ]
    },
    {
      "cell_type": "code",
      "source": [
        "runs[-2]"
      ],
      "metadata": {
        "colab": {
          "base_uri": "https://localhost:8080/"
        },
        "id": "mbrIok9ydnMK",
        "outputId": "3b423f1e-06fc-48d5-851b-5f247287ca09"
      },
      "execution_count": null,
      "outputs": [
        {
          "output_type": "execute_result",
          "data": {
            "text/plain": [
              "5"
            ]
          },
          "metadata": {},
          "execution_count": 13
        }
      ]
    },
    {
      "cell_type": "code",
      "source": [
        "# Last Element\n",
        "runs[-1]"
      ],
      "metadata": {
        "colab": {
          "base_uri": "https://localhost:8080/"
        },
        "id": "4EIy1vGDdqW3",
        "outputId": "8cd8245f-ea4c-4541-80ab-63a23cc2a31f"
      },
      "execution_count": null,
      "outputs": [
        {
          "output_type": "execute_result",
          "data": {
            "text/plain": [
              "22"
            ]
          },
          "metadata": {},
          "execution_count": 15
        }
      ]
    },
    {
      "cell_type": "code",
      "source": [
        "runs[ len(runs) - 1 ]"
      ],
      "metadata": {
        "colab": {
          "base_uri": "https://localhost:8080/"
        },
        "id": "L-vUM1THdtJu",
        "outputId": "f5f90a61-5a88-4976-c58c-d4663e25b706"
      },
      "execution_count": null,
      "outputs": [
        {
          "output_type": "execute_result",
          "data": {
            "text/plain": [
              "22"
            ]
          },
          "metadata": {},
          "execution_count": 16
        }
      ]
    },
    {
      "cell_type": "code",
      "source": [
        "runs"
      ],
      "metadata": {
        "colab": {
          "base_uri": "https://localhost:8080/"
        },
        "id": "Qw7ZBueXdxno",
        "outputId": "44486409-deb7-4ad6-b4ce-08b278feb850"
      },
      "execution_count": null,
      "outputs": [
        {
          "output_type": "execute_result",
          "data": {
            "text/plain": [
              "[30, 52, 9, 73, 5, 22]"
            ]
          },
          "metadata": {},
          "execution_count": 17
        }
      ]
    },
    {
      "cell_type": "code",
      "source": [
        "runs[ -len(runs) ]"
      ],
      "metadata": {
        "colab": {
          "base_uri": "https://localhost:8080/"
        },
        "id": "G7l6JcB2d4I1",
        "outputId": "4ad7be12-fe8a-44b2-89c0-3d334690e2a9"
      },
      "execution_count": null,
      "outputs": [
        {
          "output_type": "execute_result",
          "data": {
            "text/plain": [
              "30"
            ]
          },
          "metadata": {},
          "execution_count": 20
        }
      ]
    },
    {
      "cell_type": "code",
      "source": [
        "a=[10,20,30,40,50,60]\n",
        "x = type(a)\n",
        "len(a)"
      ],
      "metadata": {
        "colab": {
          "base_uri": "https://localhost:8080/"
        },
        "id": "RaqIO3mzd_fb",
        "outputId": "82d701a6-faea-4aac-c965-8719b1aab285"
      },
      "execution_count": null,
      "outputs": [
        {
          "output_type": "execute_result",
          "data": {
            "text/plain": [
              "6"
            ]
          },
          "metadata": {},
          "execution_count": 23
        }
      ]
    },
    {
      "cell_type": "code",
      "source": [
        "x"
      ],
      "metadata": {
        "colab": {
          "base_uri": "https://localhost:8080/"
        },
        "id": "LQRTaEwMeoEh",
        "outputId": "cb3cb99e-4848-44b5-fdeb-581fb6fb8624"
      },
      "execution_count": null,
      "outputs": [
        {
          "output_type": "execute_result",
          "data": {
            "text/plain": [
              "list"
            ]
          },
          "metadata": {},
          "execution_count": 24
        }
      ]
    },
    {
      "cell_type": "code",
      "source": [
        "names = [\"A\", \"B\", \"C\"]"
      ],
      "metadata": {
        "id": "pEcri163e8_e"
      },
      "execution_count": null,
      "outputs": []
    },
    {
      "cell_type": "code",
      "source": [
        "names[1]"
      ],
      "metadata": {
        "colab": {
          "base_uri": "https://localhost:8080/",
          "height": 35
        },
        "id": "V_Ef3FsRfPke",
        "outputId": "c762e37f-cbd6-49c8-ba26-e82e54d5d201"
      },
      "execution_count": null,
      "outputs": [
        {
          "output_type": "execute_result",
          "data": {
            "text/plain": [
              "'B'"
            ],
            "application/vnd.google.colaboratory.intrinsic+json": {
              "type": "string"
            }
          },
          "metadata": {},
          "execution_count": 26
        }
      ]
    },
    {
      "cell_type": "code",
      "source": [
        "a = [1, \"XYZ\", 2, 3, \"Hello\", True, 3.2432]"
      ],
      "metadata": {
        "id": "_DzCjkKQfRCC"
      },
      "execution_count": null,
      "outputs": []
    },
    {
      "cell_type": "code",
      "source": [
        "print(a)"
      ],
      "metadata": {
        "colab": {
          "base_uri": "https://localhost:8080/"
        },
        "id": "GmzmKcAXfYuU",
        "outputId": "97373e2e-2e14-4bdc-c876-f33d0086ff1b"
      },
      "execution_count": null,
      "outputs": [
        {
          "output_type": "stream",
          "name": "stdout",
          "text": [
            "[1, 'XYZ', 2, 3, 'Hello', True, 3.2432]\n"
          ]
        }
      ]
    },
    {
      "cell_type": "code",
      "source": [
        "# List Methods\n",
        "len(a)"
      ],
      "metadata": {
        "colab": {
          "base_uri": "https://localhost:8080/"
        },
        "id": "33W_2DUefZxK",
        "outputId": "3cc1ff95-a9a9-4639-f0c3-9d303826b7ee"
      },
      "execution_count": null,
      "outputs": [
        {
          "output_type": "execute_result",
          "data": {
            "text/plain": [
              "7"
            ]
          },
          "metadata": {},
          "execution_count": 32
        }
      ]
    },
    {
      "cell_type": "code",
      "source": [
        "a.append(88)"
      ],
      "metadata": {
        "id": "SY7Ipn9xf0CC"
      },
      "execution_count": null,
      "outputs": []
    },
    {
      "cell_type": "code",
      "source": [
        "print(a)"
      ],
      "metadata": {
        "colab": {
          "base_uri": "https://localhost:8080/"
        },
        "id": "o3YyJGI-f6z6",
        "outputId": "654d3266-e916-43da-d7ea-7671bcb686c1"
      },
      "execution_count": null,
      "outputs": [
        {
          "output_type": "stream",
          "name": "stdout",
          "text": [
            "[1, 'XYZ', 2, 3, 'Hello', True, 3.2432, 88]\n"
          ]
        }
      ]
    },
    {
      "cell_type": "code",
      "source": [
        "a.append(\"Hello how are you?\")"
      ],
      "metadata": {
        "id": "bRsqq3pBf8tP"
      },
      "execution_count": null,
      "outputs": []
    },
    {
      "cell_type": "code",
      "source": [
        "print(a)"
      ],
      "metadata": {
        "colab": {
          "base_uri": "https://localhost:8080/"
        },
        "id": "UAsCVNaOgHdF",
        "outputId": "48ca178a-6767-40d0-d77f-30ba2f272a2f"
      },
      "execution_count": null,
      "outputs": [
        {
          "output_type": "stream",
          "name": "stdout",
          "text": [
            "[1, 'XYZ', 2, 3, 'Hello', True, 3.2432, 88, 'Hello how are you?']\n"
          ]
        }
      ]
    },
    {
      "cell_type": "code",
      "source": [
        "runs"
      ],
      "metadata": {
        "colab": {
          "base_uri": "https://localhost:8080/"
        },
        "id": "PmTPhm0sgIic",
        "outputId": "11b3bfb5-985a-408a-a0e7-36e57cc667d3"
      },
      "execution_count": null,
      "outputs": [
        {
          "output_type": "execute_result",
          "data": {
            "text/plain": [
              "[30, 52, 9, 73, 5, 22]"
            ]
          },
          "metadata": {},
          "execution_count": 37
        }
      ]
    },
    {
      "cell_type": "code",
      "source": [
        "a.extend(runs)"
      ],
      "metadata": {
        "id": "q4ehztzcgr1n"
      },
      "execution_count": null,
      "outputs": []
    },
    {
      "cell_type": "code",
      "source": [
        "print(a)"
      ],
      "metadata": {
        "colab": {
          "base_uri": "https://localhost:8080/"
        },
        "id": "c0fxSeVngvb3",
        "outputId": "92620d1d-3682-4c18-f56b-b87501074dc5"
      },
      "execution_count": null,
      "outputs": [
        {
          "output_type": "stream",
          "name": "stdout",
          "text": [
            "[1, 'XYZ', 2, 3, 'Hello', True, 3.2432, 88, 'Hello how are you?', 30, 52, 9, 73, 5, 22]\n"
          ]
        }
      ]
    },
    {
      "cell_type": "code",
      "source": [
        "# insert()\n",
        "\n",
        "a.insert(0, \"Start\")"
      ],
      "metadata": {
        "id": "s_5J3AtVgxDG"
      },
      "execution_count": null,
      "outputs": []
    },
    {
      "cell_type": "code",
      "source": [
        "print(a)"
      ],
      "metadata": {
        "colab": {
          "base_uri": "https://localhost:8080/"
        },
        "id": "pu3YebRthL5K",
        "outputId": "abf1c523-7b5c-4eee-ed2c-a9f7139accd0"
      },
      "execution_count": null,
      "outputs": [
        {
          "output_type": "stream",
          "name": "stdout",
          "text": [
            "['Start', 1, 'XYZ', 2, 3, 'Hello', True, 3.2432, 88, 'Hello how are you?', 30, 52, 9, 73, 5, 22]\n"
          ]
        }
      ]
    },
    {
      "cell_type": "code",
      "source": [
        "a.insert(3, False)"
      ],
      "metadata": {
        "id": "Ev1TxFLzhVXL"
      },
      "execution_count": null,
      "outputs": []
    },
    {
      "cell_type": "code",
      "source": [
        "print(a)"
      ],
      "metadata": {
        "colab": {
          "base_uri": "https://localhost:8080/"
        },
        "id": "bJovuTCQhdsb",
        "outputId": "69f7e0dd-45a2-4667-a4dd-f141af9bb66e"
      },
      "execution_count": null,
      "outputs": [
        {
          "output_type": "stream",
          "name": "stdout",
          "text": [
            "['Start', 1, 'XYZ', False, 2, 3, 'Hello', True, 3.2432, 88, 'Hello how are you?', 30, 52, 9, 73, 5, 22]\n"
          ]
        }
      ]
    },
    {
      "cell_type": "code",
      "source": [
        "x = [1, 2, 3]\n",
        "y = [4, 5, 6]"
      ],
      "metadata": {
        "id": "5fs9jVF6heee"
      },
      "execution_count": null,
      "outputs": []
    },
    {
      "cell_type": "code",
      "source": [
        "z = x + y\n",
        "print(z)"
      ],
      "metadata": {
        "colab": {
          "base_uri": "https://localhost:8080/"
        },
        "id": "glLdmwQlhxif",
        "outputId": "1a6b9485-bd1a-4b1f-f29c-33e83b75c237"
      },
      "execution_count": null,
      "outputs": [
        {
          "output_type": "stream",
          "name": "stdout",
          "text": [
            "[1, 2, 3, 4, 5, 6]\n"
          ]
        }
      ]
    },
    {
      "cell_type": "code",
      "source": [
        "print(x)\n",
        "print(y)"
      ],
      "metadata": {
        "colab": {
          "base_uri": "https://localhost:8080/"
        },
        "id": "ReeNbb9gh6Ee",
        "outputId": "594f0e0b-8c02-429e-d09c-b84a0ddea79e"
      },
      "execution_count": null,
      "outputs": [
        {
          "output_type": "stream",
          "name": "stdout",
          "text": [
            "[1, 2, 3]\n",
            "[4, 5, 6]\n"
          ]
        }
      ]
    },
    {
      "cell_type": "code",
      "source": [
        "x.extend(y)\n",
        "print(x)\n",
        "print(y)"
      ],
      "metadata": {
        "colab": {
          "base_uri": "https://localhost:8080/"
        },
        "id": "Khmc4hN2iJWr",
        "outputId": "173b547f-78b1-43a4-acbf-a8890f8962f5"
      },
      "execution_count": null,
      "outputs": [
        {
          "output_type": "stream",
          "name": "stdout",
          "text": [
            "[1, 2, 3, 4, 5, 6]\n",
            "[4, 5, 6]\n"
          ]
        }
      ]
    },
    {
      "cell_type": "code",
      "source": [
        "# Remove / Delete -> pop()\n",
        "print(a)"
      ],
      "metadata": {
        "colab": {
          "base_uri": "https://localhost:8080/"
        },
        "id": "J1xHd5LPic5D",
        "outputId": "6b2345df-1234-4cab-f45f-2f8474ac89d9"
      },
      "execution_count": null,
      "outputs": [
        {
          "output_type": "stream",
          "name": "stdout",
          "text": [
            "['Start', 1, 'XYZ', False, 2, 3, 'Hello', True, 3.2432, 88, 'Hello how are you?', 30, 52, 9, 73, 5, 22]\n"
          ]
        }
      ]
    },
    {
      "cell_type": "code",
      "source": [
        "a.pop()"
      ],
      "metadata": {
        "colab": {
          "base_uri": "https://localhost:8080/"
        },
        "id": "Qm3IhQbVimte",
        "outputId": "ffb1fa7f-8ca1-4a73-f6f8-2c081ab69560"
      },
      "execution_count": null,
      "outputs": [
        {
          "output_type": "execute_result",
          "data": {
            "text/plain": [
              "22"
            ]
          },
          "metadata": {},
          "execution_count": 51
        }
      ]
    },
    {
      "cell_type": "code",
      "source": [
        "print(a)"
      ],
      "metadata": {
        "colab": {
          "base_uri": "https://localhost:8080/"
        },
        "id": "k6riFAM6irdl",
        "outputId": "2f7cb430-099d-4b61-ab0d-cc8943ef6760"
      },
      "execution_count": null,
      "outputs": [
        {
          "output_type": "stream",
          "name": "stdout",
          "text": [
            "['Start', 1, 'XYZ', False, 2, 3, 'Hello', True, 3.2432, 88, 'Hello how are you?', 30, 52, 9, 73, 5]\n"
          ]
        }
      ]
    },
    {
      "cell_type": "code",
      "source": [
        "a.pop(2)"
      ],
      "metadata": {
        "colab": {
          "base_uri": "https://localhost:8080/",
          "height": 35
        },
        "id": "XGPLZt0uis23",
        "outputId": "91eed516-0ffa-4f60-d686-c6d6dae10ca6"
      },
      "execution_count": null,
      "outputs": [
        {
          "output_type": "execute_result",
          "data": {
            "text/plain": [
              "'XYZ'"
            ],
            "application/vnd.google.colaboratory.intrinsic+json": {
              "type": "string"
            }
          },
          "metadata": {},
          "execution_count": 53
        }
      ]
    },
    {
      "cell_type": "code",
      "source": [
        "print(a)"
      ],
      "metadata": {
        "colab": {
          "base_uri": "https://localhost:8080/"
        },
        "id": "CUWH6lFai1zT",
        "outputId": "74969f48-1bcf-40ad-8bd8-c7f0a2bd1d2d"
      },
      "execution_count": null,
      "outputs": [
        {
          "output_type": "stream",
          "name": "stdout",
          "text": [
            "['Start', 1, False, 2, 3, 'Hello', True, 3.2432, 88, 'Hello how are you?', 30, 52, 9, 73, 5]\n"
          ]
        }
      ]
    },
    {
      "cell_type": "code",
      "source": [
        "s = a.pop(0)"
      ],
      "metadata": {
        "id": "GnqRkO1mi24E"
      },
      "execution_count": null,
      "outputs": []
    },
    {
      "cell_type": "code",
      "source": [
        "print(s)"
      ],
      "metadata": {
        "colab": {
          "base_uri": "https://localhost:8080/"
        },
        "id": "nF0u5q-Mi9z4",
        "outputId": "a13357e8-a7e1-468e-ae58-da9a616205ca"
      },
      "execution_count": null,
      "outputs": [
        {
          "output_type": "stream",
          "name": "stdout",
          "text": [
            "Start\n"
          ]
        }
      ]
    },
    {
      "cell_type": "code",
      "source": [
        "for r in a:\n",
        "  print(type(r))"
      ],
      "metadata": {
        "colab": {
          "base_uri": "https://localhost:8080/"
        },
        "id": "0pCAOsrxo4Wd",
        "outputId": "ea5dff23-a9e0-458d-ad24-03311e2688f6"
      },
      "execution_count": null,
      "outputs": [
        {
          "output_type": "stream",
          "name": "stdout",
          "text": [
            "<class 'bool'>\n",
            "<class 'int'>\n",
            "<class 'int'>\n",
            "<class 'str'>\n",
            "<class 'bool'>\n",
            "<class 'float'>\n",
            "<class 'int'>\n",
            "<class 'str'>\n",
            "<class 'int'>\n",
            "<class 'int'>\n",
            "<class 'int'>\n",
            "<class 'int'>\n"
          ]
        }
      ]
    },
    {
      "cell_type": "code",
      "source": [
        "a.remove(True)"
      ],
      "metadata": {
        "id": "38qbX6gIi_cp"
      },
      "execution_count": null,
      "outputs": []
    },
    {
      "cell_type": "code",
      "source": [
        "print(a)"
      ],
      "metadata": {
        "colab": {
          "base_uri": "https://localhost:8080/"
        },
        "id": "W5QK6VuxjNj_",
        "outputId": "f876034e-96ea-4dce-a291-f3494b6bd8ac"
      },
      "execution_count": null,
      "outputs": [
        {
          "output_type": "stream",
          "name": "stdout",
          "text": [
            "[False, 2, 3, 'Hello', True, 3.2432, 88, 'Hello how are you?', 30, 52, 9, 73, 5]\n"
          ]
        }
      ]
    },
    {
      "cell_type": "code",
      "source": [
        "a.remove(30)"
      ],
      "metadata": {
        "id": "rchuR4jVjOh1"
      },
      "execution_count": null,
      "outputs": []
    },
    {
      "cell_type": "code",
      "source": [
        "print(a)"
      ],
      "metadata": {
        "colab": {
          "base_uri": "https://localhost:8080/"
        },
        "id": "_1SWqWkajgnU",
        "outputId": "d67f1851-0527-4cdd-e72b-89bbc5d9fcfd"
      },
      "execution_count": null,
      "outputs": [
        {
          "output_type": "stream",
          "name": "stdout",
          "text": [
            "[False, 2, 3, 'Hello', True, 3.2432, 88, 'Hello how are you?', 52, 9, 73, 5]\n"
          ]
        }
      ]
    },
    {
      "cell_type": "code",
      "source": [
        "x = [1, 2, 3, 4, 2, 3, 4, 3, 4, 4]"
      ],
      "metadata": {
        "id": "QvFpdUkWjhf7"
      },
      "execution_count": null,
      "outputs": []
    },
    {
      "cell_type": "code",
      "source": [
        "x.remove(4)\n",
        "print(x)"
      ],
      "metadata": {
        "colab": {
          "base_uri": "https://localhost:8080/"
        },
        "id": "o8ueXzDWjy1O",
        "outputId": "36a42a64-c7fe-4d25-fb6b-e38e1e46cf58"
      },
      "execution_count": null,
      "outputs": [
        {
          "output_type": "stream",
          "name": "stdout",
          "text": [
            "[1, 2, 3, 2, 3, 4, 3, 4, 4]\n"
          ]
        }
      ]
    },
    {
      "cell_type": "code",
      "source": [
        "x.index(3)"
      ],
      "metadata": {
        "colab": {
          "base_uri": "https://localhost:8080/"
        },
        "id": "tIwPlt8Cj4lg",
        "outputId": "cd7e8001-71b3-4add-cdfa-4bd082b83eea"
      },
      "execution_count": null,
      "outputs": [
        {
          "output_type": "execute_result",
          "data": {
            "text/plain": [
              "2"
            ]
          },
          "metadata": {},
          "execution_count": 63
        }
      ]
    },
    {
      "cell_type": "code",
      "source": [
        "x.count(4)"
      ],
      "metadata": {
        "colab": {
          "base_uri": "https://localhost:8080/"
        },
        "id": "cjiYzYGQkUU9",
        "outputId": "151341be-7960-4c74-e9da-78008cad4520"
      },
      "execution_count": null,
      "outputs": [
        {
          "output_type": "execute_result",
          "data": {
            "text/plain": [
              "3"
            ]
          },
          "metadata": {},
          "execution_count": 64
        }
      ]
    },
    {
      "cell_type": "code",
      "source": [
        "print(runs)"
      ],
      "metadata": {
        "colab": {
          "base_uri": "https://localhost:8080/"
        },
        "id": "xTCfdxIEkaVe",
        "outputId": "8cab8d8c-a27c-48e1-fba5-7689e00f94b4"
      },
      "execution_count": null,
      "outputs": [
        {
          "output_type": "stream",
          "name": "stdout",
          "text": [
            "[30, 52, 9, 73, 5, 22]\n"
          ]
        }
      ]
    },
    {
      "cell_type": "code",
      "source": [
        "len(runs)"
      ],
      "metadata": {
        "colab": {
          "base_uri": "https://localhost:8080/"
        },
        "id": "WuwqCsLMkml7",
        "outputId": "6c2b69db-67e3-4d00-aef7-5681843cad8f"
      },
      "execution_count": null,
      "outputs": [
        {
          "output_type": "execute_result",
          "data": {
            "text/plain": [
              "6"
            ]
          },
          "metadata": {},
          "execution_count": 66
        }
      ]
    },
    {
      "cell_type": "code",
      "source": [
        "runs.append(90)"
      ],
      "metadata": {
        "id": "t1B220YqkqUz"
      },
      "execution_count": null,
      "outputs": []
    },
    {
      "cell_type": "code",
      "source": [
        "print(runs)"
      ],
      "metadata": {
        "colab": {
          "base_uri": "https://localhost:8080/"
        },
        "id": "hFvyPXjVkuoO",
        "outputId": "0d7e2948-fe76-4e6a-d81f-51724f4dd160"
      },
      "execution_count": null,
      "outputs": [
        {
          "output_type": "stream",
          "name": "stdout",
          "text": [
            "[30, 52, 9, 73, 5, 22, 90]\n"
          ]
        }
      ]
    },
    {
      "cell_type": "code",
      "source": [
        "runs.insert(2, 100)\n",
        "print(runs)"
      ],
      "metadata": {
        "colab": {
          "base_uri": "https://localhost:8080/"
        },
        "id": "2abpS0mvkvr1",
        "outputId": "b0837c06-8460-47a6-dfc0-f3b2c2e4692c"
      },
      "execution_count": null,
      "outputs": [
        {
          "output_type": "stream",
          "name": "stdout",
          "text": [
            "[30, 52, 100, 9, 73, 5, 22, 90]\n"
          ]
        }
      ]
    },
    {
      "cell_type": "code",
      "source": [
        "runs2 = [33, 55, 89]"
      ],
      "metadata": {
        "id": "IJYFm36tk1l9"
      },
      "execution_count": null,
      "outputs": []
    },
    {
      "cell_type": "code",
      "source": [
        "runs.extend(runs2)\n",
        "print(runs)"
      ],
      "metadata": {
        "colab": {
          "base_uri": "https://localhost:8080/"
        },
        "id": "gAKCZsYkk9T1",
        "outputId": "ad556016-bb0e-45b9-f007-bf60218855fe"
      },
      "execution_count": null,
      "outputs": [
        {
          "output_type": "stream",
          "name": "stdout",
          "text": [
            "[30, 52, 100, 9, 73, 5, 22, 90, 33, 55, 89]\n"
          ]
        }
      ]
    },
    {
      "cell_type": "code",
      "source": [
        "runs.pop()\n",
        "print(runs)"
      ],
      "metadata": {
        "colab": {
          "base_uri": "https://localhost:8080/"
        },
        "id": "cUoUtMeWlBg6",
        "outputId": "d1370fc5-237d-4fa3-822e-c37a70ade076"
      },
      "execution_count": null,
      "outputs": [
        {
          "output_type": "stream",
          "name": "stdout",
          "text": [
            "[30, 52, 100, 9, 73, 5, 22, 90, 33, 55]\n"
          ]
        }
      ]
    },
    {
      "cell_type": "code",
      "source": [
        "runs.pop(3)\n",
        "print(runs)"
      ],
      "metadata": {
        "colab": {
          "base_uri": "https://localhost:8080/"
        },
        "id": "VQjLs2YFlHTs",
        "outputId": "0ca83c8a-813a-4cf1-a8b6-ce1a95542388"
      },
      "execution_count": null,
      "outputs": [
        {
          "output_type": "stream",
          "name": "stdout",
          "text": [
            "[30, 52, 100, 73, 5, 22, 90, 33, 55]\n"
          ]
        }
      ]
    },
    {
      "cell_type": "code",
      "source": [
        "runs.remove(73)\n",
        "print(runs)"
      ],
      "metadata": {
        "colab": {
          "base_uri": "https://localhost:8080/"
        },
        "id": "_KDrS34IlNXv",
        "outputId": "24deced8-9c0e-4fb5-8f0d-ee3c7d6081e9"
      },
      "execution_count": null,
      "outputs": [
        {
          "output_type": "stream",
          "name": "stdout",
          "text": [
            "[30, 52, 100, 5, 22, 90, 33, 55]\n"
          ]
        }
      ]
    },
    {
      "cell_type": "code",
      "source": [
        "runs.remove(200)"
      ],
      "metadata": {
        "colab": {
          "base_uri": "https://localhost:8080/",
          "height": 141
        },
        "id": "8B68h_vUlTx2",
        "outputId": "201346ac-3659-4389-e6b5-067a2f924f82"
      },
      "execution_count": null,
      "outputs": [
        {
          "output_type": "error",
          "ename": "ValueError",
          "evalue": "list.remove(x): x not in list",
          "traceback": [
            "\u001b[0;31m---------------------------------------------------------------------------\u001b[0m",
            "\u001b[0;31mValueError\u001b[0m                                Traceback (most recent call last)",
            "\u001b[0;32m<ipython-input-75-6499ce18aa59>\u001b[0m in \u001b[0;36m<cell line: 1>\u001b[0;34m()\u001b[0m\n\u001b[0;32m----> 1\u001b[0;31m \u001b[0mruns\u001b[0m\u001b[0;34m.\u001b[0m\u001b[0mremove\u001b[0m\u001b[0;34m(\u001b[0m\u001b[0;36m200\u001b[0m\u001b[0;34m)\u001b[0m\u001b[0;34m\u001b[0m\u001b[0;34m\u001b[0m\u001b[0m\n\u001b[0m",
            "\u001b[0;31mValueError\u001b[0m: list.remove(x): x not in list"
          ]
        }
      ]
    },
    {
      "cell_type": "code",
      "source": [
        "runs.index(100)"
      ],
      "metadata": {
        "colab": {
          "base_uri": "https://localhost:8080/"
        },
        "id": "mMBtkcCxlbgo",
        "outputId": "b71dfecd-e99a-4a0c-b2d9-0e33f8db5208"
      },
      "execution_count": null,
      "outputs": [
        {
          "output_type": "execute_result",
          "data": {
            "text/plain": [
              "2"
            ]
          },
          "metadata": {},
          "execution_count": 76
        }
      ]
    },
    {
      "cell_type": "code",
      "source": [
        "runs.index(200)"
      ],
      "metadata": {
        "colab": {
          "base_uri": "https://localhost:8080/",
          "height": 141
        },
        "id": "Q72EHONIljaf",
        "outputId": "11bc121e-aca8-40a0-d535-57775c8ff09e"
      },
      "execution_count": null,
      "outputs": [
        {
          "output_type": "error",
          "ename": "ValueError",
          "evalue": "200 is not in list",
          "traceback": [
            "\u001b[0;31m---------------------------------------------------------------------------\u001b[0m",
            "\u001b[0;31mValueError\u001b[0m                                Traceback (most recent call last)",
            "\u001b[0;32m<ipython-input-77-7f7f740cd688>\u001b[0m in \u001b[0;36m<cell line: 1>\u001b[0;34m()\u001b[0m\n\u001b[0;32m----> 1\u001b[0;31m \u001b[0mruns\u001b[0m\u001b[0;34m.\u001b[0m\u001b[0mindex\u001b[0m\u001b[0;34m(\u001b[0m\u001b[0;36m200\u001b[0m\u001b[0;34m)\u001b[0m\u001b[0;34m\u001b[0m\u001b[0;34m\u001b[0m\u001b[0m\n\u001b[0m",
            "\u001b[0;31mValueError\u001b[0m: 200 is not in list"
          ]
        }
      ]
    },
    {
      "cell_type": "code",
      "source": [
        "runs.count(100)"
      ],
      "metadata": {
        "colab": {
          "base_uri": "https://localhost:8080/"
        },
        "id": "37KCyq1SlpNW",
        "outputId": "fff3dd4e-8749-40b2-871b-4bb730dd63d7"
      },
      "execution_count": null,
      "outputs": [
        {
          "output_type": "execute_result",
          "data": {
            "text/plain": [
              "1"
            ]
          },
          "metadata": {},
          "execution_count": 78
        }
      ]
    },
    {
      "cell_type": "code",
      "source": [
        "runs.extend([150, 122])\n",
        "print(runs)"
      ],
      "metadata": {
        "colab": {
          "base_uri": "https://localhost:8080/"
        },
        "id": "G53nUKOxlumf",
        "outputId": "437b3197-4fa1-43cb-fbb4-f656c757b250"
      },
      "execution_count": null,
      "outputs": [
        {
          "output_type": "stream",
          "name": "stdout",
          "text": [
            "[30, 52, 100, 5, 22, 90, 33, 55, 150, 122]\n"
          ]
        }
      ]
    },
    {
      "cell_type": "code",
      "source": [
        "runs.remove(30)\n",
        "print(runs)"
      ],
      "metadata": {
        "colab": {
          "base_uri": "https://localhost:8080/"
        },
        "id": "iPTX7bJon-Je",
        "outputId": "c83f30e3-b452-4b89-f5b8-d379781c234a"
      },
      "execution_count": null,
      "outputs": [
        {
          "output_type": "stream",
          "name": "stdout",
          "text": [
            "[52, 100, 5, 22, 90, 33, 55, 150, 122]\n"
          ]
        }
      ]
    },
    {
      "cell_type": "code",
      "source": [
        "print(runs)"
      ],
      "metadata": {
        "colab": {
          "base_uri": "https://localhost:8080/"
        },
        "id": "LRynUyUvoc18",
        "outputId": "7b237d09-c2f0-49a1-9a30-deeb0723c7a2"
      },
      "execution_count": null,
      "outputs": [
        {
          "output_type": "stream",
          "name": "stdout",
          "text": [
            "[52, 100, 5, 22, 90, 33, 55, 150, 122]\n"
          ]
        }
      ]
    },
    {
      "cell_type": "code",
      "source": [
        "runs.append(\"Hello\")"
      ],
      "metadata": {
        "id": "znsgbdseotFn"
      },
      "execution_count": null,
      "outputs": []
    },
    {
      "cell_type": "code",
      "source": [
        "runs.remove(\"Hello\")"
      ],
      "metadata": {
        "id": "5YKoktPXoxGp"
      },
      "execution_count": null,
      "outputs": []
    },
    {
      "cell_type": "code",
      "source": [
        "print(runs)"
      ],
      "metadata": {
        "colab": {
          "base_uri": "https://localhost:8080/"
        },
        "id": "EdWASPjjpMYj",
        "outputId": "b7c69b23-72b4-45d3-dfd4-e1575976e0c4"
      },
      "execution_count": null,
      "outputs": [
        {
          "output_type": "stream",
          "name": "stdout",
          "text": [
            "[52, 100, 5, 22, 90, 33, 55, 150, 122]\n"
          ]
        }
      ]
    },
    {
      "cell_type": "code",
      "source": [
        "print(200 in runs)"
      ],
      "metadata": {
        "colab": {
          "base_uri": "https://localhost:8080/"
        },
        "id": "HvffPSNJpTOR",
        "outputId": "8d91d8aa-e1f6-4cef-d717-b3b3c9a869b9"
      },
      "execution_count": null,
      "outputs": [
        {
          "output_type": "stream",
          "name": "stdout",
          "text": [
            "False\n"
          ]
        }
      ]
    },
    {
      "cell_type": "code",
      "source": [
        "x = int(input())\n",
        "if(x in runs):\n",
        "  runs.remove(x)\n",
        "\n",
        "print(runs)"
      ],
      "metadata": {
        "colab": {
          "base_uri": "https://localhost:8080/"
        },
        "id": "JVUuy2vFppRk",
        "outputId": "f99dfeb4-dea7-4d32-a7d1-cdc8df4c72a9"
      },
      "execution_count": null,
      "outputs": [
        {
          "output_type": "stream",
          "name": "stdout",
          "text": [
            "120\n",
            "[52, 100, 5, 22, 90, 33, 55, 122]\n"
          ]
        }
      ]
    },
    {
      "cell_type": "code",
      "source": [
        "print(200 not in runs)"
      ],
      "metadata": {
        "colab": {
          "base_uri": "https://localhost:8080/"
        },
        "id": "3tl0KV4Hp1Lh",
        "outputId": "0c3b995d-a4ec-446f-eccd-747fc9179677"
      },
      "execution_count": null,
      "outputs": [
        {
          "output_type": "stream",
          "name": "stdout",
          "text": [
            "True\n"
          ]
        }
      ]
    },
    {
      "cell_type": "code",
      "source": [
        "for r in runs:\n",
        "  print(r, end = \" \")"
      ],
      "metadata": {
        "colab": {
          "base_uri": "https://localhost:8080/"
        },
        "id": "gxukKqbZqMZG",
        "outputId": "9ab86fe7-c0f2-4ae1-8cbb-53c3611ff654"
      },
      "execution_count": null,
      "outputs": [
        {
          "output_type": "stream",
          "name": "stdout",
          "text": [
            "52 100 5 22 90 33 55 122 "
          ]
        }
      ]
    },
    {
      "cell_type": "code",
      "source": [
        "count = 0\n",
        "idx = 0\n",
        "for r in runs:\n",
        "  if r >= 50:\n",
        "    print(idx)\n",
        "    count += 1\n",
        "  idx += 1\n",
        "\n",
        "print(count)"
      ],
      "metadata": {
        "colab": {
          "base_uri": "https://localhost:8080/"
        },
        "id": "QCs7GoLYqYZ-",
        "outputId": "71a2a23b-61fd-477f-d4d7-14acfce45c5a"
      },
      "execution_count": null,
      "outputs": [
        {
          "output_type": "stream",
          "name": "stdout",
          "text": [
            "0\n",
            "1\n",
            "4\n",
            "6\n",
            "7\n",
            "5\n"
          ]
        }
      ]
    },
    {
      "cell_type": "code",
      "source": [
        "runs = [52, 100, 5, 22, 90, 33, 55, 122]\n",
        "print(runs)\n",
        "count = 0\n",
        "\n",
        "temp = []\n",
        "for i in range(len(runs)):\n",
        "  if runs[i] >= 50:\n",
        "    temp.append(runs[i])\n",
        "    count += 1\n",
        "\n",
        "print(count)\n",
        "print(temp)\n",
        "\n",
        "for x in temp:\n",
        "  runs.remove(x)\n",
        "\n",
        "print(runs)"
      ],
      "metadata": {
        "colab": {
          "base_uri": "https://localhost:8080/"
        },
        "id": "1RXVUZv0qqyV",
        "outputId": "9981eb2e-c1a3-401a-b0a8-ffc232238e98"
      },
      "execution_count": null,
      "outputs": [
        {
          "output_type": "stream",
          "name": "stdout",
          "text": [
            "[52, 100, 5, 22, 90, 33, 55, 122]\n",
            "5\n",
            "[52, 100, 90, 55, 122]\n",
            "[5, 22, 33]\n"
          ]
        }
      ]
    },
    {
      "cell_type": "code",
      "source": [
        "my_list = [1, 2, 3, 4, 5]\n",
        "i = -1\n",
        "while i >= -5:\n",
        "  print(my_list[i], end=\" \")\n",
        "  i -= 1"
      ],
      "metadata": {
        "colab": {
          "base_uri": "https://localhost:8080/"
        },
        "id": "x_HkMTaIrO-M",
        "outputId": "c3ab7915-2d48-4808-efd9-3b05be683d0d"
      },
      "execution_count": null,
      "outputs": [
        {
          "output_type": "stream",
          "name": "stdout",
          "text": [
            "5 4 3 2 1 "
          ]
        }
      ]
    },
    {
      "cell_type": "code",
      "source": [
        "# Find the sum of runs scored in all matches\n",
        "print(runs)\n",
        "\n",
        "s = 0\n",
        "for i in runs:\n",
        "  s += i\n",
        "\n",
        "print(s)"
      ],
      "metadata": {
        "colab": {
          "base_uri": "https://localhost:8080/"
        },
        "id": "qWQIbTaasy0L",
        "outputId": "76a11a8d-8832-49da-c6a1-2cdd19370965"
      },
      "execution_count": null,
      "outputs": [
        {
          "output_type": "stream",
          "name": "stdout",
          "text": [
            "[5, 22, 33]\n",
            "60\n"
          ]
        }
      ]
    },
    {
      "cell_type": "code",
      "source": [
        "print(sum(runs))"
      ],
      "metadata": {
        "colab": {
          "base_uri": "https://localhost:8080/"
        },
        "id": "uCRDsUTatNsX",
        "outputId": "71b21b8d-76fc-4c0d-f19b-75e46a66d5b5"
      },
      "execution_count": null,
      "outputs": [
        {
          "output_type": "stream",
          "name": "stdout",
          "text": [
            "60\n"
          ]
        }
      ]
    },
    {
      "cell_type": "code",
      "source": [
        "# From 0 till len - 1\n",
        "\n",
        "for i in range(len(runs)):\n",
        "  print(i, end = \" \")"
      ],
      "metadata": {
        "colab": {
          "base_uri": "https://localhost:8080/"
        },
        "id": "rl2UXnQktS4U",
        "outputId": "95293cd6-0d03-4665-b78a-5b99124ab7d9"
      },
      "execution_count": null,
      "outputs": [
        {
          "output_type": "stream",
          "name": "stdout",
          "text": [
            "0 1 2 "
          ]
        }
      ]
    },
    {
      "cell_type": "code",
      "source": [
        "runs.append(\"Hello\")\n",
        "print(runs)"
      ],
      "metadata": {
        "colab": {
          "base_uri": "https://localhost:8080/"
        },
        "id": "Ac2WQkfatoIi",
        "outputId": "c0b2e842-cadb-4e59-bd53-5a6c31302618"
      },
      "execution_count": null,
      "outputs": [
        {
          "output_type": "stream",
          "name": "stdout",
          "text": [
            "[5, 22, 33, 'Hello']\n"
          ]
        }
      ]
    },
    {
      "cell_type": "code",
      "source": [
        "print(sum(runs))"
      ],
      "metadata": {
        "colab": {
          "base_uri": "https://localhost:8080/",
          "height": 141
        },
        "id": "Qq3knK3Ctw4T",
        "outputId": "589e3dc4-3a5a-4988-8b20-ab2a06a9acee"
      },
      "execution_count": null,
      "outputs": [
        {
          "output_type": "error",
          "ename": "TypeError",
          "evalue": "unsupported operand type(s) for +: 'int' and 'str'",
          "traceback": [
            "\u001b[0;31m---------------------------------------------------------------------------\u001b[0m",
            "\u001b[0;31mTypeError\u001b[0m                                 Traceback (most recent call last)",
            "\u001b[0;32m<ipython-input-115-eb75fd2c11a0>\u001b[0m in \u001b[0;36m<cell line: 1>\u001b[0;34m()\u001b[0m\n\u001b[0;32m----> 1\u001b[0;31m \u001b[0mprint\u001b[0m\u001b[0;34m(\u001b[0m\u001b[0msum\u001b[0m\u001b[0;34m(\u001b[0m\u001b[0mruns\u001b[0m\u001b[0;34m)\u001b[0m\u001b[0;34m)\u001b[0m\u001b[0;34m\u001b[0m\u001b[0;34m\u001b[0m\u001b[0m\n\u001b[0m",
            "\u001b[0;31mTypeError\u001b[0m: unsupported operand type(s) for +: 'int' and 'str'"
          ]
        }
      ]
    },
    {
      "cell_type": "code",
      "source": [
        "runs.pop()\n",
        "print(runs)"
      ],
      "metadata": {
        "colab": {
          "base_uri": "https://localhost:8080/"
        },
        "id": "7KOERV0rt0sX",
        "outputId": "d1bafa05-352e-46e3-956e-3cb2784a9688"
      },
      "execution_count": null,
      "outputs": [
        {
          "output_type": "stream",
          "name": "stdout",
          "text": [
            "[5, 22, 33]\n"
          ]
        }
      ]
    },
    {
      "cell_type": "code",
      "source": [
        "print(sum(runs))"
      ],
      "metadata": {
        "colab": {
          "base_uri": "https://localhost:8080/"
        },
        "id": "vv9z7MOQt6xJ",
        "outputId": "93258d50-7b58-43a5-c5c9-1e252ee65304"
      },
      "execution_count": null,
      "outputs": [
        {
          "output_type": "stream",
          "name": "stdout",
          "text": [
            "60\n"
          ]
        }
      ]
    },
    {
      "cell_type": "code",
      "source": [
        "print(max(runs))"
      ],
      "metadata": {
        "colab": {
          "base_uri": "https://localhost:8080/"
        },
        "id": "oibs9y8jt8JO",
        "outputId": "3fe4f0aa-2456-4421-e640-25929e6d2a6c"
      },
      "execution_count": null,
      "outputs": [
        {
          "output_type": "stream",
          "name": "stdout",
          "text": [
            "33\n"
          ]
        }
      ]
    },
    {
      "cell_type": "code",
      "source": [
        "print(min(runs))"
      ],
      "metadata": {
        "colab": {
          "base_uri": "https://localhost:8080/"
        },
        "id": "1-eUzdYeuC8-",
        "outputId": "e531ec76-c0b8-4af3-e02c-b82d5bba347d"
      },
      "execution_count": null,
      "outputs": [
        {
          "output_type": "stream",
          "name": "stdout",
          "text": [
            "5\n"
          ]
        }
      ]
    },
    {
      "cell_type": "code",
      "source": [
        "# Average = Sum / Length\n",
        "\n",
        "avg = sum(runs) / len(runs)\n",
        "print(avg)"
      ],
      "metadata": {
        "colab": {
          "base_uri": "https://localhost:8080/"
        },
        "id": "0oKzYDfVuFJY",
        "outputId": "4762ec88-7bb8-4c5e-d129-7ccb023b6c3b"
      },
      "execution_count": null,
      "outputs": [
        {
          "output_type": "stream",
          "name": "stdout",
          "text": [
            "20.0\n"
          ]
        }
      ]
    },
    {
      "cell_type": "code",
      "source": [
        "my_list = [\"apple\", \"banana\", \"orange\"]\n",
        "for i in range(len(my_list)):\n",
        "  print(my_list[i] + \" is a fruit.\", end=\" \")"
      ],
      "metadata": {
        "colab": {
          "base_uri": "https://localhost:8080/"
        },
        "id": "cxX5tz0GuSmz",
        "outputId": "99cff88f-9afd-4f52-b412-9836f519a2a6"
      },
      "execution_count": null,
      "outputs": [
        {
          "output_type": "stream",
          "name": "stdout",
          "text": [
            "apple is a fruit. banana is a fruit. orange is a fruit. "
          ]
        }
      ]
    },
    {
      "cell_type": "code",
      "source": [
        "a = [1, 2, 3, 4, 5]\n",
        "b = [1, 3, 5]"
      ],
      "metadata": {
        "id": "wPqIU4HMuuHB"
      },
      "execution_count": null,
      "outputs": []
    },
    {
      "cell_type": "code",
      "source": [
        "a.extend(b)"
      ],
      "metadata": {
        "id": "pYTpVl-hveYU"
      },
      "execution_count": null,
      "outputs": []
    },
    {
      "cell_type": "code",
      "source": [
        "print(a)\n",
        "print(b)"
      ],
      "metadata": {
        "colab": {
          "base_uri": "https://localhost:8080/"
        },
        "id": "5wXzwf_8vjrk",
        "outputId": "b6ee44a6-1cd1-417b-cc00-d87adffa76b3"
      },
      "execution_count": null,
      "outputs": [
        {
          "output_type": "stream",
          "name": "stdout",
          "text": [
            "[1, 2, 3, 4, 5, 1, 3, 5]\n",
            "[1, 3, 5]\n"
          ]
        }
      ]
    },
    {
      "cell_type": "code",
      "source": [
        "a = [1, 2, 3, 4, 5]\n",
        "b = [1, 3, 5]\n",
        "\n",
        "c = a + b"
      ],
      "metadata": {
        "id": "5ziVZFg8vlFz"
      },
      "execution_count": null,
      "outputs": []
    },
    {
      "cell_type": "code",
      "source": [
        "print(a)\n",
        "print(b)\n",
        "print(c)"
      ],
      "metadata": {
        "colab": {
          "base_uri": "https://localhost:8080/"
        },
        "id": "Sed5Cdwivp6j",
        "outputId": "76e59b84-1696-471c-f3c6-cb2028804fdc"
      },
      "execution_count": null,
      "outputs": [
        {
          "output_type": "stream",
          "name": "stdout",
          "text": [
            "[1, 2, 3, 4, 5]\n",
            "[1, 3, 5]\n",
            "[1, 2, 3, 4, 5, 1, 3, 5]\n"
          ]
        }
      ]
    },
    {
      "cell_type": "code",
      "source": [
        "z = ['X', 'Y', 1.2, 2.5, 'A', 'B', 10, 20]\n",
        "z.append(z)\n",
        "print(z)"
      ],
      "metadata": {
        "colab": {
          "base_uri": "https://localhost:8080/"
        },
        "id": "FQ1pOf4VvsWN",
        "outputId": "68324d9d-560f-4ad4-a591-017c8b9046a5"
      },
      "execution_count": null,
      "outputs": [
        {
          "output_type": "stream",
          "name": "stdout",
          "text": [
            "['X', 'Y', 1.2, 2.5, 'A', 'B', 10, 20, [...]]\n"
          ]
        }
      ]
    },
    {
      "cell_type": "code",
      "source": [
        "runs = [52, 100, 5, 22, 90, 33, 55, 122]\n",
        "print(runs)"
      ],
      "metadata": {
        "colab": {
          "base_uri": "https://localhost:8080/"
        },
        "id": "SOzIH0k6v6IT",
        "outputId": "21d2fe43-d850-4544-cd16-b8dea7bcceb0"
      },
      "execution_count": null,
      "outputs": [
        {
          "output_type": "stream",
          "name": "stdout",
          "text": [
            "[52, 100, 5, 22, 90, 33, 55, 122]\n"
          ]
        }
      ]
    },
    {
      "cell_type": "code",
      "source": [
        "# Calculate the sum of runs made by Virat Kohli in all matches with even index.\n",
        "# Default start = 0\n",
        "\n",
        "sum_even = 0\n",
        "for i in range(len(runs)):\n",
        "  if i%2 == 0:\n",
        "    sum_even += runs[i]\n",
        "\n",
        "print(sum_even)"
      ],
      "metadata": {
        "colab": {
          "base_uri": "https://localhost:8080/"
        },
        "id": "6cRE233lwLr_",
        "outputId": "a9fcbcd7-995d-48c0-ad29-bc6c11f1fb99"
      },
      "execution_count": null,
      "outputs": [
        {
          "output_type": "stream",
          "name": "stdout",
          "text": [
            "202\n"
          ]
        }
      ]
    },
    {
      "cell_type": "code",
      "source": [
        "# range(start, end, jump) -> start to (end-1) with jump\n",
        "# Default start = 0\n",
        "\n",
        "sum_even = 0\n",
        "for i in range(0, len(runs), 2):\n",
        "  sum_even += runs[i]\n",
        "\n",
        "print(sum_even)"
      ],
      "metadata": {
        "colab": {
          "base_uri": "https://localhost:8080/"
        },
        "id": "_oCoZz5gxPbb",
        "outputId": "cce450ab-a919-4a05-bf0b-842a81c30efe"
      },
      "execution_count": null,
      "outputs": [
        {
          "output_type": "stream",
          "name": "stdout",
          "text": [
            "202\n"
          ]
        }
      ]
    },
    {
      "cell_type": "code",
      "source": [
        "my_list = [10, 20, 30, 40, 50]\n",
        "i = 0\n",
        "while i < len(my_list):\n",
        "  my_list[i] *= 2\n",
        "  i += 1\n",
        "print(my_list)"
      ],
      "metadata": {
        "colab": {
          "base_uri": "https://localhost:8080/"
        },
        "id": "IvpxGM0Zx1aL",
        "outputId": "c8c040a9-7031-4b0b-da07-2053e3c37217"
      },
      "execution_count": null,
      "outputs": [
        {
          "output_type": "stream",
          "name": "stdout",
          "text": [
            "[20, 40, 60, 80, 100]\n"
          ]
        }
      ]
    },
    {
      "cell_type": "code",
      "source": [
        "# Taking input for a list using a for loop\n",
        "\n",
        "# Step 1: Get the number of elements in the list from the user\n",
        "n = int(input())\n",
        "\n",
        "# Step 2: Initialize an empty list to store the elements\n",
        "my_list = []\n",
        "\n",
        "# Step 3: Use a for loop to iterate over the specified number of elements and append elements one by one\n",
        "for i in range(n):\n",
        "  x = int(input())\n",
        "  my_list.append(x)\n",
        "\n",
        "print(my_list)"
      ],
      "metadata": {
        "colab": {
          "base_uri": "https://localhost:8080/"
        },
        "id": "vwLg6E7dyWVK",
        "outputId": "7bb1437c-4458-44b9-ff76-adb4a147eaab"
      },
      "execution_count": null,
      "outputs": [
        {
          "output_type": "stream",
          "name": "stdout",
          "text": [
            "5\n",
            "10\n",
            "100\n",
            "50\n",
            "22\n",
            "300\n",
            "[10, 100, 50, 22, 300]\n"
          ]
        }
      ]
    },
    {
      "cell_type": "code",
      "source": [
        "a = [1, 2, 3, 4, 5]\n",
        "b = [1, 10, 5]\n",
        "\n",
        "for b_element in b:\n",
        "  print(b_element, b_element in a)"
      ],
      "metadata": {
        "colab": {
          "base_uri": "https://localhost:8080/"
        },
        "id": "63JhJKVEy_97",
        "outputId": "eb3d92b6-c2eb-4bbb-dc37-b057f584c337"
      },
      "execution_count": null,
      "outputs": [
        {
          "output_type": "stream",
          "name": "stdout",
          "text": [
            "1 True\n",
            "10 False\n",
            "5 True\n"
          ]
        }
      ]
    },
    {
      "cell_type": "code",
      "source": [
        "my_list = [\"apple\", \"banana\", \"orange\"]\n",
        "for i in range(len(my_list)):   # range(0, len(my_list), 1)\n",
        "    print(my_list[i] + \" is a fruit.\", end=\" \")"
      ],
      "metadata": {
        "id": "sYSj8X_61_uk"
      },
      "execution_count": null,
      "outputs": []
    },
    {
      "cell_type": "code",
      "source": [
        "runs = [52, 100, 2, 5, 67, 34, 89, 122]\n",
        "count = 0\n",
        "print(runs)\n",
        "\n",
        "for r in runs:  # r -> index 0, 1\n",
        "  print(r)\n",
        "  if r >= 50:\n",
        "    print(r)\n",
        "    runs.remove(r)\n",
        "    print(runs)\n",
        "  else:\n",
        "    print(r)\n"
      ],
      "metadata": {
        "colab": {
          "base_uri": "https://localhost:8080/"
        },
        "id": "nl_Q5eVX2u52",
        "outputId": "f711c741-0c62-47eb-81df-6c2f93be9970"
      },
      "execution_count": null,
      "outputs": [
        {
          "output_type": "stream",
          "name": "stdout",
          "text": [
            "[52, 100, 2, 5, 67, 34, 89, 122]\n",
            "52\n",
            "52\n",
            "[100, 2, 5, 67, 34, 89, 122]\n",
            "2\n",
            "2\n",
            "5\n",
            "5\n",
            "67\n",
            "67\n",
            "[100, 2, 5, 34, 89, 122]\n",
            "89\n",
            "89\n",
            "[100, 2, 5, 34, 122]\n"
          ]
        }
      ]
    },
    {
      "cell_type": "code",
      "source": [
        "c = 0\n",
        "\n",
        "def prep_me():\n",
        "  return \"hey!\"\n",
        "\n",
        "s = prep_me()\n",
        "print(s)"
      ],
      "metadata": {
        "colab": {
          "base_uri": "https://localhost:8080/"
        },
        "id": "Os6C4k_x3GiC",
        "outputId": "b6e12656-9484-4064-da36-33e586a13796"
      },
      "execution_count": null,
      "outputs": [
        {
          "output_type": "stream",
          "name": "stdout",
          "text": [
            "hey!\n"
          ]
        }
      ]
    },
    {
      "cell_type": "code",
      "source": [
        "print(1, 2, 3, 4, 5, end = \" Hello \")"
      ],
      "metadata": {
        "colab": {
          "base_uri": "https://localhost:8080/"
        },
        "id": "lvOw7QmJ5Zg6",
        "outputId": "d014d28d-ac6d-4983-e463-466eaa9cf2ee"
      },
      "execution_count": null,
      "outputs": [
        {
          "output_type": "stream",
          "name": "stdout",
          "text": [
            "1 2 3 4 5 Hello "
          ]
        }
      ]
    },
    {
      "cell_type": "code",
      "source": [
        "print(1, 2, 3, 4, 5, sep = \" Hello \")"
      ],
      "metadata": {
        "colab": {
          "base_uri": "https://localhost:8080/"
        },
        "id": "9GEo00Si7kxr",
        "outputId": "62e148ea-5f8a-4a66-ad94-0518418fee55"
      },
      "execution_count": null,
      "outputs": [
        {
          "output_type": "stream",
          "name": "stdout",
          "text": [
            "1 Hello 2 Hello 3 Hello 4 Hello 5\n"
          ]
        }
      ]
    },
    {
      "cell_type": "code",
      "source": [
        "# Print 1 to 5\n",
        "\n",
        "N = int(input())\n",
        "\n",
        "for i in range(N):\n",
        "  print(i, end = \" \")\n",
        "\n",
        "print(N)"
      ],
      "metadata": {
        "colab": {
          "base_uri": "https://localhost:8080/"
        },
        "id": "otuqOjGj7n8j",
        "outputId": "74008fcc-c2a9-4d09-fda5-901ccc945bb5"
      },
      "execution_count": null,
      "outputs": [
        {
          "output_type": "stream",
          "name": "stdout",
          "text": [
            "7\n",
            "0 1 2 3 4 5 6 7\n"
          ]
        }
      ]
    },
    {
      "cell_type": "code",
      "source": [
        "print(1, 2, 3, 4, 5, sep = \"\\n\")"
      ],
      "metadata": {
        "colab": {
          "base_uri": "https://localhost:8080/"
        },
        "id": "6lWULMii71oE",
        "outputId": "b3c1514d-7d9f-4880-a8da-0ee2dadfd193"
      },
      "execution_count": null,
      "outputs": [
        {
          "output_type": "stream",
          "name": "stdout",
          "text": [
            "1\n",
            "2\n",
            "3\n",
            "4\n",
            "5\n"
          ]
        }
      ]
    },
    {
      "cell_type": "code",
      "source": [
        "print(1, 2, 3, 4, 5, sep = \"\\t\")"
      ],
      "metadata": {
        "id": "fh-QKdW_8CkO",
        "outputId": "6e95dd44-17bd-4850-f825-ae624543270e",
        "colab": {
          "base_uri": "https://localhost:8080/"
        }
      },
      "execution_count": null,
      "outputs": [
        {
          "output_type": "stream",
          "name": "stdout",
          "text": [
            "1\t2\t3\t4\t5\n"
          ]
        }
      ]
    },
    {
      "cell_type": "code",
      "source": [],
      "metadata": {
        "id": "qCfjGzk48E1X"
      },
      "execution_count": null,
      "outputs": []
    }
  ]
}